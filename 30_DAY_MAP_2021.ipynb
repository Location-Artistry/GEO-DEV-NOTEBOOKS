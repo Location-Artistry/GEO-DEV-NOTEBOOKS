{
  "nbformat": 4,
  "nbformat_minor": 0,
  "metadata": {
    "colab": {
      "name": "30-DAY-MAP-2021.ipynb",
      "provenance": [],
      "collapsed_sections": [
        "Sm3qT9fCaBBD"
      ],
      "toc_visible": true,
      "authorship_tag": "ABX9TyPvqY61Pc3eh6SXXlJnyowF",
      "include_colab_link": true
    },
    "kernelspec": {
      "name": "python3",
      "display_name": "Python 3"
    },
    "language_info": {
      "name": "python"
    }
  },
  "cells": [
    {
      "cell_type": "markdown",
      "metadata": {
        "id": "view-in-github",
        "colab_type": "text"
      },
      "source": [
        "<a href=\"https://colab.research.google.com/github/Location-Artistry/GEO-DEV-NOTEBOOKS/blob/main/30_DAY_MAP_2021.ipynb\" target=\"_parent\"><img src=\"https://colab.research.google.com/assets/colab-badge.svg\" alt=\"Open In Colab\"/></a>"
      ]
    },
    {
      "cell_type": "markdown",
      "metadata": {
        "id": "VA74ODUGzMoO"
      },
      "source": [
        "# **30 DAY MAP CHALLENGE**\n",
        "## Scripts & Scrapers for Map Data\n",
        "## Stay Calm and Map ON\n",
        "Several automated scrips and Beautiful Soup scraping libraries to programmatically fetch data from websites.\n",
        "Utilize Beautiful Soup4 and Google Libraries to search state websites\n"
      ]
    },
    {
      "cell_type": "code",
      "metadata": {
        "id": "FGgUzrnsrusa"
      },
      "source": [
        "!pip install search-engine-parser\n",
        "!pip install \"search-engine-parser[cli]\"\n",
        "!pip install beautifulsoup4 #- already installed with Colab\n",
        "!pip install git+https://github.com/abenassi/Google-Search-API\n",
        "\n",
        "import pandas as pd\n",
        "import requests\n",
        "import nest_asyncio\n",
        "from bs4 import BeautifulSoup\n",
        "from search_engine_parser import GoogleSearch\n",
        "from googlesearch import search \n",
        "from googleapi import google\n",
        "\n",
        "nest_asyncio.apply()"
      ],
      "execution_count": null,
      "outputs": []
    },
    {
      "cell_type": "markdown",
      "metadata": {
        "id": "AJKeIxQVL5Qm"
      },
      "source": [
        "## Scrape wikipedia with Beautiful Soup for largest US cites list"
      ]
    },
    {
      "cell_type": "code",
      "metadata": {
        "id": "oUlh6T_5K52r"
      },
      "source": [
        "# Scrape page contents\n",
        "URL = 'https://en.wikipedia.org/wiki/List_of_United_States_cities_by_population'\n",
        "page = requests.get(URL)\n",
        "soup = BeautifulSoup(page.content, 'html.parser')"
      ],
      "execution_count": 66,
      "outputs": []
    },
    {
      "cell_type": "code",
      "metadata": {
        "colab": {
          "base_uri": "https://localhost:8080/"
        },
        "id": "kYLiHvXaLCqU",
        "outputId": "700c7bb9-e936-4c91-fcaa-325a1b9b3da1"
      },
      "source": [
        "# get all tables from page, and print number of tables\n",
        "wikiTables = soup.find_all(\"table\", attrs={\"class\": \"wikitable sortable\"})\n",
        "len(wikiTables)"
      ],
      "execution_count": 67,
      "outputs": [
        {
          "output_type": "execute_result",
          "data": {
            "text/plain": [
              "4"
            ]
          },
          "metadata": {},
          "execution_count": 67
        }
      ]
    },
    {
      "cell_type": "code",
      "metadata": {
        "colab": {
          "base_uri": "https://localhost:8080/"
        },
        "id": "6SJ60hZZMLs_",
        "outputId": "8503dd31-a460-4a94-ae58-56fe476f8ccb"
      },
      "source": [
        "# searching through table data inspect if it is the target\n",
        "table = wikiTables[0]\n",
        "body = table.find_all(\"tr\")\n",
        "head = body[0]\n",
        "head"
      ],
      "execution_count": 73,
      "outputs": [
        {
          "output_type": "execute_result",
          "data": {
            "text/plain": [
              "<tr>\n",
              "<th>2020<br/>rank\n",
              "</th>\n",
              "<th>City\n",
              "</th>\n",
              "<th>State<sup class=\"reference\" id=\"cite_ref-5\"><a href=\"#cite_note-5\">[c]</a></sup>\n",
              "</th>\n",
              "<th>2020<br/>census\n",
              "</th>\n",
              "<th>2010<br/>census\n",
              "</th>\n",
              "<th>Change\n",
              "</th>\n",
              "<th colspan=\"2\">2020 land area\n",
              "</th>\n",
              "<th colspan=\"2\">2020 population density\n",
              "</th>\n",
              "<th>Location\n",
              "</th></tr>"
            ]
          },
          "metadata": {},
          "execution_count": 73
        }
      ]
    },
    {
      "cell_type": "markdown",
      "metadata": {
        "id": "WcKfPy5fNoHG"
      },
      "source": [
        "#### We've got the correct table listing the 50 largest US cities by population   \n",
        "Now let's load the table rows into a pandas dataframe"
      ]
    },
    {
      "cell_type": "code",
      "metadata": {
        "colab": {
          "base_uri": "https://localhost:8080/"
        },
        "id": "-iMKO1WNOGnj",
        "outputId": "f8d3856e-ea65-4483-ced4-a53d6ddd0631"
      },
      "source": [
        "# Create the header row and strip the '\\n' from the text\n",
        "headings = []\n",
        "for item in head.find_all(\"th\"): # loop through all th elements\n",
        "    item = (item.text).rstrip(\"\\n\")\n",
        "    headings.append(item)\n",
        "print(headings)"
      ],
      "execution_count": 74,
      "outputs": [
        {
          "output_type": "stream",
          "name": "stdout",
          "text": [
            "['2020rank', 'City', 'State[c]', '2020census', '2010census', 'Change', '2020 land area', '2020 population density', 'Location']\n"
          ]
        }
      ]
    },
    {
      "cell_type": "code",
      "metadata": {
        "id": "lC1JAXD1Ok7Z"
      },
      "source": [
        "# get all rows except the header to load into dataframe\n",
        "body_rows = body[1:] # All other items becomes the rest of the rows"
      ],
      "execution_count": 112,
      "outputs": []
    },
    {
      "cell_type": "code",
      "metadata": {
        "id": "H-aJ7A_cKMoe"
      },
      "source": [
        "all_rows = [] \n",
        "for row_num in range(len(body_rows)): # A row at a time\n",
        "    row = [] # this will hold entries for one row\n",
        "    for row_item in body_rows[row_num].find_all(\"td\"): #loop through all row entries\n",
        "        row.append(row_item.text)\n",
        "    all_rows.append(row)\n",
        "# print(all_rows)"
      ],
      "execution_count": 116,
      "outputs": []
    },
    {
      "cell_type": "code",
      "metadata": {
        "id": "D0EiZqXiOqlg"
      },
      "source": [
        "df = pd.DataFrame(data=all_rows,columns=headings)\n",
        "df.describe()"
      ],
      "execution_count": null,
      "outputs": []
    },
    {
      "cell_type": "markdown",
      "metadata": {
        "id": "iZdW9sEOSrG8"
      },
      "source": [
        "Resulting in \"AssertionError: 9 columns passed, passed data had 11 columns\"\n",
        "Some of the rows are showing 11 columns\n"
      ]
    },
    {
      "cell_type": "code",
      "metadata": {
        "colab": {
          "base_uri": "https://localhost:8080/",
          "height": 220
        },
        "id": "gbCQ3nsjS6Vk",
        "outputId": "15c550b2-3825-4ac7-ac98-e82e994b25ce"
      },
      "source": [
        "# Ah ha! 9 heading though 11 columns due to separate columns for both sq mi and sq km!\n",
        "for i, heads in enumerate(headings):\n",
        "  display(f'{i} - {heads}')"
      ],
      "execution_count": 111,
      "outputs": [
        {
          "output_type": "display_data",
          "data": {
            "application/vnd.google.colaboratory.intrinsic+json": {
              "type": "string"
            },
            "text/plain": [
              "'0 - 2020rank'"
            ]
          },
          "metadata": {}
        },
        {
          "output_type": "display_data",
          "data": {
            "application/vnd.google.colaboratory.intrinsic+json": {
              "type": "string"
            },
            "text/plain": [
              "'1 - City'"
            ]
          },
          "metadata": {}
        },
        {
          "output_type": "display_data",
          "data": {
            "application/vnd.google.colaboratory.intrinsic+json": {
              "type": "string"
            },
            "text/plain": [
              "'2 - State[c]'"
            ]
          },
          "metadata": {}
        },
        {
          "output_type": "display_data",
          "data": {
            "application/vnd.google.colaboratory.intrinsic+json": {
              "type": "string"
            },
            "text/plain": [
              "'3 - 2020census'"
            ]
          },
          "metadata": {}
        },
        {
          "output_type": "display_data",
          "data": {
            "application/vnd.google.colaboratory.intrinsic+json": {
              "type": "string"
            },
            "text/plain": [
              "'4 - 2010census'"
            ]
          },
          "metadata": {}
        },
        {
          "output_type": "display_data",
          "data": {
            "application/vnd.google.colaboratory.intrinsic+json": {
              "type": "string"
            },
            "text/plain": [
              "'5 - Change'"
            ]
          },
          "metadata": {}
        },
        {
          "output_type": "display_data",
          "data": {
            "application/vnd.google.colaboratory.intrinsic+json": {
              "type": "string"
            },
            "text/plain": [
              "'6 - 2020 land area'"
            ]
          },
          "metadata": {}
        },
        {
          "output_type": "display_data",
          "data": {
            "application/vnd.google.colaboratory.intrinsic+json": {
              "type": "string"
            },
            "text/plain": [
              "'7 - 2020 land area km'"
            ]
          },
          "metadata": {}
        },
        {
          "output_type": "display_data",
          "data": {
            "application/vnd.google.colaboratory.intrinsic+json": {
              "type": "string"
            },
            "text/plain": [
              "'8 - 2020 population density'"
            ]
          },
          "metadata": {}
        },
        {
          "output_type": "display_data",
          "data": {
            "application/vnd.google.colaboratory.intrinsic+json": {
              "type": "string"
            },
            "text/plain": [
              "'9 - 2020 pop density sq km'"
            ]
          },
          "metadata": {}
        },
        {
          "output_type": "display_data",
          "data": {
            "application/vnd.google.colaboratory.intrinsic+json": {
              "type": "string"
            },
            "text/plain": [
              "'10 - Location'"
            ]
          },
          "metadata": {}
        }
      ]
    },
    {
      "cell_type": "code",
      "metadata": {
        "id": "9gRxFdDXZM6x"
      },
      "source": [
        "# added additional header rows to match row columns\n",
        "headings.insert(7, '2020 land area km')\n",
        "headings.insert(9, '2020 pop density sq km')"
      ],
      "execution_count": 110,
      "outputs": []
    },
    {
      "cell_type": "markdown",
      "metadata": {
        "id": "16SrJB0eZwon"
      },
      "source": [
        "### Now attempting to load into dataframe with correct column numbers!"
      ]
    },
    {
      "cell_type": "code",
      "metadata": {
        "id": "sr_UDjYXZwS8"
      },
      "source": [
        "all_rows = [] \n",
        "for row_num in range(len(body_rows)): # A row at a time\n",
        "    row = [] # this will hold entries for one row\n",
        "    for row_item in body_rows[row_num].find_all(\"td\"): #loop through all row entries\n",
        "        row.append(row_item.text)\n",
        "    all_rows.append(row)"
      ],
      "execution_count": 113,
      "outputs": []
    },
    {
      "cell_type": "code",
      "metadata": {
        "colab": {
          "base_uri": "https://localhost:8080/",
          "height": 171
        },
        "id": "MQ6i_WQAZvSA",
        "outputId": "c1ec6131-4e7b-4296-bbea-53a769bbb0fb"
      },
      "source": [
        "# Success!\n",
        "df = pd.DataFrame(data=all_rows,columns=headings)\n",
        "df.describe()"
      ],
      "execution_count": 115,
      "outputs": [
        {
          "output_type": "execute_result",
          "data": {
            "text/html": [
              "<div>\n",
              "<style scoped>\n",
              "    .dataframe tbody tr th:only-of-type {\n",
              "        vertical-align: middle;\n",
              "    }\n",
              "\n",
              "    .dataframe tbody tr th {\n",
              "        vertical-align: top;\n",
              "    }\n",
              "\n",
              "    .dataframe thead th {\n",
              "        text-align: right;\n",
              "    }\n",
              "</style>\n",
              "<table border=\"1\" class=\"dataframe\">\n",
              "  <thead>\n",
              "    <tr style=\"text-align: right;\">\n",
              "      <th></th>\n",
              "      <th>2020rank</th>\n",
              "      <th>City</th>\n",
              "      <th>State[c]</th>\n",
              "      <th>2020census</th>\n",
              "      <th>2010census</th>\n",
              "      <th>Change</th>\n",
              "      <th>2020 land area</th>\n",
              "      <th>2020 land area km</th>\n",
              "      <th>2020 population density</th>\n",
              "      <th>2020 pop density sq km</th>\n",
              "      <th>Location</th>\n",
              "    </tr>\n",
              "  </thead>\n",
              "  <tbody>\n",
              "    <tr>\n",
              "      <th>count</th>\n",
              "      <td>326</td>\n",
              "      <td>326</td>\n",
              "      <td>326</td>\n",
              "      <td>326</td>\n",
              "      <td>326</td>\n",
              "      <td>326</td>\n",
              "      <td>326</td>\n",
              "      <td>326</td>\n",
              "      <td>326</td>\n",
              "      <td>326</td>\n",
              "      <td>326</td>\n",
              "    </tr>\n",
              "    <tr>\n",
              "      <th>unique</th>\n",
              "      <td>326</td>\n",
              "      <td>316</td>\n",
              "      <td>46</td>\n",
              "      <td>326</td>\n",
              "      <td>322</td>\n",
              "      <td>306</td>\n",
              "      <td>296</td>\n",
              "      <td>296</td>\n",
              "      <td>315</td>\n",
              "      <td>306</td>\n",
              "      <td>326</td>\n",
              "    </tr>\n",
              "    <tr>\n",
              "      <th>top</th>\n",
              "      <td>306\\n</td>\n",
              "      <td>Springfield\\n</td>\n",
              "      <td>California\\n</td>\n",
              "      <td>143,617\\n</td>\n",
              "      <td>0\\n</td>\n",
              "      <td>+2.38%\\n</td>\n",
              "      <td>23.5 sq mi\\n</td>\n",
              "      <td>60.9 km2\\n</td>\n",
              "      <td>4,888/sq mi\\n</td>\n",
              "      <td>1,887/km2\\n</td>\n",
              "      <td>34°35′N 118°06′W﻿ / ﻿34.59°N 118.10°W﻿ / 34.59...</td>\n",
              "    </tr>\n",
              "    <tr>\n",
              "      <th>freq</th>\n",
              "      <td>1</td>\n",
              "      <td>3</td>\n",
              "      <td>75</td>\n",
              "      <td>1</td>\n",
              "      <td>2</td>\n",
              "      <td>2</td>\n",
              "      <td>3</td>\n",
              "      <td>3</td>\n",
              "      <td>3</td>\n",
              "      <td>3</td>\n",
              "      <td>1</td>\n",
              "    </tr>\n",
              "  </tbody>\n",
              "</table>\n",
              "</div>"
            ],
            "text/plain": [
              "       2020rank  ...                                           Location\n",
              "count       326  ...                                                326\n",
              "unique      326  ...                                                326\n",
              "top       306\\n  ...  34°35′N 118°06′W﻿ / ﻿34.59°N 118.10°W﻿ / 34.59...\n",
              "freq          1  ...                                                  1\n",
              "\n",
              "[4 rows x 11 columns]"
            ]
          },
          "metadata": {},
          "execution_count": 115
        }
      ]
    },
    {
      "cell_type": "markdown",
      "metadata": {
        "id": "Sm3qT9fCaBBD"
      },
      "source": [
        "## Previous workflow below"
      ]
    },
    {
      "cell_type": "code",
      "metadata": {
        "id": "M7QIepFLEPdu"
      },
      "source": [
        "abrv = ['AL', 'AK','AS', 'AZ', 'AR','CA', 'CO', 'CT', 'DE', 'DC', 'FL', 'GA', 'GU', 'HI', 'ID', 'IL', 'IN', 'IA', 'KS', 'KY', 'LA', 'MA', 'MD', 'ME', 'MI', 'MN', 'MO', 'MP', 'MS', 'MT', 'NE', 'NV', 'NH', 'NJ', 'NM', 'NY', 'NC', 'ND', 'MP','OH', 'OK', 'OR', 'PA', 'PR', 'RI', 'SC', 'SD', 'TN', 'TX', 'VI', 'UT', 'VT', 'VA', 'WA', 'WV', 'WI', 'WY']"
      ],
      "execution_count": null,
      "outputs": []
    },
    {
      "cell_type": "code",
      "metadata": {
        "id": "t8xqVPav6wxP"
      },
      "source": [
        "stateList = ['Alabama', 'Alaska', 'American Samoa', 'Arizona', 'Arkansas', 'California', 'Colorado', 'Connecticut', 'Delaware', 'District of Columbia', 'Florida', 'Georgia', 'Guam', 'Hawaii', 'Idaho', 'Illinois', 'Indiana', 'Iowa', 'Kansas', 'Kentucky', 'Louisiana', 'Maine', 'Maryland', 'Massachusetts', 'Michigan', 'Minnesota', 'Minor Outlying Islands', 'Mississippi', 'Missouri', 'Montana', 'Nebraska', 'Nevada', 'New Hampshire', 'New Jersey', 'New Mexico', 'New York', 'North Carolina', 'North Dakota', 'Northern Mariana Islands', 'Ohio', 'Oklahoma', 'Oregon', 'Pennsylvania', 'Puerto Rico', 'Rhode Island', 'South Carolina', 'South Dakota', 'Tennessee', 'Texas', 'U.S. Virgin Islands', 'Utah', 'Vermont', 'Virginia', 'Washington', 'West Virginia', 'Wisconsin', 'Wyoming']\n",
        "# stateList = ['Alabama', 'Alaska', 'American Samoa', 'Arizona']"
      ],
      "execution_count": null,
      "outputs": []
    },
    {
      "cell_type": "code",
      "metadata": {
        "id": "S9LnkNMAFnOi"
      },
      "source": [
        "for i, z in enumerate(stateList):\n",
        "  print(f'State: {abrv[i]} - {z}')"
      ],
      "execution_count": null,
      "outputs": []
    },
    {
      "cell_type": "code",
      "metadata": {
        "id": "1C-r_6ca04hr"
      },
      "source": [
        "q = \"Socrata open data\"\n",
        "df = pd.DataFrame(columns = ['STATE','RANK','URL'])\n",
        "for x,state in enumerate(stateList):\n",
        "  print(state,abrv[x])\n",
        "  for z,i in enumerate(search((f'{state} {abrv[x]} {q}'), tld=\"com\", num=3, stop=3, pause=2)):\n",
        "    df.loc[len(df.index)] = [abrv[x],z,i]"
      ],
      "execution_count": null,
      "outputs": []
    },
    {
      "cell_type": "code",
      "metadata": {
        "colab": {
          "base_uri": "https://localhost:8080/"
        },
        "id": "rqfwLBqH1YtX",
        "outputId": "266c701b-7aba-4a9c-ed55-9cffd269d56b"
      },
      "source": [
        "df.info()"
      ],
      "execution_count": null,
      "outputs": [
        {
          "output_type": "stream",
          "text": [
            "<class 'pandas.core.frame.DataFrame'>\n",
            "Int64Index: 171 entries, 0 to 170\n",
            "Data columns (total 3 columns):\n",
            " #   Column  Non-Null Count  Dtype \n",
            "---  ------  --------------  ----- \n",
            " 0   STATE   171 non-null    object\n",
            " 1   RANK    171 non-null    object\n",
            " 2   URL     171 non-null    object\n",
            "dtypes: object(3)\n",
            "memory usage: 5.3+ KB\n"
          ],
          "name": "stdout"
        }
      ]
    },
    {
      "cell_type": "code",
      "metadata": {
        "colab": {
          "base_uri": "https://localhost:8080/",
          "height": 194
        },
        "id": "Vxo9xi0f8lbN",
        "outputId": "6b74efc7-4ae1-4278-9c05-974dc24fb953"
      },
      "source": [
        "df.head()"
      ],
      "execution_count": null,
      "outputs": [
        {
          "output_type": "execute_result",
          "data": {
            "text/html": [
              "<div>\n",
              "<style scoped>\n",
              "    .dataframe tbody tr th:only-of-type {\n",
              "        vertical-align: middle;\n",
              "    }\n",
              "\n",
              "    .dataframe tbody tr th {\n",
              "        vertical-align: top;\n",
              "    }\n",
              "\n",
              "    .dataframe thead th {\n",
              "        text-align: right;\n",
              "    }\n",
              "</style>\n",
              "<table border=\"1\" class=\"dataframe\">\n",
              "  <thead>\n",
              "    <tr style=\"text-align: right;\">\n",
              "      <th></th>\n",
              "      <th>STATE</th>\n",
              "      <th>RANK</th>\n",
              "      <th>URL</th>\n",
              "    </tr>\n",
              "  </thead>\n",
              "  <tbody>\n",
              "    <tr>\n",
              "      <th>0</th>\n",
              "      <td>AL</td>\n",
              "      <td>0</td>\n",
              "      <td>https://www.opendatanetwork.com/</td>\n",
              "    </tr>\n",
              "    <tr>\n",
              "      <th>1</th>\n",
              "      <td>AL</td>\n",
              "      <td>1</td>\n",
              "      <td>https://uspto.data.commerce.gov/w/apaj-dzmw/de...</td>\n",
              "    </tr>\n",
              "    <tr>\n",
              "      <th>2</th>\n",
              "      <td>AL</td>\n",
              "      <td>2</td>\n",
              "      <td>https://data-algeohub.opendata.arcgis.com/</td>\n",
              "    </tr>\n",
              "    <tr>\n",
              "      <th>3</th>\n",
              "      <td>AK</td>\n",
              "      <td>0</td>\n",
              "      <td>https://data.muni.org/</td>\n",
              "    </tr>\n",
              "    <tr>\n",
              "      <th>4</th>\n",
              "      <td>AK</td>\n",
              "      <td>1</td>\n",
              "      <td>https://data-soa-dnr.opendata.arcgis.com/</td>\n",
              "    </tr>\n",
              "  </tbody>\n",
              "</table>\n",
              "</div>"
            ],
            "text/plain": [
              "  STATE RANK                                                URL\n",
              "0    AL    0                   https://www.opendatanetwork.com/\n",
              "1    AL    1  https://uspto.data.commerce.gov/w/apaj-dzmw/de...\n",
              "2    AL    2         https://data-algeohub.opendata.arcgis.com/\n",
              "3    AK    0                             https://data.muni.org/\n",
              "4    AK    1          https://data-soa-dnr.opendata.arcgis.com/"
            ]
          },
          "metadata": {
            "tags": []
          },
          "execution_count": 42
        }
      ]
    },
    {
      "cell_type": "code",
      "metadata": {
        "id": "-_hhiEcw_9mr"
      },
      "source": [
        "df.to_csv('SOCRATA-STATES.csv',encoding='utf-8')"
      ],
      "execution_count": null,
      "outputs": []
    },
    {
      "cell_type": "code",
      "metadata": {
        "id": "J2pux5LP1BPy"
      },
      "source": [
        "# Site with nice pre-made lists of all US states separated by commas\n",
        "https://sceptermarketing.com/comma-separated-lists-of-us-states-abbreviations-select-options-etc/\n",
        "# Open Data Network, Socrata compilation of states and regions!\n",
        "https://www.opendatanetwork.com/\n",
        "# Links of all states Open Data Portals!\n",
        "http://www.harker.com/OpenData/socrata-data-portals.html"
      ],
      "execution_count": null,
      "outputs": []
    }
  ]
}