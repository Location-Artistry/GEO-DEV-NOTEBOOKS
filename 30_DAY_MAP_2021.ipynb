{
  "nbformat": 4,
  "nbformat_minor": 0,
  "metadata": {
    "colab": {
      "name": "30-DAY-MAP-2021.ipynb",
      "provenance": [],
      "collapsed_sections": [],
      "toc_visible": true,
      "mount_file_id": "1widi3zpoNJ63V1f5AvzLB-ZAXDKTLQD_",
      "authorship_tag": "ABX9TyM2wjm77uZCMj5/jG5HO2qK",
      "include_colab_link": true
    },
    "kernelspec": {
      "name": "python3",
      "display_name": "Python 3"
    },
    "language_info": {
      "name": "python"
    }
  },
  "cells": [
    {
      "cell_type": "markdown",
      "metadata": {
        "id": "view-in-github",
        "colab_type": "text"
      },
      "source": [
        "<a href=\"https://colab.research.google.com/github/Location-Artistry/GEO-DEV-NOTEBOOKS/blob/main/30_DAY_MAP_2021.ipynb\" target=\"_parent\"><img src=\"https://colab.research.google.com/assets/colab-badge.svg\" alt=\"Open In Colab\"/></a>"
      ]
    },
    {
      "cell_type": "markdown",
      "metadata": {
        "id": "VA74ODUGzMoO"
      },
      "source": [
        "# **30 DAY MAP CHALLENGE**\n",
        "## Scripts & Scrapers for Map Data\n",
        "## Stay Calm and Map ON\n",
        "Several automated scrips and Beautiful Soup scraping libraries to programmatically fetch data from websites.\n",
        "Utilize Beautiful Soup4 and Google Libraries to search state websites\n"
      ]
    },
    {
      "cell_type": "code",
      "metadata": {
        "id": "FGgUzrnsrusa"
      },
      "source": [
        "!pip install search-engine-parser\n",
        "!pip install \"search-engine-parser[cli]\"\n",
        "!pip install beautifulsoup4 #- already installed with Colab\n",
        "!pip install git+https://github.com/abenassi/Google-Search-API\n",
        "\n",
        "import pandas as pd\n",
        "import requests\n",
        "import nest_asyncio\n",
        "from bs4 import BeautifulSoup\n",
        "from search_engine_parser import GoogleSearch\n",
        "from googlesearch import search \n",
        "from googleapi import google\n",
        "from IPython.display import IFrame\n",
        "\n",
        "nest_asyncio.apply()"
      ],
      "execution_count": null,
      "outputs": []
    },
    {
      "cell_type": "markdown",
      "metadata": {
        "id": "AJKeIxQVL5Qm"
      },
      "source": [
        "## Scrape wikipedia with Beautiful Soup for largest US cites list"
      ]
    },
    {
      "cell_type": "code",
      "metadata": {
        "id": "oUlh6T_5K52r"
      },
      "source": [
        "# Scrape page contents\n",
        "URL = 'https://en.wikipedia.org/wiki/List_of_United_States_cities_by_population'\n",
        "page = requests.get(URL)\n",
        "soup = BeautifulSoup(page.content, 'html.parser')"
      ],
      "execution_count": null,
      "outputs": []
    },
    {
      "cell_type": "code",
      "metadata": {
        "colab": {
          "base_uri": "https://localhost:8080/"
        },
        "id": "kYLiHvXaLCqU",
        "outputId": "700c7bb9-e936-4c91-fcaa-325a1b9b3da1"
      },
      "source": [
        "# get all tables from page, and print number of tables\n",
        "wikiTables = soup.find_all(\"table\", attrs={\"class\": \"wikitable sortable\"})\n",
        "len(wikiTables)"
      ],
      "execution_count": null,
      "outputs": [
        {
          "output_type": "execute_result",
          "data": {
            "text/plain": [
              "4"
            ]
          },
          "metadata": {},
          "execution_count": 67
        }
      ]
    },
    {
      "cell_type": "code",
      "metadata": {
        "colab": {
          "base_uri": "https://localhost:8080/"
        },
        "id": "6SJ60hZZMLs_",
        "outputId": "8503dd31-a460-4a94-ae58-56fe476f8ccb"
      },
      "source": [
        "# searching through table data inspect if it is the target\n",
        "table = wikiTables[0]\n",
        "body = table.find_all(\"tr\")\n",
        "head = body[0]\n",
        "head"
      ],
      "execution_count": null,
      "outputs": [
        {
          "output_type": "execute_result",
          "data": {
            "text/plain": [
              "<tr>\n",
              "<th>2020<br/>rank\n",
              "</th>\n",
              "<th>City\n",
              "</th>\n",
              "<th>State<sup class=\"reference\" id=\"cite_ref-5\"><a href=\"#cite_note-5\">[c]</a></sup>\n",
              "</th>\n",
              "<th>2020<br/>census\n",
              "</th>\n",
              "<th>2010<br/>census\n",
              "</th>\n",
              "<th>Change\n",
              "</th>\n",
              "<th colspan=\"2\">2020 land area\n",
              "</th>\n",
              "<th colspan=\"2\">2020 population density\n",
              "</th>\n",
              "<th>Location\n",
              "</th></tr>"
            ]
          },
          "metadata": {},
          "execution_count": 73
        }
      ]
    },
    {
      "cell_type": "markdown",
      "metadata": {
        "id": "WcKfPy5fNoHG"
      },
      "source": [
        "#### We've got the correct table listing the 50 largest US cities by population   \n",
        "Now let's load the table rows into a pandas dataframe"
      ]
    },
    {
      "cell_type": "code",
      "metadata": {
        "colab": {
          "base_uri": "https://localhost:8080/"
        },
        "id": "-iMKO1WNOGnj",
        "outputId": "f8d3856e-ea65-4483-ced4-a53d6ddd0631"
      },
      "source": [
        "# Create the header row and strip the '\\n' from the text\n",
        "headings = []\n",
        "for item in head.find_all(\"th\"): # loop through all th elements\n",
        "    item = (item.text).rstrip(\"\\n\")\n",
        "    headings.append(item)\n",
        "print(headings)"
      ],
      "execution_count": null,
      "outputs": [
        {
          "output_type": "stream",
          "name": "stdout",
          "text": [
            "['2020rank', 'City', 'State[c]', '2020census', '2010census', 'Change', '2020 land area', '2020 population density', 'Location']\n"
          ]
        }
      ]
    },
    {
      "cell_type": "code",
      "metadata": {
        "id": "lC1JAXD1Ok7Z"
      },
      "source": [
        "# get all rows except the header to load into dataframe\n",
        "body_rows = body[1:] # All other items becomes the rest of the rows"
      ],
      "execution_count": null,
      "outputs": []
    },
    {
      "cell_type": "code",
      "metadata": {
        "id": "H-aJ7A_cKMoe"
      },
      "source": [
        "all_rows = [] \n",
        "for row_num in range(len(body_rows)): # A row at a time\n",
        "    row = [] # this will hold entries for one row\n",
        "    for row_item in body_rows[row_num].find_all(\"td\"): #loop through all row entries\n",
        "        row.append(row_item.text)\n",
        "    all_rows.append(row)\n",
        "# print(all_rows)"
      ],
      "execution_count": null,
      "outputs": []
    },
    {
      "cell_type": "code",
      "metadata": {
        "id": "D0EiZqXiOqlg"
      },
      "source": [
        "df = pd.DataFrame(data=all_rows,columns=headings)\n",
        "df.describe()"
      ],
      "execution_count": null,
      "outputs": []
    },
    {
      "cell_type": "markdown",
      "metadata": {
        "id": "iZdW9sEOSrG8"
      },
      "source": [
        "Resulting in \"AssertionError: 9 columns passed, passed data had 11 columns\"\n",
        "Some of the rows are showing 11 columns\n"
      ]
    },
    {
      "cell_type": "code",
      "metadata": {
        "colab": {
          "base_uri": "https://localhost:8080/",
          "height": 220
        },
        "id": "gbCQ3nsjS6Vk",
        "outputId": "15c550b2-3825-4ac7-ac98-e82e994b25ce"
      },
      "source": [
        "# Ah ha! 9 heading though 11 columns due to separate columns for both sq mi and sq km!\n",
        "for i, heads in enumerate(headings):\n",
        "  display(f'{i} - {heads}')"
      ],
      "execution_count": null,
      "outputs": [
        {
          "output_type": "display_data",
          "data": {
            "application/vnd.google.colaboratory.intrinsic+json": {
              "type": "string"
            },
            "text/plain": [
              "'0 - 2020rank'"
            ]
          },
          "metadata": {}
        },
        {
          "output_type": "display_data",
          "data": {
            "application/vnd.google.colaboratory.intrinsic+json": {
              "type": "string"
            },
            "text/plain": [
              "'1 - City'"
            ]
          },
          "metadata": {}
        },
        {
          "output_type": "display_data",
          "data": {
            "application/vnd.google.colaboratory.intrinsic+json": {
              "type": "string"
            },
            "text/plain": [
              "'2 - State[c]'"
            ]
          },
          "metadata": {}
        },
        {
          "output_type": "display_data",
          "data": {
            "application/vnd.google.colaboratory.intrinsic+json": {
              "type": "string"
            },
            "text/plain": [
              "'3 - 2020census'"
            ]
          },
          "metadata": {}
        },
        {
          "output_type": "display_data",
          "data": {
            "application/vnd.google.colaboratory.intrinsic+json": {
              "type": "string"
            },
            "text/plain": [
              "'4 - 2010census'"
            ]
          },
          "metadata": {}
        },
        {
          "output_type": "display_data",
          "data": {
            "application/vnd.google.colaboratory.intrinsic+json": {
              "type": "string"
            },
            "text/plain": [
              "'5 - Change'"
            ]
          },
          "metadata": {}
        },
        {
          "output_type": "display_data",
          "data": {
            "application/vnd.google.colaboratory.intrinsic+json": {
              "type": "string"
            },
            "text/plain": [
              "'6 - 2020 land area'"
            ]
          },
          "metadata": {}
        },
        {
          "output_type": "display_data",
          "data": {
            "application/vnd.google.colaboratory.intrinsic+json": {
              "type": "string"
            },
            "text/plain": [
              "'7 - 2020 land area km'"
            ]
          },
          "metadata": {}
        },
        {
          "output_type": "display_data",
          "data": {
            "application/vnd.google.colaboratory.intrinsic+json": {
              "type": "string"
            },
            "text/plain": [
              "'8 - 2020 population density'"
            ]
          },
          "metadata": {}
        },
        {
          "output_type": "display_data",
          "data": {
            "application/vnd.google.colaboratory.intrinsic+json": {
              "type": "string"
            },
            "text/plain": [
              "'9 - 2020 pop density sq km'"
            ]
          },
          "metadata": {}
        },
        {
          "output_type": "display_data",
          "data": {
            "application/vnd.google.colaboratory.intrinsic+json": {
              "type": "string"
            },
            "text/plain": [
              "'10 - Location'"
            ]
          },
          "metadata": {}
        }
      ]
    },
    {
      "cell_type": "code",
      "metadata": {
        "id": "9gRxFdDXZM6x"
      },
      "source": [
        "# added additional header rows to match row columns\n",
        "headings.insert(7, '2020 land area km')\n",
        "headings.insert(9, '2020 pop density sq km')"
      ],
      "execution_count": null,
      "outputs": []
    },
    {
      "cell_type": "markdown",
      "metadata": {
        "id": "16SrJB0eZwon"
      },
      "source": [
        "### Now attempting to load into dataframe with correct column numbers!"
      ]
    },
    {
      "cell_type": "code",
      "metadata": {
        "id": "sr_UDjYXZwS8"
      },
      "source": [
        "all_rows = [] \n",
        "for row_num in range(len(body_rows)): # A row at a time\n",
        "    row = [] # this will hold entries for one row\n",
        "    for row_item in body_rows[row_num].find_all(\"td\"): #loop through all row entries\n",
        "        rowText = (row_item.text).rstrip(\"\\n\")\n",
        "        rowText = (rowText).rstrip(\"[d]\")\n",
        "        row.append(rowText.rstrip())\n",
        "    all_rows.append(row)"
      ],
      "execution_count": null,
      "outputs": []
    },
    {
      "cell_type": "code",
      "metadata": {
        "colab": {
          "base_uri": "https://localhost:8080/",
          "height": 171
        },
        "id": "MQ6i_WQAZvSA",
        "outputId": "778793d4-45fd-45fe-ecbc-be3b4a84d31c"
      },
      "source": [
        "# Success!\n",
        "df = pd.DataFrame(data=all_rows,columns=headings)\n",
        "df.describe()"
      ],
      "execution_count": null,
      "outputs": [
        {
          "output_type": "execute_result",
          "data": {
            "text/html": [
              "<div>\n",
              "<style scoped>\n",
              "    .dataframe tbody tr th:only-of-type {\n",
              "        vertical-align: middle;\n",
              "    }\n",
              "\n",
              "    .dataframe tbody tr th {\n",
              "        vertical-align: top;\n",
              "    }\n",
              "\n",
              "    .dataframe thead th {\n",
              "        text-align: right;\n",
              "    }\n",
              "</style>\n",
              "<table border=\"1\" class=\"dataframe\">\n",
              "  <thead>\n",
              "    <tr style=\"text-align: right;\">\n",
              "      <th></th>\n",
              "      <th>2020rank</th>\n",
              "      <th>City</th>\n",
              "      <th>State[c]</th>\n",
              "      <th>2020census</th>\n",
              "      <th>2010census</th>\n",
              "      <th>Change</th>\n",
              "      <th>2020 land area</th>\n",
              "      <th>2020 land area km</th>\n",
              "      <th>2020 population density</th>\n",
              "      <th>2020 pop density sq km</th>\n",
              "      <th>Location</th>\n",
              "    </tr>\n",
              "  </thead>\n",
              "  <tbody>\n",
              "    <tr>\n",
              "      <th>count</th>\n",
              "      <td>326</td>\n",
              "      <td>326</td>\n",
              "      <td>326</td>\n",
              "      <td>326</td>\n",
              "      <td>326</td>\n",
              "      <td>326</td>\n",
              "      <td>326</td>\n",
              "      <td>326</td>\n",
              "      <td>326</td>\n",
              "      <td>326</td>\n",
              "      <td>326</td>\n",
              "    </tr>\n",
              "    <tr>\n",
              "      <th>unique</th>\n",
              "      <td>326</td>\n",
              "      <td>316</td>\n",
              "      <td>46</td>\n",
              "      <td>326</td>\n",
              "      <td>322</td>\n",
              "      <td>306</td>\n",
              "      <td>296</td>\n",
              "      <td>296</td>\n",
              "      <td>315</td>\n",
              "      <td>306</td>\n",
              "      <td>326</td>\n",
              "    </tr>\n",
              "    <tr>\n",
              "      <th>top</th>\n",
              "      <td>201</td>\n",
              "      <td>Springfiel</td>\n",
              "      <td>California</td>\n",
              "      <td>150,227</td>\n",
              "      <td>197,899</td>\n",
              "      <td>+2.38%</td>\n",
              "      <td>23.5 sq mi</td>\n",
              "      <td>60.9 km2</td>\n",
              "      <td>4,888/sq mi</td>\n",
              "      <td>1,887/km2</td>\n",
              "      <td>34°56′N 120°26′W﻿ / ﻿34.93°N 120.44°W﻿ / 34.93...</td>\n",
              "    </tr>\n",
              "    <tr>\n",
              "      <th>freq</th>\n",
              "      <td>1</td>\n",
              "      <td>3</td>\n",
              "      <td>75</td>\n",
              "      <td>1</td>\n",
              "      <td>2</td>\n",
              "      <td>2</td>\n",
              "      <td>3</td>\n",
              "      <td>3</td>\n",
              "      <td>3</td>\n",
              "      <td>3</td>\n",
              "      <td>1</td>\n",
              "    </tr>\n",
              "  </tbody>\n",
              "</table>\n",
              "</div>"
            ],
            "text/plain": [
              "       2020rank  ...                                           Location\n",
              "count       326  ...                                                326\n",
              "unique      326  ...                                                326\n",
              "top         201  ...  34°56′N 120°26′W﻿ / ﻿34.93°N 120.44°W﻿ / 34.93...\n",
              "freq          1  ...                                                  1\n",
              "\n",
              "[4 rows x 11 columns]"
            ]
          },
          "metadata": {},
          "execution_count": 273
        }
      ]
    },
    {
      "cell_type": "code",
      "metadata": {
        "colab": {
          "base_uri": "https://localhost:8080/",
          "height": 418
        },
        "id": "GjLH6ii8addb",
        "outputId": "406f7d9a-6c68-4ea4-d055-527f99b3e892"
      },
      "source": [
        "df.head().T"
      ],
      "execution_count": null,
      "outputs": [
        {
          "output_type": "execute_result",
          "data": {
            "text/html": [
              "<div>\n",
              "<style scoped>\n",
              "    .dataframe tbody tr th:only-of-type {\n",
              "        vertical-align: middle;\n",
              "    }\n",
              "\n",
              "    .dataframe tbody tr th {\n",
              "        vertical-align: top;\n",
              "    }\n",
              "\n",
              "    .dataframe thead th {\n",
              "        text-align: right;\n",
              "    }\n",
              "</style>\n",
              "<table border=\"1\" class=\"dataframe\">\n",
              "  <thead>\n",
              "    <tr style=\"text-align: right;\">\n",
              "      <th></th>\n",
              "      <th>0</th>\n",
              "      <th>1</th>\n",
              "      <th>2</th>\n",
              "      <th>3</th>\n",
              "      <th>4</th>\n",
              "    </tr>\n",
              "  </thead>\n",
              "  <tbody>\n",
              "    <tr>\n",
              "      <th>2020rank</th>\n",
              "      <td>1</td>\n",
              "      <td>2</td>\n",
              "      <td>3</td>\n",
              "      <td>4</td>\n",
              "      <td>5</td>\n",
              "    </tr>\n",
              "    <tr>\n",
              "      <th>City</th>\n",
              "      <td>New York</td>\n",
              "      <td>Los Angeles</td>\n",
              "      <td>Chicago</td>\n",
              "      <td>Houston</td>\n",
              "      <td>Phoenix</td>\n",
              "    </tr>\n",
              "    <tr>\n",
              "      <th>State[c]</th>\n",
              "      <td>New York</td>\n",
              "      <td>California</td>\n",
              "      <td>Illinois</td>\n",
              "      <td>Texas</td>\n",
              "      <td>Arizona</td>\n",
              "    </tr>\n",
              "    <tr>\n",
              "      <th>2020census</th>\n",
              "      <td>8,804,190</td>\n",
              "      <td>3,898,747</td>\n",
              "      <td>2,746,388</td>\n",
              "      <td>2,304,580</td>\n",
              "      <td>1,608,139</td>\n",
              "    </tr>\n",
              "    <tr>\n",
              "      <th>2010census</th>\n",
              "      <td>8,175,133</td>\n",
              "      <td>3,792,621</td>\n",
              "      <td>2,695,598</td>\n",
              "      <td>2,099,451</td>\n",
              "      <td>1,445,632</td>\n",
              "    </tr>\n",
              "    <tr>\n",
              "      <th>Change</th>\n",
              "      <td>+7.69%</td>\n",
              "      <td>+2.80%</td>\n",
              "      <td>+1.88%</td>\n",
              "      <td>+9.77%</td>\n",
              "      <td>+11.24%</td>\n",
              "    </tr>\n",
              "    <tr>\n",
              "      <th>2020 land area</th>\n",
              "      <td>300.5 sq mi</td>\n",
              "      <td>469.5 sq mi</td>\n",
              "      <td>227.7 sq mi</td>\n",
              "      <td>640.4 sq mi</td>\n",
              "      <td>518.0 sq mi</td>\n",
              "    </tr>\n",
              "    <tr>\n",
              "      <th>2020 land area km</th>\n",
              "      <td>778.3 km2</td>\n",
              "      <td>1,216.0 km2</td>\n",
              "      <td>589.7 km2</td>\n",
              "      <td>1,658.6 km2</td>\n",
              "      <td>1,341.6 km2</td>\n",
              "    </tr>\n",
              "    <tr>\n",
              "      <th>2020 population density</th>\n",
              "      <td>29,298/sq mi</td>\n",
              "      <td>8,304/sq mi</td>\n",
              "      <td>12,061/sq mi</td>\n",
              "      <td>3,599/sq mi</td>\n",
              "      <td>3,105/sq mi</td>\n",
              "    </tr>\n",
              "    <tr>\n",
              "      <th>2020 pop density sq km</th>\n",
              "      <td>11,312/km2</td>\n",
              "      <td>3,206/km2</td>\n",
              "      <td>4,657/km2</td>\n",
              "      <td>1,390/km2</td>\n",
              "      <td>1,199/km2</td>\n",
              "    </tr>\n",
              "    <tr>\n",
              "      <th>Location</th>\n",
              "      <td>40°40′N 73°56′W﻿ / ﻿40.66°N 73.93°W﻿ / 40.66; ...</td>\n",
              "      <td>34°01′N 118°25′W﻿ / ﻿34.01°N 118.41°W﻿ / 34.01...</td>\n",
              "      <td>41°50′N 87°41′W﻿ / ﻿41.83°N 87.68°W﻿ / 41.83; ...</td>\n",
              "      <td>29°47′N 95°23′W﻿ / ﻿29.78°N 95.39°W﻿ / 29.78; ...</td>\n",
              "      <td>33°34′N 112°05′W﻿ / ﻿33.57°N 112.09°W﻿ / 33.57...</td>\n",
              "    </tr>\n",
              "  </tbody>\n",
              "</table>\n",
              "</div>"
            ],
            "text/plain": [
              "                                                                         0  ...                                                  4\n",
              "2020rank                                                                 1  ...                                                  5\n",
              "City                                                              New York  ...                                            Phoenix\n",
              "State[c]                                                          New York  ...                                            Arizona\n",
              "2020census                                                       8,804,190  ...                                          1,608,139\n",
              "2010census                                                       8,175,133  ...                                          1,445,632\n",
              "Change                                                              +7.69%  ...                                            +11.24%\n",
              "2020 land area                                                 300.5 sq mi  ...                                        518.0 sq mi\n",
              "2020 land area km                                                778.3 km2  ...                                        1,341.6 km2\n",
              "2020 population density                                       29,298/sq mi  ...                                        3,105/sq mi\n",
              "2020 pop density sq km                                          11,312/km2  ...                                          1,199/km2\n",
              "Location                 40°40′N 73°56′W﻿ / ﻿40.66°N 73.93°W﻿ / 40.66; ...  ...  33°34′N 112°05′W﻿ / ﻿33.57°N 112.09°W﻿ / 33.57...\n",
              "\n",
              "[11 rows x 5 columns]"
            ]
          },
          "metadata": {},
          "execution_count": 275
        }
      ]
    },
    {
      "cell_type": "markdown",
      "metadata": {
        "id": "fCwuyzFzdZfc"
      },
      "source": [
        "#### Adding rstrip to row processing eliminated unwanted characters"
      ]
    },
    {
      "cell_type": "code",
      "metadata": {
        "id": "glb3u57VbkVE"
      },
      "source": [
        "# If remaining \"\\n\" characters, use this method to remove\n",
        "# removed additional '[a]' citations from city names\n",
        "removeChars = ['\\[e','\\[f','\\[g','\\[h','\\[i','\\[j','\\[k','\\[l','\\[m']\n",
        "for chars in removeChars:\n",
        "  df['City'] = df['City'].str.replace(chars, '')"
      ],
      "execution_count": null,
      "outputs": []
    },
    {
      "cell_type": "code",
      "metadata": {
        "colab": {
          "base_uri": "https://localhost:8080/"
        },
        "id": "qhRsNz8dg7bI",
        "outputId": "1dcc9863-e791-4c37-e20f-f368787fe83a"
      },
      "source": [
        "# slicing down to only the top 30 cities\n",
        "df30 = df[0:-296]\n",
        "df30.count()"
      ],
      "execution_count": null,
      "outputs": [
        {
          "output_type": "execute_result",
          "data": {
            "text/plain": [
              "2020rank                   30\n",
              "City                       30\n",
              "State[c]                   30\n",
              "2020census                 30\n",
              "2010census                 30\n",
              "Change                     30\n",
              "2020 land area             30\n",
              "2020 land area km          30\n",
              "2020 population density    30\n",
              "2020 pop density sq km     30\n",
              "Location                   30\n",
              "dtype: int64"
            ]
          },
          "metadata": {},
          "execution_count": 286
        }
      ]
    },
    {
      "cell_type": "markdown",
      "metadata": {
        "id": "E-JauYiOg8Zb"
      },
      "source": [
        "## Scraping for each of the 30 largest cities"
      ]
    },
    {
      "cell_type": "code",
      "metadata": {
        "colab": {
          "base_uri": "https://localhost:8080/"
        },
        "id": "WOgK3gPNf86o",
        "outputId": "810fcfee-fa42-4ad3-e283-41d736aa94ec"
      },
      "source": [
        "# use the search API to search for query= '{name of city} city open data'\n",
        "# return top 3 results and save as dataframe\n",
        "q = \"open data\"\n",
        "dfRes = pd.DataFrame(columns = ['CITY','RANK','URL'])\n",
        "for x, city in enumerate(df30['City']):\n",
        "  print(f'{x} - {city}')\n",
        "  for z, i in enumerate(search((f'{city} city {q}'), tld=\"com\", num=3, stop=3, pause=2)):\n",
        "    dfRes.loc[len(dfRes.index)] = [city,z,i]"
      ],
      "execution_count": null,
      "outputs": [
        {
          "output_type": "stream",
          "name": "stdout",
          "text": [
            "0 - New York\n",
            "1 - Los Angeles\n",
            "2 - Chicago\n",
            "3 - Houston\n",
            "4 - Phoenix\n",
            "5 - Philadelphia\n",
            "6 - San Antonio\n",
            "7 - San Diego\n",
            "8 - Dallas\n",
            "9 - San Jose\n",
            "10 - Austin\n",
            "11 - Jacksonville\n",
            "12 - Fort Worth\n",
            "13 - Columbus\n",
            "14 - Indianapolis\n",
            "15 - Charlotte\n",
            "16 - San Francisco\n",
            "17 - Seattle\n",
            "18 - Denver\n",
            "19 - Washington\n",
            "20 - Nashville\n",
            "21 - Oklahoma City\n",
            "22 - El Paso\n",
            "23 - Boston\n",
            "24 - Portlan\n",
            "25 - Las Vegas\n",
            "26 - Detroit\n",
            "27 - Memphis\n",
            "28 - Louisville\n",
            "29 - Baltimore\n"
          ]
        }
      ]
    },
    {
      "cell_type": "code",
      "metadata": {
        "colab": {
          "base_uri": "https://localhost:8080/"
        },
        "id": "ybfAaCHmnrfo",
        "outputId": "ad2ab2f6-c58f-452b-bbb9-42cbeeb9613e"
      },
      "source": [
        "# Check resulting dataframe for search results\n",
        "dfRes.info()"
      ],
      "execution_count": null,
      "outputs": [
        {
          "output_type": "stream",
          "name": "stdout",
          "text": [
            "<class 'pandas.core.frame.DataFrame'>\n",
            "Int64Index: 90 entries, 0 to 89\n",
            "Data columns (total 3 columns):\n",
            " #   Column  Non-Null Count  Dtype \n",
            "---  ------  --------------  ----- \n",
            " 0   CITY    90 non-null     object\n",
            " 1   RANK    90 non-null     object\n",
            " 2   URL     90 non-null     object\n",
            "dtypes: object(3)\n",
            "memory usage: 2.8+ KB\n"
          ]
        }
      ]
    },
    {
      "cell_type": "code",
      "metadata": {
        "colab": {
          "base_uri": "https://localhost:8080/",
          "height": 421
        },
        "id": "xKp6CvzfpM8Q",
        "outputId": "dec49913-af28-4d8a-f069-16960d49c74f"
      },
      "source": [
        "# everything looks good!\n",
        "dfRes.head(12)"
      ],
      "execution_count": null,
      "outputs": [
        {
          "output_type": "execute_result",
          "data": {
            "text/html": [
              "<div>\n",
              "<style scoped>\n",
              "    .dataframe tbody tr th:only-of-type {\n",
              "        vertical-align: middle;\n",
              "    }\n",
              "\n",
              "    .dataframe tbody tr th {\n",
              "        vertical-align: top;\n",
              "    }\n",
              "\n",
              "    .dataframe thead th {\n",
              "        text-align: right;\n",
              "    }\n",
              "</style>\n",
              "<table border=\"1\" class=\"dataframe\">\n",
              "  <thead>\n",
              "    <tr style=\"text-align: right;\">\n",
              "      <th></th>\n",
              "      <th>CITY</th>\n",
              "      <th>RANK</th>\n",
              "      <th>URL</th>\n",
              "    </tr>\n",
              "  </thead>\n",
              "  <tbody>\n",
              "    <tr>\n",
              "      <th>0</th>\n",
              "      <td>New York</td>\n",
              "      <td>0</td>\n",
              "      <td>https://opendata.cityofnewyork.us/</td>\n",
              "    </tr>\n",
              "    <tr>\n",
              "      <th>1</th>\n",
              "      <td>New York</td>\n",
              "      <td>1</td>\n",
              "      <td>https://data.ny.gov/</td>\n",
              "    </tr>\n",
              "    <tr>\n",
              "      <th>2</th>\n",
              "      <td>New York</td>\n",
              "      <td>2</td>\n",
              "      <td>http://www.nyc.gov/html/data/about.html</td>\n",
              "    </tr>\n",
              "    <tr>\n",
              "      <th>3</th>\n",
              "      <td>Los Angeles</td>\n",
              "      <td>0</td>\n",
              "      <td>https://data.lacity.org/</td>\n",
              "    </tr>\n",
              "    <tr>\n",
              "      <th>4</th>\n",
              "      <td>Los Angeles</td>\n",
              "      <td>1</td>\n",
              "      <td>https://www.lacity.org/residents/popular-infor...</td>\n",
              "    </tr>\n",
              "    <tr>\n",
              "      <th>5</th>\n",
              "      <td>Los Angeles</td>\n",
              "      <td>2</td>\n",
              "      <td>https://data.lacounty.gov/</td>\n",
              "    </tr>\n",
              "    <tr>\n",
              "      <th>6</th>\n",
              "      <td>Chicago</td>\n",
              "      <td>0</td>\n",
              "      <td>https://data.cityofchicago.org/</td>\n",
              "    </tr>\n",
              "    <tr>\n",
              "      <th>7</th>\n",
              "      <td>Chicago</td>\n",
              "      <td>1</td>\n",
              "      <td>https://data.cityofchicago.org/browse</td>\n",
              "    </tr>\n",
              "    <tr>\n",
              "      <th>8</th>\n",
              "      <td>Chicago</td>\n",
              "      <td>2</td>\n",
              "      <td>https://data.cityofchicago.org/browse?category...</td>\n",
              "    </tr>\n",
              "    <tr>\n",
              "      <th>9</th>\n",
              "      <td>Houston</td>\n",
              "      <td>0</td>\n",
              "      <td>https://data.houstontx.gov/</td>\n",
              "    </tr>\n",
              "    <tr>\n",
              "      <th>10</th>\n",
              "      <td>Houston</td>\n",
              "      <td>1</td>\n",
              "      <td>https://www.houstontx.gov/innovation/innovatio...</td>\n",
              "    </tr>\n",
              "    <tr>\n",
              "      <th>11</th>\n",
              "      <td>Houston</td>\n",
              "      <td>2</td>\n",
              "      <td>https://cohgis-mycity.opendata.arcgis.com/</td>\n",
              "    </tr>\n",
              "  </tbody>\n",
              "</table>\n",
              "</div>"
            ],
            "text/plain": [
              "           CITY RANK                                                URL\n",
              "0      New York    0                 https://opendata.cityofnewyork.us/\n",
              "1      New York    1                               https://data.ny.gov/\n",
              "2      New York    2            http://www.nyc.gov/html/data/about.html\n",
              "3   Los Angeles    0                           https://data.lacity.org/\n",
              "4   Los Angeles    1  https://www.lacity.org/residents/popular-infor...\n",
              "5   Los Angeles    2                         https://data.lacounty.gov/\n",
              "6       Chicago    0                    https://data.cityofchicago.org/\n",
              "7       Chicago    1              https://data.cityofchicago.org/browse\n",
              "8       Chicago    2  https://data.cityofchicago.org/browse?category...\n",
              "9       Houston    0                        https://data.houstontx.gov/\n",
              "10      Houston    1  https://www.houstontx.gov/innovation/innovatio...\n",
              "11      Houston    2         https://cohgis-mycity.opendata.arcgis.com/"
            ]
          },
          "metadata": {},
          "execution_count": 300
        }
      ]
    },
    {
      "cell_type": "code",
      "metadata": {
        "id": "m7fXwGvcnkAh"
      },
      "source": [
        "# save to CSV file\n",
        "dfRes.to_csv('MapChalData2021.csv',encoding='utf-8')"
      ],
      "execution_count": null,
      "outputs": []
    },
    {
      "cell_type": "markdown",
      "metadata": {
        "id": "oIcxpM7zqBeD"
      },
      "source": [
        "### First Phase Completed\n",
        " Scraped wikipedia list of largest US cities by population with Beautiful Soup, parsed list into a dataframe, cleaned extraneous text, reduced list from 326 to top 30 cities per 30 day challenge, one city per day.   \n",
        "Automated a search of the 30 cities with the 'open data' query to get the top 3 hit URLs for each city, loaded these entries into the resulting dataframe, exported as CSV -> /content/drive/MyDrive/CODE-2022/30DayMap2021/MapChalData2021.csv"
      ]
    },
    {
      "cell_type": "code",
      "metadata": {
        "colab": {
          "base_uri": "https://localhost:8080/",
          "height": 204
        },
        "id": "dWc4y1VAulQ-",
        "outputId": "b32b2dee-1d57-4798-9eb7-e77384b3c36a"
      },
      "source": [
        "# let's read that dataframe back in as a CSV\n",
        "df = pd.read_csv('/content/drive/MyDrive/CODE-2022/30DayMap2021/MapChalData2021.csv')\n",
        "df.head()"
      ],
      "execution_count": null,
      "outputs": [
        {
          "output_type": "execute_result",
          "data": {
            "text/html": [
              "<div>\n",
              "<style scoped>\n",
              "    .dataframe tbody tr th:only-of-type {\n",
              "        vertical-align: middle;\n",
              "    }\n",
              "\n",
              "    .dataframe tbody tr th {\n",
              "        vertical-align: top;\n",
              "    }\n",
              "\n",
              "    .dataframe thead th {\n",
              "        text-align: right;\n",
              "    }\n",
              "</style>\n",
              "<table border=\"1\" class=\"dataframe\">\n",
              "  <thead>\n",
              "    <tr style=\"text-align: right;\">\n",
              "      <th></th>\n",
              "      <th>Unnamed: 0</th>\n",
              "      <th>CITY</th>\n",
              "      <th>RANK</th>\n",
              "      <th>URL</th>\n",
              "    </tr>\n",
              "  </thead>\n",
              "  <tbody>\n",
              "    <tr>\n",
              "      <th>0</th>\n",
              "      <td>0</td>\n",
              "      <td>New York</td>\n",
              "      <td>0</td>\n",
              "      <td>https://opendata.cityofnewyork.us/</td>\n",
              "    </tr>\n",
              "    <tr>\n",
              "      <th>1</th>\n",
              "      <td>1</td>\n",
              "      <td>New York</td>\n",
              "      <td>1</td>\n",
              "      <td>https://data.ny.gov/</td>\n",
              "    </tr>\n",
              "    <tr>\n",
              "      <th>2</th>\n",
              "      <td>2</td>\n",
              "      <td>New York</td>\n",
              "      <td>2</td>\n",
              "      <td>http://www.nyc.gov/html/data/about.html</td>\n",
              "    </tr>\n",
              "    <tr>\n",
              "      <th>3</th>\n",
              "      <td>3</td>\n",
              "      <td>Los Angeles</td>\n",
              "      <td>0</td>\n",
              "      <td>https://data.lacity.org/</td>\n",
              "    </tr>\n",
              "    <tr>\n",
              "      <th>4</th>\n",
              "      <td>4</td>\n",
              "      <td>Los Angeles</td>\n",
              "      <td>1</td>\n",
              "      <td>https://www.lacity.org/residents/popular-infor...</td>\n",
              "    </tr>\n",
              "  </tbody>\n",
              "</table>\n",
              "</div>"
            ],
            "text/plain": [
              "   Unnamed: 0  ...                                                URL\n",
              "0           0  ...                 https://opendata.cityofnewyork.us/\n",
              "1           1  ...                               https://data.ny.gov/\n",
              "2           2  ...            http://www.nyc.gov/html/data/about.html\n",
              "3           3  ...                           https://data.lacity.org/\n",
              "4           4  ...  https://www.lacity.org/residents/popular-infor...\n",
              "\n",
              "[5 rows x 4 columns]"
            ]
          },
          "metadata": {},
          "execution_count": 16
        }
      ]
    },
    {
      "cell_type": "markdown",
      "metadata": {
        "id": "f-0qzYS4xw6n"
      },
      "source": [
        "### Learning new method for opening URL programmtically within the notebook\n",
        "Perhaps opening in a notebook cell could utilize cloud resources over my limited machine memory..."
      ]
    },
    {
      "cell_type": "code",
      "metadata": {
        "id": "XcRtkA3zydK8"
      },
      "source": [
        "dfSlice = df[0:3]\n",
        "for url in dfSlice['URL']:\n",
        "  IFrame(src='url', width='100%', height='800px')"
      ],
      "execution_count": null,
      "outputs": []
    },
    {
      "cell_type": "code",
      "metadata": {
        "colab": {
          "base_uri": "https://localhost:8080/"
        },
        "id": "bRPHyvsy2JjS",
        "outputId": "8d4f5c83-2f3e-4f1f-872d-7a717c8b075a"
      },
      "source": [
        "print(dfSlice['URL'])\n",
        "#IFrame(src='url', width='100%', height='800px')"
      ],
      "execution_count": null,
      "outputs": [
        {
          "output_type": "stream",
          "name": "stdout",
          "text": [
            "0         https://opendata.cityofnewyork.us/\n",
            "1                       https://data.ny.gov/\n",
            "2    http://www.nyc.gov/html/data/about.html\n",
            "Name: URL, dtype: object\n"
          ]
        }
      ]
    },
    {
      "cell_type": "code",
      "metadata": {
        "colab": {
          "base_uri": "https://localhost:8080/",
          "height": 820
        },
        "id": "glbc6XqF2ee_",
        "outputId": "3fddc67a-6675-4945-93cb-65a87c6f21e6"
      },
      "source": [
        "IFrame(src=dfSlice['URL'][0], width='100%', height='800px')"
      ],
      "execution_count": null,
      "outputs": [
        {
          "output_type": "execute_result",
          "data": {
            "text/html": [
              "\n",
              "        <iframe\n",
              "            width=\"100%\"\n",
              "            height=\"800px\"\n",
              "            src=\"https://opendata.cityofnewyork.us/\"\n",
              "            frameborder=\"0\"\n",
              "            allowfullscreen\n",
              "        ></iframe>\n",
              "        "
            ],
            "text/plain": [
              "<IPython.lib.display.IFrame at 0x7f1f86fe4910>"
            ]
          },
          "metadata": {},
          "execution_count": 35
        }
      ]
    },
    {
      "cell_type": "code",
      "metadata": {
        "id": "d9g2EPZ4qA4T"
      },
      "source": [
        "# Site with nice pre-made lists of all US states separated by commas\n",
        "https://sceptermarketing.com/comma-separated-lists-of-us-states-abbreviations-select-options-etc/\n",
        "# Open Data Network, Socrata compilation of states and regions!\n",
        "https://www.opendatanetwork.com/\n",
        "# Links of all states Open Data Portals!\n",
        "http://www.harker.com/OpenData/socrata-data-portals.html"
      ],
      "execution_count": null,
      "outputs": []
    }
  ]
}