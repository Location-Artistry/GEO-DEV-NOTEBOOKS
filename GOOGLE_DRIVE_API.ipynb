{
  "nbformat": 4,
  "nbformat_minor": 0,
  "metadata": {
    "colab": {
      "name": "GOOGLE-DRIVE-API.ipynb",
      "provenance": [],
      "collapsed_sections": [],
      "toc_visible": true,
      "mount_file_id": "1-825gK1HMCvAL9dgP9m1wSNpAH8DbT-u",
      "authorship_tag": "ABX9TyN0/0CjRpu+XEFmsXP41w4u",
      "include_colab_link": true
    },
    "kernelspec": {
      "name": "python3",
      "display_name": "Python 3"
    },
    "language_info": {
      "name": "python"
    }
  },
  "cells": [
    {
      "cell_type": "markdown",
      "metadata": {
        "id": "view-in-github",
        "colab_type": "text"
      },
      "source": [
        "<a href=\"https://colab.research.google.com/github/Location-Artistry/GEO-DEV-NOTEBOOKS/blob/main/GOOGLE_DRIVE_API.ipynb\" target=\"_parent\"><img src=\"https://colab.research.google.com/assets/colab-badge.svg\" alt=\"Open In Colab\"/></a>"
      ]
    },
    {
      "cell_type": "markdown",
      "metadata": {
        "id": "GQzhIg6wvplD"
      },
      "source": [
        "# **Google Drive API**\n",
        "### Export and download all files from drive"
      ]
    },
    {
      "cell_type": "code",
      "metadata": {
        "id": "0euBdsXsL13u"
      },
      "source": [
        "import os\n",
        "import os.path\n",
        "from googleapiclient.discovery import build\n",
        "from google_auth_oauthlib.flow import InstalledAppFlow\n",
        "from google.auth.transport.requests import Request\n",
        "from google.oauth2.credentials import Credentials\n",
        "from google.colab import drive\n",
        "from googleapiclient.http import MediaIoBaseDownload\n",
        "import io\n",
        "\n",
        "import datetime as dt\n",
        "import time\n",
        "import getpass\n",
        "from pathlib import Path\n",
        "import pandas as pd\n",
        "import numpy as np\n",
        "import shutil\n",
        "from mimetypes import MimeTypes"
      ],
      "execution_count": 2,
      "outputs": []
    },
    {
      "cell_type": "markdown",
      "metadata": {
        "id": "-Ezv_vodMRzI"
      },
      "source": [
        "## Google APIs function library\n",
        "From Water Assessment Notebook - Updated April 13 2021"
      ]
    },
    {
      "cell_type": "code",
      "metadata": {
        "id": "bOD8fA_iMHjK"
      },
      "source": [
        "# Get and return GoogleAPIS credentials\n",
        "def getGcreds(CLIENT_SECRETS_FILE, SCOPES):\n",
        "  flow = InstalledAppFlow.from_client_secrets_file(CLIENT_SECRETS_FILE, SCOPES)\n",
        "  credentials = flow.run_console()\n",
        "  return credentials\n",
        "\n",
        "# Create copy of Gdoc from template\n",
        "def copyFile(DOCUMENT_ID, copyTitle, credentials):\n",
        "  API_SERVICE_NAME = 'drive'\n",
        "  API_VERSION = 'v3'\n",
        "  service = build(API_SERVICE_NAME, API_VERSION, credentials = credentials)\n",
        "  newText = {'name': copyTitle}\n",
        "  try:\n",
        "    result = service.files().copy(fileId=DOCUMENT_ID, body=newText).execute()\n",
        "    display(result)\n",
        "    return result['id']\n",
        "  except (errors.HttpError, error):\n",
        "    print('An error occurred: %s') % error\n",
        "  return None\n",
        "\n",
        "# List files in drive, pass number desired file results\n",
        "def listFiles(num, credentials):\n",
        "  API_SERVICE_NAME = 'drive'\n",
        "  API_VERSION = 'v3'\n",
        "  service = build(API_SERVICE_NAME, API_VERSION, credentials = credentials)\n",
        "  results = service.files().list(\n",
        "        pageSize=num, fields=\"nextPageToken, files(id, name, mimeType, size, parents, modifiedTime)\").execute()\n",
        "  items = results['files']\n",
        "  # list all 20 files & folders\n",
        "  for x, i in enumerate(items):\n",
        "    display(f'{x} - {i.get(\"name\")} - {i.get(\"id\")} - {i.get(\"mimeType\")} - {i.get(\"parents\")} - {i.get(\"modifiedTime\")}')\n",
        "  #for item in items:\n",
        "  #  display(item)\n",
        "  return items\n",
        "\n",
        "  # Drive search function, template from Google Developers\n",
        "def fileSearch(type,query,credentials):\n",
        "  f = {'jpeg': \"mimeType='image/jpeg'\",'pdf':\"mimeType='application/pdf'\",'doc':\"mimeType='application/vnd.google-apps.document'\",\n",
        "     'sheet':\"mimeType='application/vnd.google-apps.spreadsheet'\",'folder':\"mimeType='application/vnd.google-apps.folder'\",'png':\"mimeType='image/png'\",\n",
        "     'text':\"mimeType='text/plain'\"}\n",
        "  API_SERVICE_NAME, API_VERSION, page_token = 'drive','v3',None\n",
        "  drive_service = build(API_SERVICE_NAME, API_VERSION, credentials = credentials)\n",
        "  query = (f\"{f[type]}{query}\")\n",
        "  while True:\n",
        "    response = drive_service.files().list(q=query,spaces='drive',fields='nextPageToken, files(id, name)',pageToken=page_token).execute()\n",
        "    for x, file in enumerate(response.get('files', [])):\n",
        "      display(f'Found {x}: {file.get(\"name\")} - {file.get(\"id\")}')\n",
        "    page_token = response.get('nextPageToken', None)\n",
        "    if page_token is None:\n",
        "      break\n",
        "  return response['files']\n",
        "  \n",
        "# Update document with spcified requests\n",
        "def updateDoc(DOCUMENT_ID, req, credentials):\n",
        "  API_SERVICE_NAME = 'docs'\n",
        "  API_VERSION = 'v1'\n",
        "  service = build(API_SERVICE_NAME, API_VERSION, credentials = credentials)\n",
        "  result = service.documents().batchUpdate(documentId=DOCUMENT_ID, body={'requests': req}).execute()\n",
        "  display(f'Edit Successful for id: {result[\"documentId\"]} Changes made: {result[\"replies\"][0]}')\n",
        "  return result\n",
        "# Get Gdoc item information for inserting at index location\n",
        "def getDoc(DOCUMENT_ID, credentials):\n",
        "  try:\n",
        "    API_SERVICE_NAME = 'docs'\n",
        "    API_VERSION = 'v1'\n",
        "    service = build(API_SERVICE_NAME, API_VERSION, credentials = credentials)\n",
        "    result = service.documents().get(documentId=DOCUMENT_ID).execute()\n",
        "    display(f'Title: {result[\"title\"]} - id: {result[\"documentId\"]}')\n",
        "    return result\n",
        "  except:\n",
        "    display(f'FAIL to get {DOCUMENT_ID} SORRY')\n",
        "# Get Gdoc content blocks in body\n",
        "def getDocContent(doc):\n",
        "  try:\n",
        "    content = []\n",
        "    for i,z in enumerate(doc['body']['content']):\n",
        "      content.append(z)\n",
        "      print(i,z)\n",
        "    return content\n",
        "  except:\n",
        "    display(f'FAIL to get contents for {doc[\"title\"]}')"
      ],
      "execution_count": 3,
      "outputs": []
    },
    {
      "cell_type": "markdown",
      "metadata": {
        "id": "5pNl85zXv_45"
      },
      "source": [
        "## Working section\n"
      ]
    },
    {
      "cell_type": "code",
      "metadata": {
        "colab": {
          "base_uri": "https://localhost:8080/"
        },
        "id": "hEhK5wWqMaZt",
        "outputId": "03eec1ce-ceed-4a7b-f972-4efbeeac45d2"
      },
      "source": [
        "# Verify and create credentials\n",
        "CLIENT_SECRETS_FILE = \"/content/drive/MyDrive/CODE/CREDS/CRED-DESK.json\"\n",
        "SCOPES = ['https://www.googleapis.com/auth/drive', 'https://www.googleapis.com/auth/documents', 'https://www.googleapis.com/auth/spreadsheets']\n",
        "# verify credentials run once when initalizing workflow\n",
        "credentials = getGcreds(CLIENT_SECRETS_FILE,SCOPES)"
      ],
      "execution_count": 5,
      "outputs": [
        {
          "name": "stdout",
          "output_type": "stream",
          "text": [
            "Please visit this URL to authorize this application: https://accounts.google.com/o/oauth2/auth?response_type=code&client_id=244871284916-ieooau3uf8ilc792obrsk33nu933918c.apps.googleusercontent.com&redirect_uri=urn%3Aietf%3Awg%3Aoauth%3A2.0%3Aoob&scope=https%3A%2F%2Fwww.googleapis.com%2Fauth%2Fdrive+https%3A%2F%2Fwww.googleapis.com%2Fauth%2Fdocuments+https%3A%2F%2Fwww.googleapis.com%2Fauth%2Fspreadsheets&state=rsxz2lNP4zxrkU3p2Kd48sigoBbHDJ&prompt=consent&access_type=offline\n",
            "Enter the authorization code: 4/1AX4XfWiouER0n3l1vRvzQ6yUR95kgVzVWN860v4WJ3vy0n5y8cLsll01fHk\n"
          ]
        }
      ]
    },
    {
      "cell_type": "code",
      "metadata": {
        "id": "8K3tBOnbOT6t",
        "colab": {
          "base_uri": "https://localhost:8080/",
          "height": 53
        },
        "outputId": "9254b07d-ef94-49c7-8eb7-1afc5379ac91"
      },
      "source": [
        "#q = '1kQERMqp9il2XezS37tYECZkYGu4qiEYM'\n",
        "q = '12zuOPCmpAekLymEQ_2re7vjwCZOm9EWK'\n",
        "s = (f'and \"1Z9-9KhSzKGGZpjFv361BIB2rqH9fKsZy\" in parents')\n",
        "#s = (f'and name contains \"\"')\n",
        "search = fileSearch('pdf', s, credentials)"
      ],
      "execution_count": 44,
      "outputs": [
        {
          "output_type": "display_data",
          "data": {
            "application/vnd.google.colaboratory.intrinsic+json": {
              "type": "string"
            },
            "text/plain": [
              "'Found 0: mi-part4-wqs.pdf - 1MvMkW6QWAQRG1LcyvmLAPMu8Tm0xKTMK'"
            ]
          },
          "metadata": {}
        },
        {
          "output_type": "display_data",
          "data": {
            "application/vnd.google.colaboratory.intrinsic+json": {
              "type": "string"
            },
            "text/plain": [
              "'Found 1: NHBP Email Agreement 6_20_2019.pdf - 1udLi3lxUHuO9js5FThpskl91IunwfU57'"
            ]
          },
          "metadata": {}
        }
      ]
    },
    {
      "cell_type": "code",
      "metadata": {
        "colab": {
          "base_uri": "https://localhost:8080/",
          "height": 359
        },
        "id": "KoRuGreP3bi9",
        "outputId": "c8e9cf3b-6594-44e5-e96d-26327f6f6d22"
      },
      "source": [
        "q = '1kQERMqp9il2XezS37tYECZkYGu4qiEYM'\n",
        "s = (f'and \"{q}\" in parents')\n",
        "search = fileSearch('folder', s, credentials)"
      ],
      "execution_count": 45,
      "outputs": [
        {
          "output_type": "display_data",
          "data": {
            "application/vnd.google.colaboratory.intrinsic+json": {
              "type": "string"
            },
            "text/plain": [
              "'Found 0: NOAA-HYPERSPECTRAL-MNOMEN - 1zdsBqU9XCdxAFKz6yx7szFCbNlv-Tg1-'"
            ]
          },
          "metadata": {}
        },
        {
          "output_type": "display_data",
          "data": {
            "application/vnd.google.colaboratory.intrinsic+json": {
              "type": "string"
            },
            "text/plain": [
              "'Found 1: THPO - 1gzjE-jqM2AVNN1QIPXe1gIYU5yXAojbQ'"
            ]
          },
          "metadata": {}
        },
        {
          "output_type": "display_data",
          "data": {
            "application/vnd.google.colaboratory.intrinsic+json": {
              "type": "string"
            },
            "text/plain": [
              "'Found 2: AIR-PROJECT - 1l90swrj61HZliC75OqJxaSFOvQ7mV6i8'"
            ]
          },
          "metadata": {}
        },
        {
          "output_type": "display_data",
          "data": {
            "application/vnd.google.colaboratory.intrinsic+json": {
              "type": "string"
            },
            "text/plain": [
              "'Found 3: NHBP-MAPS - 1pGFrhP7lfCD_Idoxj9bGmO_ArXRMzxSi'"
            ]
          },
          "metadata": {}
        },
        {
          "output_type": "display_data",
          "data": {
            "application/vnd.google.colaboratory.intrinsic+json": {
              "type": "string"
            },
            "text/plain": [
              "'Found 4: WORK PICS - 1cBWrBqEpG6XX_o83XoKgosWbSa5qJAuX'"
            ]
          },
          "metadata": {}
        },
        {
          "output_type": "display_data",
          "data": {
            "application/vnd.google.colaboratory.intrinsic+json": {
              "type": "string"
            },
            "text/plain": [
              "'Found 5: EGLE - 1Xmy-b1nwX09Ffu_kqNx2xq-wlpUDsSct'"
            ]
          },
          "metadata": {}
        },
        {
          "output_type": "display_data",
          "data": {
            "application/vnd.google.colaboratory.intrinsic+json": {
              "type": "string"
            },
            "text/plain": [
              "'Found 6: PPG-2020 - 1cfhSACBRGdyDRGfJT67VTAUer4v9VwT1'"
            ]
          },
          "metadata": {}
        },
        {
          "output_type": "display_data",
          "data": {
            "application/vnd.google.colaboratory.intrinsic+json": {
              "type": "string"
            },
            "text/plain": [
              "'Found 7: STAFF-HIRING - 1RIV1FAR8xoG5kNSzHnpMN4UzPmXFRP3E'"
            ]
          },
          "metadata": {}
        },
        {
          "output_type": "display_data",
          "data": {
            "application/vnd.google.colaboratory.intrinsic+json": {
              "type": "string"
            },
            "text/plain": [
              "'Found 8:  ENV-DEPT - 12zuOPCmpAekLymEQ_2re7vjwCZOm9EWK'"
            ]
          },
          "metadata": {}
        },
        {
          "output_type": "display_data",
          "data": {
            "application/vnd.google.colaboratory.intrinsic+json": {
              "type": "string"
            },
            "text/plain": [
              "'Found 9: TEAC - 1DO3UJ9vTLs6GWc6tuqjNbV_GHS8AwyWz'"
            ]
          },
          "metadata": {}
        },
        {
          "output_type": "display_data",
          "data": {
            "application/vnd.google.colaboratory.intrinsic+json": {
              "type": "string"
            },
            "text/plain": [
              "'Found 10: LINE-5-CONFIDENTIAL - 1AhUeEdXgweL3BeVOhwbh1O7mncWhZskb'"
            ]
          },
          "metadata": {}
        },
        {
          "output_type": "display_data",
          "data": {
            "application/vnd.google.colaboratory.intrinsic+json": {
              "type": "string"
            },
            "text/plain": [
              "'Found 11: CONSULTATIONS - 1mO0g292rmDQaE7n6XxItf_eNssxSBsCZ'"
            ]
          },
          "metadata": {}
        },
        {
          "output_type": "display_data",
          "data": {
            "application/vnd.google.colaboratory.intrinsic+json": {
              "type": "string"
            },
            "text/plain": [
              "'Found 12: WATER_DATA_AUTOMATION - 1_qTI-XPdzvkMsIOHaWDq-zktsNUbeXh4'"
            ]
          },
          "metadata": {}
        },
        {
          "output_type": "display_data",
          "data": {
            "application/vnd.google.colaboratory.intrinsic+json": {
              "type": "string"
            },
            "text/plain": [
              "'Found 13: GIS_PROGRAM - 1wYEqvDSOZLFstWYEce2MUKn6fBaukNGS'"
            ]
          },
          "metadata": {}
        },
        {
          "output_type": "display_data",
          "data": {
            "application/vnd.google.colaboratory.intrinsic+json": {
              "type": "string"
            },
            "text/plain": [
              "'Found 14: MTEG - 1NIzK4WKwlzeniGoNAj2mDXv_gyOnzWJQ'"
            ]
          },
          "metadata": {}
        },
        {
          "output_type": "display_data",
          "data": {
            "application/vnd.google.colaboratory.intrinsic+json": {
              "type": "string"
            },
            "text/plain": [
              "'Found 15: EK - 1Zm-qCDHrGtddUnZNnevSx-Kc7fQFcYJ5'"
            ]
          },
          "metadata": {}
        },
        {
          "output_type": "display_data",
          "data": {
            "application/vnd.google.colaboratory.intrinsic+json": {
              "type": "string"
            },
            "text/plain": [
              "'Found 16: INVOICES - 1ZvGWizP7zajRczVnEJhGuCTn0fAb6Oqw'"
            ]
          },
          "metadata": {}
        },
        {
          "output_type": "display_data",
          "data": {
            "application/vnd.google.colaboratory.intrinsic+json": {
              "type": "string"
            },
            "text/plain": [
              "'Found 17: WATER - 1Z9-9KhSzKGGZpjFv361BIB2rqH9fKsZy'"
            ]
          },
          "metadata": {}
        },
        {
          "output_type": "display_data",
          "data": {
            "application/vnd.google.colaboratory.intrinsic+json": {
              "type": "string"
            },
            "text/plain": [
              "'Found 18: Q_DRIVE - 1Ki60kC8oEkQJhEulx6p_c1afMKaUXSv-'"
            ]
          },
          "metadata": {}
        }
      ]
    },
    {
      "cell_type": "code",
      "metadata": {
        "id": "4E95RSLG3w4N"
      },
      "source": [
        "search"
      ],
      "execution_count": null,
      "outputs": []
    },
    {
      "cell_type": "code",
      "metadata": {
        "id": "1Msgwvi13weE"
      },
      "source": [
        ""
      ],
      "execution_count": null,
      "outputs": []
    },
    {
      "cell_type": "code",
      "metadata": {
        "id": "1xmPJYlQO_x-"
      },
      "source": [
        "gList = listFiles(100, credentials)"
      ],
      "execution_count": null,
      "outputs": []
    },
    {
      "cell_type": "code",
      "metadata": {
        "id": "-AObLQP0lSI9"
      },
      "source": [
        "API_SERVICE_NAME, API_VERSION, page_token = 'drive','v3',None\n",
        "drive_service = build(API_SERVICE_NAME, API_VERSION, credentials = credentials)"
      ],
      "execution_count": 7,
      "outputs": []
    },
    {
      "cell_type": "code",
      "metadata": {
        "id": "KY_m9D-PPDzZ",
        "colab": {
          "base_uri": "https://localhost:8080/"
        },
        "outputId": "17bd646e-eab8-4ed8-f001-9d4f33b85f10"
      },
      "source": [
        "file_id = '1PA4dhDvKtHibnl89E-Y3birm5dFPKlia'\n",
        "request = drive_service.files().get_media(fileId=file_id)\n",
        "fh = io.BytesIO() \n",
        "downloader = MediaIoBaseDownload(fh, request)\n",
        "done = False\n",
        "while done is False:\n",
        "    status, done = downloader.next_chunk()\n",
        "    print(\"Download %d%%.\" % int(status.progress() * 100))"
      ],
      "execution_count": 19,
      "outputs": [
        {
          "output_type": "stream",
          "name": "stdout",
          "text": [
            "Download 100%.\n"
          ]
        }
      ]
    },
    {
      "cell_type": "code",
      "metadata": {
        "id": "kku4cA7JkEID",
        "colab": {
          "base_uri": "https://localhost:8080/"
        },
        "outputId": "69071a1b-e8c4-4879-9097-5134ee4171ab"
      },
      "source": [
        "request = drive_service.files().export(fileId=file_id, mimeType='application/pdf')\n",
        "file_id = '1aMbjH4BJMd4h_bsTXNabwvTpG5tsYM3E'\n",
        "request = drive_service.files().get_media(fileId=file_id)\n",
        "\n",
        "downloader = MediaIoBaseDownload(fh, request)\n",
        "fh = io.BytesIO()\n",
        "done = False\n",
        "while done is False:\n",
        "    status, done = downloader.next_chunk()\n",
        "    print(\"Download %d%%\" % int(status.progress() * 100))\n",
        "\n",
        "# The file has been downloaded into RAM, now save it in a file\n",
        "fh.seek(0)\n",
        "with open('BG96580014-4.pdf', 'wb') as f:\n",
        "    shutil.copyfileobj(fh, f)"
      ],
      "execution_count": 25,
      "outputs": [
        {
          "output_type": "stream",
          "name": "stdout",
          "text": [
            "Download 100%\n"
          ]
        }
      ]
    },
    {
      "cell_type": "code",
      "metadata": {
        "colab": {
          "base_uri": "https://localhost:8080/"
        },
        "id": "vV3K6Cliy5Dk",
        "outputId": "620f73ef-d1e5-48e1-ecb4-a5ec70bc2f38"
      },
      "source": [
        "# This is working with pdfs!\n",
        "\n",
        "file_id = '1aMbjH4BJMd4h_bsTXNabwvTpG5tsYM3E'\n",
        "request = drive_service.files().get_media(fileId=file_id)\n",
        "fh = io.BytesIO()\n",
        "\n",
        "downloader = MediaIoBaseDownload(fh, request)\n",
        "done = False\n",
        "\n",
        "while done is False:\n",
        "    status, done = downloader.next_chunk()\n",
        "    print(\"Download %d%%\" % int(status.progress() * 100))\n",
        "fh.seek(0)\n",
        "\n",
        "with open('somepdf.pdf', 'wb') as f:\n",
        "    shutil.copyfileobj(fh, f)"
      ],
      "execution_count": 30,
      "outputs": [
        {
          "output_type": "stream",
          "name": "stdout",
          "text": [
            "Download 100%\n"
          ]
        }
      ]
    },
    {
      "cell_type": "code",
      "metadata": {
        "id": "WoLww4he2quj"
      },
      "source": [
        "# https://stackoverflow.com/questions/46545336/search-files-recursively-using-google-drive-rest/46562607\n"
      ],
      "execution_count": null,
      "outputs": []
    }
  ]
}