{
  "nbformat": 4,
  "nbformat_minor": 0,
  "metadata": {
    "colab": {
      "name": "NHBP-WQAR-Seaborn.ipynb",
      "provenance": [],
      "collapsed_sections": [
        "pb4o8LYeTr71"
      ],
      "toc_visible": true,
      "authorship_tag": "ABX9TyP17ZmBjkZGfghEBCGLZ6Hv",
      "include_colab_link": true
    },
    "kernelspec": {
      "name": "python3",
      "display_name": "Python 3"
    }
  },
  "cells": [
    {
      "cell_type": "markdown",
      "metadata": {
        "id": "view-in-github",
        "colab_type": "text"
      },
      "source": [
        "<a href=\"https://colab.research.google.com/github/Location-Artistry/GEO-DEV-NOTEBOOKS/blob/main/NHBP_WQAR_Seaborn.ipynb\" target=\"_parent\"><img src=\"https://colab.research.google.com/assets/colab-badge.svg\" alt=\"Open In Colab\"/></a>"
      ]
    },
    {
      "cell_type": "markdown",
      "metadata": {
        "id": "Ik4VOc4bSnfL"
      },
      "source": [
        "# **ArcREST Data Explorer**   \r\n",
        "# Efficient ArcGIS Server Browsing Library\r\n",
        "## Quickly view all services and layers available from an ArcGIS Server URL\r\n"
      ]
    },
    {
      "cell_type": "markdown",
      "metadata": {
        "id": "F1IMXbKt7zIt"
      },
      "source": [
        "### Built on top of bmi-arcgis-restapi library\r\n",
        "bmi-arcgis-restapi provides additional functionality beyond the arcgis Python API.  It will use ArcPy if available, or open source libraries if not.\r\n",
        "https://github.com/Bolton-and-Menk-GIS/restapi   \r\n",
        "Also deploys GeoPandas to read in Layer Query as a GeoDataframe\r\n"
      ]
    },
    {
      "cell_type": "markdown",
      "metadata": {
        "id": "M55TkG3XWUAs"
      },
      "source": [
        "## Class and Function Definitions\r\n",
        "Creates 3 new classes:\r\n",
        "\r\n",
        "\r\n",
        "1.   mapServer - the root ArcServer Object\r\n",
        "2.   arcService - Services contained with the mapServer\r\n",
        "3.   mapLayer - Layers available through a arcService\r\n",
        "\r\n",
        "\r\n"
      ]
    },
    {
      "cell_type": "markdown",
      "metadata": {
        "id": "dXFZdCFeMaNs"
      },
      "source": [
        "## Working to debug ArcREST Data Explorer Library to be compatible with NHBP ArcGIS Online Server Types\r\n",
        "Working 1-15-2020\r\n"
      ]
    },
    {
      "cell_type": "code",
      "metadata": {
        "id": "FU8AhX7vDdfP",
        "colab": {
          "base_uri": "https://localhost:8080/"
        },
        "outputId": "51f259b7-5ae3-4528-96db-ca2b52549d0b"
      },
      "source": [
        "!pip install bmi-arcgis-restapi\r\n",
        "import restapi"
      ],
      "execution_count": 4,
      "outputs": [
        {
          "output_type": "stream",
          "text": [
            "Requirement already satisfied: bmi-arcgis-restapi in /usr/local/lib/python3.6/dist-packages (2.0.2)\n",
            "Requirement already satisfied: urllib3 in /usr/local/lib/python3.6/dist-packages (from bmi-arcgis-restapi) (1.24.3)\n",
            "Requirement already satisfied: munch in /usr/local/lib/python3.6/dist-packages (from bmi-arcgis-restapi) (2.5.0)\n",
            "Requirement already satisfied: requests in /usr/local/lib/python3.6/dist-packages (from bmi-arcgis-restapi) (2.23.0)\n",
            "Requirement already satisfied: six in /usr/local/lib/python3.6/dist-packages (from munch->bmi-arcgis-restapi) (1.15.0)\n",
            "Requirement already satisfied: idna<3,>=2.5 in /usr/local/lib/python3.6/dist-packages (from requests->bmi-arcgis-restapi) (2.10)\n",
            "Requirement already satisfied: chardet<4,>=3.0.2 in /usr/local/lib/python3.6/dist-packages (from requests->bmi-arcgis-restapi) (3.0.4)\n",
            "Requirement already satisfied: certifi>=2017.4.17 in /usr/local/lib/python3.6/dist-packages (from requests->bmi-arcgis-restapi) (2020.12.5)\n"
          ],
          "name": "stdout"
        }
      ]
    },
    {
      "cell_type": "code",
      "metadata": {
        "id": "KraQcHhof8dp"
      },
      "source": [
        "# Class creates a <-mapServer object-> based on restapi.ArcServer from bmi-arcgis-restapi library\r\n",
        "class mapServer:\r\n",
        "# -init- function, ArcServer object as self.ags, server endpoint as self.url\r\n",
        "  def __init__(self, url):\r\n",
        "    try:\r\n",
        "      creds = input(f'Credentials Needed (YES/NO)? ')\r\n",
        "      if creds.upper() == 'YES':          \r\n",
        "        id = input(f'ArcGIS Online USER ID: ')\r\n",
        "        pwd = getpass.getpass('PASSWORD: ')\r\n",
        "        self.ags = restapi.ArcServer(url, id, pwd)\r\n",
        "      else:\r\n",
        "        self.ags = restapi.ArcServer(url)\r\n",
        "      self.url = url\r\n",
        "      display('MAPSERVER OBJECT CREATED', self.ags)\r\n",
        "    except:\r\n",
        "      display(f'FAILED TO CREATE MAPSERVER')\r\n",
        "# -getServices- displays and returns a list of all ArcGIS services\r\n",
        "  def getServices(self):\r\n",
        "    for i, service in enumerate(self.ags.services):\r\n",
        "      display(f'{i} - Service Name: {service.name} -  Service Type: {service.type}')\r\n",
        "    return self.ags.services \r\n",
        "# -getFolders- displays and returns list of all folders\r\n",
        "  def getFolders(self):\r\n",
        "    try:\r\n",
        "      for i, folder in enumerate(self.ags.folders):\r\n",
        "        display(f'{i} - Folder: {folder}') \r\n",
        "      return self.ags.folders\r\n",
        "    except:\r\n",
        "      return 0\r\n",
        "# -getNestedServ- gets a mapServer's nested services\r\n",
        "  def getNestedServices(self):\r\n",
        "    for i, folder in enumerate(self.ags.folders):\r\n",
        "      display(f'{i} - Folder: {folder}')\r\n",
        "      ags = restapi.ArcServer(f'{self.ags.url}/{folder}')\r\n",
        "      for z, service in enumerate(ags.services):\r\n",
        "        display(f'   {z} - Service Name: {service.name} -  Service Type: {service.type}')\r\n",
        "# -getAttr- get atrributes and show values for non-function methods of for MapServer Object\r\n",
        "  def getAttr(self):\r\n",
        "    for attribute in dir(self.ags):\r\n",
        "      display(f'Attribute Names: {attribute} - {self.ags[attribute]}')\r\n",
        "# -listAttr- list all attrbutes of MapServer Object\r\n",
        "  def listAttr(self):\r\n",
        "    return dir(self.ags)\r\n",
        "# -getSubService- returns a arcService object within specified mapServer\r\n",
        "  def getSubService(self, rootServer=0):\r\n",
        "    folders = self.getFolders()\r\n",
        "    services = self.getServices()\r\n",
        "    display(f'{self.url} -  ')\r\n",
        "    if not folders:\r\n",
        "      fID = int(input(f'Select index of subservice: '))\r\n",
        "      url = services[fID].name\r\n",
        "      try:\r\n",
        "        subService = self.getService(url)\r\n",
        "        return subService\r\n",
        "      except:\r\n",
        "        url = (f'{self.url}/{url}/FeatureServer')\r\n",
        "        # working here\r\n",
        "        subService = arcService(self, url)\r\n",
        "        return subService\r\n",
        "    else:\r\n",
        "      fID = int(input(f'Select index of subservice folder: '))\r\n",
        "      serviceURL = (f'{self.url}/{folders[fID]}')\r\n",
        "      subFolder = mapServer(serviceURL)\r\n",
        "      subServices = subFolder.getServices()\r\n",
        "      fID = int(input(f'Select index of subservice: '))\r\n",
        "      serviceName = subServices[fID].name\r\n",
        "      display(self.url, serviceName)\r\n",
        "      subService = arcService(self, serviceName)\r\n",
        "      return subService\r\n",
        "\r\n",
        "# Class creates a <-arcService object-> based on ags.getService from bmi-arcgis-restapi library\r\n",
        "class arcService:\r\n",
        "# -init- create arcService from mapServer Class  \r\n",
        "  def __init__(self, server, servName): \r\n",
        "    try:\r\n",
        "      self.ags = server.ags.getService(servName)\r\n",
        "      self.url = self.ags.url\r\n",
        "      display(f'ARCSERVICE OBJECT CREATED - {self.ags.url}')  \r\n",
        "    except:\r\n",
        "      self.ags = restapi.MapService(servName)\r\n",
        "      self.url = self.ags.url\r\n",
        "      display(f'ARCSERVICE OBJECT CREATED - {self.ags.url}') \r\n",
        "  def getAttr(self):\r\n",
        "    try:\r\n",
        "      for attribute in dir(self.ags):\r\n",
        "        display(f'Attribute Names: {attribute} - {self.ags[attribute]}')\r\n",
        "    except:\r\n",
        "      display(f'Could not get Attributes for: {self.ags.url}')\r\n",
        "  def listAttr(self):\r\n",
        "    try:\r\n",
        "      return dir(self.ags)\r\n",
        "    except:\r\n",
        "      display(f'Could not get List Attributes for: {self.ags.url}')\r\n",
        "  def desc(self):\r\n",
        "    try:\r\n",
        "      return self.ags.description\r\n",
        "    except:\r\n",
        "      display(f'Could not get Description for: {self.ags.url}')\r\n",
        "  def spatialRef(self):\r\n",
        "    try:\r\n",
        "      return self.ags.spatialReference\r\n",
        "    except:\r\n",
        "      display(f'Could not get spatialReference for: {self.ags.url}')\r\n",
        "  def units(self):\r\n",
        "    try:\r\n",
        "      return self.ags.units\r\n",
        "    except:\r\n",
        "      display(f'Could not get Units for: {self.ags.url}')\r\n",
        "  def layers(self):\r\n",
        "    try:\r\n",
        "      return self.ags.list_layers()\r\n",
        "    except:\r\n",
        "      display(f'Could not list Layers for: {self.ags.url}')\r\n",
        "  def tables(self):\r\n",
        "    try:\r\n",
        "      return self.ags.list_tables()\r\n",
        "    except:\r\n",
        "      display(f'Could not get Tables for: {self.ags.url}')\r\n",
        "# -getLayer- returns a mapLayer from arcService Class\r\n",
        "  def getLayer(self):\r\n",
        "    try: \r\n",
        "      for i, lay in enumerate(self.ags.layers):\r\n",
        "        display(f'{i} - {lay.name}')\r\n",
        "      layers = self.layers()\r\n",
        "      # small change here separate two lines of code for input ***\r\n",
        "      time.sleep(1)\r\n",
        "      fID = int(input('Select index of Layer: '))\r\n",
        "      layerObj = mapLayer(self, layers[fID])\r\n",
        "      return layerObj\r\n",
        "    except:\r\n",
        "      display(f'Could not Get Layers for: {self.ags.url}')\r\n",
        "# -getTable- returns table object from arcService Class  \r\n",
        "  def getTable(self):\r\n",
        "    try:\r\n",
        "      tableList = self.tables()\r\n",
        "      for i, lay in enumerate(tableList):\r\n",
        "        display(f'{i} - {tableList[i]}')\r\n",
        "      time.sleep(1)\r\n",
        "      fID = int(input(f'Select index of Table: '))      \r\n",
        "      #table = self.ags.table(tableList[fID])\r\n",
        "      tableID = tableList[fID]\r\n",
        "      table = mapTable(self, tableID)\r\n",
        "      return table\r\n",
        "    except:\r\n",
        "      display(f'Not able to return table for: {self.ags.url}')\r\n",
        "\r\n",
        "# Class creates a <-Layer object-> based on ags.layer from bmi-arcgis-restapi library\r\n",
        "class mapLayer:\r\n",
        "  def __init__(self, service, lyrName): \r\n",
        "    try:\r\n",
        "      self.lyr = service.ags.layer(lyrName)\r\n",
        "      display(f'LAYER CREATED - {self.lyr.name} - id: {self.lyr.id} - url: {self.lyr.url}')\r\n",
        "    except:\r\n",
        "      display(f'COULD NOT CREATE mapLayer')\r\n",
        "  def getInfo(self):\r\n",
        "    try:\r\n",
        "      display(f'{self.lyr.name} - capabilities: {self.lyr.capabilities} - query formats: {self.lyr.supportedQueryFormats} - count: {self.lyr.getCount()}')\r\n",
        "    except:\r\n",
        "      display(f'Could not get Info for: {self.lyr.name}')\r\n",
        "  def getFields(self):\r\n",
        "    try:\r\n",
        "      return self.lyr.list_fields()\r\n",
        "    except:\r\n",
        "      display(f'Could not get Fields for: {self.lyr.name}')\r\n",
        "  def getSubLayers(self):\r\n",
        "    try:\r\n",
        "      return self.lyr.subLayers\r\n",
        "    except:\r\n",
        "      display(f'{self.lyr.name} does not have any SubLayers')\r\n",
        "# -layerQuery- prompts user for SQL query and fields, returns geoDataframe object which has access to all pandas/geoPandas methods\r\n",
        "  def layerQuery (self):\r\n",
        "    try:\r\n",
        "      baseURL = self.lyr.url\r\n",
        "      SQL = input(f'SQL query(ENTER for ALL): ') or '1=1'\r\n",
        "      fields = input(f'Fields(ENTER for ALL)? ') or '*'\r\n",
        "      RESTurl = (f'{baseURL}/query?f=geojson&where={SQL}&outFields={fields}')\r\n",
        "      gdf = gpd.read_file(RESTurl)\r\n",
        "      return gdf\r\n",
        "    except:\r\n",
        "      display(f'Query unsuccessful for: {self.lyr.name}')\r\n",
        "\r\n",
        "# Class creates a <-mapTable object-> based on ags.layer from bmi-arcgis-restapi library\r\n",
        "class mapTable:\r\n",
        "  def __init__(self, service, id): \r\n",
        "    try:\r\n",
        "      self.table = service.ags.table(id)\r\n",
        "      #self.lyr = service.ags.layer(lyrName)\r\n",
        "      display(f'TABLE CREATED - {self.table.name} - id: {self.table.id} - url: {self.table.url}')\r\n",
        "    except:\r\n",
        "      display(f'COULD NOT CREATE mapTable')\r\n",
        "  def getInfo(self):\r\n",
        "    try:\r\n",
        "      display(f'{self.table.name} - capabilities: {self.table.capabilities} - query formats: {self.table.supportedQueryFormats} - count: {self.table.getCount()}')\r\n",
        "    except:\r\n",
        "      display(f'Could not get Info for: {self.table.name}')\r\n",
        "  def getFields(self):\r\n",
        "    try:\r\n",
        "      return self.table.list_fields()\r\n",
        "    except:\r\n",
        "      display(f'Could not get Fields for: {self.table.name}')\r\n",
        "  def getSubLayers(self):\r\n",
        "    try:\r\n",
        "      return self.table.subLayers\r\n",
        "    except:\r\n",
        "      display(f'{self.table.name} does not have any SubTables')\r\n",
        "# -layerQuery- prompts user for SQL query and fields, returns geoDataframe object which has access to all pandas/geoPandas methods\r\n",
        "  def layerQuery (self):\r\n",
        "    try:\r\n",
        "      baseURL = self.table.url\r\n",
        "      SQL = input(f'SQL query(ENTER for ALL): ') or '1=1'\r\n",
        "      fields = input(f'Fields(ENTER for ALL)? ') or '*'\r\n",
        "      RESTurl = (f'{baseURL}/query?f=geojson&where={SQL}&outFields={fields}')\r\n",
        "      gdf = gpd.read_file(RESTurl)\r\n",
        "      return gdf\r\n",
        "    except:\r\n",
        "      display(f'Query unsuccessful for: {self.table.name}')"
      ],
      "execution_count": 5,
      "outputs": []
    },
    {
      "cell_type": "markdown",
      "metadata": {
        "id": "WMQU31zwnwnT"
      },
      "source": [
        "## Sample Workflow from ArcGIS REST Server Endpoint\r\n",
        "Entire Workflow for newly created Arc Server Workflow using bmi-arcgis-restapi\r\n",
        "\r\n",
        "\r\n",
        "1.   Create mapServer with Server root url\r\n",
        "2.   Derive specified arcService from root MapServer Object\r\n",
        "3.   Generate layer from specified arcService Endpoint\r\n",
        "4.   Return geoDataframe from layer query\r\n",
        "5.   Perform data analysis and visualization with gdf\r\n",
        "\r\n"
      ]
    },
    {
      "cell_type": "markdown",
      "metadata": {
        "id": "RzjPkburCaw8"
      },
      "source": [
        "## Working NHBP Workflow\r\n",
        "Functions to get layers and tables \r\n",
        "1-18 Resolved hanging function issue!"
      ]
    },
    {
      "cell_type": "code",
      "metadata": {
        "colab": {
          "base_uri": "https://localhost:8080/",
          "height": 71
        },
        "id": "YfcxmCKLSBs_",
        "outputId": "b33d267b-ec50-4808-e052-dd9c53586431"
      },
      "source": [
        "# 1 - Create MapServer with Server root url\r\n",
        "rest_url = 'https://services5.arcgis.com/RsKCQCx9eUKixVOM/arcgis/rest/services'\r\n",
        "gisServer = mapServer(rest_url)"
      ],
      "execution_count": 6,
      "outputs": [
        {
          "output_type": "stream",
          "text": [
            "Credentials Needed (YES/NO)? no\n"
          ],
          "name": "stdout"
        },
        {
          "output_type": "display_data",
          "data": {
            "application/vnd.google.colaboratory.intrinsic+json": {
              "type": "string"
            },
            "text/plain": [
              "'MAPSERVER OBJECT CREATED'"
            ]
          },
          "metadata": {
            "tags": []
          }
        },
        {
          "output_type": "display_data",
          "data": {
            "text/plain": [
              "<ArcServer: \"services5.arcgis.com\" (\"RsKCQCx9eUKixVOM\")>"
            ]
          },
          "metadata": {
            "tags": []
          }
        }
      ]
    },
    {
      "cell_type": "code",
      "metadata": {
        "id": "PCMtqJIFSFfH",
        "colab": {
          "base_uri": "https://localhost:8080/",
          "height": 827
        },
        "outputId": "1b71c373-1086-4618-848c-87a76d832598"
      },
      "source": [
        "# 2 - Derive specified arcService from root MapServer Object\r\n",
        "gisService = gisServer.getSubService()"
      ],
      "execution_count": 7,
      "outputs": [
        {
          "output_type": "display_data",
          "data": {
            "application/vnd.google.colaboratory.intrinsic+json": {
              "type": "string"
            },
            "text/plain": [
              "'0 - Service Name: ALL_LANDS_OCT_2017 -  Service Type: FeatureServer'"
            ]
          },
          "metadata": {
            "tags": []
          }
        },
        {
          "output_type": "display_data",
          "data": {
            "application/vnd.google.colaboratory.intrinsic+json": {
              "type": "string"
            },
            "text/plain": [
              "'1 - Service Name: BUILDINGS -  Service Type: FeatureServer'"
            ]
          },
          "metadata": {
            "tags": []
          }
        },
        {
          "output_type": "display_data",
          "data": {
            "application/vnd.google.colaboratory.intrinsic+json": {
              "type": "string"
            },
            "text/plain": [
              "'2 - Service Name: CEDED_UPLOADS -  Service Type: FeatureServer'"
            ]
          },
          "metadata": {
            "tags": []
          }
        },
        {
          "output_type": "display_data",
          "data": {
            "application/vnd.google.colaboratory.intrinsic+json": {
              "type": "string"
            },
            "text/plain": [
              "'3 - Service Name: DO_LIVE_STATUS -  Service Type: FeatureServer'"
            ]
          },
          "metadata": {
            "tags": []
          }
        },
        {
          "output_type": "display_data",
          "data": {
            "application/vnd.google.colaboratory.intrinsic+json": {
              "type": "string"
            },
            "text/plain": [
              "'4 - Service Name: Join_Many_Sep_25_WATER_DATA_2019 -  Service Type: FeatureServer'"
            ]
          },
          "metadata": {
            "tags": []
          }
        },
        {
          "output_type": "display_data",
          "data": {
            "application/vnd.google.colaboratory.intrinsic+json": {
              "type": "string"
            },
            "text/plain": [
              "'5 - Service Name: JOIN_WATER_DATA_POLY_2019 -  Service Type: FeatureServer'"
            ]
          },
          "metadata": {
            "tags": []
          }
        },
        {
          "output_type": "display_data",
          "data": {
            "application/vnd.google.colaboratory.intrinsic+json": {
              "type": "string"
            },
            "text/plain": [
              "'6 - Service Name: Merge_MNOMEN_ROAM_UPDATED_MNOMEN_ROAM -  Service Type: FeatureServer'"
            ]
          },
          "metadata": {
            "tags": []
          }
        },
        {
          "output_type": "display_data",
          "data": {
            "application/vnd.google.colaboratory.intrinsic+json": {
              "type": "string"
            },
            "text/plain": [
              "'7 - Service Name: MI_LANDS -  Service Type: FeatureServer'"
            ]
          },
          "metadata": {
            "tags": []
          }
        },
        {
          "output_type": "display_data",
          "data": {
            "application/vnd.google.colaboratory.intrinsic+json": {
              "type": "string"
            },
            "text/plain": [
              "'8 - Service Name: MNOMEN_MERGE_9_16_2019 -  Service Type: FeatureServer'"
            ]
          },
          "metadata": {
            "tags": []
          }
        },
        {
          "output_type": "display_data",
          "data": {
            "application/vnd.google.colaboratory.intrinsic+json": {
              "type": "string"
            },
            "text/plain": [
              "'9 - Service Name: MNOMEN_MERGE_9_30_2019 -  Service Type: FeatureServer'"
            ]
          },
          "metadata": {
            "tags": []
          }
        },
        {
          "output_type": "display_data",
          "data": {
            "application/vnd.google.colaboratory.intrinsic+json": {
              "type": "string"
            },
            "text/plain": [
              "'10 - Service Name: MNOMEN_MERGE_9_30_2019_e036b26b0abc4b8fa521cbfcf4c0e38c -  Service Type: FeatureServer'"
            ]
          },
          "metadata": {
            "tags": []
          }
        },
        {
          "output_type": "display_data",
          "data": {
            "application/vnd.google.colaboratory.intrinsic+json": {
              "type": "string"
            },
            "text/plain": [
              "'11 - Service Name: MNOMEN_UP_AUG_17 -  Service Type: FeatureServer'"
            ]
          },
          "metadata": {
            "tags": []
          }
        },
        {
          "output_type": "display_data",
          "data": {
            "application/vnd.google.colaboratory.intrinsic+json": {
              "type": "string"
            },
            "text/plain": [
              "'12 - Service Name: NHBP_LAND_SEP_2017 -  Service Type: FeatureServer'"
            ]
          },
          "metadata": {
            "tags": []
          }
        },
        {
          "output_type": "display_data",
          "data": {
            "application/vnd.google.colaboratory.intrinsic+json": {
              "type": "string"
            },
            "text/plain": [
              "'13 - Service Name: NHBP_LANDS_2019 -  Service Type: FeatureServer'"
            ]
          },
          "metadata": {
            "tags": []
          }
        },
        {
          "output_type": "display_data",
          "data": {
            "application/vnd.google.colaboratory.intrinsic+json": {
              "type": "string"
            },
            "text/plain": [
              "'14 - Service Name: NHBP_LANDS_2019_8bc9524082144fb489f7f79490f9592a -  Service Type: FeatureServer'"
            ]
          },
          "metadata": {
            "tags": []
          }
        },
        {
          "output_type": "display_data",
          "data": {
            "application/vnd.google.colaboratory.intrinsic+json": {
              "type": "string"
            },
            "text/plain": [
              "'15 - Service Name: NHBP_LANDS_DATA_JOIN -  Service Type: FeatureServer'"
            ]
          },
          "metadata": {
            "tags": []
          }
        },
        {
          "output_type": "display_data",
          "data": {
            "application/vnd.google.colaboratory.intrinsic+json": {
              "type": "string"
            },
            "text/plain": [
              "'16 - Service Name: NHBP_LANDS_SUP_DATA -  Service Type: FeatureServer'"
            ]
          },
          "metadata": {
            "tags": []
          }
        },
        {
          "output_type": "display_data",
          "data": {
            "application/vnd.google.colaboratory.intrinsic+json": {
              "type": "string"
            },
            "text/plain": [
              "'17 - Service Name: NHBP_WATERMAP_DATA_3_21_2017 -  Service Type: FeatureServer'"
            ]
          },
          "metadata": {
            "tags": []
          }
        },
        {
          "output_type": "display_data",
          "data": {
            "application/vnd.google.colaboratory.intrinsic+json": {
              "type": "string"
            },
            "text/plain": [
              "'18 - Service Name: PA_STATIONS_FINAL -  Service Type: FeatureServer'"
            ]
          },
          "metadata": {
            "tags": []
          }
        },
        {
          "output_type": "display_data",
          "data": {
            "application/vnd.google.colaboratory.intrinsic+json": {
              "type": "string"
            },
            "text/plain": [
              "'19 - Service Name: RIVER_TOUR_PTS -  Service Type: FeatureServer'"
            ]
          },
          "metadata": {
            "tags": []
          }
        },
        {
          "output_type": "display_data",
          "data": {
            "application/vnd.google.colaboratory.intrinsic+json": {
              "type": "string"
            },
            "text/plain": [
              "'20 - Service Name: ROYCE2 -  Service Type: FeatureServer'"
            ]
          },
          "metadata": {
            "tags": []
          }
        },
        {
          "output_type": "display_data",
          "data": {
            "application/vnd.google.colaboratory.intrinsic+json": {
              "type": "string"
            },
            "text/plain": [
              "'21 - Service Name: SAMPLE_DESIGN -  Service Type: FeatureServer'"
            ]
          },
          "metadata": {
            "tags": []
          }
        },
        {
          "output_type": "display_data",
          "data": {
            "application/vnd.google.colaboratory.intrinsic+json": {
              "type": "string"
            },
            "text/plain": [
              "'22 - Service Name: SAMPLE_DESIGN_b43416d6a3e742b0ace9d11dfd94c099 -  Service Type: FeatureServer'"
            ]
          },
          "metadata": {
            "tags": []
          }
        },
        {
          "output_type": "display_data",
          "data": {
            "application/vnd.google.colaboratory.intrinsic+json": {
              "type": "string"
            },
            "text/plain": [
              "'23 - Service Name: Sensitive_Areas_2016 -  Service Type: FeatureServer'"
            ]
          },
          "metadata": {
            "tags": []
          }
        },
        {
          "output_type": "display_data",
          "data": {
            "application/vnd.google.colaboratory.intrinsic+json": {
              "type": "string"
            },
            "text/plain": [
              "'24 - Service Name: service_3179d7d1ed26461385e57df6a1a2fdc2 -  Service Type: FeatureServer'"
            ]
          },
          "metadata": {
            "tags": []
          }
        },
        {
          "output_type": "display_data",
          "data": {
            "application/vnd.google.colaboratory.intrinsic+json": {
              "type": "string"
            },
            "text/plain": [
              "'25 - Service Name: service_415b892545b34afc8a8186a76d5af213 -  Service Type: FeatureServer'"
            ]
          },
          "metadata": {
            "tags": []
          }
        },
        {
          "output_type": "display_data",
          "data": {
            "application/vnd.google.colaboratory.intrinsic+json": {
              "type": "string"
            },
            "text/plain": [
              "'26 - Service Name: service_482dfe5c83134eca9bec55293204e922 -  Service Type: FeatureServer'"
            ]
          },
          "metadata": {
            "tags": []
          }
        },
        {
          "output_type": "display_data",
          "data": {
            "application/vnd.google.colaboratory.intrinsic+json": {
              "type": "string"
            },
            "text/plain": [
              "'27 - Service Name: service_b7d113b4bbf64672b3f343561582e5f5 -  Service Type: FeatureServer'"
            ]
          },
          "metadata": {
            "tags": []
          }
        },
        {
          "output_type": "display_data",
          "data": {
            "application/vnd.google.colaboratory.intrinsic+json": {
              "type": "string"
            },
            "text/plain": [
              "'28 - Service Name: service_c68ac07184884b51ab658a7a27c5f9c3 -  Service Type: FeatureServer'"
            ]
          },
          "metadata": {
            "tags": []
          }
        },
        {
          "output_type": "display_data",
          "data": {
            "application/vnd.google.colaboratory.intrinsic+json": {
              "type": "string"
            },
            "text/plain": [
              "'29 - Service Name: STATION_CONDITIONS -  Service Type: FeatureServer'"
            ]
          },
          "metadata": {
            "tags": []
          }
        },
        {
          "output_type": "display_data",
          "data": {
            "application/vnd.google.colaboratory.intrinsic+json": {
              "type": "string"
            },
            "text/plain": [
              "'30 - Service Name: STREAM_SURVEY -  Service Type: FeatureServer'"
            ]
          },
          "metadata": {
            "tags": []
          }
        },
        {
          "output_type": "display_data",
          "data": {
            "application/vnd.google.colaboratory.intrinsic+json": {
              "type": "string"
            },
            "text/plain": [
              "'31 - Service Name: TAX_MAP_2019 -  Service Type: FeatureServer'"
            ]
          },
          "metadata": {
            "tags": []
          }
        },
        {
          "output_type": "display_data",
          "data": {
            "application/vnd.google.colaboratory.intrinsic+json": {
              "type": "string"
            },
            "text/plain": [
              "'32 - Service Name: WATER_CONDITIONS -  Service Type: FeatureServer'"
            ]
          },
          "metadata": {
            "tags": []
          }
        },
        {
          "output_type": "display_data",
          "data": {
            "application/vnd.google.colaboratory.intrinsic+json": {
              "type": "string"
            },
            "text/plain": [
              "'33 - Service Name: WATER_DATA_2019 -  Service Type: FeatureServer'"
            ]
          },
          "metadata": {
            "tags": []
          }
        },
        {
          "output_type": "display_data",
          "data": {
            "application/vnd.google.colaboratory.intrinsic+json": {
              "type": "string"
            },
            "text/plain": [
              "'34 - Service Name: WATER_SAMPLING_2020 -  Service Type: FeatureServer'"
            ]
          },
          "metadata": {
            "tags": []
          }
        },
        {
          "output_type": "display_data",
          "data": {
            "application/vnd.google.colaboratory.intrinsic+json": {
              "type": "string"
            },
            "text/plain": [
              "'35 - Service Name: WATER_SAMPLING_2020_bd8d21a0e978441e8ba98aa691807adf -  Service Type: FeatureServer'"
            ]
          },
          "metadata": {
            "tags": []
          }
        },
        {
          "output_type": "display_data",
          "data": {
            "application/vnd.google.colaboratory.intrinsic+json": {
              "type": "string"
            },
            "text/plain": [
              "'36 - Service Name: WATER_SUPPLY_UTILITY -  Service Type: FeatureServer'"
            ]
          },
          "metadata": {
            "tags": []
          }
        },
        {
          "output_type": "display_data",
          "data": {
            "application/vnd.google.colaboratory.intrinsic+json": {
              "type": "string"
            },
            "text/plain": [
              "'37 - Service Name: Weather_Stations -  Service Type: FeatureServer'"
            ]
          },
          "metadata": {
            "tags": []
          }
        },
        {
          "output_type": "display_data",
          "data": {
            "application/vnd.google.colaboratory.intrinsic+json": {
              "type": "string"
            },
            "text/plain": [
              "'38 - Service Name: WQ_HYDRO_SEP2019 -  Service Type: FeatureServer'"
            ]
          },
          "metadata": {
            "tags": []
          }
        },
        {
          "output_type": "display_data",
          "data": {
            "application/vnd.google.colaboratory.intrinsic+json": {
              "type": "string"
            },
            "text/plain": [
              "'39 - Service Name: WQAR_UP_2018 -  Service Type: FeatureServer'"
            ]
          },
          "metadata": {
            "tags": []
          }
        },
        {
          "output_type": "display_data",
          "data": {
            "application/vnd.google.colaboratory.intrinsic+json": {
              "type": "string"
            },
            "text/plain": [
              "'40 - Service Name: WQFieldMap2017 -  Service Type: FeatureServer'"
            ]
          },
          "metadata": {
            "tags": []
          }
        },
        {
          "output_type": "display_data",
          "data": {
            "application/vnd.google.colaboratory.intrinsic+json": {
              "type": "string"
            },
            "text/plain": [
              "'41 - Service Name: ZOOM_EXTENTS -  Service Type: FeatureServer'"
            ]
          },
          "metadata": {
            "tags": []
          }
        },
        {
          "output_type": "display_data",
          "data": {
            "application/vnd.google.colaboratory.intrinsic+json": {
              "type": "string"
            },
            "text/plain": [
              "'https://services5.arcgis.com/RsKCQCx9eUKixVOM/arcgis/rest/services -  '"
            ]
          },
          "metadata": {
            "tags": []
          }
        },
        {
          "output_type": "stream",
          "text": [
            "Select index of subservice: 34\n"
          ],
          "name": "stdout"
        },
        {
          "output_type": "display_data",
          "data": {
            "application/vnd.google.colaboratory.intrinsic+json": {
              "type": "string"
            },
            "text/plain": [
              "'ARCSERVICE OBJECT CREATED - https://services5.arcgis.com/RsKCQCx9eUKixVOM/arcgis/rest/services/WATER_SAMPLING_2020/FeatureServer'"
            ]
          },
          "metadata": {
            "tags": []
          }
        }
      ]
    },
    {
      "cell_type": "code",
      "metadata": {
        "colab": {
          "base_uri": "https://localhost:8080/",
          "height": 71
        },
        "id": "jLEawJX08nq8",
        "outputId": "aa9afedf-fa84-4fa6-9721-9891be304944"
      },
      "source": [
        "# 3 - Generate layer from specific specified arcService Endpoint\n",
        "gisLayer = gisService.getLayer()\n",
        "#gisLayer.getInfo()"
      ],
      "execution_count": 8,
      "outputs": [
        {
          "output_type": "display_data",
          "data": {
            "application/vnd.google.colaboratory.intrinsic+json": {
              "type": "string"
            },
            "text/plain": [
              "'0 - WATER_STATIONS_2020'"
            ]
          },
          "metadata": {
            "tags": []
          }
        },
        {
          "output_type": "stream",
          "text": [
            "Select index of Layer: 0\n"
          ],
          "name": "stdout"
        },
        {
          "output_type": "display_data",
          "data": {
            "application/vnd.google.colaboratory.intrinsic+json": {
              "type": "string"
            },
            "text/plain": [
              "'LAYER CREATED - WATER_STATIONS_2020 - id: 0 - url: https://services5.arcgis.com/RsKCQCx9eUKixVOM/arcgis/rest/services/WATER_SAMPLING_2020/FeatureServer/0'"
            ]
          },
          "metadata": {
            "tags": []
          }
        }
      ]
    },
    {
      "cell_type": "code",
      "metadata": {
        "id": "bxodky_lmqcI",
        "colab": {
          "base_uri": "https://localhost:8080/",
          "height": 515
        },
        "outputId": "53bf10b6-d1c6-4258-b277-a95e6d93bb18"
      },
      "source": [
        "# 4 - Return geoDataframe from layer query\r\n",
        "gdf = gisLayer.layerQuery()\r\n",
        "gdf.head()"
      ],
      "execution_count": 9,
      "outputs": [
        {
          "output_type": "stream",
          "text": [
            "SQL query(ENTER for ALL): \n",
            "Fields(ENTER for ALL)? \n"
          ],
          "name": "stdout"
        },
        {
          "output_type": "execute_result",
          "data": {
            "text/html": [
              "<div>\n",
              "<style scoped>\n",
              "    .dataframe tbody tr th:only-of-type {\n",
              "        vertical-align: middle;\n",
              "    }\n",
              "\n",
              "    .dataframe tbody tr th {\n",
              "        vertical-align: top;\n",
              "    }\n",
              "\n",
              "    .dataframe thead th {\n",
              "        text-align: right;\n",
              "    }\n",
              "</style>\n",
              "<table border=\"1\" class=\"dataframe\">\n",
              "  <thead>\n",
              "    <tr style=\"text-align: right;\">\n",
              "      <th></th>\n",
              "      <th>OBJECTID</th>\n",
              "      <th>DATE_TIME</th>\n",
              "      <th>SITE_ID</th>\n",
              "      <th>STAFF</th>\n",
              "      <th>SAMP_EQUIP</th>\n",
              "      <th>AIR_TEMP</th>\n",
              "      <th>CUR_PRECIP</th>\n",
              "      <th>PREV_48_PRECIP</th>\n",
              "      <th>WIND_SPEED</th>\n",
              "      <th>WEATHER_NOTES</th>\n",
              "      <th>WATER_TEMP</th>\n",
              "      <th>DO_mgl</th>\n",
              "      <th>SPEC_COND_uS_cm</th>\n",
              "      <th>TURB_NTU</th>\n",
              "      <th>pH</th>\n",
              "      <th>QC</th>\n",
              "      <th>DEPTH_FT</th>\n",
              "      <th>NOTES</th>\n",
              "      <th>LOCATION</th>\n",
              "      <th>LAB_SAMP_QUES</th>\n",
              "      <th>Ecoli_100ml_</th>\n",
              "      <th>TOT_PHOS_</th>\n",
              "      <th>TOT_NITRO_</th>\n",
              "      <th>LAKE_SAMP_QUES_</th>\n",
              "      <th>SECCH_DEP_FT_</th>\n",
              "      <th>CHLOROPHYLLa_ug_L_</th>\n",
              "      <th>STAT_SAMP_QUES_</th>\n",
              "      <th>ECOLI_STATUS_</th>\n",
              "      <th>DO_STATUS_</th>\n",
              "      <th>TEMP_STATUS_</th>\n",
              "      <th>TURB_STATUS_</th>\n",
              "      <th>GlobalID</th>\n",
              "      <th>geometry</th>\n",
              "    </tr>\n",
              "  </thead>\n",
              "  <tbody>\n",
              "    <tr>\n",
              "      <th>0</th>\n",
              "      <td>58</td>\n",
              "      <td>None</td>\n",
              "      <td>PNC-ST-40</td>\n",
              "      <td>None</td>\n",
              "      <td>None</td>\n",
              "      <td>None</td>\n",
              "      <td>None</td>\n",
              "      <td>None</td>\n",
              "      <td>None</td>\n",
              "      <td>None</td>\n",
              "      <td>None</td>\n",
              "      <td>None</td>\n",
              "      <td>None</td>\n",
              "      <td>None</td>\n",
              "      <td>None</td>\n",
              "      <td>None</td>\n",
              "      <td>None</td>\n",
              "      <td>None</td>\n",
              "      <td>None</td>\n",
              "      <td>None</td>\n",
              "      <td>None</td>\n",
              "      <td>None</td>\n",
              "      <td>None</td>\n",
              "      <td>None</td>\n",
              "      <td>None</td>\n",
              "      <td>None</td>\n",
              "      <td>None</td>\n",
              "      <td>None</td>\n",
              "      <td>1</td>\n",
              "      <td>None</td>\n",
              "      <td>None</td>\n",
              "      <td>4ec6fc50-c66d-4729-81b9-7363b81336c0</td>\n",
              "      <td>POINT (-85.25263 42.11062)</td>\n",
              "    </tr>\n",
              "    <tr>\n",
              "      <th>1</th>\n",
              "      <td>59</td>\n",
              "      <td>None</td>\n",
              "      <td>PNC-ST-60</td>\n",
              "      <td>None</td>\n",
              "      <td>None</td>\n",
              "      <td>None</td>\n",
              "      <td>None</td>\n",
              "      <td>None</td>\n",
              "      <td>None</td>\n",
              "      <td>None</td>\n",
              "      <td>None</td>\n",
              "      <td>None</td>\n",
              "      <td>None</td>\n",
              "      <td>None</td>\n",
              "      <td>None</td>\n",
              "      <td>None</td>\n",
              "      <td>None</td>\n",
              "      <td>None</td>\n",
              "      <td>None</td>\n",
              "      <td>None</td>\n",
              "      <td>None</td>\n",
              "      <td>None</td>\n",
              "      <td>None</td>\n",
              "      <td>None</td>\n",
              "      <td>None</td>\n",
              "      <td>None</td>\n",
              "      <td>None</td>\n",
              "      <td>None</td>\n",
              "      <td>1</td>\n",
              "      <td>None</td>\n",
              "      <td>1</td>\n",
              "      <td>79e37551-6262-4866-a788-3b6214f5c7bd</td>\n",
              "      <td>POINT (-85.26109 42.10155)</td>\n",
              "    </tr>\n",
              "    <tr>\n",
              "      <th>2</th>\n",
              "      <td>60</td>\n",
              "      <td>None</td>\n",
              "      <td>SCD-ST-40</td>\n",
              "      <td>None</td>\n",
              "      <td>None</td>\n",
              "      <td>None</td>\n",
              "      <td>None</td>\n",
              "      <td>None</td>\n",
              "      <td>None</td>\n",
              "      <td>None</td>\n",
              "      <td>None</td>\n",
              "      <td>None</td>\n",
              "      <td>None</td>\n",
              "      <td>None</td>\n",
              "      <td>None</td>\n",
              "      <td>None</td>\n",
              "      <td>None</td>\n",
              "      <td>None</td>\n",
              "      <td>None</td>\n",
              "      <td>None</td>\n",
              "      <td>None</td>\n",
              "      <td>None</td>\n",
              "      <td>None</td>\n",
              "      <td>None</td>\n",
              "      <td>None</td>\n",
              "      <td>None</td>\n",
              "      <td>None</td>\n",
              "      <td>None</td>\n",
              "      <td>4</td>\n",
              "      <td>None</td>\n",
              "      <td>2</td>\n",
              "      <td>57d928f1-49a6-4bb7-88e2-3938afd7db4a</td>\n",
              "      <td>POINT (-85.26709 42.09875)</td>\n",
              "    </tr>\n",
              "    <tr>\n",
              "      <th>3</th>\n",
              "      <td>61</td>\n",
              "      <td>None</td>\n",
              "      <td>NOT-ST-70</td>\n",
              "      <td>None</td>\n",
              "      <td>None</td>\n",
              "      <td>None</td>\n",
              "      <td>None</td>\n",
              "      <td>None</td>\n",
              "      <td>None</td>\n",
              "      <td>None</td>\n",
              "      <td>None</td>\n",
              "      <td>None</td>\n",
              "      <td>None</td>\n",
              "      <td>None</td>\n",
              "      <td>None</td>\n",
              "      <td>None</td>\n",
              "      <td>None</td>\n",
              "      <td>None</td>\n",
              "      <td>None</td>\n",
              "      <td>None</td>\n",
              "      <td>None</td>\n",
              "      <td>None</td>\n",
              "      <td>None</td>\n",
              "      <td>None</td>\n",
              "      <td>None</td>\n",
              "      <td>None</td>\n",
              "      <td>None</td>\n",
              "      <td>None</td>\n",
              "      <td>2</td>\n",
              "      <td>None</td>\n",
              "      <td>2</td>\n",
              "      <td>7c6e1a13-cd7a-47f3-bea7-51040091eb6d</td>\n",
              "      <td>POINT (-85.26928 42.08627)</td>\n",
              "    </tr>\n",
              "    <tr>\n",
              "      <th>4</th>\n",
              "      <td>62</td>\n",
              "      <td>None</td>\n",
              "      <td>NOT-ST-110</td>\n",
              "      <td>None</td>\n",
              "      <td>None</td>\n",
              "      <td>None</td>\n",
              "      <td>None</td>\n",
              "      <td>None</td>\n",
              "      <td>None</td>\n",
              "      <td>None</td>\n",
              "      <td>None</td>\n",
              "      <td>None</td>\n",
              "      <td>None</td>\n",
              "      <td>None</td>\n",
              "      <td>None</td>\n",
              "      <td>None</td>\n",
              "      <td>None</td>\n",
              "      <td>None</td>\n",
              "      <td>None</td>\n",
              "      <td>None</td>\n",
              "      <td>None</td>\n",
              "      <td>None</td>\n",
              "      <td>None</td>\n",
              "      <td>None</td>\n",
              "      <td>None</td>\n",
              "      <td>None</td>\n",
              "      <td>None</td>\n",
              "      <td>None</td>\n",
              "      <td>1</td>\n",
              "      <td>None</td>\n",
              "      <td>1</td>\n",
              "      <td>89ccb81c-1c80-4d02-ace0-f92c3bea7b7d</td>\n",
              "      <td>POINT (-85.28732 42.07179)</td>\n",
              "    </tr>\n",
              "  </tbody>\n",
              "</table>\n",
              "</div>"
            ],
            "text/plain": [
              "   OBJECTID  ...                    geometry\n",
              "0        58  ...  POINT (-85.25263 42.11062)\n",
              "1        59  ...  POINT (-85.26109 42.10155)\n",
              "2        60  ...  POINT (-85.26709 42.09875)\n",
              "3        61  ...  POINT (-85.26928 42.08627)\n",
              "4        62  ...  POINT (-85.28732 42.07179)\n",
              "\n",
              "[5 rows x 33 columns]"
            ]
          },
          "metadata": {
            "tags": []
          },
          "execution_count": 9
        }
      ]
    },
    {
      "cell_type": "code",
      "metadata": {
        "id": "CFPNYizZD5do",
        "colab": {
          "base_uri": "https://localhost:8080/"
        },
        "outputId": "687249c8-6e89-4fc0-b134-2c46bec1b822"
      },
      "source": [
        "gdf.info()"
      ],
      "execution_count": 11,
      "outputs": [
        {
          "output_type": "stream",
          "text": [
            "<class 'geopandas.geodataframe.GeoDataFrame'>\n",
            "RangeIndex: 63 entries, 0 to 62\n",
            "Data columns (total 33 columns):\n",
            " #   Column              Non-Null Count  Dtype   \n",
            "---  ------              --------------  -----   \n",
            " 0   OBJECTID            63 non-null     int64   \n",
            " 1   DATE_TIME           0 non-null      object  \n",
            " 2   SITE_ID             63 non-null     object  \n",
            " 3   STAFF               0 non-null      object  \n",
            " 4   SAMP_EQUIP          0 non-null      object  \n",
            " 5   AIR_TEMP            0 non-null      object  \n",
            " 6   CUR_PRECIP          0 non-null      object  \n",
            " 7   PREV_48_PRECIP      0 non-null      object  \n",
            " 8   WIND_SPEED          0 non-null      object  \n",
            " 9   WEATHER_NOTES       0 non-null      object  \n",
            " 10  WATER_TEMP          0 non-null      object  \n",
            " 11  DO_mgl              0 non-null      object  \n",
            " 12  SPEC_COND_uS_cm     0 non-null      object  \n",
            " 13  TURB_NTU            0 non-null      object  \n",
            " 14  pH                  0 non-null      object  \n",
            " 15  QC                  0 non-null      object  \n",
            " 16  DEPTH_FT            0 non-null      object  \n",
            " 17  NOTES               0 non-null      object  \n",
            " 18  LOCATION            0 non-null      object  \n",
            " 19  LAB_SAMP_QUES       0 non-null      object  \n",
            " 20  Ecoli_100ml_        0 non-null      object  \n",
            " 21  TOT_PHOS_           0 non-null      object  \n",
            " 22  TOT_NITRO_          0 non-null      object  \n",
            " 23  LAKE_SAMP_QUES_     0 non-null      object  \n",
            " 24  SECCH_DEP_FT_       0 non-null      object  \n",
            " 25  CHLOROPHYLLa_ug_L_  0 non-null      object  \n",
            " 26  STAT_SAMP_QUES_     0 non-null      object  \n",
            " 27  ECOLI_STATUS_       0 non-null      object  \n",
            " 28  DO_STATUS_          63 non-null     object  \n",
            " 29  TEMP_STATUS_        0 non-null      object  \n",
            " 30  TURB_STATUS_        8 non-null      object  \n",
            " 31  GlobalID            63 non-null     object  \n",
            " 32  geometry            63 non-null     geometry\n",
            "dtypes: geometry(1), int64(1), object(31)\n",
            "memory usage: 16.4+ KB\n"
          ],
          "name": "stdout"
        }
      ]
    },
    {
      "cell_type": "code",
      "metadata": {
        "id": "Z3AC0oLoNo05"
      },
      "source": [
        "columns = gdf.columns\r\n",
        "colName = columns[28]"
      ],
      "execution_count": null,
      "outputs": []
    },
    {
      "cell_type": "code",
      "metadata": {
        "colab": {
          "base_uri": "https://localhost:8080/",
          "height": 53
        },
        "id": "VTYWN9Epiy7Y",
        "outputId": "e39eb9b0-3c5e-4689-f948-02fb53605e09"
      },
      "source": [
        "# List of unique organization IDs\r\n",
        "uniqueVal = gdf[colName].unique()\r\n",
        "display(f'Number of {colName}(s): {len(uniqueVal)}')\r\n",
        "display(uniqueVal)"
      ],
      "execution_count": null,
      "outputs": [
        {
          "output_type": "display_data",
          "data": {
            "application/vnd.google.colaboratory.intrinsic+json": {
              "type": "string"
            },
            "text/plain": [
              "'Number of DO_STATUS_(s): 4'"
            ]
          },
          "metadata": {
            "tags": []
          }
        },
        {
          "output_type": "display_data",
          "data": {
            "text/plain": [
              "array(['1', '4', '2', '0'], dtype=object)"
            ]
          },
          "metadata": {
            "tags": []
          }
        }
      ]
    },
    {
      "cell_type": "code",
      "metadata": {
        "id": "tPh07xFtjV7s"
      },
      "source": [
        "valColumn = columns[2]\r\n",
        "gdf[valColumn].value_counts()"
      ],
      "execution_count": null,
      "outputs": []
    },
    {
      "cell_type": "code",
      "metadata": {
        "id": "r3phzETTPfKy"
      },
      "source": [
        "gdf.columns"
      ],
      "execution_count": null,
      "outputs": []
    },
    {
      "cell_type": "code",
      "metadata": {
        "id": "NoYPndmNm-Sr"
      },
      "source": [
        "gdf.groupby(columns[30]).count()"
      ],
      "execution_count": null,
      "outputs": []
    },
    {
      "cell_type": "code",
      "metadata": {
        "id": "nXlJqExlRW_Z"
      },
      "source": [
        "gdf[colName].hist(alpha=0.8, figsize=(8,6))"
      ],
      "execution_count": null,
      "outputs": []
    },
    {
      "cell_type": "code",
      "metadata": {
        "id": "o-5u7JXMQhxx"
      },
      "source": [
        "fig, ax = plt.subplots(figsize=(12,8), facecolor='#383838')\r\n",
        "ax.set_xticklabels([])\r\n",
        "ax.set_yticklabels([])\r\n",
        "gdf.plot(ax=ax, alpha=.5, markersize=40, column = columnName, legend='true', cmap='rainbow')"
      ],
      "execution_count": null,
      "outputs": []
    },
    {
      "cell_type": "code",
      "metadata": {
        "id": "1jx91-R4RALS"
      },
      "source": [
        "fig, ax = plt.subplots(figsize=(12,8),facecolor='#383838')\r\n",
        "ax.set_aspect('equal')\r\n",
        "ax.set_xticklabels([])\r\n",
        "ax.set_yticklabels([])\r\n",
        "#gdf2.plot(ax=ax, alpha=.3, color='none', linewidth=1, zorder=1, edgecolor='darkturquoise')\r\n",
        "gdf.plot(ax=ax, alpha=.8, markersize=50, column = columnName, legend='true', cmap='rainbow')\r\n",
        "plt.title(gisLayer.lyr.name, fontsize=26, color='white')\r\n",
        "ax.set_axis_off()\r\n",
        "plt.show()"
      ],
      "execution_count": null,
      "outputs": []
    },
    {
      "cell_type": "code",
      "metadata": {
        "id": "_V9_NMyAs4i2"
      },
      "source": [
        "gdf = gdf.to_crs('EPSG:3857')\r\n",
        "fig, ax = plt.subplots(figsize=(12,8),facecolor='#383838')\r\n",
        "ax.set_aspect('equal')\r\n",
        "ax.set_xticklabels([])\r\n",
        "ax.set_yticklabels([])\r\n",
        "gdf.plot(ax=ax, alpha=.8, markersize=50, column = columnName, legend='true', cmap='rainbow')\r\n",
        "plt.title(gisLayer.lyr.name, fontsize=26, color='white')\r\n",
        "ax.set_axis_off()\r\n",
        "ctx.add_basemap(ax, source=ctx.providers.OpenStreetMap.Mapnik)\r\n"
      ],
      "execution_count": null,
      "outputs": []
    },
    {
      "cell_type": "code",
      "metadata": {
        "id": "tmZqkRlAlEfS"
      },
      "source": [
        " m = folium.Map(location= [44.5, -85], zoom_start = 7, tiles = 'Stamen Toner', prefer_canvas=True)\r\n",
        " folium.GeoJson(gdf).add_to(m)\r\n",
        " m"
      ],
      "execution_count": null,
      "outputs": []
    },
    {
      "cell_type": "markdown",
      "metadata": {
        "id": "t3sj5aVGHCs3"
      },
      "source": [
        "### mapTable Workflow - Data Processing"
      ]
    },
    {
      "cell_type": "code",
      "metadata": {
        "colab": {
          "base_uri": "https://localhost:8080/",
          "height": 71
        },
        "id": "3nI_BIFJvBff",
        "outputId": "3adf8255-95ac-402f-fe3c-5b299d35b234"
      },
      "source": [
        "# 3(t) - new function to get table from Service\r\n",
        "gisTable = gisService.getTable()"
      ],
      "execution_count": null,
      "outputs": [
        {
          "output_type": "display_data",
          "data": {
            "application/vnd.google.colaboratory.intrinsic+json": {
              "type": "string"
            },
            "text/plain": [
              "'0 - WATER_DATA_2020'"
            ]
          },
          "metadata": {
            "tags": []
          }
        },
        {
          "output_type": "stream",
          "text": [
            "Select index of Table: 0\n"
          ],
          "name": "stdout"
        },
        {
          "output_type": "display_data",
          "data": {
            "application/vnd.google.colaboratory.intrinsic+json": {
              "type": "string"
            },
            "text/plain": [
              "'TABLE CREATED - WATER_DATA_2020 - id: 1 - url: https://services5.arcgis.com/RsKCQCx9eUKixVOM/arcgis/rest/services/WATER_SAMPLING_2020/FeatureServer/1'"
            ]
          },
          "metadata": {
            "tags": []
          }
        }
      ]
    },
    {
      "cell_type": "code",
      "metadata": {
        "id": "mn2AMciNPxf8",
        "colab": {
          "base_uri": "https://localhost:8080/",
          "height": 532
        },
        "outputId": "f8804de4-f9fe-475f-d395-f3b262e4bcbb"
      },
      "source": [
        "# 4(t) - returns ArcGIS Online Table as geoDataframe!\r\n",
        "tbl = gisTable.layerQuery()\r\n",
        "tbl.head()"
      ],
      "execution_count": null,
      "outputs": [
        {
          "output_type": "stream",
          "text": [
            "SQL query(ENTER for ALL): \n",
            "Fields(ENTER for ALL)? \n"
          ],
          "name": "stdout"
        },
        {
          "output_type": "execute_result",
          "data": {
            "text/html": [
              "<div>\n",
              "<style scoped>\n",
              "    .dataframe tbody tr th:only-of-type {\n",
              "        vertical-align: middle;\n",
              "    }\n",
              "\n",
              "    .dataframe tbody tr th {\n",
              "        vertical-align: top;\n",
              "    }\n",
              "\n",
              "    .dataframe thead th {\n",
              "        text-align: right;\n",
              "    }\n",
              "</style>\n",
              "<table border=\"1\" class=\"dataframe\">\n",
              "  <thead>\n",
              "    <tr style=\"text-align: right;\">\n",
              "      <th></th>\n",
              "      <th>OBJECTID</th>\n",
              "      <th>SITE_ID</th>\n",
              "      <th>DATE_TIME</th>\n",
              "      <th>STAFF</th>\n",
              "      <th>SAMP_EQUIP</th>\n",
              "      <th>AIR_TEMP</th>\n",
              "      <th>CUR_PRECIP</th>\n",
              "      <th>PREV_48_PRECIP</th>\n",
              "      <th>WIND_SPEED</th>\n",
              "      <th>WEATHER_NOTES</th>\n",
              "      <th>WATER_TEMP</th>\n",
              "      <th>DO_mgl</th>\n",
              "      <th>SPEC_COND_uS_cm</th>\n",
              "      <th>TURB_NTU</th>\n",
              "      <th>pH</th>\n",
              "      <th>QC</th>\n",
              "      <th>DEPTH_FT</th>\n",
              "      <th>NOTES</th>\n",
              "      <th>SITE_IMAGE</th>\n",
              "      <th>LAB_SAMP_QUES</th>\n",
              "      <th>Ecoli_100ml_</th>\n",
              "      <th>TOT_PHOS_</th>\n",
              "      <th>TOT_NITRO_</th>\n",
              "      <th>LAKE_SAMP_QUES_</th>\n",
              "      <th>SECCH_DEP_FT_</th>\n",
              "      <th>CHLOROPHYLLa_ug_L_</th>\n",
              "      <th>STAT_SAMP_QUES_</th>\n",
              "      <th>ECOLI_STATUS_</th>\n",
              "      <th>DO_STATUS_</th>\n",
              "      <th>TEMP_STATUS_</th>\n",
              "      <th>TURB_STATUS_</th>\n",
              "      <th>GlobalID</th>\n",
              "      <th>NEW_SITE_ID</th>\n",
              "      <th>NEW_SITE_DESC</th>\n",
              "      <th>SITE_NUM</th>\n",
              "      <th>geometry</th>\n",
              "    </tr>\n",
              "  </thead>\n",
              "  <tbody>\n",
              "    <tr>\n",
              "      <th>0</th>\n",
              "      <td>4</td>\n",
              "      <td>ICD-ST-40</td>\n",
              "      <td>1594149480000</td>\n",
              "      <td>ERIC KERNEY</td>\n",
              "      <td>YSI ProDSS</td>\n",
              "      <td>91</td>\n",
              "      <td>None</td>\n",
              "      <td>0.0</td>\n",
              "      <td>None</td>\n",
              "      <td>Hot humid weather for last week</td>\n",
              "      <td>76.0</td>\n",
              "      <td>6.57</td>\n",
              "      <td>569.0</td>\n",
              "      <td>6.24</td>\n",
              "      <td>7.55</td>\n",
              "      <td>Field Measurement</td>\n",
              "      <td>None</td>\n",
              "      <td>None</td>\n",
              "      <td>None</td>\n",
              "      <td>None</td>\n",
              "      <td>None</td>\n",
              "      <td>None</td>\n",
              "      <td>None</td>\n",
              "      <td>NO</td>\n",
              "      <td>None</td>\n",
              "      <td>None</td>\n",
              "      <td>YES</td>\n",
              "      <td>None</td>\n",
              "      <td>2</td>\n",
              "      <td>2</td>\n",
              "      <td>2</td>\n",
              "      <td>a57851bc-5581-4cc0-8a1c-4fbfad04a06f</td>\n",
              "      <td>None</td>\n",
              "      <td>None</td>\n",
              "      <td>None</td>\n",
              "      <td>None</td>\n",
              "    </tr>\n",
              "    <tr>\n",
              "      <th>1</th>\n",
              "      <td>5</td>\n",
              "      <td>PNC-ST-45</td>\n",
              "      <td>1594150371022</td>\n",
              "      <td>ERIC KERNEY</td>\n",
              "      <td>YSI ProDSS</td>\n",
              "      <td>91</td>\n",
              "      <td>None</td>\n",
              "      <td>0.0</td>\n",
              "      <td>None</td>\n",
              "      <td>Hot and humid</td>\n",
              "      <td>80.0</td>\n",
              "      <td>0.99</td>\n",
              "      <td>488.4</td>\n",
              "      <td>2.00</td>\n",
              "      <td>7.38</td>\n",
              "      <td>Field Measurement</td>\n",
              "      <td>None</td>\n",
              "      <td>None</td>\n",
              "      <td>None</td>\n",
              "      <td>None</td>\n",
              "      <td>None</td>\n",
              "      <td>None</td>\n",
              "      <td>None</td>\n",
              "      <td>None</td>\n",
              "      <td>None</td>\n",
              "      <td>None</td>\n",
              "      <td>None</td>\n",
              "      <td>None</td>\n",
              "      <td>None</td>\n",
              "      <td>None</td>\n",
              "      <td>None</td>\n",
              "      <td>70ec514e-e2bc-4457-acb4-0d316140d3d2</td>\n",
              "      <td>None</td>\n",
              "      <td>None</td>\n",
              "      <td>None</td>\n",
              "      <td>None</td>\n",
              "    </tr>\n",
              "    <tr>\n",
              "      <th>2</th>\n",
              "      <td>6</td>\n",
              "      <td>PNC-ST-45</td>\n",
              "      <td>1594150920000</td>\n",
              "      <td>ERIC KERNEY</td>\n",
              "      <td>YSI ProDSS</td>\n",
              "      <td>91</td>\n",
              "      <td>None</td>\n",
              "      <td>0.0</td>\n",
              "      <td>None</td>\n",
              "      <td>Hot and humid</td>\n",
              "      <td>80.0</td>\n",
              "      <td>0.96</td>\n",
              "      <td>488.4</td>\n",
              "      <td>2.05</td>\n",
              "      <td>7.32</td>\n",
              "      <td>Quality Control Sample Field Replicate</td>\n",
              "      <td>None</td>\n",
              "      <td>QC field replicate, very low DO</td>\n",
              "      <td>None</td>\n",
              "      <td>None</td>\n",
              "      <td>None</td>\n",
              "      <td>None</td>\n",
              "      <td>None</td>\n",
              "      <td>None</td>\n",
              "      <td>None</td>\n",
              "      <td>None</td>\n",
              "      <td>None</td>\n",
              "      <td>None</td>\n",
              "      <td>None</td>\n",
              "      <td>None</td>\n",
              "      <td>None</td>\n",
              "      <td>1502a6b9-d29a-4e74-8fa2-2c8ba4ba2405</td>\n",
              "      <td>None</td>\n",
              "      <td>None</td>\n",
              "      <td>None</td>\n",
              "      <td>None</td>\n",
              "    </tr>\n",
              "    <tr>\n",
              "      <th>3</th>\n",
              "      <td>7</td>\n",
              "      <td>PNC-ST-50</td>\n",
              "      <td>1594151365045</td>\n",
              "      <td>ERIC KERNEY</td>\n",
              "      <td>YSI ProDSS</td>\n",
              "      <td>92</td>\n",
              "      <td>None</td>\n",
              "      <td>NaN</td>\n",
              "      <td>None</td>\n",
              "      <td>Hot and humid</td>\n",
              "      <td>80.3</td>\n",
              "      <td>1.04</td>\n",
              "      <td>489.2</td>\n",
              "      <td>2.04</td>\n",
              "      <td>7.37</td>\n",
              "      <td>Field Measurement</td>\n",
              "      <td>None</td>\n",
              "      <td>Heavy vegetation and duck weed, very low DO</td>\n",
              "      <td>None</td>\n",
              "      <td>None</td>\n",
              "      <td>None</td>\n",
              "      <td>None</td>\n",
              "      <td>None</td>\n",
              "      <td>None</td>\n",
              "      <td>None</td>\n",
              "      <td>None</td>\n",
              "      <td>None</td>\n",
              "      <td>None</td>\n",
              "      <td>None</td>\n",
              "      <td>None</td>\n",
              "      <td>None</td>\n",
              "      <td>542f3a37-8e8a-434b-97be-e5771b387479</td>\n",
              "      <td>None</td>\n",
              "      <td>None</td>\n",
              "      <td>None</td>\n",
              "      <td>None</td>\n",
              "    </tr>\n",
              "    <tr>\n",
              "      <th>4</th>\n",
              "      <td>8</td>\n",
              "      <td>PNC-ST-60</td>\n",
              "      <td>1594151831961</td>\n",
              "      <td>ERIC KERNEY</td>\n",
              "      <td>YSI ProDSS</td>\n",
              "      <td>92</td>\n",
              "      <td>None</td>\n",
              "      <td>NaN</td>\n",
              "      <td>None</td>\n",
              "      <td>Hot and humid</td>\n",
              "      <td>81.2</td>\n",
              "      <td>2.14</td>\n",
              "      <td>486.9</td>\n",
              "      <td>2.49</td>\n",
              "      <td>7.55</td>\n",
              "      <td>Field Measurement</td>\n",
              "      <td>None</td>\n",
              "      <td>Some rice, new dock, warm water</td>\n",
              "      <td>None</td>\n",
              "      <td>None</td>\n",
              "      <td>None</td>\n",
              "      <td>None</td>\n",
              "      <td>None</td>\n",
              "      <td>None</td>\n",
              "      <td>None</td>\n",
              "      <td>None</td>\n",
              "      <td>NO</td>\n",
              "      <td>None</td>\n",
              "      <td>None</td>\n",
              "      <td>None</td>\n",
              "      <td>None</td>\n",
              "      <td>54623cb5-7774-4ad0-91ec-826c5fc01d27</td>\n",
              "      <td>None</td>\n",
              "      <td>None</td>\n",
              "      <td>None</td>\n",
              "      <td>None</td>\n",
              "    </tr>\n",
              "  </tbody>\n",
              "</table>\n",
              "</div>"
            ],
            "text/plain": [
              "   OBJECTID    SITE_ID      DATE_TIME  ... NEW_SITE_DESC SITE_NUM  geometry\n",
              "0         4  ICD-ST-40  1594149480000  ...          None     None      None\n",
              "1         5  PNC-ST-45  1594150371022  ...          None     None      None\n",
              "2         6  PNC-ST-45  1594150920000  ...          None     None      None\n",
              "3         7  PNC-ST-50  1594151365045  ...          None     None      None\n",
              "4         8  PNC-ST-60  1594151831961  ...          None     None      None\n",
              "\n",
              "[5 rows x 36 columns]"
            ]
          },
          "metadata": {
            "tags": []
          },
          "execution_count": 13
        }
      ]
    },
    {
      "cell_type": "code",
      "metadata": {
        "id": "fGsqBMvXHBIL"
      },
      "source": [
        "tbl.info()"
      ],
      "execution_count": null,
      "outputs": []
    },
    {
      "cell_type": "code",
      "metadata": {
        "id": "PiePxVYuHBIR"
      },
      "source": [
        "col = tbl.columns\r\n",
        "colName = col[11]"
      ],
      "execution_count": null,
      "outputs": []
    },
    {
      "cell_type": "code",
      "metadata": {
        "id": "dJbalrXvHBIR",
        "colab": {
          "base_uri": "https://localhost:8080/",
          "height": 107
        },
        "outputId": "fab881f2-11e4-44c1-f10b-275290ce87dc"
      },
      "source": [
        "# List of unique organization IDs\r\n",
        "uniVal = tbl[col[11]].unique()\r\n",
        "display(f'Number of {col[11]}(s): {len(uniVal)}')\r\n",
        "display(uniVal)"
      ],
      "execution_count": null,
      "outputs": [
        {
          "output_type": "display_data",
          "data": {
            "application/vnd.google.colaboratory.intrinsic+json": {
              "type": "string"
            },
            "text/plain": [
              "'Number of DO_mgl(s): 39'"
            ]
          },
          "metadata": {
            "tags": []
          }
        },
        {
          "output_type": "display_data",
          "data": {
            "text/plain": [
              "array([6.57, 0.99, 0.96, 1.04, 2.14, 7.67, 4.04, 4.26, 4.34, 4.83, 5.49,\n",
              "       1.54, 1.05, 0.62, 1.02, 8.7 , 8.67, 8.69, 8.36, 1.3 , 2.67, 5.76,\n",
              "       4.39, 4.36, 7.48, 7.43, 5.22, 4.42, 4.73, 9.38, 3.59, 3.4 , 3.21,\n",
              "       4.33, 4.02, 9.01, 8.91, 8.  , 7.5 ])"
            ]
          },
          "metadata": {
            "tags": []
          }
        }
      ]
    },
    {
      "cell_type": "code",
      "metadata": {
        "colab": {
          "base_uri": "https://localhost:8080/"
        },
        "id": "qkQCyyn4HBIR",
        "outputId": "7238aa59-cba9-4369-a7dd-7369d2bf4451"
      },
      "source": [
        "valCol = col[1]\r\n",
        "tbl[valCol].value_counts()"
      ],
      "execution_count": null,
      "outputs": [
        {
          "output_type": "execute_result",
          "data": {
            "text/plain": [
              "NOT-ST-120    5\n",
              "NOT-ST-110    5\n",
              "PNC-ST-50     4\n",
              "PNC-ST-40     4\n",
              "SCD-ST-40     4\n",
              "NOT-ST-70     4\n",
              "ICD-ST-40     3\n",
              "PNC-ST-60     3\n",
              "UNT-ST-10     2\n",
              "SPC-ST-90     2\n",
              "PNC-ST-45     2\n",
              "SJR-ST-300    1\n",
              "ICD-ST-60     1\n",
              "Name: SITE_ID, dtype: int64"
            ]
          },
          "metadata": {
            "tags": []
          },
          "execution_count": 16
        }
      ]
    },
    {
      "cell_type": "code",
      "metadata": {
        "id": "LorJ5zbeHBIR",
        "colab": {
          "base_uri": "https://localhost:8080/"
        },
        "outputId": "03c9c144-5cff-4fc2-b799-3acdd05aa47b"
      },
      "source": [
        "tbl.columns"
      ],
      "execution_count": null,
      "outputs": [
        {
          "output_type": "execute_result",
          "data": {
            "text/plain": [
              "Index(['OBJECTID', 'SITE_ID', 'DATE_TIME', 'STAFF', 'SAMP_EQUIP', 'AIR_TEMP',\n",
              "       'CUR_PRECIP', 'PREV_48_PRECIP', 'WIND_SPEED', 'WEATHER_NOTES',\n",
              "       'WATER_TEMP', 'DO_mgl', 'SPEC_COND_uS_cm', 'TURB_NTU', 'pH', 'QC',\n",
              "       'DEPTH_FT', 'NOTES', 'SITE_IMAGE', 'LAB_SAMP_QUES', 'Ecoli_100ml_',\n",
              "       'TOT_PHOS_', 'TOT_NITRO_', 'LAKE_SAMP_QUES_', 'SECCH_DEP_FT_',\n",
              "       'CHLOROPHYLLa_ug_L_', 'STAT_SAMP_QUES_', 'ECOLI_STATUS_', 'DO_STATUS_',\n",
              "       'TEMP_STATUS_', 'TURB_STATUS_', 'GlobalID', 'NEW_SITE_ID',\n",
              "       'NEW_SITE_DESC', 'SITE_NUM', 'geometry'],\n",
              "      dtype='object')"
            ]
          },
          "metadata": {
            "tags": []
          },
          "execution_count": 17
        }
      ]
    },
    {
      "cell_type": "code",
      "metadata": {
        "colab": {
          "base_uri": "https://localhost:8080/",
          "height": 131
        },
        "id": "wVtWtRU2HBIS",
        "outputId": "24a48272-e76c-4bdb-85db-13b4fa22df58"
      },
      "source": [
        "tbl.groupby(col[6]).count()"
      ],
      "execution_count": null,
      "outputs": [
        {
          "output_type": "execute_result",
          "data": {
            "text/html": [
              "<div>\n",
              "<style scoped>\n",
              "    .dataframe tbody tr th:only-of-type {\n",
              "        vertical-align: middle;\n",
              "    }\n",
              "\n",
              "    .dataframe tbody tr th {\n",
              "        vertical-align: top;\n",
              "    }\n",
              "\n",
              "    .dataframe thead th {\n",
              "        text-align: right;\n",
              "    }\n",
              "</style>\n",
              "<table border=\"1\" class=\"dataframe\">\n",
              "  <thead>\n",
              "    <tr style=\"text-align: right;\">\n",
              "      <th></th>\n",
              "      <th>OBJECTID</th>\n",
              "      <th>SITE_ID</th>\n",
              "      <th>DATE_TIME</th>\n",
              "      <th>STAFF</th>\n",
              "      <th>SAMP_EQUIP</th>\n",
              "      <th>AIR_TEMP</th>\n",
              "      <th>PREV_48_PRECIP</th>\n",
              "      <th>WIND_SPEED</th>\n",
              "      <th>WEATHER_NOTES</th>\n",
              "      <th>WATER_TEMP</th>\n",
              "      <th>DO_mgl</th>\n",
              "      <th>SPEC_COND_uS_cm</th>\n",
              "      <th>TURB_NTU</th>\n",
              "      <th>pH</th>\n",
              "      <th>QC</th>\n",
              "      <th>DEPTH_FT</th>\n",
              "      <th>NOTES</th>\n",
              "      <th>SITE_IMAGE</th>\n",
              "      <th>LAB_SAMP_QUES</th>\n",
              "      <th>Ecoli_100ml_</th>\n",
              "      <th>TOT_PHOS_</th>\n",
              "      <th>TOT_NITRO_</th>\n",
              "      <th>LAKE_SAMP_QUES_</th>\n",
              "      <th>SECCH_DEP_FT_</th>\n",
              "      <th>CHLOROPHYLLa_ug_L_</th>\n",
              "      <th>STAT_SAMP_QUES_</th>\n",
              "      <th>ECOLI_STATUS_</th>\n",
              "      <th>DO_STATUS_</th>\n",
              "      <th>TEMP_STATUS_</th>\n",
              "      <th>TURB_STATUS_</th>\n",
              "      <th>GlobalID</th>\n",
              "      <th>NEW_SITE_ID</th>\n",
              "      <th>NEW_SITE_DESC</th>\n",
              "      <th>SITE_NUM</th>\n",
              "      <th>geometry</th>\n",
              "    </tr>\n",
              "    <tr>\n",
              "      <th>CUR_PRECIP</th>\n",
              "      <th></th>\n",
              "      <th></th>\n",
              "      <th></th>\n",
              "      <th></th>\n",
              "      <th></th>\n",
              "      <th></th>\n",
              "      <th></th>\n",
              "      <th></th>\n",
              "      <th></th>\n",
              "      <th></th>\n",
              "      <th></th>\n",
              "      <th></th>\n",
              "      <th></th>\n",
              "      <th></th>\n",
              "      <th></th>\n",
              "      <th></th>\n",
              "      <th></th>\n",
              "      <th></th>\n",
              "      <th></th>\n",
              "      <th></th>\n",
              "      <th></th>\n",
              "      <th></th>\n",
              "      <th></th>\n",
              "      <th></th>\n",
              "      <th></th>\n",
              "      <th></th>\n",
              "      <th></th>\n",
              "      <th></th>\n",
              "      <th></th>\n",
              "      <th></th>\n",
              "      <th></th>\n",
              "      <th></th>\n",
              "      <th></th>\n",
              "      <th></th>\n",
              "      <th></th>\n",
              "    </tr>\n",
              "  </thead>\n",
              "  <tbody>\n",
              "    <tr>\n",
              "      <th>LIGHT</th>\n",
              "      <td>5</td>\n",
              "      <td>5</td>\n",
              "      <td>5</td>\n",
              "      <td>5</td>\n",
              "      <td>5</td>\n",
              "      <td>5</td>\n",
              "      <td>5</td>\n",
              "      <td>0</td>\n",
              "      <td>5</td>\n",
              "      <td>5</td>\n",
              "      <td>5</td>\n",
              "      <td>5</td>\n",
              "      <td>5</td>\n",
              "      <td>5</td>\n",
              "      <td>5</td>\n",
              "      <td>0</td>\n",
              "      <td>5</td>\n",
              "      <td>0</td>\n",
              "      <td>0</td>\n",
              "      <td>0</td>\n",
              "      <td>0</td>\n",
              "      <td>0</td>\n",
              "      <td>0</td>\n",
              "      <td>0</td>\n",
              "      <td>0</td>\n",
              "      <td>0</td>\n",
              "      <td>0</td>\n",
              "      <td>0</td>\n",
              "      <td>0</td>\n",
              "      <td>0</td>\n",
              "      <td>5</td>\n",
              "      <td>0</td>\n",
              "      <td>0</td>\n",
              "      <td>0</td>\n",
              "      <td>0</td>\n",
              "    </tr>\n",
              "  </tbody>\n",
              "</table>\n",
              "</div>"
            ],
            "text/plain": [
              "            OBJECTID  SITE_ID  DATE_TIME  ...  NEW_SITE_DESC  SITE_NUM  geometry\n",
              "CUR_PRECIP                                ...                                   \n",
              "LIGHT              5        5          5  ...              0         0         0\n",
              "\n",
              "[1 rows x 35 columns]"
            ]
          },
          "metadata": {
            "tags": []
          },
          "execution_count": 20
        }
      ]
    },
    {
      "cell_type": "code",
      "metadata": {
        "colab": {
          "base_uri": "https://localhost:8080/",
          "height": 392
        },
        "id": "ExB6Z4NRHBIS",
        "outputId": "590e889f-c25f-4e6c-a385-4cdb0264c0d9"
      },
      "source": [
        "tbl[col[11]].hist(alpha=0.8, figsize=(8,6))"
      ],
      "execution_count": null,
      "outputs": [
        {
          "output_type": "execute_result",
          "data": {
            "text/plain": [
              "<matplotlib.axes._subplots.AxesSubplot at 0x7fb92ed53128>"
            ]
          },
          "metadata": {
            "tags": []
          },
          "execution_count": 110
        },
        {
          "output_type": "display_data",
          "data": {
            "image/png": "[encoded data removed]",
            "text/plain": [
              "<Figure size 576x432 with 1 Axes>"
            ]
          },
          "metadata": {
            "tags": [],
            "needs_background": "light"
          }
        }
      ]
    },
    {
      "cell_type": "markdown",
      "metadata": {
        "id": "9bY-5cU1Zrst"
      },
      "source": [
        "## Seaborn Library Visualizations in Colab\r\n",
        "Water Quality Assessment Data"
      ]
    },
    {
      "cell_type": "code",
      "metadata": {
        "id": "cOKImu2aZqul"
      },
      "source": [
        "import seaborn as sns\r\n",
        "sns.set()\r\n",
        "#plt.style.use('classic')\r\n",
        "%matplotlib inline"
      ],
      "execution_count": null,
      "outputs": []
    },
    {
      "cell_type": "code",
      "metadata": {
        "id": "pBrEgnCgaiYu"
      },
      "source": [
        "# Create some data\r\n",
        "rng = np.random.RandomState(0)\r\n",
        "x = np.linspace(0, 10, 500)\r\n",
        "y = np.cumsum(rng.randn(500, 6), 0)"
      ],
      "execution_count": null,
      "outputs": []
    },
    {
      "cell_type": "code",
      "metadata": {
        "colab": {
          "base_uri": "https://localhost:8080/",
          "height": 268
        },
        "id": "YkVj1FHHajdC",
        "outputId": "33424c38-224c-477c-b6ed-b51955259da3"
      },
      "source": [
        "# same plotting code as above!\r\n",
        "plt.plot(x, y)\r\n",
        "plt.legend('ABCDEF', ncol=2, loc='upper left');"
      ],
      "execution_count": null,
      "outputs": [
        {
          "output_type": "display_data",
          "data": {
            "image/png": "[encoded data removed]",
            "text/plain": [
              "<Figure size 432x288 with 1 Axes>"
            ]
          },
          "metadata": {
            "tags": []
          }
        }
      ]
    },
    {
      "cell_type": "code",
      "metadata": {
        "colab": {
          "base_uri": "https://localhost:8080/"
        },
        "id": "Uirc_HGybEJW",
        "outputId": "1228fb68-ff0a-4ce0-bd41-df76a28cd224"
      },
      "source": [
        "!curl -O https://raw.githubusercontent.com/jakevdp/marathon-data/master/marathon-data.csv"
      ],
      "execution_count": null,
      "outputs": [
        {
          "output_type": "stream",
          "text": [
            "  % Total    % Received % Xferd  Average Speed   Time    Time     Time  Current\n",
            "                                 Dload  Upload   Total   Spent    Left  Speed\n",
            "100  836k  100  836k    0     0   999k      0 --:--:-- --:--:-- --:--:--  998k\n"
          ],
          "name": "stdout"
        }
      ]
    },
    {
      "cell_type": "code",
      "metadata": {
        "colab": {
          "base_uri": "https://localhost:8080/",
          "height": 369
        },
        "id": "-FWjn_HdbGs_",
        "outputId": "405297d7-2b06-4785-997e-7389097c237f"
      },
      "source": [
        "data = pd.read_csv('marathon-data.csv')\r\n",
        "#data.head()\r\n",
        "import datetime\r\n",
        "def convert_time(s):\r\n",
        "    h, m, s = map(int, s.split(':'))\r\n",
        "    return datetime.timedelta(hours=h, minutes=m, seconds=s)\r\n",
        "data = pd.read_csv('marathon-data.csv',\r\n",
        "                   converters={'split':convert_time, 'final':convert_time})\r\n",
        "\r\n",
        "data['split_sec'] = data['split'].astype(int) / 1E9\r\n",
        "data['final_sec'] = data['final'].astype(int) / 1E9\r\n",
        "\r\n",
        "data['split_frac'] = 1 - 2 * data['split_sec'] / data['final_sec']\r\n",
        "\r\n",
        "sns.displot(data['split_frac'], kde=False);\r\n",
        "plt.axvline(0, color=\"k\", linestyle=\"--\");"
      ],
      "execution_count": null,
      "outputs": [
        {
          "output_type": "display_data",
          "data": {
            "image/png": "[encoded data removed]",
            "text/plain": [
              "<Figure size 360x360 with 1 Axes>"
            ]
          },
          "metadata": {
            "tags": [],
            "needs_background": "light"
          }
        }
      ]
    },
    {
      "cell_type": "code",
      "metadata": {
        "id": "Lr7mk_TKcWwO"
      },
      "source": [
        "g = sns.PairGrid(data, vars=['age', 'split_sec', 'final_sec', 'split_frac'],\r\n",
        "                 hue='gender', palette='RdBu_r')\r\n",
        "g.map(plt.scatter, alpha=0.8)\r\n",
        "g.add_legend();"
      ],
      "execution_count": null,
      "outputs": []
    },
    {
      "cell_type": "code",
      "metadata": {
        "colab": {
          "base_uri": "https://localhost:8080/",
          "height": 297
        },
        "id": "toBe2pj-dLF5",
        "outputId": "ccd60232-426b-4d96-ef31-bfc5de724c81"
      },
      "source": [
        "sns.violinplot(x=\"gender\", y=\"split_frac\", data=data,\r\n",
        "               palette=[\"lightblue\", \"lightpink\"]);"
      ],
      "execution_count": null,
      "outputs": [
        {
          "output_type": "display_data",
          "data": {
            "image/png": "[encoded data removed]",
            "text/plain": [
              "<Figure size 432x288 with 1 Axes>"
            ]
          },
          "metadata": {
            "tags": [],
            "needs_background": "light"
          }
        }
      ]
    },
    {
      "cell_type": "code",
      "metadata": {
        "colab": {
          "base_uri": "https://localhost:8080/",
          "height": 297
        },
        "id": "vhsDNcSMde-h",
        "outputId": "ed5dbf6f-695d-4ac0-898c-eca65c786191"
      },
      "source": [
        "# Previous example method for violin plot\r\n",
        "data['age_dec'] = data.age.map(lambda age: 10 * (age // 10))\r\n",
        "men = (data.gender == 'M')\r\n",
        "women = (data.gender == 'W')\r\n",
        "with sns.axes_style(style=None):\r\n",
        "  sns.violinplot(x=\"age_dec\", y=\"split_frac\", hue=\"gender\", data=data,split=True, inner=\"quartile\", palette=[\"lightblue\", \"lightpink\"])"
      ],
      "execution_count": null,
      "outputs": [
        {
          "output_type": "display_data",
          "data": {
            "image/png": "[encoded data removed]",
            "text/plain": [
              "<Figure size 432x288 with 1 Axes>"
            ]
          },
          "metadata": {
            "tags": [],
            "needs_background": "light"
          }
        }
      ]
    },
    {
      "cell_type": "code",
      "metadata": {
        "colab": {
          "base_uri": "https://localhost:8080/",
          "height": 297
        },
        "id": "XLVeHITFe-NM",
        "outputId": "cc000d34-f5df-47b1-e0be-e16a6ed12e0d"
      },
      "source": [
        "# Revised method using dynamic variables for plot parameters\r\n",
        "prams = 'quartile'\r\n",
        "pal = [\"lightblue\", \"lightpink\"]\r\n",
        "ax = sns.violinplot(data=data,x=col[7],y=col[6],hue=col[1],inner=prams,palette=pal,split=True)"
      ],
      "execution_count": null,
      "outputs": [
        {
          "output_type": "display_data",
          "data": {
            "image/png": "[encoded data removed]",
            "text/plain": [
              "<Figure size 432x288 with 1 Axes>"
            ]
          },
          "metadata": {
            "tags": [],
            "needs_background": "light"
          }
        }
      ]
    },
    {
      "cell_type": "markdown",
      "metadata": {
        "id": "btIjqNLDhMgo"
      },
      "source": [
        "## NHBP Violin Plot Seaborn Example"
      ]
    },
    {
      "cell_type": "code",
      "metadata": {
        "id": "AtJK9GJ8hTkG"
      },
      "source": [
        "tbl.info()"
      ],
      "execution_count": null,
      "outputs": []
    },
    {
      "cell_type": "code",
      "metadata": {
        "colab": {
          "base_uri": "https://localhost:8080/"
        },
        "id": "8aAqvKjmhoYe",
        "outputId": "cd68a415-d086-45b0-c9c9-340f83e7acc5"
      },
      "source": [
        "col = tbl.columns\r\n",
        "col"
      ],
      "execution_count": null,
      "outputs": [
        {
          "output_type": "execute_result",
          "data": {
            "text/plain": [
              "Index(['OBJECTID', 'SITE_ID', 'DATE_TIME', 'STAFF', 'SAMP_EQUIP', 'AIR_TEMP',\n",
              "       'CUR_PRECIP', 'PREV_48_PRECIP', 'WIND_SPEED', 'WEATHER_NOTES',\n",
              "       'WATER_TEMP', 'DO_mgl', 'SPEC_COND_uS_cm', 'TURB_NTU', 'pH', 'QC',\n",
              "       'DEPTH_FT', 'NOTES', 'SITE_IMAGE', 'LAB_SAMP_QUES', 'Ecoli_100ml_',\n",
              "       'TOT_PHOS_', 'TOT_NITRO_', 'LAKE_SAMP_QUES_', 'SECCH_DEP_FT_',\n",
              "       'CHLOROPHYLLa_ug_L_', 'STAT_SAMP_QUES_', 'ECOLI_STATUS_', 'DO_STATUS_',\n",
              "       'TEMP_STATUS_', 'TURB_STATUS_', 'GlobalID', 'NEW_SITE_ID',\n",
              "       'NEW_SITE_DESC', 'SITE_NUM', 'geometry'],\n",
              "      dtype='object')"
            ]
          },
          "metadata": {
            "tags": []
          },
          "execution_count": 36
        }
      ]
    },
    {
      "cell_type": "code",
      "metadata": {
        "colab": {
          "base_uri": "https://localhost:8080/"
        },
        "id": "nv4S_C6yiari",
        "outputId": "897dd74e-83f2-4ffe-89ed-5ba969d8a72c"
      },
      "source": [
        "tbl[col[1]].value_counts()"
      ],
      "execution_count": null,
      "outputs": [
        {
          "output_type": "execute_result",
          "data": {
            "text/plain": [
              "NOT-ST-120    5\n",
              "NOT-ST-110    5\n",
              "PNC-ST-50     4\n",
              "PNC-ST-40     4\n",
              "SCD-ST-40     4\n",
              "NOT-ST-70     4\n",
              "ICD-ST-40     3\n",
              "PNC-ST-60     3\n",
              "UNT-ST-10     2\n",
              "SPC-ST-90     2\n",
              "PNC-ST-45     2\n",
              "SJR-ST-300    1\n",
              "ICD-ST-60     1\n",
              "Name: SITE_ID, dtype: int64"
            ]
          },
          "metadata": {
            "tags": []
          },
          "execution_count": 37
        }
      ]
    },
    {
      "cell_type": "code",
      "metadata": {
        "id": "GtznOlZ4jW1g"
      },
      "source": [
        "sns.set_theme(style='darkgrid')"
      ],
      "execution_count": null,
      "outputs": []
    },
    {
      "cell_type": "code",
      "metadata": {
        "colab": {
          "base_uri": "https://localhost:8080/",
          "height": 303
        },
        "id": "vjV2GfmwhVEY",
        "outputId": "4e8dfd5c-50eb-4296-9691-1fc4bbce86a2"
      },
      "source": [
        "# Revised method using dynamic variables for plot parameters\r\n",
        "\r\n",
        "prams = 'quart'\r\n",
        "pal = [\"lightblue\", \"lightpink\"]\r\n",
        "ax = sns.violinplot(data=tbl,x=col[1],y=col[11], size=10)\r\n",
        "ax.set_title(gisTable.table.name, fontsize=16);\r\n",
        "sns.despine(left=True)"
      ],
      "execution_count": null,
      "outputs": [
        {
          "output_type": "display_data",
          "data": {
            "image/png": "[encoded data removed]",
            "text/plain": [
              "<Figure size 432x288 with 1 Axes>"
            ]
          },
          "metadata": {
            "tags": []
          }
        }
      ]
    },
    {
      "cell_type": "code",
      "metadata": {
        "colab": {
          "base_uri": "https://localhost:8080/",
          "height": 303
        },
        "id": "6S679x9WmFnh",
        "outputId": "94a9f6c3-091d-4381-885e-2f2b18bd52e2"
      },
      "source": [
        "# Revised method using dynamic variables for plot parameters\r\n",
        "prams = 'quart'\r\n",
        "pal = [\"lightblue\", \"lightpink\"]\r\n",
        "ax = sns.violinplot(data=tbl,x=col[1],y=col[11], size=10)\r\n",
        "ax.set_title(gisTable.table.name, fontsize=16);"
      ],
      "execution_count": null,
      "outputs": [
        {
          "output_type": "display_data",
          "data": {
            "image/png": "[encoded data removed]",
            "text/plain": [
              "<Figure size 432x288 with 1 Axes>"
            ]
          },
          "metadata": {
            "tags": []
          }
        }
      ]
    },
    {
      "cell_type": "code",
      "metadata": {
        "id": "FSpHgWoozCSp"
      },
      "source": [
        "remList = ['ICD-ST-60','SJR-ST-300','SJR-ST-300','PNC-ST-45','SPC-ST-90']\r\n",
        "tblFil = tbl[~tbl[col[1]].isin(remList)]"
      ],
      "execution_count": null,
      "outputs": []
    },
    {
      "cell_type": "code",
      "metadata": {
        "id": "JJSMn2i8n-Yi",
        "colab": {
          "base_uri": "https://localhost:8080/"
        },
        "outputId": "85b14999-c14f-48b7-c996-63c2d2f13e04"
      },
      "source": [
        "# tblFil is filtered table with stations only containing 1 record removed\r\n",
        "tblFil[col[1]].value_counts()"
      ],
      "execution_count": null,
      "outputs": [
        {
          "output_type": "execute_result",
          "data": {
            "text/plain": [
              "NOT-ST-120    5\n",
              "NOT-ST-110    5\n",
              "PNC-ST-40     4\n",
              "PNC-ST-50     4\n",
              "NOT-ST-70     4\n",
              "SCD-ST-40     4\n",
              "PNC-ST-60     3\n",
              "ICD-ST-40     3\n",
              "UNT-ST-10     2\n",
              "Name: SITE_ID, dtype: int64"
            ]
          },
          "metadata": {
            "tags": []
          },
          "execution_count": 39
        }
      ]
    },
    {
      "cell_type": "code",
      "metadata": {
        "id": "cIex0P39xQ1s"
      },
      "source": [
        "sns.set_context('paper')"
      ],
      "execution_count": null,
      "outputs": []
    },
    {
      "cell_type": "code",
      "metadata": {
        "colab": {
          "base_uri": "https://localhost:8080/",
          "height": 516
        },
        "id": "djZ4W3pjmHMr",
        "outputId": "40a92155-3c5f-4f7b-e392-b13fd14ddb94"
      },
      "source": [
        "# Revised method using dynamic variables for plot parameters\r\n",
        "prams = 'box'\r\n",
        "pal = 'winter'\r\n",
        "scl = 'count'\r\n",
        "plt.figure(figsize=(12, 8))\r\n",
        "ax = sns.violinplot(data=tblFil,x=col[1],y=col[11], width=1, inner=prams, bw=.7, scale=scl, palette=pal)\r\n",
        "axCld = ax.get_children()\r\n",
        "for i in range(18,35,2):\r\n",
        "  axCld[i].set_linewidth(2)\r\n",
        "  axCld[i].set_color('white')  \r\n",
        "# chart fill\r\n",
        "#axCld[45].set_color('gray')\r\n",
        "#ax.axes.set_axis_off()\r\n",
        "ax.set_title(gisTable.table.name, fontsize=16);\r\n"
      ],
      "execution_count": null,
      "outputs": [
        {
          "output_type": "display_data",
          "data": {
            "image/png": "[encoded data removed]",
            "text/plain": [
              "<Figure size 864x576 with 1 Axes>"
            ]
          },
          "metadata": {
            "tags": []
          }
        }
      ]
    },
    {
      "cell_type": "code",
      "metadata": {
        "colab": {
          "base_uri": "https://localhost:8080/",
          "height": 534
        },
        "id": "fYxQSrpujXbH",
        "outputId": "fd589dd2-285e-4fa2-88e5-acc2bac3b40f"
      },
      "source": [
        "prams = 'box'\r\n",
        "pal = 'winter'\r\n",
        "scl = 'count'\r\n",
        "plt.figure(figsize=(12, 8))\r\n",
        "ax1 = sns.violinplot(data=tblFil,x=col[1],y=col[11], width=.8, inner=None, bw=.7, scale=scl, palette=pal, zorder=-500)\r\n",
        "ax2 = sns.boxplot(data=tblFil,x=col[1],y=col[11], color=\"lightgrey\", width=.1, linewidth=1, zorder=500)\r\n",
        "ax2.set_title(gisTable.table.name, fontsize=16)\r\n",
        "#plt.figure(figsize=(18, 14))\r\n",
        "#sns.violinplot(data=tblFil,x=col[1],y=col[11], color=\"skyblue\", inner=None)\r\n",
        "#sns.boxenplot(data=tblFil,x=col[1],y=col[11], color=\"black\", width= 0.05)"
      ],
      "execution_count": null,
      "outputs": [
        {
          "output_type": "execute_result",
          "data": {
            "text/plain": [
              "Text(0.5, 1.0, 'WATER_DATA_2020')"
            ]
          },
          "metadata": {
            "tags": []
          },
          "execution_count": 261
        },
        {
          "output_type": "display_data",
          "data": {
            "image/png": "[encoded data removed]",
            "text/plain": [
              "<Figure size 864x576 with 1 Axes>"
            ]
          },
          "metadata": {
            "tags": []
          }
        }
      ]
    },
    {
      "cell_type": "code",
      "metadata": {
        "colab": {
          "base_uri": "https://localhost:8080/",
          "height": 517
        },
        "id": "5-bQmaktqc19",
        "outputId": "fdfe6cc5-68d6-4656-c103-713aa3372790"
      },
      "source": [
        "data = tblFil\r\n",
        "fig = plt.figure(figsize=[12,8])\r\n",
        "ax1 = fig.add_subplot(111)\r\n",
        "sns.violinplot(data=tblFil,x=col[1],y=col[11], width=.8, inner=None, bw=.7, scale=scl, palette=pal, ax=ax1)\r\n",
        "ax2 = fig.add_subplot(111, frameon=False, sharex=ax1, sharey=ax1)\r\n",
        "sns.boxplot(data=tblFil,x=col[1],y=col[11], color=\"white\", width=.1, linewidth=.5, ax=ax2)\r\n",
        "ax2.set_xlabel('')\r\n",
        "ax2.set_ylabel('')"
      ],
      "execution_count": null,
      "outputs": [
        {
          "output_type": "execute_result",
          "data": {
            "text/plain": [
              "Text(0, 0.5, '')"
            ]
          },
          "metadata": {
            "tags": []
          },
          "execution_count": 272
        },
        {
          "output_type": "display_data",
          "data": {
            "image/png": "[encoded data removed]",
            "text/plain": [
              "<Figure size 864x576 with 2 Axes>"
            ]
          },
          "metadata": {
            "tags": []
          }
        }
      ]
    },
    {
      "cell_type": "code",
      "metadata": {
        "id": "UZjaLJ_rglJ2"
      },
      "source": [
        "axCld[i]._markerfacecolor = 'purple'"
      ],
      "execution_count": null,
      "outputs": []
    },
    {
      "cell_type": "code",
      "metadata": {
        "colab": {
          "base_uri": "https://localhost:8080/",
          "height": 53
        },
        "id": "DYdWhBWuVmJQ",
        "outputId": "2c91e321-5d4c-4cad-ef35-90f55fe0bbd2"
      },
      "source": [
        "attrList = dir(ax.get_children()[0])\r\n",
        "axCld = ax.get_children()\r\n",
        "display(axCld[0], ax.get_children()[0])"
      ],
      "execution_count": null,
      "outputs": [
        {
          "output_type": "display_data",
          "data": {
            "text/plain": [
              "<matplotlib.collections.PolyCollection at 0x7f1a873377b8>"
            ]
          },
          "metadata": {
            "tags": []
          }
        },
        {
          "output_type": "display_data",
          "data": {
            "text/plain": [
              "<matplotlib.collections.PolyCollection at 0x7f1a873377b8>"
            ]
          },
          "metadata": {
            "tags": []
          }
        }
      ]
    },
    {
      "cell_type": "code",
      "metadata": {
        "colab": {
          "base_uri": "https://localhost:8080/"
        },
        "id": "F6xB0wF-W-fo",
        "outputId": "fe37a353-395a-4114-a36d-68407720ece1"
      },
      "source": [
        "axItem = ax.get_children()[45]\r\n",
        "axItem.__dict__\r\n",
        "dir(axItem)"
      ],
      "execution_count": null,
      "outputs": [
        {
          "output_type": "execute_result",
          "data": {
            "text/plain": [
              "['__class__',\n",
              " '__delattr__',\n",
              " '__dict__',\n",
              " '__dir__',\n",
              " '__doc__',\n",
              " '__eq__',\n",
              " '__format__',\n",
              " '__ge__',\n",
              " '__getattribute__',\n",
              " '__getstate__',\n",
              " '__gt__',\n",
              " '__hash__',\n",
              " '__init__',\n",
              " '__init_subclass__',\n",
              " '__le__',\n",
              " '__lt__',\n",
              " '__module__',\n",
              " '__ne__',\n",
              " '__new__',\n",
              " '__reduce__',\n",
              " '__reduce_ex__',\n",
              " '__repr__',\n",
              " '__setattr__',\n",
              " '__sizeof__',\n",
              " '__str__',\n",
              " '__subclasshook__',\n",
              " '__weakref__',\n",
              " '_agg_filter',\n",
              " '_alias_map',\n",
              " '_alpha',\n",
              " '_animated',\n",
              " '_antialiased',\n",
              " '_axes',\n",
              " '_bind_draw_path_function',\n",
              " '_capstyle',\n",
              " '_clipon',\n",
              " '_clippath',\n",
              " '_contains',\n",
              " '_convert_units',\n",
              " '_convert_xy_units',\n",
              " '_dashes',\n",
              " '_dashoffset',\n",
              " '_default_contains',\n",
              " '_edge_default',\n",
              " '_edgecolor',\n",
              " '_facecolor',\n",
              " '_fill',\n",
              " '_get_clipping_extent_bbox',\n",
              " '_gid',\n",
              " '_hatch',\n",
              " '_hatch_color',\n",
              " '_height',\n",
              " '_in_layout',\n",
              " '_joinstyle',\n",
              " '_label',\n",
              " '_linestyle',\n",
              " '_linewidth',\n",
              " '_mouseover',\n",
              " '_oid',\n",
              " '_original_edgecolor',\n",
              " '_original_facecolor',\n",
              " '_path_effects',\n",
              " '_picker',\n",
              " '_process_radius',\n",
              " '_prop_order',\n",
              " '_propobservers',\n",
              " '_rasterized',\n",
              " '_rect_transform',\n",
              " '_remove_method',\n",
              " '_set_edgecolor',\n",
              " '_set_facecolor',\n",
              " '_set_gc_clip',\n",
              " '_sketch',\n",
              " '_snap',\n",
              " '_stale',\n",
              " '_sticky_edges',\n",
              " '_transform',\n",
              " '_transformSet',\n",
              " '_update_patch_transform',\n",
              " '_update_x1',\n",
              " '_update_y1',\n",
              " '_url',\n",
              " '_us_dashes',\n",
              " '_visible',\n",
              " '_width',\n",
              " '_x0',\n",
              " '_x1',\n",
              " '_y0',\n",
              " '_y1',\n",
              " 'add_callback',\n",
              " 'aname',\n",
              " 'angle',\n",
              " 'axes',\n",
              " 'clipbox',\n",
              " 'contains',\n",
              " 'contains_point',\n",
              " 'contains_points',\n",
              " 'convert_xunits',\n",
              " 'convert_yunits',\n",
              " 'draw',\n",
              " 'eventson',\n",
              " 'figure',\n",
              " 'fill',\n",
              " 'findobj',\n",
              " 'format_cursor_data',\n",
              " 'get_aa',\n",
              " 'get_agg_filter',\n",
              " 'get_alpha',\n",
              " 'get_animated',\n",
              " 'get_antialiased',\n",
              " 'get_bbox',\n",
              " 'get_capstyle',\n",
              " 'get_children',\n",
              " 'get_clip_box',\n",
              " 'get_clip_on',\n",
              " 'get_clip_path',\n",
              " 'get_contains',\n",
              " 'get_cursor_data',\n",
              " 'get_data_transform',\n",
              " 'get_ec',\n",
              " 'get_edgecolor',\n",
              " 'get_extents',\n",
              " 'get_facecolor',\n",
              " 'get_fc',\n",
              " 'get_figure',\n",
              " 'get_fill',\n",
              " 'get_gid',\n",
              " 'get_hatch',\n",
              " 'get_height',\n",
              " 'get_in_layout',\n",
              " 'get_joinstyle',\n",
              " 'get_label',\n",
              " 'get_linestyle',\n",
              " 'get_linewidth',\n",
              " 'get_ls',\n",
              " 'get_lw',\n",
              " 'get_patch_transform',\n",
              " 'get_path',\n",
              " 'get_path_effects',\n",
              " 'get_picker',\n",
              " 'get_rasterized',\n",
              " 'get_sketch_params',\n",
              " 'get_snap',\n",
              " 'get_tightbbox',\n",
              " 'get_transform',\n",
              " 'get_transformed_clip_path_and_affine',\n",
              " 'get_url',\n",
              " 'get_verts',\n",
              " 'get_visible',\n",
              " 'get_width',\n",
              " 'get_window_extent',\n",
              " 'get_x',\n",
              " 'get_xy',\n",
              " 'get_y',\n",
              " 'get_zorder',\n",
              " 'have_units',\n",
              " 'is_transform_set',\n",
              " 'mouseover',\n",
              " 'pchanged',\n",
              " 'pick',\n",
              " 'pickable',\n",
              " 'properties',\n",
              " 'remove',\n",
              " 'remove_callback',\n",
              " 'set',\n",
              " 'set_aa',\n",
              " 'set_agg_filter',\n",
              " 'set_alpha',\n",
              " 'set_animated',\n",
              " 'set_antialiased',\n",
              " 'set_bounds',\n",
              " 'set_capstyle',\n",
              " 'set_clip_box',\n",
              " 'set_clip_on',\n",
              " 'set_clip_path',\n",
              " 'set_color',\n",
              " 'set_contains',\n",
              " 'set_ec',\n",
              " 'set_edgecolor',\n",
              " 'set_facecolor',\n",
              " 'set_fc',\n",
              " 'set_figure',\n",
              " 'set_fill',\n",
              " 'set_gid',\n",
              " 'set_hatch',\n",
              " 'set_height',\n",
              " 'set_in_layout',\n",
              " 'set_joinstyle',\n",
              " 'set_label',\n",
              " 'set_linestyle',\n",
              " 'set_linewidth',\n",
              " 'set_ls',\n",
              " 'set_lw',\n",
              " 'set_path_effects',\n",
              " 'set_picker',\n",
              " 'set_rasterized',\n",
              " 'set_sketch_params',\n",
              " 'set_snap',\n",
              " 'set_transform',\n",
              " 'set_url',\n",
              " 'set_visible',\n",
              " 'set_width',\n",
              " 'set_x',\n",
              " 'set_xy',\n",
              " 'set_y',\n",
              " 'set_zorder',\n",
              " 'stale',\n",
              " 'stale_callback',\n",
              " 'sticky_edges',\n",
              " 'update',\n",
              " 'update_from',\n",
              " 'validCap',\n",
              " 'validJoin',\n",
              " 'xy',\n",
              " 'zorder']"
            ]
          },
          "metadata": {
            "tags": []
          },
          "execution_count": 172
        }
      ]
    },
    {
      "cell_type": "code",
      "metadata": {
        "id": "cbQj8N_sSbCi",
        "colab": {
          "base_uri": "https://localhost:8080/",
          "height": 845
        },
        "outputId": "75330d64-b54c-4312-a015-136567998ccd"
      },
      "source": [
        "axList = [1,3,5,7,9,11,13,15,17]\r\n",
        "for i, x in enumerate(ax.get_children()):\r\n",
        "  display(f'{i} - {x}')\r\n",
        "\r\n",
        "#ax.get_children()"
      ],
      "execution_count": null,
      "outputs": [
        {
          "output_type": "display_data",
          "data": {
            "application/vnd.google.colaboratory.intrinsic+json": {
              "type": "string"
            },
            "text/plain": [
              "'0 - <matplotlib.collections.PolyCollection object at 0x7f1a87739898>'"
            ]
          },
          "metadata": {
            "tags": []
          }
        },
        {
          "output_type": "display_data",
          "data": {
            "application/vnd.google.colaboratory.intrinsic+json": {
              "type": "string"
            },
            "text/plain": [
              "'1 - <matplotlib.collections.PathCollection object at 0x7f1a87747400>'"
            ]
          },
          "metadata": {
            "tags": []
          }
        },
        {
          "output_type": "display_data",
          "data": {
            "application/vnd.google.colaboratory.intrinsic+json": {
              "type": "string"
            },
            "text/plain": [
              "'2 - <matplotlib.collections.PolyCollection object at 0x7f1a87747748>'"
            ]
          },
          "metadata": {
            "tags": []
          }
        },
        {
          "output_type": "display_data",
          "data": {
            "application/vnd.google.colaboratory.intrinsic+json": {
              "type": "string"
            },
            "text/plain": [
              "'3 - <matplotlib.collections.PathCollection object at 0x7f1a87753128>'"
            ]
          },
          "metadata": {
            "tags": []
          }
        },
        {
          "output_type": "display_data",
          "data": {
            "application/vnd.google.colaboratory.intrinsic+json": {
              "type": "string"
            },
            "text/plain": [
              "'4 - <matplotlib.collections.PolyCollection object at 0x7f1a87753470>'"
            ]
          },
          "metadata": {
            "tags": []
          }
        },
        {
          "output_type": "display_data",
          "data": {
            "application/vnd.google.colaboratory.intrinsic+json": {
              "type": "string"
            },
            "text/plain": [
              "'5 - <matplotlib.collections.PathCollection object at 0x7f1a87753e80>'"
            ]
          },
          "metadata": {
            "tags": []
          }
        },
        {
          "output_type": "display_data",
          "data": {
            "application/vnd.google.colaboratory.intrinsic+json": {
              "type": "string"
            },
            "text/plain": [
              "'6 - <matplotlib.collections.PolyCollection object at 0x7f1a876e0208>'"
            ]
          },
          "metadata": {
            "tags": []
          }
        },
        {
          "output_type": "display_data",
          "data": {
            "application/vnd.google.colaboratory.intrinsic+json": {
              "type": "string"
            },
            "text/plain": [
              "'7 - <matplotlib.collections.PathCollection object at 0x7f1a87753dd8>'"
            ]
          },
          "metadata": {
            "tags": []
          }
        },
        {
          "output_type": "display_data",
          "data": {
            "application/vnd.google.colaboratory.intrinsic+json": {
              "type": "string"
            },
            "text/plain": [
              "'8 - <matplotlib.collections.PolyCollection object at 0x7f1a876e0e80>'"
            ]
          },
          "metadata": {
            "tags": []
          }
        },
        {
          "output_type": "display_data",
          "data": {
            "application/vnd.google.colaboratory.intrinsic+json": {
              "type": "string"
            },
            "text/plain": [
              "'9 - <matplotlib.collections.PathCollection object at 0x7f1a876ee8d0>'"
            ]
          },
          "metadata": {
            "tags": []
          }
        },
        {
          "output_type": "display_data",
          "data": {
            "application/vnd.google.colaboratory.intrinsic+json": {
              "type": "string"
            },
            "text/plain": [
              "'10 - <matplotlib.collections.PolyCollection object at 0x7f1a876eec18>'"
            ]
          },
          "metadata": {
            "tags": []
          }
        },
        {
          "output_type": "display_data",
          "data": {
            "application/vnd.google.colaboratory.intrinsic+json": {
              "type": "string"
            },
            "text/plain": [
              "'11 - <matplotlib.collections.PathCollection object at 0x7f1a876fa668>'"
            ]
          },
          "metadata": {
            "tags": []
          }
        },
        {
          "output_type": "display_data",
          "data": {
            "application/vnd.google.colaboratory.intrinsic+json": {
              "type": "string"
            },
            "text/plain": [
              "'12 - <matplotlib.collections.PolyCollection object at 0x7f1a87753080>'"
            ]
          },
          "metadata": {
            "tags": []
          }
        },
        {
          "output_type": "display_data",
          "data": {
            "application/vnd.google.colaboratory.intrinsic+json": {
              "type": "string"
            },
            "text/plain": [
              "'13 - <matplotlib.collections.PathCollection object at 0x7f1a87706320>'"
            ]
          },
          "metadata": {
            "tags": []
          }
        },
        {
          "output_type": "display_data",
          "data": {
            "application/vnd.google.colaboratory.intrinsic+json": {
              "type": "string"
            },
            "text/plain": [
              "'14 - <matplotlib.collections.PolyCollection object at 0x7f1a87706668>'"
            ]
          },
          "metadata": {
            "tags": []
          }
        },
        {
          "output_type": "display_data",
          "data": {
            "application/vnd.google.colaboratory.intrinsic+json": {
              "type": "string"
            },
            "text/plain": [
              "'15 - <matplotlib.collections.PathCollection object at 0x7f1a877150b8>'"
            ]
          },
          "metadata": {
            "tags": []
          }
        },
        {
          "output_type": "display_data",
          "data": {
            "application/vnd.google.colaboratory.intrinsic+json": {
              "type": "string"
            },
            "text/plain": [
              "'16 - <matplotlib.collections.PolyCollection object at 0x7f1a87715400>'"
            ]
          },
          "metadata": {
            "tags": []
          }
        },
        {
          "output_type": "display_data",
          "data": {
            "application/vnd.google.colaboratory.intrinsic+json": {
              "type": "string"
            },
            "text/plain": [
              "'17 - <matplotlib.collections.PathCollection object at 0x7f1a87715d30>'"
            ]
          },
          "metadata": {
            "tags": []
          }
        },
        {
          "output_type": "display_data",
          "data": {
            "application/vnd.google.colaboratory.intrinsic+json": {
              "type": "string"
            },
            "text/plain": [
              "'18 - Line2D(_line0)'"
            ]
          },
          "metadata": {
            "tags": []
          }
        },
        {
          "output_type": "display_data",
          "data": {
            "application/vnd.google.colaboratory.intrinsic+json": {
              "type": "string"
            },
            "text/plain": [
              "'19 - Line2D(_line1)'"
            ]
          },
          "metadata": {
            "tags": []
          }
        },
        {
          "output_type": "display_data",
          "data": {
            "application/vnd.google.colaboratory.intrinsic+json": {
              "type": "string"
            },
            "text/plain": [
              "'20 - Line2D(_line2)'"
            ]
          },
          "metadata": {
            "tags": []
          }
        },
        {
          "output_type": "display_data",
          "data": {
            "application/vnd.google.colaboratory.intrinsic+json": {
              "type": "string"
            },
            "text/plain": [
              "'21 - Line2D(_line3)'"
            ]
          },
          "metadata": {
            "tags": []
          }
        },
        {
          "output_type": "display_data",
          "data": {
            "application/vnd.google.colaboratory.intrinsic+json": {
              "type": "string"
            },
            "text/plain": [
              "'22 - Line2D(_line4)'"
            ]
          },
          "metadata": {
            "tags": []
          }
        },
        {
          "output_type": "display_data",
          "data": {
            "application/vnd.google.colaboratory.intrinsic+json": {
              "type": "string"
            },
            "text/plain": [
              "'23 - Line2D(_line5)'"
            ]
          },
          "metadata": {
            "tags": []
          }
        },
        {
          "output_type": "display_data",
          "data": {
            "application/vnd.google.colaboratory.intrinsic+json": {
              "type": "string"
            },
            "text/plain": [
              "'24 - Line2D(_line6)'"
            ]
          },
          "metadata": {
            "tags": []
          }
        },
        {
          "output_type": "display_data",
          "data": {
            "application/vnd.google.colaboratory.intrinsic+json": {
              "type": "string"
            },
            "text/plain": [
              "'25 - Line2D(_line7)'"
            ]
          },
          "metadata": {
            "tags": []
          }
        },
        {
          "output_type": "display_data",
          "data": {
            "application/vnd.google.colaboratory.intrinsic+json": {
              "type": "string"
            },
            "text/plain": [
              "'26 - Line2D(_line8)'"
            ]
          },
          "metadata": {
            "tags": []
          }
        },
        {
          "output_type": "display_data",
          "data": {
            "application/vnd.google.colaboratory.intrinsic+json": {
              "type": "string"
            },
            "text/plain": [
              "'27 - Line2D(_line9)'"
            ]
          },
          "metadata": {
            "tags": []
          }
        },
        {
          "output_type": "display_data",
          "data": {
            "application/vnd.google.colaboratory.intrinsic+json": {
              "type": "string"
            },
            "text/plain": [
              "'28 - Line2D(_line10)'"
            ]
          },
          "metadata": {
            "tags": []
          }
        },
        {
          "output_type": "display_data",
          "data": {
            "application/vnd.google.colaboratory.intrinsic+json": {
              "type": "string"
            },
            "text/plain": [
              "'29 - Line2D(_line11)'"
            ]
          },
          "metadata": {
            "tags": []
          }
        },
        {
          "output_type": "display_data",
          "data": {
            "application/vnd.google.colaboratory.intrinsic+json": {
              "type": "string"
            },
            "text/plain": [
              "'30 - Line2D(_line12)'"
            ]
          },
          "metadata": {
            "tags": []
          }
        },
        {
          "output_type": "display_data",
          "data": {
            "application/vnd.google.colaboratory.intrinsic+json": {
              "type": "string"
            },
            "text/plain": [
              "'31 - Line2D(_line13)'"
            ]
          },
          "metadata": {
            "tags": []
          }
        },
        {
          "output_type": "display_data",
          "data": {
            "application/vnd.google.colaboratory.intrinsic+json": {
              "type": "string"
            },
            "text/plain": [
              "'32 - Line2D(_line14)'"
            ]
          },
          "metadata": {
            "tags": []
          }
        },
        {
          "output_type": "display_data",
          "data": {
            "application/vnd.google.colaboratory.intrinsic+json": {
              "type": "string"
            },
            "text/plain": [
              "'33 - Line2D(_line15)'"
            ]
          },
          "metadata": {
            "tags": []
          }
        },
        {
          "output_type": "display_data",
          "data": {
            "application/vnd.google.colaboratory.intrinsic+json": {
              "type": "string"
            },
            "text/plain": [
              "'34 - Line2D(_line16)'"
            ]
          },
          "metadata": {
            "tags": []
          }
        },
        {
          "output_type": "display_data",
          "data": {
            "application/vnd.google.colaboratory.intrinsic+json": {
              "type": "string"
            },
            "text/plain": [
              "'35 - Line2D(_line17)'"
            ]
          },
          "metadata": {
            "tags": []
          }
        },
        {
          "output_type": "display_data",
          "data": {
            "application/vnd.google.colaboratory.intrinsic+json": {
              "type": "string"
            },
            "text/plain": [
              "'36 - Spine'"
            ]
          },
          "metadata": {
            "tags": []
          }
        },
        {
          "output_type": "display_data",
          "data": {
            "application/vnd.google.colaboratory.intrinsic+json": {
              "type": "string"
            },
            "text/plain": [
              "'37 - Spine'"
            ]
          },
          "metadata": {
            "tags": []
          }
        },
        {
          "output_type": "display_data",
          "data": {
            "application/vnd.google.colaboratory.intrinsic+json": {
              "type": "string"
            },
            "text/plain": [
              "'38 - Spine'"
            ]
          },
          "metadata": {
            "tags": []
          }
        },
        {
          "output_type": "display_data",
          "data": {
            "application/vnd.google.colaboratory.intrinsic+json": {
              "type": "string"
            },
            "text/plain": [
              "'39 - Spine'"
            ]
          },
          "metadata": {
            "tags": []
          }
        },
        {
          "output_type": "display_data",
          "data": {
            "application/vnd.google.colaboratory.intrinsic+json": {
              "type": "string"
            },
            "text/plain": [
              "'40 - XAxis(90.0,72.0)'"
            ]
          },
          "metadata": {
            "tags": []
          }
        },
        {
          "output_type": "display_data",
          "data": {
            "application/vnd.google.colaboratory.intrinsic+json": {
              "type": "string"
            },
            "text/plain": [
              "'41 - YAxis(90.0,72.0)'"
            ]
          },
          "metadata": {
            "tags": []
          }
        },
        {
          "output_type": "display_data",
          "data": {
            "application/vnd.google.colaboratory.intrinsic+json": {
              "type": "string"
            },
            "text/plain": [
              "\"42 - Text(0.5, 1.0, 'WATER_DATA_2020')\""
            ]
          },
          "metadata": {
            "tags": []
          }
        },
        {
          "output_type": "display_data",
          "data": {
            "application/vnd.google.colaboratory.intrinsic+json": {
              "type": "string"
            },
            "text/plain": [
              "\"43 - Text(0.0, 1.0, '')\""
            ]
          },
          "metadata": {
            "tags": []
          }
        },
        {
          "output_type": "display_data",
          "data": {
            "application/vnd.google.colaboratory.intrinsic+json": {
              "type": "string"
            },
            "text/plain": [
              "\"44 - Text(1.0, 1.0, '')\""
            ]
          },
          "metadata": {
            "tags": []
          }
        },
        {
          "output_type": "display_data",
          "data": {
            "application/vnd.google.colaboratory.intrinsic+json": {
              "type": "string"
            },
            "text/plain": [
              "'45 - Rectangle(xy=(0, 0), width=1, height=1, angle=0)'"
            ]
          },
          "metadata": {
            "tags": []
          }
        }
      ]
    },
    {
      "cell_type": "markdown",
      "metadata": {
        "id": "guWDp-IACXPr"
      },
      "source": [
        "### Sample EPA ArcGIS Server Workflow"
      ]
    },
    {
      "cell_type": "code",
      "metadata": {
        "id": "su_W3nVE4xzI"
      },
      "source": [
        "# 1 - Create MapServer with Server root url\r\n",
        "rest_url = 'https://gispub.epa.gov/arcgis/rest/services'\r\n",
        "gisServer = mapServer(rest_url)"
      ],
      "execution_count": null,
      "outputs": []
    },
    {
      "cell_type": "code",
      "metadata": {
        "id": "bOQidO4DStQk"
      },
      "source": [
        "# 2 - Derive specified arcService from root MapServer Object\r\n",
        "gisService = gisServer.getSubService()"
      ],
      "execution_count": null,
      "outputs": []
    },
    {
      "cell_type": "code",
      "metadata": {
        "id": "ezg1XCjp9vQx"
      },
      "source": [
        "# 3 - Generate layer from specific specified arcService Endpoint\r\n",
        "gisLayer = gisService.getLayer()\r\n",
        "gisLayer.getInfo()"
      ],
      "execution_count": null,
      "outputs": []
    },
    {
      "cell_type": "code",
      "metadata": {
        "id": "UnVIXMsZCVkV"
      },
      "source": [
        "# 4 - Return geoDataframe from layer query\r\n",
        "gdf = gisLayer.layerQuery()\r\n",
        "gdf.head()"
      ],
      "execution_count": null,
      "outputs": []
    },
    {
      "cell_type": "markdown",
      "metadata": {
        "id": "pb4o8LYeTr71"
      },
      "source": [
        "## APPENDICIES"
      ]
    },
    {
      "cell_type": "code",
      "metadata": {
        "id": "Cvi7-BY4mkiL",
        "colab": {
          "base_uri": "https://localhost:8080/"
        },
        "outputId": "daa6e0eb-a138-47fb-8fa9-e353b36ba51a"
      },
      "source": [
        "import os\r\n",
        "os.environ['RESTAPI_USE_ARCPY'] = 'FALSE'\r\n",
        "os.environ['RESTAPI_VERIFY_CERT'] = 'FALSE'\r\n",
        "\r\n",
        "!pip install bmi-arcgis-restapi\r\n",
        "import restapi"
      ],
      "execution_count": 1,
      "outputs": [
        {
          "output_type": "stream",
          "text": [
            "Collecting bmi-arcgis-restapi\n",
            "\u001b[?25l  Downloading https://files.pythonhosted.org/packages/af/6f/b98bb59e686881e97be53bd32b13a7af510fbe830c3d4ec9ab17fdbbfc69/bmi-arcgis-restapi-2.0.2.tar.gz (486kB)\n",
            "\u001b[K     |████████████████████████████████| 491kB 7.7MB/s \n",
            "\u001b[?25hCollecting munch\n",
            "  Downloading https://files.pythonhosted.org/packages/cc/ab/85d8da5c9a45e072301beb37ad7f833cd344e04c817d97e0cc75681d248f/munch-2.5.0-py2.py3-none-any.whl\n",
            "Requirement already satisfied: requests in /usr/local/lib/python3.6/dist-packages (from bmi-arcgis-restapi) (2.23.0)\n",
            "Requirement already satisfied: urllib3 in /usr/local/lib/python3.6/dist-packages (from bmi-arcgis-restapi) (1.24.3)\n",
            "Requirement already satisfied: six in /usr/local/lib/python3.6/dist-packages (from munch->bmi-arcgis-restapi) (1.15.0)\n",
            "Requirement already satisfied: idna<3,>=2.5 in /usr/local/lib/python3.6/dist-packages (from requests->bmi-arcgis-restapi) (2.10)\n",
            "Requirement already satisfied: certifi>=2017.4.17 in /usr/local/lib/python3.6/dist-packages (from requests->bmi-arcgis-restapi) (2020.12.5)\n",
            "Requirement already satisfied: chardet<4,>=3.0.2 in /usr/local/lib/python3.6/dist-packages (from requests->bmi-arcgis-restapi) (3.0.4)\n",
            "Building wheels for collected packages: bmi-arcgis-restapi\n",
            "  Building wheel for bmi-arcgis-restapi (setup.py) ... \u001b[?25l\u001b[?25hdone\n",
            "  Created wheel for bmi-arcgis-restapi: filename=bmi_arcgis_restapi-2.0.2-cp36-none-any.whl size=493706 sha256=d8aa40496fbd8e0fd40d0cc33d783434da4afbe29952483895a0d5067cb6f2e5\n",
            "  Stored in directory: /root/.cache/pip/wheels/66/61/9e/5b7142135cc89747a0e095bdecaa428ac14549d570bffbce5a\n",
            "Successfully built bmi-arcgis-restapi\n",
            "Installing collected packages: munch, bmi-arcgis-restapi\n",
            "Successfully installed bmi-arcgis-restapi-2.0.2 munch-2.5.0\n",
            "arcpy import error:  \n"
          ],
          "name": "stdout"
        },
        {
          "output_type": "stream",
          "text": [
            "/usr/local/lib/python3.6/dist-packages/restapi/common_types.py:35: UserWarning: No Arcpy found, some limitations in functionality may apply.\n",
            "  warnings.warn('No Arcpy found, some limitations in functionality may apply.')\n"
          ],
          "name": "stderr"
        }
      ]
    },
    {
      "cell_type": "code",
      "metadata": {
        "id": "7j1lMBOl2ZEW",
        "colab": {
          "base_uri": "https://localhost:8080/"
        },
        "outputId": "ea44a204-9d12-4057-ea04-c1f1d11ad3b1"
      },
      "source": [
        "%%time \r\n",
        "#!apt update\r\n",
        "#!apt upgrade\r\n",
        "#!apt-get install -qq libgdal-dev libproj-dev\r\n",
        "!apt install gdal-bin python-gdal python3-gdal\r\n",
        "!apt install python3-rtree \r\n",
        "!pip install git+git://github.com/geopandas/geopandas.git\r\n",
        "!pip install descartes\r\n",
        "import geopandas as gpd\r\n",
        "!pip install contextily\r\n",
        "import contextily as ctx\r\n",
        "!pip install pygeos\r\n",
        "!pip install folium\r\n",
        "\r\n",
        "import time\r\n",
        "import getpass\r\n",
        "from pathlib import Path\r\n",
        "from shapely.geometry import Point\r\n",
        "from IPython.display import display\r\n",
        "from IPython.display import Markdown as md\r\n",
        "import plotly.express as px\r\n",
        "import pandas as pd\r\n",
        "import numpy as np\r\n",
        "import matplotlib\r\n",
        "import matplotlib.pyplot as plt \r\n",
        "import folium"
      ],
      "execution_count": 2,
      "outputs": [
        {
          "output_type": "stream",
          "text": [
            "Reading package lists... Done\n",
            "Building dependency tree       \n",
            "Reading state information... Done\n",
            "gdal-bin is already the newest version (2.2.3+dfsg-2).\n",
            "python-gdal is already the newest version (2.2.3+dfsg-2).\n",
            "python3-gdal is already the newest version (2.2.3+dfsg-2).\n",
            "0 upgraded, 0 newly installed, 0 to remove and 13 not upgraded.\n",
            "Reading package lists... Done\n",
            "Building dependency tree       \n",
            "Reading state information... Done\n",
            "The following additional packages will be installed:\n",
            "  libspatialindex-c4v5 libspatialindex-dev libspatialindex4v5\n",
            "  python3-pkg-resources\n",
            "Suggested packages:\n",
            "  python3-setuptools\n",
            "The following NEW packages will be installed:\n",
            "  libspatialindex-c4v5 libspatialindex-dev libspatialindex4v5\n",
            "  python3-pkg-resources python3-rtree\n",
            "0 upgraded, 5 newly installed, 0 to remove and 13 not upgraded.\n",
            "Need to get 671 kB of archives.\n",
            "After this operation, 3,948 kB of additional disk space will be used.\n",
            "Get:1 http://archive.ubuntu.com/ubuntu bionic/universe amd64 libspatialindex4v5 amd64 1.8.5-5 [219 kB]\n",
            "Get:2 http://archive.ubuntu.com/ubuntu bionic/universe amd64 libspatialindex-c4v5 amd64 1.8.5-5 [51.7 kB]\n",
            "Get:3 http://archive.ubuntu.com/ubuntu bionic/main amd64 python3-pkg-resources all 39.0.1-2 [98.8 kB]\n",
            "Get:4 http://archive.ubuntu.com/ubuntu bionic/universe amd64 libspatialindex-dev amd64 1.8.5-5 [285 kB]\n",
            "Get:5 http://archive.ubuntu.com/ubuntu bionic/universe amd64 python3-rtree all 0.8.3+ds-1 [16.9 kB]\n",
            "Fetched 671 kB in 1s (475 kB/s)\n",
            "Selecting previously unselected package libspatialindex4v5:amd64.\n",
            "(Reading database ... 146374 files and directories currently installed.)\n",
            "Preparing to unpack .../libspatialindex4v5_1.8.5-5_amd64.deb ...\n",
            "Unpacking libspatialindex4v5:amd64 (1.8.5-5) ...\n",
            "Selecting previously unselected package libspatialindex-c4v5:amd64.\n",
            "Preparing to unpack .../libspatialindex-c4v5_1.8.5-5_amd64.deb ...\n",
            "Unpacking libspatialindex-c4v5:amd64 (1.8.5-5) ...\n",
            "Selecting previously unselected package python3-pkg-resources.\n",
            "Preparing to unpack .../python3-pkg-resources_39.0.1-2_all.deb ...\n",
            "Unpacking python3-pkg-resources (39.0.1-2) ...\n",
            "Selecting previously unselected package libspatialindex-dev:amd64.\n",
            "Preparing to unpack .../libspatialindex-dev_1.8.5-5_amd64.deb ...\n",
            "Unpacking libspatialindex-dev:amd64 (1.8.5-5) ...\n",
            "Selecting previously unselected package python3-rtree.\n",
            "Preparing to unpack .../python3-rtree_0.8.3+ds-1_all.deb ...\n",
            "Unpacking python3-rtree (0.8.3+ds-1) ...\n",
            "Setting up libspatialindex4v5:amd64 (1.8.5-5) ...\n",
            "Setting up python3-pkg-resources (39.0.1-2) ...\n",
            "Setting up libspatialindex-c4v5:amd64 (1.8.5-5) ...\n",
            "Setting up libspatialindex-dev:amd64 (1.8.5-5) ...\n",
            "Setting up python3-rtree (0.8.3+ds-1) ...\n",
            "Processing triggers for libc-bin (2.27-3ubuntu1.3) ...\n",
            "/sbin/ldconfig.real: /usr/local/lib/python3.6/dist-packages/ideep4py/lib/libmkldnn.so.0 is not a symbolic link\n",
            "\n",
            "Collecting git+git://github.com/geopandas/geopandas.git\n",
            "  Cloning git://github.com/geopandas/geopandas.git to /tmp/pip-req-build-ubu9dwou\n",
            "  Running command git clone -q git://github.com/geopandas/geopandas.git /tmp/pip-req-build-ubu9dwou\n",
            "Requirement already satisfied: pandas>=0.24.0 in /usr/local/lib/python3.6/dist-packages (from geopandas==0.8.0+85.geabe404) (1.1.5)\n",
            "Requirement already satisfied: shapely>=1.6 in /usr/local/lib/python3.6/dist-packages (from geopandas==0.8.0+85.geabe404) (1.7.1)\n",
            "Collecting fiona>=1.8\n",
            "\u001b[?25l  Downloading https://files.pythonhosted.org/packages/37/94/4910fd55246c1d963727b03885ead6ef1cd3748a465f7b0239ab25dfc9a3/Fiona-1.8.18-cp36-cp36m-manylinux1_x86_64.whl (14.8MB)\n",
            "\u001b[K     |████████████████████████████████| 14.8MB 302kB/s \n",
            "\u001b[?25hCollecting pyproj>=2.2.0\n",
            "\u001b[?25l  Downloading https://files.pythonhosted.org/packages/e4/ab/280e80a67cfc109d15428c0ec56391fc03a65857b7727cf4e6e6f99a4204/pyproj-3.0.0.post1-cp36-cp36m-manylinux2010_x86_64.whl (6.4MB)\n",
            "\u001b[K     |████████████████████████████████| 6.5MB 40.2MB/s \n",
            "\u001b[?25hRequirement already satisfied: pytz>=2017.2 in /usr/local/lib/python3.6/dist-packages (from pandas>=0.24.0->geopandas==0.8.0+85.geabe404) (2018.9)\n",
            "Requirement already satisfied: python-dateutil>=2.7.3 in /usr/local/lib/python3.6/dist-packages (from pandas>=0.24.0->geopandas==0.8.0+85.geabe404) (2.8.1)\n",
            "Requirement already satisfied: numpy>=1.15.4 in /usr/local/lib/python3.6/dist-packages (from pandas>=0.24.0->geopandas==0.8.0+85.geabe404) (1.19.5)\n",
            "Requirement already satisfied: certifi in /usr/local/lib/python3.6/dist-packages (from fiona>=1.8->geopandas==0.8.0+85.geabe404) (2020.12.5)\n",
            "Requirement already satisfied: click<8,>=4.0 in /usr/local/lib/python3.6/dist-packages (from fiona>=1.8->geopandas==0.8.0+85.geabe404) (7.1.2)\n",
            "Collecting click-plugins>=1.0\n",
            "  Downloading https://files.pythonhosted.org/packages/e9/da/824b92d9942f4e472702488857914bdd50f73021efea15b4cad9aca8ecef/click_plugins-1.1.1-py2.py3-none-any.whl\n",
            "Requirement already satisfied: six>=1.7 in /usr/local/lib/python3.6/dist-packages (from fiona>=1.8->geopandas==0.8.0+85.geabe404) (1.15.0)\n",
            "Requirement already satisfied: munch in /usr/local/lib/python3.6/dist-packages (from fiona>=1.8->geopandas==0.8.0+85.geabe404) (2.5.0)\n",
            "Requirement already satisfied: attrs>=17 in /usr/local/lib/python3.6/dist-packages (from fiona>=1.8->geopandas==0.8.0+85.geabe404) (20.3.0)\n",
            "Collecting cligj>=0.5\n",
            "  Downloading https://files.pythonhosted.org/packages/42/1e/947eadf10d6804bf276eb8a038bd5307996dceaaa41cfd21b7a15ec62f5d/cligj-0.7.1-py3-none-any.whl\n",
            "Building wheels for collected packages: geopandas\n",
            "  Building wheel for geopandas (setup.py) ... \u001b[?25l\u001b[?25hdone\n",
            "  Created wheel for geopandas: filename=geopandas-0.8.0+85.geabe404-py2.py3-none-any.whl size=976150 sha256=d1e6daa9be303651cca975f199dc19c71a31b10d295e811fc61c41df35c13516\n",
            "  Stored in directory: /tmp/pip-ephem-wheel-cache-7au5rvdr/wheels/91/24/71/376c9c67192694168352afcccc2d264248f7e2cc6192997186\n",
            "Successfully built geopandas\n",
            "Installing collected packages: click-plugins, cligj, fiona, pyproj, geopandas\n",
            "Successfully installed click-plugins-1.1.1 cligj-0.7.1 fiona-1.8.18 geopandas-0.8.0+85.geabe404 pyproj-3.0.0.post1\n",
            "Requirement already satisfied: descartes in /usr/local/lib/python3.6/dist-packages (1.1.0)\n",
            "Requirement already satisfied: matplotlib in /usr/local/lib/python3.6/dist-packages (from descartes) (3.2.2)\n",
            "Requirement already satisfied: cycler>=0.10 in /usr/local/lib/python3.6/dist-packages (from matplotlib->descartes) (0.10.0)\n",
            "Requirement already satisfied: python-dateutil>=2.1 in /usr/local/lib/python3.6/dist-packages (from matplotlib->descartes) (2.8.1)\n",
            "Requirement already satisfied: kiwisolver>=1.0.1 in /usr/local/lib/python3.6/dist-packages (from matplotlib->descartes) (1.3.1)\n",
            "Requirement already satisfied: pyparsing!=2.0.4,!=2.1.2,!=2.1.6,>=2.0.1 in /usr/local/lib/python3.6/dist-packages (from matplotlib->descartes) (2.4.7)\n",
            "Requirement already satisfied: numpy>=1.11 in /usr/local/lib/python3.6/dist-packages (from matplotlib->descartes) (1.19.5)\n",
            "Requirement already satisfied: six in /usr/local/lib/python3.6/dist-packages (from cycler>=0.10->matplotlib->descartes) (1.15.0)\n",
            "Collecting contextily\n",
            "  Downloading https://files.pythonhosted.org/packages/93/2a/22b34b6129303c594c21cb80ded800ebd6d13037f00d162d9b3a3785d5ea/contextily-1.0.1-py3-none-any.whl\n",
            "Collecting rasterio\n",
            "\u001b[?25l  Downloading https://files.pythonhosted.org/packages/33/1a/51baddc8581ead98fcef591624b4b2521b581943a9178912a2ac576e0235/rasterio-1.1.8-1-cp36-cp36m-manylinux1_x86_64.whl (18.3MB)\n",
            "\u001b[K     |████████████████████████████████| 18.3MB 1.1MB/s \n",
            "\u001b[?25hRequirement already satisfied: requests in /usr/local/lib/python3.6/dist-packages (from contextily) (2.23.0)\n",
            "Requirement already satisfied: matplotlib in /usr/local/lib/python3.6/dist-packages (from contextily) (3.2.2)\n",
            "Requirement already satisfied: joblib in /usr/local/lib/python3.6/dist-packages (from contextily) (1.0.0)\n",
            "Requirement already satisfied: geopy in /usr/local/lib/python3.6/dist-packages (from contextily) (1.17.0)\n",
            "Collecting mercantile\n",
            "  Downloading https://files.pythonhosted.org/packages/b9/cd/ee6dbee0abca93edda53703fe408d2a6abdc8c1b248a3c9a4539089eafa2/mercantile-1.1.6-py3-none-any.whl\n",
            "Requirement already satisfied: pillow in /usr/local/lib/python3.6/dist-packages (from contextily) (7.0.0)\n",
            "Requirement already satisfied: numpy in /usr/local/lib/python3.6/dist-packages (from rasterio->contextily) (1.19.5)\n",
            "Requirement already satisfied: click-plugins in /usr/local/lib/python3.6/dist-packages (from rasterio->contextily) (1.1.1)\n",
            "Collecting snuggs>=1.4.1\n",
            "  Downloading https://files.pythonhosted.org/packages/cc/0e/d27d6e806d6c0d1a2cfdc5d1f088e42339a0a54a09c3343f7f81ec8947ea/snuggs-1.4.7-py3-none-any.whl\n",
            "Requirement already satisfied: cligj>=0.5 in /usr/local/lib/python3.6/dist-packages (from rasterio->contextily) (0.7.1)\n",
            "Requirement already satisfied: click<8,>=4.0 in /usr/local/lib/python3.6/dist-packages (from rasterio->contextily) (7.1.2)\n",
            "Requirement already satisfied: attrs in /usr/local/lib/python3.6/dist-packages (from rasterio->contextily) (20.3.0)\n",
            "Collecting affine\n",
            "  Downloading https://files.pythonhosted.org/packages/ac/a6/1a39a1ede71210e3ddaf623982b06ecfc5c5c03741ae659073159184cd3e/affine-2.3.0-py2.py3-none-any.whl\n",
            "Requirement already satisfied: idna<3,>=2.5 in /usr/local/lib/python3.6/dist-packages (from requests->contextily) (2.10)\n",
            "Requirement already satisfied: chardet<4,>=3.0.2 in /usr/local/lib/python3.6/dist-packages (from requests->contextily) (3.0.4)\n",
            "Requirement already satisfied: urllib3!=1.25.0,!=1.25.1,<1.26,>=1.21.1 in /usr/local/lib/python3.6/dist-packages (from requests->contextily) (1.24.3)\n",
            "Requirement already satisfied: certifi>=2017.4.17 in /usr/local/lib/python3.6/dist-packages (from requests->contextily) (2020.12.5)\n",
            "Requirement already satisfied: python-dateutil>=2.1 in /usr/local/lib/python3.6/dist-packages (from matplotlib->contextily) (2.8.1)\n",
            "Requirement already satisfied: pyparsing!=2.0.4,!=2.1.2,!=2.1.6,>=2.0.1 in /usr/local/lib/python3.6/dist-packages (from matplotlib->contextily) (2.4.7)\n",
            "Requirement already satisfied: kiwisolver>=1.0.1 in /usr/local/lib/python3.6/dist-packages (from matplotlib->contextily) (1.3.1)\n",
            "Requirement already satisfied: cycler>=0.10 in /usr/local/lib/python3.6/dist-packages (from matplotlib->contextily) (0.10.0)\n",
            "Requirement already satisfied: geographiclib<2,>=1.49 in /usr/local/lib/python3.6/dist-packages (from geopy->contextily) (1.50)\n",
            "Requirement already satisfied: six>=1.5 in /usr/local/lib/python3.6/dist-packages (from python-dateutil>=2.1->matplotlib->contextily) (1.15.0)\n",
            "Installing collected packages: snuggs, affine, rasterio, mercantile, contextily\n",
            "Successfully installed affine-2.3.0 contextily-1.0.1 mercantile-1.1.6 rasterio-1.1.8 snuggs-1.4.7\n",
            "Collecting pygeos\n",
            "\u001b[?25l  Downloading https://files.pythonhosted.org/packages/66/06/2cfcf6e90814da1fdb4585534f03a36531f00cbad65f11b417337d69fe60/pygeos-0.8-cp36-cp36m-manylinux1_x86_64.whl (1.6MB)\n",
            "\u001b[K     |████████████████████████████████| 1.6MB 8.4MB/s \n",
            "\u001b[?25hRequirement already satisfied: numpy>=1.10 in /usr/local/lib/python3.6/dist-packages (from pygeos) (1.19.5)\n",
            "Installing collected packages: pygeos\n",
            "Successfully installed pygeos-0.8\n",
            "Requirement already satisfied: folium in /usr/local/lib/python3.6/dist-packages (0.8.3)\n",
            "Requirement already satisfied: six in /usr/local/lib/python3.6/dist-packages (from folium) (1.15.0)\n",
            "Requirement already satisfied: jinja2 in /usr/local/lib/python3.6/dist-packages (from folium) (2.11.2)\n",
            "Requirement already satisfied: numpy in /usr/local/lib/python3.6/dist-packages (from folium) (1.19.5)\n",
            "Requirement already satisfied: branca>=0.3.0 in /usr/local/lib/python3.6/dist-packages (from folium) (0.4.2)\n",
            "Requirement already satisfied: requests in /usr/local/lib/python3.6/dist-packages (from folium) (2.23.0)\n",
            "Requirement already satisfied: MarkupSafe>=0.23 in /usr/local/lib/python3.6/dist-packages (from jinja2->folium) (1.1.1)\n",
            "Requirement already satisfied: chardet<4,>=3.0.2 in /usr/local/lib/python3.6/dist-packages (from requests->folium) (3.0.4)\n",
            "Requirement already satisfied: idna<3,>=2.5 in /usr/local/lib/python3.6/dist-packages (from requests->folium) (2.10)\n",
            "Requirement already satisfied: urllib3!=1.25.0,!=1.25.1,<1.26,>=1.21.1 in /usr/local/lib/python3.6/dist-packages (from requests->folium) (1.24.3)\n",
            "Requirement already satisfied: certifi>=2017.4.17 in /usr/local/lib/python3.6/dist-packages (from requests->folium) (2020.12.5)\n",
            "CPU times: user 907 ms, sys: 240 ms, total: 1.15 s\n",
            "Wall time: 41 s\n"
          ],
          "name": "stdout"
        }
      ]
    },
    {
      "cell_type": "code",
      "metadata": {
        "id": "BCkxIekH1cPk",
        "colab": {
          "base_uri": "https://localhost:8080/"
        },
        "outputId": "595b0854-3804-48fa-ffbe-55e51b5f50ab"
      },
      "source": [
        "# view all installed packages on Colab\r\n",
        "!pip list -v"
      ],
      "execution_count": 3,
      "outputs": [
        {
          "output_type": "stream",
          "text": [
            "Package                       Version           Location                               Installer\n",
            "----------------------------- ----------------- -------------------------------------- ---------\n",
            "absl-py                       0.10.0            /usr/local/lib/python3.6/dist-packages pip      \n",
            "affine                        2.3.0             /usr/local/lib/python3.6/dist-packages pip      \n",
            "alabaster                     0.7.12            /usr/local/lib/python3.6/dist-packages pip      \n",
            "albumentations                0.1.12            /usr/local/lib/python3.6/dist-packages pip      \n",
            "altair                        4.1.0             /usr/local/lib/python3.6/dist-packages pip      \n",
            "argon2-cffi                   20.1.0            /usr/local/lib/python3.6/dist-packages pip      \n",
            "asgiref                       3.3.1             /usr/local/lib/python3.6/dist-packages pip      \n",
            "astor                         0.8.1             /usr/local/lib/python3.6/dist-packages pip      \n",
            "astropy                       4.1               /usr/local/lib/python3.6/dist-packages pip      \n",
            "astunparse                    1.6.3             /usr/local/lib/python3.6/dist-packages pip      \n",
            "async-generator               1.10              /usr/local/lib/python3.6/dist-packages pip      \n",
            "atari-py                      0.2.6             /usr/local/lib/python3.6/dist-packages pip      \n",
            "atomicwrites                  1.4.0             /usr/local/lib/python3.6/dist-packages pip      \n",
            "attrs                         20.3.0            /usr/local/lib/python3.6/dist-packages pip      \n",
            "audioread                     2.1.9             /usr/local/lib/python3.6/dist-packages pip      \n",
            "autograd                      1.3               /usr/local/lib/python3.6/dist-packages pip      \n",
            "Babel                         2.9.0             /usr/local/lib/python3.6/dist-packages pip      \n",
            "backcall                      0.2.0             /usr/local/lib/python3.6/dist-packages pip      \n",
            "beautifulsoup4                4.6.3             /usr/local/lib/python3.6/dist-packages pip      \n",
            "bleach                        3.2.1             /usr/local/lib/python3.6/dist-packages pip      \n",
            "blis                          0.4.1             /usr/local/lib/python3.6/dist-packages pip      \n",
            "bmi-arcgis-restapi            2.0.2             /usr/local/lib/python3.6/dist-packages pip      \n",
            "bokeh                         2.1.1             /usr/local/lib/python3.6/dist-packages pip      \n",
            "Bottleneck                    1.3.2             /usr/local/lib/python3.6/dist-packages pip      \n",
            "branca                        0.4.2             /usr/local/lib/python3.6/dist-packages pip      \n",
            "bs4                           0.0.1             /usr/local/lib/python3.6/dist-packages pip      \n",
            "CacheControl                  0.12.6            /usr/local/lib/python3.6/dist-packages pip      \n",
            "cachetools                    4.2.0             /usr/local/lib/python3.6/dist-packages pip      \n",
            "catalogue                     1.0.0             /usr/local/lib/python3.6/dist-packages pip      \n",
            "certifi                       2020.12.5         /usr/local/lib/python3.6/dist-packages pip      \n",
            "cffi                          1.14.4            /usr/local/lib/python3.6/dist-packages pip      \n",
            "chainer                       7.4.0             /usr/local/lib/python3.6/dist-packages pip      \n",
            "chardet                       3.0.4             /usr/local/lib/python3.6/dist-packages pip      \n",
            "click                         7.1.2             /usr/local/lib/python3.6/dist-packages pip      \n",
            "click-plugins                 1.1.1             /usr/local/lib/python3.6/dist-packages pip      \n",
            "cligj                         0.7.1             /usr/local/lib/python3.6/dist-packages pip      \n",
            "cloudpickle                   1.3.0             /usr/local/lib/python3.6/dist-packages pip      \n",
            "cmake                         3.12.0            /usr/local/lib/python3.6/dist-packages pip      \n",
            "cmdstanpy                     0.9.5             /usr/local/lib/python3.6/dist-packages pip      \n",
            "colorlover                    0.3.0             /usr/local/lib/python3.6/dist-packages pip      \n",
            "community                     1.0.0b1           /usr/local/lib/python3.6/dist-packages pip      \n",
            "contextily                    1.0.1             /usr/local/lib/python3.6/dist-packages pip      \n",
            "contextlib2                   0.5.5             /usr/local/lib/python3.6/dist-packages pip      \n",
            "convertdate                   2.2.0             /usr/local/lib/python3.6/dist-packages pip      \n",
            "coverage                      3.7.1             /usr/local/lib/python3.6/dist-packages pip      \n",
            "coveralls                     0.5               /usr/local/lib/python3.6/dist-packages pip      \n",
            "crcmod                        1.7               /usr/local/lib/python3.6/dist-packages pip      \n",
            "cufflinks                     0.17.3            /usr/local/lib/python3.6/dist-packages pip      \n",
            "cvxopt                        1.2.5             /usr/local/lib/python3.6/dist-packages pip      \n",
            "cvxpy                         1.0.31            /usr/local/lib/python3.6/dist-packages pip      \n",
            "cycler                        0.10.0            /usr/local/lib/python3.6/dist-packages pip      \n",
            "cymem                         2.0.5             /usr/local/lib/python3.6/dist-packages pip      \n",
            "Cython                        0.29.21           /usr/local/lib/python3.6/dist-packages pip      \n",
            "daft                          0.0.4             /usr/local/lib/python3.6/dist-packages pip      \n",
            "dask                          2.12.0            /usr/local/lib/python3.6/dist-packages pip      \n",
            "dataclasses                   0.8               /usr/local/lib/python3.6/dist-packages pip      \n",
            "datascience                   0.10.6            /usr/local/lib/python3.6/dist-packages pip      \n",
            "debugpy                       1.0.0             /usr/local/lib/python3.6/dist-packages pip      \n",
            "decorator                     4.4.2             /usr/local/lib/python3.6/dist-packages pip      \n",
            "defusedxml                    0.6.0             /usr/local/lib/python3.6/dist-packages pip      \n",
            "descartes                     1.1.0             /usr/local/lib/python3.6/dist-packages pip      \n",
            "dill                          0.3.3             /usr/local/lib/python3.6/dist-packages pip      \n",
            "distributed                   1.25.3            /usr/local/lib/python3.6/dist-packages pip      \n",
            "Django                        3.1.5             /usr/local/lib/python3.6/dist-packages pip      \n",
            "dlib                          19.18.0           /usr/local/lib/python3.6/dist-packages pip      \n",
            "dm-tree                       0.1.5             /usr/local/lib/python3.6/dist-packages pip      \n",
            "docopt                        0.6.2             /usr/local/lib/python3.6/dist-packages pip      \n",
            "docutils                      0.16              /usr/local/lib/python3.6/dist-packages pip      \n",
            "dopamine-rl                   1.0.5             /usr/local/lib/python3.6/dist-packages pip      \n",
            "earthengine-api               0.1.238           /usr/local/lib/python3.6/dist-packages pip      \n",
            "easydict                      1.9               /usr/local/lib/python3.6/dist-packages pip      \n",
            "ecos                          2.0.7.post1       /usr/local/lib/python3.6/dist-packages pip      \n",
            "editdistance                  0.5.3             /usr/local/lib/python3.6/dist-packages pip      \n",
            "en-core-web-sm                2.2.5             /usr/local/lib/python3.6/dist-packages pip      \n",
            "entrypoints                   0.3               /usr/local/lib/python3.6/dist-packages pip      \n",
            "ephem                         3.7.7.1           /usr/local/lib/python3.6/dist-packages pip      \n",
            "et-xmlfile                    1.0.1             /usr/local/lib/python3.6/dist-packages pip      \n",
            "fa2                           0.3.5             /usr/local/lib/python3.6/dist-packages pip      \n",
            "fancyimpute                   0.4.3             /usr/local/lib/python3.6/dist-packages pip      \n",
            "fastai                        1.0.61            /usr/local/lib/python3.6/dist-packages pip      \n",
            "fastdtw                       0.3.4             /usr/local/lib/python3.6/dist-packages pip      \n",
            "fastprogress                  1.0.0             /usr/local/lib/python3.6/dist-packages pip      \n",
            "fastrlock                     0.5               /usr/local/lib/python3.6/dist-packages pip      \n",
            "fbprophet                     0.7.1             /usr/local/lib/python3.6/dist-packages          \n",
            "feather-format                0.4.1             /usr/local/lib/python3.6/dist-packages pip      \n",
            "filelock                      3.0.12            /usr/local/lib/python3.6/dist-packages pip      \n",
            "Fiona                         1.8.18            /usr/local/lib/python3.6/dist-packages pip      \n",
            "firebase-admin                4.4.0             /usr/local/lib/python3.6/dist-packages pip      \n",
            "fix-yahoo-finance             0.0.22            /usr/local/lib/python3.6/dist-packages pip      \n",
            "Flask                         1.1.2             /usr/local/lib/python3.6/dist-packages pip      \n",
            "flatbuffers                   1.12              /usr/local/lib/python3.6/dist-packages pip      \n",
            "folium                        0.8.3             /usr/local/lib/python3.6/dist-packages pip      \n",
            "future                        0.16.0            /usr/local/lib/python3.6/dist-packages pip      \n",
            "gast                          0.3.3             /usr/local/lib/python3.6/dist-packages pip      \n",
            "GDAL                          2.2.2             /usr/lib/python3/dist-packages                  \n",
            "gdown                         3.6.4             /usr/local/lib/python3.6/dist-packages pip      \n",
            "gensim                        3.6.0             /usr/local/lib/python3.6/dist-packages pip      \n",
            "geographiclib                 1.50              /usr/local/lib/python3.6/dist-packages pip      \n",
            "geopandas                     0.8.0+85.geabe404 /usr/local/lib/python3.6/dist-packages pip      \n",
            "geopy                         1.17.0            /usr/local/lib/python3.6/dist-packages pip      \n",
            "gin-config                    0.4.0             /usr/local/lib/python3.6/dist-packages pip      \n",
            "glob2                         0.7               /usr/local/lib/python3.6/dist-packages pip      \n",
            "google                        2.0.3             /usr/local/lib/python3.6/dist-packages pip      \n",
            "google-api-core               1.16.0            /usr/local/lib/python3.6/dist-packages pip      \n",
            "google-api-python-client      1.7.12            /usr/local/lib/python3.6/dist-packages pip      \n",
            "google-auth                   1.17.2            /usr/local/lib/python3.6/dist-packages pip      \n",
            "google-auth-httplib2          0.0.4             /usr/local/lib/python3.6/dist-packages pip      \n",
            "google-auth-oauthlib          0.4.2             /usr/local/lib/python3.6/dist-packages pip      \n",
            "google-cloud-bigquery         1.21.0            /usr/local/lib/python3.6/dist-packages pip      \n",
            "google-cloud-bigquery-storage 1.1.0             /usr/local/lib/python3.6/dist-packages pip      \n",
            "google-cloud-core             1.0.3             /usr/local/lib/python3.6/dist-packages pip      \n",
            "google-cloud-datastore        1.8.0             /usr/local/lib/python3.6/dist-packages pip      \n",
            "google-cloud-firestore        1.7.0             /usr/local/lib/python3.6/dist-packages pip      \n",
            "google-cloud-language         1.2.0             /usr/local/lib/python3.6/dist-packages pip      \n",
            "google-cloud-storage          1.18.1            /usr/local/lib/python3.6/dist-packages pip      \n",
            "google-cloud-translate        1.5.0             /usr/local/lib/python3.6/dist-packages pip      \n",
            "google-colab                  1.0.0             /usr/local/lib/python3.6/dist-packages pip      \n",
            "google-pasta                  0.2.0             /usr/local/lib/python3.6/dist-packages pip      \n",
            "google-resumable-media        0.4.1             /usr/local/lib/python3.6/dist-packages pip      \n",
            "googleapis-common-protos      1.52.0            /usr/local/lib/python3.6/dist-packages pip      \n",
            "googledrivedownloader         0.4               /usr/local/lib/python3.6/dist-packages pip      \n",
            "graphviz                      0.10.1            /usr/local/lib/python3.6/dist-packages pip      \n",
            "grpcio                        1.32.0            /usr/local/lib/python3.6/dist-packages pip      \n",
            "gspread                       3.0.1             /usr/local/lib/python3.6/dist-packages pip      \n",
            "gspread-dataframe             3.0.8             /usr/local/lib/python3.6/dist-packages pip      \n",
            "gym                           0.17.3            /usr/local/lib/python3.6/dist-packages pip      \n",
            "h5py                          2.10.0            /usr/local/lib/python3.6/dist-packages pip      \n",
            "HeapDict                      1.0.1             /usr/local/lib/python3.6/dist-packages pip      \n",
            "holidays                      0.10.4            /usr/local/lib/python3.6/dist-packages pip      \n",
            "holoviews                     1.13.5            /usr/local/lib/python3.6/dist-packages pip      \n",
            "html5lib                      1.0.1             /usr/local/lib/python3.6/dist-packages pip      \n",
            "httpimport                    0.5.18            /usr/local/lib/python3.6/dist-packages pip      \n",
            "httplib2                      0.17.4            /usr/local/lib/python3.6/dist-packages pip      \n",
            "httplib2shim                  0.0.3             /usr/local/lib/python3.6/dist-packages pip      \n",
            "humanize                      0.5.1             /usr/local/lib/python3.6/dist-packages pip      \n",
            "hyperopt                      0.1.2             /usr/local/lib/python3.6/dist-packages pip      \n",
            "ideep4py                      2.0.0.post3       /usr/local/lib/python3.6/dist-packages pip      \n",
            "idna                          2.10              /usr/local/lib/python3.6/dist-packages pip      \n",
            "image                         1.5.33            /usr/local/lib/python3.6/dist-packages pip      \n",
            "imageio                       2.4.1             /usr/local/lib/python3.6/dist-packages pip      \n",
            "imagesize                     1.2.0             /usr/local/lib/python3.6/dist-packages pip      \n",
            "imbalanced-learn              0.4.3             /usr/local/lib/python3.6/dist-packages pip      \n",
            "imblearn                      0.0               /usr/local/lib/python3.6/dist-packages pip      \n",
            "imgaug                        0.2.9             /usr/local/lib/python3.6/dist-packages pip      \n",
            "importlib-metadata            3.3.0             /usr/local/lib/python3.6/dist-packages pip      \n",
            "importlib-resources           4.1.1             /usr/local/lib/python3.6/dist-packages pip      \n",
            "imutils                       0.5.3             /usr/local/lib/python3.6/dist-packages pip      \n",
            "inflect                       2.1.0             /usr/local/lib/python3.6/dist-packages pip      \n",
            "iniconfig                     1.1.1             /usr/local/lib/python3.6/dist-packages pip      \n",
            "intel-openmp                  2021.1.2          /usr/local/lib/python3.6/dist-packages pip      \n",
            "intervaltree                  2.1.0             /usr/local/lib/python3.6/dist-packages pip      \n",
            "ipykernel                     4.10.1            /usr/local/lib/python3.6/dist-packages pip      \n",
            "ipython                       5.5.0             /usr/local/lib/python3.6/dist-packages pip      \n",
            "ipython-genutils              0.2.0             /usr/local/lib/python3.6/dist-packages pip      \n",
            "ipython-sql                   0.3.9             /usr/local/lib/python3.6/dist-packages pip      \n",
            "ipywidgets                    7.6.3             /usr/local/lib/python3.6/dist-packages pip      \n",
            "itsdangerous                  1.1.0             /usr/local/lib/python3.6/dist-packages pip      \n",
            "jax                           0.2.7             /usr/local/lib/python3.6/dist-packages pip      \n",
            "jaxlib                        0.1.57+cuda101    /usr/local/lib/python3.6/dist-packages pip      \n",
            "jdcal                         1.4.1             /usr/local/lib/python3.6/dist-packages pip      \n",
            "jedi                          0.18.0            /usr/local/lib/python3.6/dist-packages pip      \n",
            "jieba                         0.42.1            /usr/local/lib/python3.6/dist-packages pip      \n",
            "Jinja2                        2.11.2            /usr/local/lib/python3.6/dist-packages pip      \n",
            "joblib                        1.0.0             /usr/local/lib/python3.6/dist-packages pip      \n",
            "jpeg4py                       0.1.4             /usr/local/lib/python3.6/dist-packages pip      \n",
            "jsonschema                    2.6.0             /usr/local/lib/python3.6/dist-packages pip      \n",
            "jupyter                       1.0.0             /usr/local/lib/python3.6/dist-packages pip      \n",
            "jupyter-client                5.3.5             /usr/local/lib/python3.6/dist-packages pip      \n",
            "jupyter-console               5.2.0             /usr/local/lib/python3.6/dist-packages pip      \n",
            "jupyter-core                  4.7.0             /usr/local/lib/python3.6/dist-packages pip      \n",
            "jupyterlab-pygments           0.1.2             /usr/local/lib/python3.6/dist-packages pip      \n",
            "jupyterlab-widgets            1.0.0             /usr/local/lib/python3.6/dist-packages pip      \n",
            "kaggle                        1.5.10            /usr/local/lib/python3.6/dist-packages pip      \n",
            "kapre                         0.1.3.1           /usr/local/lib/python3.6/dist-packages pip      \n",
            "Keras                         2.4.3             /usr/local/lib/python3.6/dist-packages pip      \n",
            "Keras-Preprocessing           1.1.2             /usr/local/lib/python3.6/dist-packages pip      \n",
            "keras-vis                     0.4.1             /usr/local/lib/python3.6/dist-packages pip      \n",
            "kiwisolver                    1.3.1             /usr/local/lib/python3.6/dist-packages pip      \n",
            "knnimpute                     0.1.0             /usr/local/lib/python3.6/dist-packages pip      \n",
            "korean-lunar-calendar         0.2.1             /usr/local/lib/python3.6/dist-packages pip      \n",
            "librosa                       0.6.3             /usr/local/lib/python3.6/dist-packages pip      \n",
            "lightgbm                      2.2.3             /usr/local/lib/python3.6/dist-packages pip      \n",
            "llvmlite                      0.31.0            /usr/local/lib/python3.6/dist-packages pip      \n",
            "lmdb                          0.99              /usr/local/lib/python3.6/dist-packages pip      \n",
            "lucid                         0.3.8             /usr/local/lib/python3.6/dist-packages pip      \n",
            "LunarCalendar                 0.0.9             /usr/local/lib/python3.6/dist-packages pip      \n",
            "lxml                          4.2.6             /usr/local/lib/python3.6/dist-packages pip      \n",
            "Markdown                      3.3.3             /usr/local/lib/python3.6/dist-packages pip      \n",
            "MarkupSafe                    1.1.1             /usr/local/lib/python3.6/dist-packages pip      \n",
            "matplotlib                    3.2.2             /usr/local/lib/python3.6/dist-packages pip      \n",
            "matplotlib-venn               0.11.6            /usr/local/lib/python3.6/dist-packages pip      \n",
            "mercantile                    1.1.6             /usr/local/lib/python3.6/dist-packages pip      \n",
            "missingno                     0.4.2             /usr/local/lib/python3.6/dist-packages pip      \n",
            "mistune                       0.8.4             /usr/local/lib/python3.6/dist-packages pip      \n",
            "mizani                        0.6.0             /usr/local/lib/python3.6/dist-packages pip      \n",
            "mkl                           2019.0            /usr/local/lib/python3.6/dist-packages pip      \n",
            "mlxtend                       0.14.0            /usr/local/lib/python3.6/dist-packages pip      \n",
            "more-itertools                8.6.0             /usr/local/lib/python3.6/dist-packages pip      \n",
            "moviepy                       0.2.3.5           /usr/local/lib/python3.6/dist-packages pip      \n",
            "mpmath                        1.1.0             /usr/local/lib/python3.6/dist-packages pip      \n",
            "msgpack                       1.0.2             /usr/local/lib/python3.6/dist-packages pip      \n",
            "multiprocess                  0.70.11.1         /usr/local/lib/python3.6/dist-packages pip      \n",
            "multitasking                  0.0.9             /usr/local/lib/python3.6/dist-packages pip      \n",
            "munch                         2.5.0             /usr/local/lib/python3.6/dist-packages pip      \n",
            "murmurhash                    1.0.5             /usr/local/lib/python3.6/dist-packages pip      \n",
            "music21                       5.5.0             /usr/local/lib/python3.6/dist-packages pip      \n",
            "natsort                       5.5.0             /usr/local/lib/python3.6/dist-packages pip      \n",
            "nbclient                      0.5.1             /usr/local/lib/python3.6/dist-packages pip      \n",
            "nbconvert                     5.6.1             /usr/local/lib/python3.6/dist-packages pip      \n",
            "nbformat                      5.0.8             /usr/local/lib/python3.6/dist-packages pip      \n",
            "nest-asyncio                  1.4.3             /usr/local/lib/python3.6/dist-packages pip      \n",
            "networkx                      2.5               /usr/local/lib/python3.6/dist-packages pip      \n",
            "nibabel                       3.0.2             /usr/local/lib/python3.6/dist-packages pip      \n",
            "nltk                          3.2.5             /usr/local/lib/python3.6/dist-packages pip      \n",
            "notebook                      5.3.1             /usr/local/lib/python3.6/dist-packages pip      \n",
            "np-utils                      0.5.12.1          /usr/local/lib/python3.6/dist-packages pip      \n",
            "numba                         0.48.0            /usr/local/lib/python3.6/dist-packages pip      \n",
            "numexpr                       2.7.2             /usr/local/lib/python3.6/dist-packages pip      \n",
            "numpy                         1.19.5            /usr/local/lib/python3.6/dist-packages pip      \n",
            "nvidia-ml-py3                 7.352.0           /usr/local/lib/python3.6/dist-packages pip      \n",
            "oauth2client                  4.1.3             /usr/local/lib/python3.6/dist-packages pip      \n",
            "oauthlib                      3.1.0             /usr/local/lib/python3.6/dist-packages pip      \n",
            "okgrade                       0.4.3             /usr/local/lib/python3.6/dist-packages pip      \n",
            "opencv-contrib-python         4.1.2.30          /usr/local/lib/python3.6/dist-packages pip      \n",
            "opencv-python                 4.1.2.30          /usr/local/lib/python3.6/dist-packages pip      \n",
            "openpyxl                      2.5.9             /usr/local/lib/python3.6/dist-packages pip      \n",
            "opt-einsum                    3.3.0             /usr/local/lib/python3.6/dist-packages pip      \n",
            "osqp                          0.6.2             /usr/local/lib/python3.6/dist-packages pip      \n",
            "packaging                     20.8              /usr/local/lib/python3.6/dist-packages pip      \n",
            "palettable                    3.3.0             /usr/local/lib/python3.6/dist-packages pip      \n",
            "pandas                        1.1.5             /usr/local/lib/python3.6/dist-packages pip      \n",
            "pandas-datareader             0.9.0             /usr/local/lib/python3.6/dist-packages pip      \n",
            "pandas-gbq                    0.13.3            /usr/local/lib/python3.6/dist-packages pip      \n",
            "pandas-profiling              1.4.1             /usr/local/lib/python3.6/dist-packages pip      \n",
            "pandocfilters                 1.4.3             /usr/local/lib/python3.6/dist-packages pip      \n",
            "panel                         0.9.7             /usr/local/lib/python3.6/dist-packages pip      \n",
            "param                         1.10.1            /usr/local/lib/python3.6/dist-packages pip      \n",
            "parso                         0.8.1             /usr/local/lib/python3.6/dist-packages pip      \n",
            "pathlib                       1.0.1             /usr/local/lib/python3.6/dist-packages pip      \n",
            "patsy                         0.5.1             /usr/local/lib/python3.6/dist-packages pip      \n",
            "pexpect                       4.8.0             /usr/local/lib/python3.6/dist-packages pip      \n",
            "pickleshare                   0.7.5             /usr/local/lib/python3.6/dist-packages pip      \n",
            "Pillow                        7.0.0             /usr/local/lib/python3.6/dist-packages pip      \n",
            "pip                           19.3.1            /usr/local/lib/python3.6/dist-packages pip      \n",
            "pip-tools                     4.5.1             /usr/local/lib/python3.6/dist-packages pip      \n",
            "plac                          1.1.3             /usr/local/lib/python3.6/dist-packages pip      \n",
            "plotly                        4.4.1             /usr/local/lib/python3.6/dist-packages pip      \n",
            "plotnine                      0.6.0             /usr/local/lib/python3.6/dist-packages pip      \n",
            "pluggy                        0.7.1             /usr/local/lib/python3.6/dist-packages pip      \n",
            "portpicker                    1.3.1             /usr/local/lib/python3.6/dist-packages pip      \n",
            "prefetch-generator            1.0.1             /usr/local/lib/python3.6/dist-packages pip      \n",
            "preshed                       3.0.5             /usr/local/lib/python3.6/dist-packages pip      \n",
            "prettytable                   2.0.0             /usr/local/lib/python3.6/dist-packages pip      \n",
            "progressbar2                  3.38.0            /usr/local/lib/python3.6/dist-packages pip      \n",
            "prometheus-client             0.9.0             /usr/local/lib/python3.6/dist-packages pip      \n",
            "promise                       2.3               /usr/local/lib/python3.6/dist-packages pip      \n",
            "prompt-toolkit                1.0.18            /usr/local/lib/python3.6/dist-packages pip      \n",
            "protobuf                      3.12.4            /usr/local/lib/python3.6/dist-packages pip      \n",
            "psutil                        5.4.8             /usr/local/lib/python3.6/dist-packages pip      \n",
            "psycopg2                      2.7.6.1           /usr/local/lib/python3.6/dist-packages pip      \n",
            "ptyprocess                    0.7.0             /usr/local/lib/python3.6/dist-packages pip      \n",
            "py                            1.10.0            /usr/local/lib/python3.6/dist-packages pip      \n",
            "pyarrow                       0.14.1            /usr/local/lib/python3.6/dist-packages pip      \n",
            "pyasn1                        0.4.8             /usr/local/lib/python3.6/dist-packages pip      \n",
            "pyasn1-modules                0.2.8             /usr/local/lib/python3.6/dist-packages pip      \n",
            "pycocotools                   2.0.2             /usr/local/lib/python3.6/dist-packages pip      \n",
            "pycparser                     2.20              /usr/local/lib/python3.6/dist-packages pip      \n",
            "pyct                          0.4.8             /usr/local/lib/python3.6/dist-packages pip      \n",
            "pydata-google-auth            1.1.0             /usr/local/lib/python3.6/dist-packages pip      \n",
            "pydot                         1.3.0             /usr/local/lib/python3.6/dist-packages pip      \n",
            "pydot-ng                      2.0.0             /usr/local/lib/python3.6/dist-packages pip      \n",
            "pydotplus                     2.0.2             /usr/local/lib/python3.6/dist-packages pip      \n",
            "PyDrive                       1.3.1             /usr/local/lib/python3.6/dist-packages pip      \n",
            "pyemd                         0.5.1             /usr/local/lib/python3.6/dist-packages pip      \n",
            "pygeos                        0.8               /usr/local/lib/python3.6/dist-packages pip      \n",
            "pyglet                        1.5.0             /usr/local/lib/python3.6/dist-packages pip      \n",
            "Pygments                      2.6.1             /usr/local/lib/python3.6/dist-packages pip      \n",
            "pygobject                     3.26.1            /usr/lib/python3/dist-packages                  \n",
            "pymc3                         3.7               /usr/local/lib/python3.6/dist-packages pip      \n",
            "PyMeeus                       0.3.7             /usr/local/lib/python3.6/dist-packages pip      \n",
            "pymongo                       3.11.2            /usr/local/lib/python3.6/dist-packages pip      \n",
            "pymystem3                     0.2.0             /usr/local/lib/python3.6/dist-packages pip      \n",
            "PyOpenGL                      3.1.5             /usr/local/lib/python3.6/dist-packages pip      \n",
            "pyparsing                     2.4.7             /usr/local/lib/python3.6/dist-packages pip      \n",
            "pyproj                        3.0.0.post1       /usr/local/lib/python3.6/dist-packages pip      \n",
            "pyrsistent                    0.17.3            /usr/local/lib/python3.6/dist-packages pip      \n",
            "pysndfile                     1.3.8             /usr/local/lib/python3.6/dist-packages pip      \n",
            "PySocks                       1.7.1             /usr/local/lib/python3.6/dist-packages pip      \n",
            "pystan                        2.19.1.1          /usr/local/lib/python3.6/dist-packages pip      \n",
            "pytest                        3.6.4             /usr/local/lib/python3.6/dist-packages pip      \n",
            "python-apt                    1.6.5+ubuntu0.5   /usr/lib/python3/dist-packages                  \n",
            "python-chess                  0.23.11           /usr/local/lib/python3.6/dist-packages pip      \n",
            "python-dateutil               2.8.1             /usr/local/lib/python3.6/dist-packages pip      \n",
            "python-louvain                0.15              /usr/local/lib/python3.6/dist-packages pip      \n",
            "python-slugify                4.0.1             /usr/local/lib/python3.6/dist-packages pip      \n",
            "python-utils                  2.4.0             /usr/local/lib/python3.6/dist-packages pip      \n",
            "pytz                          2018.9            /usr/local/lib/python3.6/dist-packages pip      \n",
            "pyviz-comms                   2.0.1             /usr/local/lib/python3.6/dist-packages pip      \n",
            "PyWavelets                    1.1.1             /usr/local/lib/python3.6/dist-packages pip      \n",
            "PyYAML                        3.13              /usr/local/lib/python3.6/dist-packages pip      \n",
            "pyzmq                         20.0.0            /usr/local/lib/python3.6/dist-packages pip      \n",
            "qdldl                         0.1.5.post0       /usr/local/lib/python3.6/dist-packages pip      \n",
            "qtconsole                     5.0.1             /usr/local/lib/python3.6/dist-packages pip      \n",
            "QtPy                          1.9.0             /usr/local/lib/python3.6/dist-packages pip      \n",
            "rasterio                      1.1.8             /usr/local/lib/python3.6/dist-packages pip      \n",
            "regex                         2019.12.20        /usr/local/lib/python3.6/dist-packages pip      \n",
            "requests                      2.23.0            /usr/local/lib/python3.6/dist-packages pip      \n",
            "requests-oauthlib             1.3.0             /usr/local/lib/python3.6/dist-packages pip      \n",
            "resampy                       0.2.2             /usr/local/lib/python3.6/dist-packages pip      \n",
            "retrying                      1.3.3             /usr/local/lib/python3.6/dist-packages pip      \n",
            "rpy2                          3.2.7             /usr/local/lib/python3.6/dist-packages pip      \n",
            "rsa                           4.6               /usr/local/lib/python3.6/dist-packages pip      \n",
            "Rtree                         0.8.3             /usr/lib/python3/dist-packages                  \n",
            "scikit-image                  0.16.2            /usr/local/lib/python3.6/dist-packages pip      \n",
            "scikit-learn                  0.22.2.post1      /usr/local/lib/python3.6/dist-packages pip      \n",
            "scipy                         1.4.1             /usr/local/lib/python3.6/dist-packages pip      \n",
            "screen-resolution-extra       0.0.0             /usr/lib/python3/dist-packages                  \n",
            "scs                           2.1.2             /usr/local/lib/python3.6/dist-packages pip      \n",
            "seaborn                       0.11.1            /usr/local/lib/python3.6/dist-packages pip      \n",
            "Send2Trash                    1.5.0             /usr/local/lib/python3.6/dist-packages pip      \n",
            "setuptools                    51.3.3            /usr/local/lib/python3.6/dist-packages pip      \n",
            "setuptools-git                1.2               /usr/local/lib/python3.6/dist-packages pip      \n",
            "Shapely                       1.7.1             /usr/local/lib/python3.6/dist-packages pip      \n",
            "simplegeneric                 0.8.1             /usr/local/lib/python3.6/dist-packages pip      \n",
            "six                           1.15.0            /usr/local/lib/python3.6/dist-packages pip      \n",
            "sklearn                       0.0               /usr/local/lib/python3.6/dist-packages pip      \n",
            "sklearn-pandas                1.8.0             /usr/local/lib/python3.6/dist-packages pip      \n",
            "smart-open                    4.1.0             /usr/local/lib/python3.6/dist-packages pip      \n",
            "snowballstemmer               2.0.0             /usr/local/lib/python3.6/dist-packages pip      \n",
            "snuggs                        1.4.7             /usr/local/lib/python3.6/dist-packages pip      \n",
            "sortedcontainers              2.3.0             /usr/local/lib/python3.6/dist-packages pip      \n",
            "spacy                         2.2.4             /usr/local/lib/python3.6/dist-packages pip      \n",
            "Sphinx                        1.8.5             /usr/local/lib/python3.6/dist-packages pip      \n",
            "sphinxcontrib-serializinghtml 1.1.4             /usr/local/lib/python3.6/dist-packages pip      \n",
            "sphinxcontrib-websupport      1.2.4             /usr/local/lib/python3.6/dist-packages pip      \n",
            "SQLAlchemy                    1.3.22            /usr/local/lib/python3.6/dist-packages pip      \n",
            "sqlparse                      0.4.1             /usr/local/lib/python3.6/dist-packages pip      \n",
            "srsly                         1.0.5             /usr/local/lib/python3.6/dist-packages pip      \n",
            "statsmodels                   0.10.2            /usr/local/lib/python3.6/dist-packages pip      \n",
            "sympy                         1.1.1             /usr/local/lib/python3.6/dist-packages pip      \n",
            "tables                        3.4.4             /usr/local/lib/python3.6/dist-packages pip      \n",
            "tabulate                      0.8.7             /usr/local/lib/python3.6/dist-packages pip      \n",
            "tblib                         1.7.0             /usr/local/lib/python3.6/dist-packages pip      \n",
            "tensorboard                   2.4.0             /usr/local/lib/python3.6/dist-packages pip      \n",
            "tensorboard-plugin-wit        1.7.0             /usr/local/lib/python3.6/dist-packages pip      \n",
            "tensorboardcolab              0.0.22            /usr/local/lib/python3.6/dist-packages pip      \n",
            "tensorflow                    2.4.0             /usr/local/lib/python3.6/dist-packages pip      \n",
            "tensorflow-addons             0.8.3             /usr/local/lib/python3.6/dist-packages pip      \n",
            "tensorflow-datasets           4.0.1             /usr/local/lib/python3.6/dist-packages pip      \n",
            "tensorflow-estimator          2.4.0             /usr/local/lib/python3.6/dist-packages pip      \n",
            "tensorflow-gcs-config         2.4.0             /usr/local/lib/python3.6/dist-packages pip      \n",
            "tensorflow-hub                0.11.0            /usr/local/lib/python3.6/dist-packages pip      \n",
            "tensorflow-metadata           0.26.0            /usr/local/lib/python3.6/dist-packages pip      \n",
            "tensorflow-privacy            0.2.2             /usr/local/lib/python3.6/dist-packages pip      \n",
            "tensorflow-probability        0.12.1            /usr/local/lib/python3.6/dist-packages pip      \n",
            "termcolor                     1.1.0             /usr/local/lib/python3.6/dist-packages pip      \n",
            "terminado                     0.9.2             /usr/local/lib/python3.6/dist-packages pip      \n",
            "testpath                      0.4.4             /usr/local/lib/python3.6/dist-packages pip      \n",
            "text-unidecode                1.3               /usr/local/lib/python3.6/dist-packages pip      \n",
            "textblob                      0.15.3            /usr/local/lib/python3.6/dist-packages pip      \n",
            "textgenrnn                    1.4.1             /usr/local/lib/python3.6/dist-packages pip      \n",
            "Theano                        1.0.5             /usr/local/lib/python3.6/dist-packages pip      \n",
            "thinc                         7.4.0             /usr/local/lib/python3.6/dist-packages pip      \n",
            "tifffile                      2020.9.3          /usr/local/lib/python3.6/dist-packages pip      \n",
            "toml                          0.10.2            /usr/local/lib/python3.6/dist-packages pip      \n",
            "toolz                         0.11.1            /usr/local/lib/python3.6/dist-packages pip      \n",
            "torch                         1.7.0+cu101       /usr/local/lib/python3.6/dist-packages pip      \n",
            "torchsummary                  1.5.1             /usr/local/lib/python3.6/dist-packages pip      \n",
            "torchtext                     0.3.1             /usr/local/lib/python3.6/dist-packages pip      \n",
            "torchvision                   0.8.1+cu101       /usr/local/lib/python3.6/dist-packages pip      \n",
            "tornado                       5.1.1             /usr/local/lib/python3.6/dist-packages pip      \n",
            "tqdm                          4.41.1            /usr/local/lib/python3.6/dist-packages pip      \n",
            "traitlets                     4.3.3             /usr/local/lib/python3.6/dist-packages pip      \n",
            "tweepy                        3.6.0             /usr/local/lib/python3.6/dist-packages pip      \n",
            "typeguard                     2.7.1             /usr/local/lib/python3.6/dist-packages pip      \n",
            "typing-extensions             3.7.4.3           /usr/local/lib/python3.6/dist-packages pip      \n",
            "tzlocal                       1.5.1             /usr/local/lib/python3.6/dist-packages pip      \n",
            "umap-learn                    0.4.6             /usr/local/lib/python3.6/dist-packages pip      \n",
            "uritemplate                   3.0.1             /usr/local/lib/python3.6/dist-packages pip      \n",
            "urllib3                       1.24.3            /usr/local/lib/python3.6/dist-packages pip      \n",
            "vega-datasets                 0.9.0             /usr/local/lib/python3.6/dist-packages pip      \n",
            "wasabi                        0.8.0             /usr/local/lib/python3.6/dist-packages pip      \n",
            "wcwidth                       0.2.5             /usr/local/lib/python3.6/dist-packages pip      \n",
            "webencodings                  0.5.1             /usr/local/lib/python3.6/dist-packages pip      \n",
            "Werkzeug                      1.0.1             /usr/local/lib/python3.6/dist-packages pip      \n",
            "wheel                         0.36.2            /usr/local/lib/python3.6/dist-packages pip      \n",
            "widgetsnbextension            3.5.1             /usr/local/lib/python3.6/dist-packages pip      \n",
            "wordcloud                     1.5.0             /usr/local/lib/python3.6/dist-packages pip      \n",
            "wrapt                         1.12.1            /usr/local/lib/python3.6/dist-packages pip      \n",
            "xarray                        0.15.1            /usr/local/lib/python3.6/dist-packages pip      \n",
            "xgboost                       0.90              /usr/local/lib/python3.6/dist-packages pip      \n",
            "xkit                          0.0.0             /usr/lib/python3/dist-packages                  \n",
            "xlrd                          1.1.0             /usr/local/lib/python3.6/dist-packages pip      \n",
            "xlwt                          1.3.0             /usr/local/lib/python3.6/dist-packages pip      \n",
            "yellowbrick                   0.9.1             /usr/local/lib/python3.6/dist-packages pip      \n",
            "zict                          2.0.0             /usr/local/lib/python3.6/dist-packages pip      \n",
            "zipp                          3.4.0             /usr/local/lib/python3.6/dist-packages pip      \n"
          ],
          "name": "stdout"
        }
      ]
    }
  ]
}