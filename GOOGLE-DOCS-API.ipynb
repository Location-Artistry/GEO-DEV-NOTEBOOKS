{
 "cells": [
  {
   "cell_type": "code",
   "execution_count": null,
   "metadata": {},
   "outputs": [],
   "source": [
    "!python -m pip install --upgrade google-api-python-client google-auth-httplib2 google-auth-oauthlib --user\n",
    "import os"
   ]
  },
  {
   "cell_type": "code",
   "execution_count": 4,
   "metadata": {},
   "outputs": [
    {
     "data": {
      "text/plain": [
       "'C:\\\\Users\\\\ekerney\\\\CODE'"
      ]
     },
     "execution_count": 4,
     "metadata": {},
     "output_type": "execute_result"
    }
   ],
   "source": [
    "os.getcwd()"
   ]
  },
  {
   "cell_type": "code",
   "execution_count": 4,
   "metadata": {},
   "outputs": [],
   "source": [
    "from __future__ import print_function\n",
    "import os.path\n",
    "from googleapiclient.discovery import build\n",
    "from google_auth_oauthlib.flow import InstalledAppFlow\n",
    "from google.auth.transport.requests import Request\n",
    "from google.oauth2.credentials import Credentials"
   ]
  },
  {
   "cell_type": "code",
   "execution_count": 47,
   "metadata": {},
   "outputs": [],
   "source": [
    "# If modifying these scopes, delete the file token.json.\n",
    "SCOPES = ['https://www.googleapis.com/auth/documents']\n",
    "\n",
    "# The ID of a sample document.\n",
    "DOCUMENT_ID = '1zpheCchpIOPLBPwAVn1qk9RVmeUgxFRVth-sCJoGo78'\n",
    "\n",
    "def main():\n",
    "    \"\"\"Shows basic usage of the Docs API.\n",
    "    Prints the title of a sample document.\n",
    "    \"\"\"\n",
    "    creds = None\n",
    "    # The file token.json stores the user's access and refresh tokens, and is\n",
    "    # created automatically when the authorization flow completes for the first\n",
    "    # time.\n",
    "    if os.path.exists('token.json'):\n",
    "        creds = Credentials.from_authorized_user_file('token.json', SCOPES)\n",
    "    # If there are no (valid) credentials available, let the user log in.\n",
    "    if not creds or not creds.valid:\n",
    "        if creds and creds.expired and creds.refresh_token:\n",
    "            creds.refresh(Request())\n",
    "        else:\n",
    "            flow = InstalledAppFlow.from_client_secrets_file(\n",
    "                'credentials.json', SCOPES)\n",
    "            creds = flow.run_local_server(port=0)\n",
    "        # Save the credentials for the next run\n",
    "        with open('token.json', 'w') as token:\n",
    "            token.write(creds.to_json())\n",
    "\n",
    "    service = build('docs', 'v1', credentials=creds)\n",
    "\n",
    "    # Retrieve the documents contents from the Docs service.\n",
    "    document = service.documents().get(documentId=DOCUMENT_ID).execute()\n",
    "    \n",
    "    # create doc example\n",
    "    requests = {\n",
    "      'title': 'A NEW DOC'\n",
    "    }\n",
    "    req = {'insertText': {\n",
    "        'location': {\n",
    "            'index': 1,\n",
    "        },\n",
    "        'text': \"THIS IS TEXT\"\n",
    "    }}\n",
    "    reqs = { 'replaceAllText': { 'containsText': { 'text': '{{REPORTING-DATES}}', 'matchCase': 'true', }, 'replaceText': '2018 - 2020'}}\n",
    "    doc = service.documents().create(body=requests).execute()\n",
    "    # creates new document\n",
    "    #result = service.documents().batchUpdate(documentId=DOCUMENT_ID, body={'requests': req}).execute()\n",
    "    # replaces text\n",
    "    result = service.documents().batchUpdate(documentId=DOCUMENT_ID, body={'requests': reqs}).execute()\n",
    "    #{ replaceAllText: { containsText: { text: '{{YEAR}}', matchCase: true, }, replaceText: currentYear, },},\n",
    "    print('The title of the document is: {}'.format(document.get('title')))\n",
    "    return result\n",
    "\n",
    "\n",
    "#if __name__ == '__main__':\n",
    "#    main()"
   ]
  },
  {
   "cell_type": "code",
   "execution_count": 48,
   "metadata": {},
   "outputs": [
    {
     "name": "stdout",
     "output_type": "stream",
     "text": [
      "The title of the document is: Copy of WATER QUALITY ASSESSMENT TEMPLATE\n"
     ]
    }
   ],
   "source": [
    "doc = main()"
   ]
  },
  {
   "cell_type": "code",
   "execution_count": null,
   "metadata": {},
   "outputs": [],
   "source": [
    "# WORKS!!!"
   ]
  },
  {
   "cell_type": "code",
   "execution_count": 38,
   "metadata": {},
   "outputs": [],
   "source": [
    "requests = {'replaceAllText': { 'containsText': { 'text': '{{' + 'REPORT-DATE' + '}}','matchCase':  'true'},\n",
    "'replaceText': 'NEW DOCUMENT TITLE'}}"
   ]
  },
  {
   "cell_type": "code",
   "execution_count": 20,
   "metadata": {},
   "outputs": [],
   "source": [
    "req = {'insertText': {\n",
    "                 'location': {\n",
    "                     'index': 0,\n",
    "                 },\n",
    "                 'text': \"THIS IS TEXT\"\n",
    "             }}"
   ]
  },
  {
   "cell_type": "code",
   "execution_count": null,
   "metadata": {},
   "outputs": [],
   "source": []
  },
  {
   "cell_type": "code",
   "execution_count": null,
   "metadata": {},
   "outputs": [],
   "source": []
  }
 ],
 "metadata": {
  "kernelspec": {
   "display_name": "Python 3",
   "language": "python",
   "name": "python3"
  },
  "language_info": {
   "codemirror_mode": {
    "name": "ipython",
    "version": 3
   },
   "file_extension": ".py",
   "mimetype": "text/x-python",
   "name": "python",
   "nbconvert_exporter": "python",
   "pygments_lexer": "ipython3",
   "version": "3.6.8"
  }
 },
 "nbformat": 4,
 "nbformat_minor": 2
}
