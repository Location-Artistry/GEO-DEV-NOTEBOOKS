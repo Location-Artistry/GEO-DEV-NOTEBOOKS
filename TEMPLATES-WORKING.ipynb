{
 "cells": [
  {
   "cell_type": "code",
   "execution_count": 2,
   "metadata": {},
   "outputs": [],
   "source": [
    "import arcgis as GIS\n",
    "import arcpy.mp\n",
    "import os\n",
    "import arcpy"
   ]
  },
  {
   "cell_type": "code",
   "execution_count": 263,
   "metadata": {},
   "outputs": [],
   "source": [
    "def setDir():\n",
    "    os.chdir('Y:\\\\PROJ-2021\\\\TEMPLATES')\n",
    "    curDir = os.path.abspath(os.getcwd())\n",
    "    listDir = os.listdir()\n",
    "    print(f'Current Directory: {curDir}')\n",
    "    print(f'Directory Contents:')\n",
    "    for i, item in enumerate(listDir):\n",
    "        print(f'{i} - {item}')\n",
    "    ind = int(input(f'Change to Sub-Directory?<ENTER for none> ') or 999)\n",
    "    if ind != 999:\n",
    "        os.chdir(f'{curDir}\\\\{listDir[ind]}')\n",
    "        curDir = os.path.abspath(os.getcwd())\n",
    "        listDir = os.listdir()\n",
    "        print(f'Current Directory: {curDir}')\n",
    "        print(f'Directory Contents:')\n",
    "        for i, item in enumerate(listDir):\n",
    "            print(f'{i} - {item}')\n",
    "    pathName = input(f'Enter Path to change Directory?<ENTER for none> ') or 'NO'\n",
    "    if pathName != 'NO':\n",
    "        os.chdir(pathName)\n",
    "        curDir = os.path.abspath(os.getcwd())\n",
    "    return curDir\n",
    "\n",
    "def loadProj():\n",
    "    curDir = os.path.abspath(os.getcwd())\n",
    "    listDir = os.listdir()\n",
    "    print(f'ArcPro Projects in Directory: ')\n",
    "    for i, item in enumerate(listDir):\n",
    "        print(f'{i} - {item}')\n",
    "    ind = int(input(f'Project Index Number? ') or 999)\n",
    "    aprx = arcpy.mp.ArcGISProject(f'{curDir}\\\\{listDir[ind]}')\n",
    "    print(f'PROJECT LOADED: {listDir[ind]} - {aprx.filePath}')\n",
    "    return aprx\n",
    "\n",
    "def getMap(aprx):\n",
    "    maps = aprx.listMaps('*')\n",
    "    for i, item in enumerate(maps):\n",
    "        print(f'{i} - {item.name}')\n",
    "    ind = int(input(f'Choose Map Index? ') or 999)\n",
    "    display(f'Active Map is: {maps[ind].name}')\n",
    "    return maps[ind]\n",
    "\n",
    "def getLayer(m):\n",
    "    lyrs = m.listLayers()\n",
    "    for i, item in enumerate(lyrs):\n",
    "        print(f'{i} - {item.name} - vis: {item.visible} - trans: {item.transparency}')\n",
    "    ind = int(input(f'Choose Layer Index? ') or 999)\n",
    "    display(f'Layer: {lyrs[ind].name}')\n",
    "    return lyrs[ind]\n",
    "\n",
    "def getLayout(aprx):\n",
    "    lyt = aprx.listLayouts()\n",
    "    for i, item in enumerate(lyt):\n",
    "        print(f'{i} - {item.name}')\n",
    "    ind = int(input(f'Choose Layout Index? ') or 999)\n",
    "    display(f'Layer: {lyt[ind].name}')\n",
    "    return lyt[ind]\n",
    "\n",
    "def getElement(lyt):\n",
    "    el = lyt.listElements()\n",
    "    for i, item in enumerate(el):\n",
    "        print(f'{i} - {item.name}')\n",
    "    ind = int(input(f'Choose Element Index? ') or 999)\n",
    "    display(f'Layer: {el[ind].name}')\n",
    "    return el[ind]\n",
    "\n",
    "def addLyr(m):\n",
    "    #try:\n",
    "        lyrDir = 'Y:\\\\LAYERS\\\\'\n",
    "        lyrs = os.listdir(lyrDir)\n",
    "        for i, item in enumerate(lyrs):\n",
    "            print(f'{i} - {item}')\n",
    "        ind = int(input(f'Choose Layer Index? ') or 999)\n",
    "        #dirPath = 'Y:\\\\LAYERS\\\\'\n",
    "        layerPath = (f'{lyrDir}{lyrs[ind]}')\n",
    "        lyr = arcpy.mp.LayerFile(layerPath)\n",
    "        addLyr = m.addLayer(lyr, 'TOP')\n",
    "        print(f'{lyr} added to {m.name}')\n"
   ]
  },
  {
   "cell_type": "code",
   "execution_count": 267,
   "metadata": {},
   "outputs": [
    {
     "name": "stdout",
     "output_type": "stream",
     "text": [
      "0 - NHBP LAND COVER PICT 2015 - vis: True - trans: 65.0\n",
      "1 - STRUCTURES - vis: True - trans: 0.0\n",
      "2 - SPORTS - vis: True - trans: 0.0\n",
      "3 - GARDENS - vis: True - trans: 0.0\n",
      "4 - TRANSIT - vis: True - trans: 0.0\n",
      "5 - WATER - vis: True - trans: 0.0\n",
      "6 - NATURAL AREAS - vis: True - trans: 0.0\n",
      "7 - POW_WOW - vis: True - trans: 0.0\n",
      "8 - LANDSCAPE - vis: True - trans: 0.0\n",
      "9 - CALHOUN COUNTY PARCELS - vis: True - trans: 0.0\n",
      "10 - STRUCTURES - vis: True - trans: 50.0\n",
      "11 - TRANSIT - vis: True - trans: 75.0\n",
      "12 - NHBP LANDS - vis: True - trans: 0.0\n",
      "13 - NHBP_LAND_SYMBOLS - vis: True - trans: 0.0\n",
      "14 - OUTLINES - vis: True - trans: 0.0\n",
      "15 - FILL - vis: False - trans: 73.0\n",
      "16 - WATER_2018 - vis: True - trans: 70.0\n",
      "17 - WATER_POLY - vis: True - trans: 0.0\n",
      "18 - WATER_LINE - vis: True - trans: 0.0\n",
      "19 - NHBP_WETLANDS_2020 - vis: False - trans: 54.0\n",
      "20 - AERIAL-2015 - vis: False - trans: 0.0\n",
      "21 - Athens Village.sid - vis: True - trans: 0.0\n",
      "22 - pinerivermo2015.jp2 - vis: False - trans: 0.0\n",
      "23 - Battle Creek.sid - vis: False - trans: 0.0\n",
      "Choose Layer Index? 0\n"
     ]
    },
    {
     "data": {
      "text/plain": [
       "'Layer: NHBP LAND COVER PICT 2015'"
      ]
     },
     "metadata": {},
     "output_type": "display_data"
    },
    {
     "data": {
      "text/plain": [
       "<arcpy._mp.Layer at 0x1b6d32ae518>"
      ]
     },
     "execution_count": 267,
     "metadata": {},
     "output_type": "execute_result"
    }
   ],
   "source": [
    "getLayer(m)"
   ]
  },
  {
   "cell_type": "code",
   "execution_count": 266,
   "metadata": {},
   "outputs": [
    {
     "name": "stdout",
     "output_type": "stream",
     "text": [
      "0 - CALHOUN COUNTY PARCELS.lyr\n",
      "1 - COUNTIES_BASEMAP.lyr\n",
      "2 - LAND_ACQUISITION.lyr\n",
      "3 - LAND_COVER.lyrx\n",
      "4 - MICHIGAN_HYDRO.lyr\n",
      "5 - NHBP_AERIALS_2015.lyr\n",
      "6 - NHBP_HISTORY.lyr\n",
      "7 - NHBP_LANDS.lyr\n",
      "8 - NHBP_LANDS.lyrx\n",
      "9 - NHBP_LAND_USE_2019.lyr\n",
      "10 - NHBP_LIFEWAYS.lyr\n",
      "11 - NHBP_MNOMEN.lyr\n",
      "12 - NHBP_UTILITIES.lyr\n",
      "13 - NHBP_WETLANDS.lyr\n",
      "14 - PINECREEK_ELEVATION.lyr\n",
      "15 - PINE_CREEK_LAND_COVER_2019.lyr\n",
      "16 - SHERWOOD PROPERTIES SURVEYS.lyr\n",
      "17 - WATERSHEDS_319.lyr\n",
      "18 - WATER_2018.lyr\n",
      "Choose Layer Index? 3\n",
      "Y:\\LAYERS\\LAND_COVER.lyrx added to REZ-MAP\n"
     ]
    }
   ],
   "source": [
    "layers = addLyr(m)\n",
    "#layers"
   ]
  },
  {
   "cell_type": "code",
   "execution_count": 259,
   "metadata": {},
   "outputs": [
    {
     "data": {
      "text/plain": [
       "'www.nhbpi.com'"
      ]
     },
     "execution_count": 259,
     "metadata": {},
     "output_type": "execute_result"
    }
   ],
   "source": [
    "el.text = 'www.nhbpi.com'\n",
    "el.text"
   ]
  },
  {
   "cell_type": "code",
   "execution_count": 226,
   "metadata": {},
   "outputs": [
    {
     "name": "stdout",
     "output_type": "stream",
     "text": [
      "0 - Picture 2\n",
      "1 - Group Element\n",
      "2 - Picture 1\n",
      "3 - Text 2\n",
      "4 - Scale Bar\n",
      "5 - Text 3\n",
      "6 - Text 1\n",
      "7 - Text\n",
      "8 - Map Frame\n",
      "Choose Element Index? 3\n"
     ]
    },
    {
     "data": {
      "text/plain": [
       "'Layer: Text 2'"
      ]
     },
     "metadata": {},
     "output_type": "display_data"
    }
   ],
   "source": [
    "#lyt = getLayout(aprx)\n",
    "el = getElement(lyt)"
   ]
  },
  {
   "cell_type": "code",
   "execution_count": 236,
   "metadata": {},
   "outputs": [
    {
     "data": {
      "text/plain": [
       "'Reservation Template'"
      ]
     },
     "execution_count": 236,
     "metadata": {},
     "output_type": "execute_result"
    }
   ],
   "source": [
    "lyt = aprx.listLayouts()\n",
    "lyt[0].name"
   ]
  },
  {
   "cell_type": "code",
   "execution_count": 244,
   "metadata": {},
   "outputs": [
    {
     "data": {
      "text/plain": [
       "True"
      ]
     },
     "execution_count": 244,
     "metadata": {},
     "output_type": "execute_result"
    }
   ],
   "source": [
    "#l = listLayers(m)\n",
    "l.visible = True\n",
    "l.visible"
   ]
  },
  {
   "cell_type": "code",
   "execution_count": 198,
   "metadata": {},
   "outputs": [
    {
     "name": "stdout",
     "output_type": "stream",
     "text": [
      "0 - REZ-MAP\n",
      "Choose Map Index? 0\n"
     ]
    },
    {
     "data": {
      "text/plain": [
       "'Active Map is: REZ-MAP'"
      ]
     },
     "metadata": {},
     "output_type": "display_data"
    }
   ],
   "source": [
    "m = getMap(aprx)"
   ]
  },
  {
   "cell_type": "code",
   "execution_count": 187,
   "metadata": {},
   "outputs": [
    {
     "name": "stdout",
     "output_type": "stream",
     "text": [
      "ArcPro Projects in Directory: \n",
      "0 - REZ-TEMP2.aprx\n",
      "1 - REZ-TEMPLATE.aprx\n",
      "Project Index Number? 0\n",
      "PROJECT LOADED: REZ-TEMP2.aprx - Y:\\PROJ-2021\\TEMPLATES\\REZ-TEMP2.aprx\n"
     ]
    }
   ],
   "source": [
    "aprx = loadProj()"
   ]
  },
  {
   "cell_type": "code",
   "execution_count": 118,
   "metadata": {},
   "outputs": [
    {
     "data": {
      "text/plain": [
       "'REZ-MAP'"
      ]
     },
     "execution_count": 118,
     "metadata": {},
     "output_type": "execute_result"
    }
   ],
   "source": [
    "layers[0].name\n",
    "m.name"
   ]
  },
  {
   "cell_type": "code",
   "execution_count": 130,
   "metadata": {},
   "outputs": [
    {
     "data": {
      "text/plain": [
       "'REZ-MAP'"
      ]
     },
     "execution_count": 130,
     "metadata": {},
     "output_type": "execute_result"
    }
   ],
   "source": [
    "maps = aprx.listMaps('*')\n",
    "maps[0].name\n",
    "#layers = m.listLayers()\n",
    "#dir(layers[0])\n",
    "#aprx.filePath"
   ]
  },
  {
   "cell_type": "code",
   "execution_count": 102,
   "metadata": {},
   "outputs": [
    {
     "data": {
      "text/plain": [
       "<arcpy._mp.ArcGISProject at 0x1b6d317fdd8>"
      ]
     },
     "execution_count": 102,
     "metadata": {},
     "output_type": "execute_result"
    }
   ],
   "source": [
    "aprx"
   ]
  },
  {
   "cell_type": "raw",
   "metadata": {},
   "source": [
    "dir(lyt)"
   ]
  },
  {
   "cell_type": "code",
   "execution_count": 40,
   "metadata": {},
   "outputs": [
    {
     "name": "stdout",
     "output_type": "stream",
     "text": [
      "0 - CALHOUN COUNTY PARCELS.lyr\n",
      "1 - COUNTIES_BASEMAP.lyr\n",
      "2 - LAND_ACQUISITION.lyr\n",
      "3 - LAND_COVER.lyrx\n",
      "4 - MICHIGAN_HYDRO.lyr\n",
      "5 - NHBP_AERIALS_2015.lyr\n",
      "6 - NHBP_HISTORY.lyr\n",
      "7 - NHBP_LANDS.lyr\n",
      "8 - NHBP_LANDS.lyrx\n",
      "9 - NHBP_LAND_USE_2019.lyr\n",
      "10 - NHBP_LIFEWAYS.lyr\n",
      "11 - NHBP_MNOMEN.lyr\n",
      "12 - NHBP_UTILITIES.lyr\n",
      "13 - NHBP_WETLANDS.lyr\n",
      "14 - PINECREEK_ELEVATION.lyr\n",
      "15 - PINE_CREEK_LAND_COVER_2019.lyr\n",
      "16 - SHERWOOD PROPERTIES SURVEYS.lyr\n",
      "17 - WATERSHEDS_319.lyr\n",
      "18 - WATER_2018.lyr\n"
     ]
    }
   ],
   "source": [
    "dirPath = 'Y:\\\\LAYERS\\\\'\n",
    "layerNames = os.listdir(dirPath)\n",
    "x=0\n",
    "for layer in layerNames:\n",
    "    print(f'{x} - {layer}')\n",
    "    x+=1\n",
    "          \n",
    "#os.path.dirname()"
   ]
  },
  {
   "cell_type": "code",
   "execution_count": 43,
   "metadata": {},
   "outputs": [
    {
     "data": {
      "text/plain": [
       "'MICHIGAN_HYDRO.lyr'"
      ]
     },
     "execution_count": 43,
     "metadata": {},
     "output_type": "execute_result"
    }
   ],
   "source": [
    "layerNames[4]"
   ]
  },
  {
   "cell_type": "code",
   "execution_count": 3,
   "metadata": {},
   "outputs": [
    {
     "data": {
      "text/plain": [
       "'Y:\\\\PROJECTS\\\\TEMPLATES\\\\MAP-TEMP'"
      ]
     },
     "execution_count": 3,
     "metadata": {},
     "output_type": "execute_result"
    }
   ],
   "source": [
    "import os\n",
    "path = os.path.abspath(os.getcwd())\n",
    "path"
   ]
  },
  {
   "cell_type": "code",
   "execution_count": 21,
   "metadata": {},
   "outputs": [
    {
     "data": {
      "text/plain": [
       "['REZ-TEMP2.aprx', 'REZ-TEMPLATE.aprx']"
      ]
     },
     "execution_count": 21,
     "metadata": {},
     "output_type": "execute_result"
    }
   ],
   "source": [
    "# playing with the OS module\n",
    "cwd = os.getcwd() \n",
    "os.chdir('Y:\\\\PROJ-2021\\\\TEMPLATES')\n",
    "os.listdir()"
   ]
  },
  {
   "cell_type": "code",
   "execution_count": 149,
   "metadata": {
    "scrolled": true
   },
   "outputs": [],
   "source": [
    "mapName = 'MAP-TEMP.aprx'\n",
    "fullPath = (f'{path}\\\\{mapName}')\n",
    "#fullPath\n",
    "aprx = arcpy.mp.ArcGISProject(fullPath)"
   ]
  },
  {
   "cell_type": "code",
   "execution_count": 52,
   "metadata": {},
   "outputs": [],
   "source": [
    "#newPath = (f'{path}\\\\{mapName}')\n",
    "#display(aprx.filePath)\n",
    "aprx.save()"
   ]
  },
  {
   "cell_type": "code",
   "execution_count": 43,
   "metadata": {},
   "outputs": [
    {
     "data": {
      "text/plain": [
       "None"
      ]
     },
     "metadata": {},
     "output_type": "display_data"
    }
   ],
   "source": [
    "saveCopy = aprx.saveACopy(f'Y:\\\\PROJECTS\\\\TEMPLATES\\\\MAP-TEMP\\\\MAP-TEMP2.aprx')\n",
    "display(saveCopy)"
   ]
  },
  {
   "cell_type": "code",
   "execution_count": 29,
   "metadata": {},
   "outputs": [
    {
     "ename": "OSError",
     "evalue": "Y:\\PROJECTS\\TEMPLATES\\MAP-TEMP\\MAP-TEMP.aprx",
     "output_type": "error",
     "traceback": [
      "\u001b[1;31m---------------------------------------------------------------------------\u001b[0m",
      "\u001b[1;31mOSError\u001b[0m                                   Traceback (most recent call last)",
      "\u001b[1;32m<ipython-input-29-ca8ce6ea9ae9>\u001b[0m in \u001b[0;36m<module>\u001b[1;34m\u001b[0m\n\u001b[1;32m----> 1\u001b[1;33m \u001b[0maprx\u001b[0m\u001b[1;33m.\u001b[0m\u001b[0msave\u001b[0m\u001b[1;33m(\u001b[0m\u001b[1;33m)\u001b[0m\u001b[1;33m\u001b[0m\u001b[1;33m\u001b[0m\u001b[0m\n\u001b[0m",
      "\u001b[1;32mC:\\Program Files\\ArcGIS\\Pro\\Resources\\ArcPy\\arcpy\\_mp.py\u001b[0m in \u001b[0;36msave\u001b[1;34m(self)\u001b[0m\n\u001b[0;32m    269\u001b[0m \u001b[1;33m\u001b[0m\u001b[0m\n\u001b[0;32m    270\u001b[0m            Saves changes to an ArcGISProject ( .aprx ).\"\"\"\n\u001b[1;32m--> 271\u001b[1;33m         \u001b[1;32mreturn\u001b[0m \u001b[0mconvertArcObjectToPythonObject\u001b[0m\u001b[1;33m(\u001b[0m\u001b[0mself\u001b[0m\u001b[1;33m.\u001b[0m\u001b[0m_arc_object\u001b[0m\u001b[1;33m.\u001b[0m\u001b[0msave\u001b[0m\u001b[1;33m(\u001b[0m\u001b[1;33m*\u001b[0m\u001b[0mgp_fixargs\u001b[0m\u001b[1;33m(\u001b[0m\u001b[1;33m(\u001b[0m\u001b[1;33m)\u001b[0m\u001b[1;33m,\u001b[0m \u001b[1;32mTrue\u001b[0m\u001b[1;33m)\u001b[0m\u001b[1;33m)\u001b[0m\u001b[1;33m)\u001b[0m\u001b[1;33m\u001b[0m\u001b[1;33m\u001b[0m\u001b[0m\n\u001b[0m\u001b[0;32m    272\u001b[0m \u001b[1;33m\u001b[0m\u001b[0m\n\u001b[0;32m    273\u001b[0m     \u001b[1;32mdef\u001b[0m \u001b[0msaveACopy\u001b[0m\u001b[1;33m(\u001b[0m\u001b[0mself\u001b[0m\u001b[1;33m,\u001b[0m \u001b[0mfile_name\u001b[0m\u001b[1;33m)\u001b[0m\u001b[1;33m:\u001b[0m\u001b[1;33m\u001b[0m\u001b[1;33m\u001b[0m\u001b[0m\n",
      "\u001b[1;31mOSError\u001b[0m: Y:\\PROJECTS\\TEMPLATES\\MAP-TEMP\\MAP-TEMP.aprx"
     ]
    }
   ],
   "source": [
    "aprx.save()"
   ]
  },
  {
   "cell_type": "code",
   "execution_count": 150,
   "metadata": {},
   "outputs": [
    {
     "data": {
      "text/plain": [
       "'Map'"
      ]
     },
     "execution_count": 150,
     "metadata": {},
     "output_type": "execute_result"
    }
   ],
   "source": [
    "m = aprx.listMaps(\"Map\")[0]\n",
    "m.name\n",
    "#aprx.filePath"
   ]
  },
  {
   "cell_type": "code",
   "execution_count": 125,
   "metadata": {},
   "outputs": [
    {
     "name": "stdout",
     "output_type": "stream",
     "text": [
      "0 - CALHOUN COUNTY PARCELS.lyr\n",
      "1 - COUNTIES_BASEMAP.lyr\n",
      "2 - LAND_ACQUISITION.lyr\n",
      "3 - LAND_COVER.lyrx\n",
      "4 - MICHIGAN_HYDRO.lyr\n",
      "5 - NHBP_AERIALS_2015.lyr\n",
      "6 - NHBP_HISTORY.lyr\n",
      "7 - NHBP_LANDS.lyr\n",
      "8 - NHBP_LANDS.lyrx\n",
      "9 - NHBP_LAND_USE_2019.lyr\n",
      "10 - NHBP_LIFEWAYS.lyr\n",
      "11 - NHBP_MNOMEN.lyr\n",
      "12 - NHBP_UTILITIES.lyr\n",
      "13 - NHBP_WETLANDS.lyr\n",
      "14 - PINECREEK_ELEVATION.lyr\n",
      "15 - PINE_CREEK_LAND_COVER_2019.lyr\n",
      "16 - SHERWOOD PROPERTIES SURVEYS.lyr\n",
      "17 - WATERSHEDS_319.lyr\n",
      "18 - WATER_2018.lyr\n"
     ]
    }
   ],
   "source": [
    "dirPath = 'Y:\\\\LAYERS\\\\'\n",
    "layerNames = os.listdir(dirPath)\n",
    "x=0\n",
    "for layer in layerNames:\n",
    "    print(f'{x} - {layer}')\n",
    "    x+=1"
   ]
  },
  {
   "cell_type": "code",
   "execution_count": 154,
   "metadata": {},
   "outputs": [],
   "source": [
    "#layerObject = mapLayers[0]\n",
    "#addLayer(layerNames[4], m, aprx)\n",
    "#removeMapLayer(layerObject, m, aprx)\n",
    "#layerObject.name\n",
    "aprx.save()\n"
   ]
  },
  {
   "cell_type": "code",
   "execution_count": 140,
   "metadata": {},
   "outputs": [],
   "source": [
    "def addMapLayer(layerName, actMap, aprx):\n",
    "    try:\n",
    "        dirPath = 'Y:\\\\LAYERS\\\\'\n",
    "        layerPath = (f'{dirPath}{layerName}')\n",
    "        addLayer = arcpy.mp.LayerFile(layerPath)\n",
    "        addToMap = actMap.addLayer(addLayer, 'TOP')\n",
    "        print(f'{layerName} added to {actMap.name} in {aprx.filePath}')\n",
    "    except:\n",
    "        print(f'FAILED TO ADD: {layerName} to {actMap.name}')\n",
    "\n",
    "def removeMapLayer(layerObject, actMap, aprx):\n",
    "    try:\n",
    "        print(f'{layerObject.name} removed from {actMap.name} in {aprx.filePath}')\n",
    "        removedLayer = actMap.removeLayer(layerObject)\n",
    "    except:\n",
    "        print(f'FAILED TO REMOVE: {layerObject.name} from {actMap.name}')\n",
    "    \n",
    "    "
   ]
  },
  {
   "cell_type": "code",
   "execution_count": 156,
   "metadata": {},
   "outputs": [
    {
     "name": "stdout",
     "output_type": "stream",
     "text": [
      "0 - NHBP LANDS - vis: True - FeatLay: False\n",
      "1 - NHBP_LAND_SYMBOLS - vis: True - FeatLay: True\n",
      "2 - OUTLINES - vis: True - FeatLay: True\n",
      "3 - FILL - vis: True - FeatLay: True\n",
      "4 - STRUCTURES - vis: True - FeatLay: True\n",
      "5 - WATER_2018 - vis: True - FeatLay: False\n",
      "6 - WATER_POLY - vis: True - FeatLay: True\n",
      "7 - WATER_LINE - vis: True - FeatLay: True\n",
      "8 - Human Geography Label - vis: False - FeatLay: False\n",
      "9 - Human Geography Detail - vis: False - FeatLay: False\n",
      "10 - Human Geography Base - vis: False - FeatLay: False\n"
     ]
    }
   ],
   "source": [
    "mapLayers = m.listLayers()\n",
    "x = 0\n",
    "for layers in mapLayers:\n",
    "    print(f'{x} - {layers.name} - vis: {layers.visible} - FeatLay: {layers.isFeatureLayer}')\n",
    "    x+=1"
   ]
  },
  {
   "cell_type": "code",
   "execution_count": 90,
   "metadata": {},
   "outputs": [],
   "source": [
    "aprx.save()"
   ]
  },
  {
   "cell_type": "code",
   "execution_count": 10,
   "metadata": {},
   "outputs": [],
   "source": [
    "lyt = aprx.listLayouts()\n",
    "layout = lyt[0]"
   ]
  },
  {
   "cell_type": "code",
   "execution_count": 28,
   "metadata": {},
   "outputs": [
    {
     "data": {
      "text/plain": [
       "'Y:\\\\PROJECTS\\\\TEMPLATES\\\\MAP-TEMP\\\\testPDF3.pdf'"
      ]
     },
     "execution_count": 28,
     "metadata": {},
     "output_type": "execute_result"
    }
   ],
   "source": [
    "exportPath = (f'{path}\\\\testPDF3.pdf')\n",
    "layout.exportToPDF(exportPath)   "
   ]
  }
 ],
 "metadata": {
  "kernelspec": {
   "display_name": "Python 3",
   "language": "python",
   "name": "python3"
  },
  "language_info": {
   "codemirror_mode": {
    "name": "ipython",
    "version": 3
   },
   "file_extension": ".py",
   "mimetype": "text/x-python",
   "name": "python",
   "nbconvert_exporter": "python",
   "pygments_lexer": "ipython3",
   "version": "3.6.8"
  }
 },
 "nbformat": 4,
 "nbformat_minor": 2
}
