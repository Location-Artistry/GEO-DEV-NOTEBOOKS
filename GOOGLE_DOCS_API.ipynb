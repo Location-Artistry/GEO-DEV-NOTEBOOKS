{
  "nbformat": 4,
  "nbformat_minor": 0,
  "metadata": {
    "kernelspec": {
      "display_name": "Python 3",
      "language": "python",
      "name": "python3"
    },
    "language_info": {
      "codemirror_mode": {
        "name": "ipython",
        "version": 3
      },
      "file_extension": ".py",
      "mimetype": "text/x-python",
      "name": "python",
      "nbconvert_exporter": "python",
      "pygments_lexer": "ipython3",
      "version": "3.6.8"
    },
    "colab": {
      "name": "GOOGLE-DOCS-API.ipynb",
      "provenance": [],
      "collapsed_sections": [],
      "include_colab_link": true
    }
  },
  "cells": [
    {
      "cell_type": "markdown",
      "metadata": {
        "id": "view-in-github",
        "colab_type": "text"
      },
      "source": [
        "<a href=\"https://colab.research.google.com/github/Location-Artistry/GEO-DEV-NOTEBOOKS/blob/main/GOOGLE_DOCS_API.ipynb\" target=\"_parent\"><img src=\"https://colab.research.google.com/assets/colab-badge.svg\" alt=\"Open In Colab\"/></a>"
      ]
    },
    {
      "cell_type": "code",
      "metadata": {
        "id": "Uax4Hew70AOb",
        "colab": {
          "base_uri": "https://localhost:8080/"
        },
        "outputId": "510fc6cb-cc7c-413d-9bca-25ec223829de"
      },
      "source": [
        "# Colab libraries install & mount google drive to access credentials\n",
        "#!pip install google-api-python-client google-auth-httplib2 google-auth-oauthlib \n",
        "import os\n",
        "from __future__ import print_function\n",
        "import os.path\n",
        "from googleapiclient.discovery import build\n",
        "from google_auth_oauthlib.flow import InstalledAppFlow\n",
        "from google.auth.transport.requests import Request\n",
        "from google.oauth2.credentials import Credentials\n",
        "from google.colab import drive\n",
        "drive.mount('/content/drive')"
      ],
      "execution_count": null,
      "outputs": [
        {
          "output_type": "stream",
          "text": [
            "Mounted at /content/drive\n"
          ],
          "name": "stdout"
        }
      ]
    },
    {
      "cell_type": "code",
      "metadata": {
        "id": "twcLhT7Yz5k0"
      },
      "source": [
        "os.chdir('/content/drive/MyDrive/CODE')"
      ],
      "execution_count": null,
      "outputs": []
    },
    {
      "cell_type": "code",
      "metadata": {
        "id": "qSX8aEciyczd"
      },
      "source": [
        "# Get and return GoogleAPIS credentials\n",
        "def getGcreds(CLIENT_SECRETS_FILE, SCOPES):\n",
        "  flow = InstalledAppFlow.from_client_secrets_file(CLIENT_SECRETS_FILE, SCOPES)\n",
        "  credentials = flow.run_console()\n",
        "  return credentials\n",
        "\n",
        "# Create copy of Gdoc from template\n",
        "def copyFile(DOCUMENT_ID, copyTitle, credentials):\n",
        "  API_SERVICE_NAME = 'drive'\n",
        "  API_VERSION = 'v3'\n",
        "  service = build(API_SERVICE_NAME, API_VERSION, credentials = credentials)\n",
        "  newText = {'name': copyTitle}\n",
        "  try:\n",
        "    result = service.files().copy(fileId=DOCUMENT_ID, body=newText).execute()\n",
        "    display(result)\n",
        "    return result['id']\n",
        "  except (errors.HttpError, error):\n",
        "    print('An error occurred: %s') % error\n",
        "  return None\n",
        "\n",
        "# List files in drive, pass number desired file results\n",
        "def listFiles(num, credentials):\n",
        "  API_SERVICE_NAME = 'drive'\n",
        "  API_VERSION = 'v3'\n",
        "  service = build(API_SERVICE_NAME, API_VERSION, credentials = credentials)\n",
        "  results = service.files().list(\n",
        "        pageSize=num, fields=\"nextPageToken, files(id, name, mimeType, size, parents, modifiedTime)\").execute()\n",
        "  items = results['files']\n",
        "  # list all 20 files & folders\n",
        "  for x, i in enumerate(items):\n",
        "    display(f'{x} - {i.get(\"id\")} - {i.get(\"mimeType\")} - {i.get(\"parents\")} - {i.get(\"modifiedTime\")}')\n",
        "  #for item in items:\n",
        "  #  display(item)\n",
        "  return items\n",
        "\n",
        "  # Drive search function, template from Google Developers\n",
        "def fileSearch(type,query,credentials):\n",
        "  f = {'jpeg': \"mimeType='image/jpeg'\",'pdf':\"mimeType='application/pdf'\",'doc':\"mimeType='application/vnd.google-apps.document'\",\n",
        "     'sheet':\"mimeType='application/vnd.google-apps.spreadsheet'\",'folder':\"mimeType='application/vnd.google-apps.folder'\",'png':\"mimeType='image/png'\",\n",
        "     'text':\"mimeType='text/plain'\"}\n",
        "  API_SERVICE_NAME, API_VERSION, page_token = 'drive','v3',None\n",
        "  drive_service = build(API_SERVICE_NAME, API_VERSION, credentials = credentials)\n",
        "  query = (f\"{f[type]}{query}\")\n",
        "  while True:\n",
        "    response = drive_service.files().list(q=query,spaces='drive',fields='nextPageToken, files(id, name)',pageToken=page_token).execute()\n",
        "    for x, file in enumerate(response.get('files', [])):\n",
        "      display(f'Found {x}: {file.get(\"name\")} - {file.get(\"id\")}')\n",
        "    page_token = response.get('nextPageToken', None)\n",
        "    if page_token is None:\n",
        "      break\n",
        "  return response['files']\n",
        "  \n",
        "# Update document with spcified requests\n",
        "def updateDoc(DOCUMENT_ID, req, credentials):\n",
        "  API_SERVICE_NAME = 'docs'\n",
        "  API_VERSION = 'v1'\n",
        "  service = build(API_SERVICE_NAME, API_VERSION, credentials = credentials)\n",
        "  result = service.documents().batchUpdate(documentId=DOCUMENT_ID, body={'requests': req}).execute()\n",
        "  display(f'Edit Successful for id: {result[\"documentId\"]} Changes made: {result[\"replies\"][0]}')\n",
        "  return result\n",
        "# Get Gdoc item information for inserting at index location\n",
        "def getDoc(DOCUMENT_ID, req, credentials):\n",
        "  try:\n",
        "    API_SERVICE_NAME = 'docs'\n",
        "    API_VERSION = 'v1'\n",
        "    service = build(API_SERVICE_NAME, API_VERSION, credentials = credentials)\n",
        "    result = service.documents().get(documentId=DOCUMENT_ID).execute()\n",
        "    display(f'Title: {result[\"title\"]} - id: {result[\"documentId\"]}')\n",
        "    return result\n",
        "  except:\n",
        "    display(f'FAIL to get {DOCUMENT_ID} SORRY')\n",
        "# Get Gdoc content blocks in body\n",
        "def getDocContent(doc):\n",
        "  try:\n",
        "    content = []\n",
        "    for i,z in enumerate(doc['body']['content']):\n",
        "      content.append(z)\n",
        "      print(i,z)\n",
        "    return content\n",
        "  except:\n",
        "    display(f'FAIL to get contents for {doc[\"title\"]}')\n"
      ],
      "execution_count": null,
      "outputs": []
    },
    {
      "cell_type": "code",
      "metadata": {
        "id": "uux31BnJzU0R",
        "colab": {
          "base_uri": "https://localhost:8080/"
        },
        "outputId": "d72b4088-dbb2-4f1a-bcd7-0ecb3e89130e"
      },
      "source": [
        " # define client secrets and Google Scopes\n",
        "CLIENT_SECRETS_FILE = \"CRED-DESK.json\"\n",
        "SCOPES = ['https://www.googleapis.com/auth/drive', 'https://www.googleapis.com/auth/documents', 'https://www.googleapis.com/auth/spreadsheets']\n",
        "# verify credentials run once when initalizing workflow\n",
        "credentials = getGcreds(CLIENT_SECRETS_FILE,SCOPES)"
      ],
      "execution_count": null,
      "outputs": [
        {
          "output_type": "stream",
          "text": [
            "Please visit this URL to authorize this application: https://accounts.google.com/o/oauth2/auth?response_type=code&client_id=244871284916-ieooau3uf8ilc792obrsk33nu933918c.apps.googleusercontent.com&redirect_uri=urn%3Aietf%3Awg%3Aoauth%3A2.0%3Aoob&scope=https%3A%2F%2Fwww.googleapis.com%2Fauth%2Fdrive+https%3A%2F%2Fwww.googleapis.com%2Fauth%2Fdocuments+https%3A%2F%2Fwww.googleapis.com%2Fauth%2Fspreadsheets&state=n2BPzhwgW0oFfobwFVcd2YCUy5K5Gt&prompt=consent&access_type=offline\n",
            "Enter the authorization code: 4/1AY0e-g7idJdPvMVr4GL-AXi1YIejZjc74WHScNQxs0bDKhEIrZ5ni5ScRPM\n"
          ],
          "name": "stdout"
        }
      ]
    },
    {
      "cell_type": "code",
      "metadata": {
        "id": "Eb6US45uFyk9"
      },
      "source": [
        "# listFiles in drive function\n",
        "files = listFiles(50, credentials)"
      ],
      "execution_count": null,
      "outputs": []
    },
    {
      "cell_type": "code",
      "metadata": {
        "id": "0VYP-GNQCTaq"
      },
      "source": [
        "# Copy Gdoc template for editing with updateDoc function\n",
        "DOCUMENT_ID = '1XSZRy7p0e75NoxFd_J5JyvCDpRGRwWixYc6BadGHLq8'\n",
        "docTitle = 'WQAR 2021 DRAFT'\n",
        "copyID = copyFile(DOCUMENT_ID, docTitle, credentials)"
      ],
      "execution_count": null,
      "outputs": []
    },
    {
      "cell_type": "code",
      "metadata": {
        "colab": {
          "base_uri": "https://localhost:8080/",
          "height": 95
        },
        "id": "VTTBNbyVDLOj",
        "outputId": "45476a65-3e1d-4a04-90e2-306888f7c40d"
      },
      "source": [
        "# fileSearch drive, type ie: pdf,doc, s = search query\n",
        "s = \" and name contains 'water'\"\n",
        "#s = \"id contains '1uBK5Sgzjuy7pNdKQ-ANf8pskXdM6K8libKfkpZ1z1lo'\"\n",
        "search = fileSearch('sheet', s, credentials)"
      ],
      "execution_count": null,
      "outputs": [
        {
          "output_type": "display_data",
          "data": {
            "application/vnd.google.colaboratory.intrinsic+json": {
              "type": "string"
            },
            "text/plain": [
              "'Found 0: Fixing The Broken 2019 Water Data Upload - Bar chart 1 - 1LdSq3iBpLm-QFhnJS-LM213ijHNm9xNUdKtrPLa7VG4'"
            ]
          },
          "metadata": {
            "tags": []
          }
        },
        {
          "output_type": "display_data",
          "data": {
            "application/vnd.google.colaboratory.intrinsic+json": {
              "type": "string"
            },
            "text/plain": [
              "'Found 1: WATER_DATA_2019_CLEANED - 1uBK5Sgzjuy7pNdKQ-ANf8pskXdM6K8libKfkpZ1z1lo'"
            ]
          },
          "metadata": {
            "tags": []
          }
        },
        {
          "output_type": "display_data",
          "data": {
            "application/vnd.google.colaboratory.intrinsic+json": {
              "type": "string"
            },
            "text/plain": [
              "'Found 2: NHBP Water Access Landings & Boardwalks - 1rloi8C0PTUo36oYuAtLpppR4_v8Zbinyw1d1An0tcVs'"
            ]
          },
          "metadata": {
            "tags": []
          }
        },
        {
          "output_type": "display_data",
          "data": {
            "application/vnd.google.colaboratory.intrinsic+json": {
              "type": "string"
            },
            "text/plain": [
              "'Found 3: LINKS FOR WATER DATA - 16aLjD-ThXpFIAU42P8M5TO2-xM5s9ppwh-irrifV6Jc'"
            ]
          },
          "metadata": {
            "tags": []
          }
        }
      ]
    },
    {
      "cell_type": "code",
      "metadata": {
        "colab": {
          "base_uri": "https://localhost:8080/"
        },
        "id": "gbN75Qjwmklz",
        "outputId": "6ca561df-afc2-4957-9aab-6f107195909d"
      },
      "source": [
        "search[0]"
      ],
      "execution_count": null,
      "outputs": [
        {
          "output_type": "execute_result",
          "data": {
            "text/plain": [
              "{'id': '1LdSq3iBpLm-QFhnJS-LM213ijHNm9xNUdKtrPLa7VG4',\n",
              " 'name': 'Fixing The Broken 2019 Water Data Upload - Bar chart 1'}"
            ]
          },
          "metadata": {
            "tags": []
          },
          "execution_count": 39
        }
      ]
    },
    {
      "cell_type": "code",
      "metadata": {
        "colab": {
          "base_uri": "https://localhost:8080/",
          "height": 37
        },
        "id": "SFlT0v142FHb",
        "outputId": "fc19e048-c173-4545-cc8e-63266ae51ced"
      },
      "source": [
        "# Gdoc editing workflow, first define creds, then add params\n",
        "params = [{ 'replaceAllText': { 'containsText': { 'text': '{{REPORT-DATES}}', 'matchCase': 'true', }, 'replaceText': '2018 - 2020'}},\n",
        "          { 'replaceAllText': { 'containsText': { 'text': '{{PUBLISH-DATE}}', 'matchCase': 'true', }, 'replaceText': 'DRAFT APRIL 2020'}}]\n",
        "docResult = updateDoc(copyID, params, credentials)"
      ],
      "execution_count": null,
      "outputs": [
        {
          "output_type": "display_data",
          "data": {
            "application/vnd.google.colaboratory.intrinsic+json": {
              "type": "string"
            },
            "text/plain": [
              "\"Edit Successful for id: 1QtikJsM36O7fOxnzFVJODqqbxVF40r7FMbbEdr-nefU Changes made: {'occurrencesChanged': 1}\""
            ]
          },
          "metadata": {
            "tags": []
          }
        }
      ]
    },
    {
      "cell_type": "code",
      "metadata": {
        "colab": {
          "base_uri": "https://localhost:8080/",
          "height": 54
        },
        "id": "AXp6elINTazP",
        "outputId": "ca768d85-8a3b-4a72-aac5-8bcbda98aa79"
      },
      "source": [
        "params = [{'insertInlineImage': {'location': {'index': 1},'uri':'http://drive.google.com/uc?export=view&id=1-m420QsB2yrqoxmqN00GMmI2QV6PBtqS',\n",
        "        'objectSize': {'height': {'magnitude': 50,'unit': 'PT'},'width': {'magnitude': 50,'unit': 'PT'}}}}]\n",
        "\n",
        "docResult = updateDoc(copyID, params, credentials)"
      ],
      "execution_count": null,
      "outputs": [
        {
          "output_type": "display_data",
          "data": {
            "application/vnd.google.colaboratory.intrinsic+json": {
              "type": "string"
            },
            "text/plain": [
              "\"Edit Successful for id: 1B6qcFG7N9QE7uWgPqHFusMjg-B_hq4In0GAZfGYjG9s Changes made: {'insertInlineImage': {'objectId': 'kix.p754dj9uugct'}}\""
            ]
          },
          "metadata": {
            "tags": []
          }
        }
      ]
    },
    {
      "cell_type": "code",
      "metadata": {
        "id": "YoYVtB7eTZP_"
      },
      "source": [
        "# Direct link to google drive images!\n",
        "'http://drive.google.com/uc?export=view&id=1-m420QsB2yrqoxmqN00GMmI2QV6PBtqS'\n",
        "# http://drive.google.com/uc?export=view&id=YOUR-ID-HERE"
      ],
      "execution_count": null,
      "outputs": []
    }
  ]
}