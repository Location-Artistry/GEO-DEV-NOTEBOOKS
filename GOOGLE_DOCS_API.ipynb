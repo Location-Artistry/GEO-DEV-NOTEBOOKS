{
  "nbformat": 4,
  "nbformat_minor": 0,
  "metadata": {
    "kernelspec": {
      "display_name": "Python 3",
      "language": "python",
      "name": "python3"
    },
    "language_info": {
      "codemirror_mode": {
        "name": "ipython",
        "version": 3
      },
      "file_extension": ".py",
      "mimetype": "text/x-python",
      "name": "python",
      "nbconvert_exporter": "python",
      "pygments_lexer": "ipython3",
      "version": "3.6.8"
    },
    "colab": {
      "name": "GOOGLE-DOCS-API.ipynb",
      "provenance": [],
      "collapsed_sections": [],
      "include_colab_link": true
    }
  },
  "cells": [
    {
      "cell_type": "markdown",
      "metadata": {
        "id": "view-in-github",
        "colab_type": "text"
      },
      "source": [
        "<a href=\"https://colab.research.google.com/github/Location-Artistry/GEO-DEV-NOTEBOOKS/blob/main/GOOGLE_DOCS_API.ipynb\" target=\"_parent\"><img src=\"https://colab.research.google.com/assets/colab-badge.svg\" alt=\"Open In Colab\"/></a>"
      ]
    },
    {
      "cell_type": "code",
      "metadata": {
        "id": "Uax4Hew70AOb"
      },
      "source": [
        "# Colab libraries install & mount google drive to access credentials\n",
        "!pip install google-api-python-client google-auth-httplib2 google-auth-oauthlib \n",
        "import os\n",
        "from __future__ import print_function\n",
        "import os.path\n",
        "from googleapiclient.discovery import build\n",
        "from google_auth_oauthlib.flow import InstalledAppFlow\n",
        "from google.auth.transport.requests import Request\n",
        "from google.oauth2.credentials import Credentials\n",
        "from google.colab import drive\n",
        "drive.mount('/content/drive')"
      ],
      "execution_count": null,
      "outputs": []
    },
    {
      "cell_type": "code",
      "metadata": {
        "id": "twcLhT7Yz5k0"
      },
      "source": [
        "os.chdir('/content/drive/MyDrive/CODE')"
      ],
      "execution_count": 5,
      "outputs": []
    },
    {
      "cell_type": "code",
      "metadata": {
        "id": "fl37Sh4AzqCI"
      },
      "source": [
        "# Get and return GoogleAPIS credentials\n",
        "def getGcreds(CLIENT_SECRETS_FILE, SCOPES):\n",
        "  flow = InstalledAppFlow.from_client_secrets_file(CLIENT_SECRETS_FILE, SCOPES)\n",
        "  credentials = flow.run_console()\n",
        "  return credentials\n",
        "\n",
        "# Create copy of Gdoc from template\n",
        "def copyFile(DOCUMENT_ID, copyTitle, credentials):\n",
        "  API_SERVICE_NAME = 'drive'\n",
        "  API_VERSION = 'v3'\n",
        "  service = build(API_SERVICE_NAME, API_VERSION, credentials = credentials)\n",
        "  newText = {'name': copyTitle}\n",
        "  try:\n",
        "    result = service.files().copy(fileId=DOCUMENT_ID, body=newText).execute()\n",
        "    display(result)\n",
        "    return result['id']\n",
        "  except (errors.HttpError, error):\n",
        "    print('An error occurred: %s') % error\n",
        "  return None\n",
        "  \n",
        "# Update document with spcified requests\n",
        "def updateDoc(DOCUMENT_ID, req, credentials):\n",
        "  API_SERVICE_NAME = 'docs'\n",
        "  API_VERSION = 'v1'\n",
        "  service = build(API_SERVICE_NAME, API_VERSION, credentials = credentials)\n",
        "  result = service.documents().batchUpdate(documentId=DOCUMENT_ID, body={'requests': req}).execute()\n",
        "  display(f'Edit Successful for id: {result[\"documentId\"]} Changes made: {result[\"replies\"][0][\"replaceAllText\"]}')\n",
        "  return result"
      ],
      "execution_count": 83,
      "outputs": []
    },
    {
      "cell_type": "code",
      "metadata": {
        "id": "uux31BnJzU0R"
      },
      "source": [
        "# define client secrets and Google Scopes\n",
        "CLIENT_SECRETS_FILE = \"CRED-DESK.json\"\n",
        "SCOPES = ['https://www.googleapis.com/auth/drive', 'https://www.googleapis.com/auth/documents', 'https://www.googleapis.com/auth/spreadsheets']\n",
        "# verify credentials run once when initalizing workflow\n",
        "credentials = getGcreds(CLIENT_SECRETS_FILE,SCOPES)"
      ],
      "execution_count": null,
      "outputs": []
    },
    {
      "cell_type": "code",
      "metadata": {
        "id": "0VYP-GNQCTaq"
      },
      "source": [
        "# Copy Gdoc template for editing with updateDoc function\n",
        "DOCUMENT_ID = '1zpheCchpIOPLBPwAVn1qk9RVmeUgxFRVth-sCJoGo78'\n",
        "docTitle = '2022 WQAR'\n",
        "copyID = copyFile(DOCUMENT_ID, docTitle, credentials)"
      ],
      "execution_count": null,
      "outputs": []
    },
    {
      "cell_type": "code",
      "metadata": {
        "colab": {
          "base_uri": "https://localhost:8080/",
          "height": 37
        },
        "id": "SFlT0v142FHb",
        "outputId": "eb582873-a65f-48d2-a98c-7ee80bf07eac"
      },
      "source": [
        "# Gdoc editing workflow, first define creds, then add params\n",
        "params = [{ 'replaceAllText': { 'containsText': { 'text': '{{REPORTING-DATES}}', 'matchCase': 'true', }, 'replaceText': 'NONSENSICAL GIBBERISH'}}]\n",
        "docResult = updateDoc(copyID, params, credentials)"
      ],
      "execution_count": 86,
      "outputs": [
        {
          "output_type": "display_data",
          "data": {
            "application/vnd.google.colaboratory.intrinsic+json": {
              "type": "string"
            },
            "text/plain": [
              "\"Edit Successful for id: 1Ab_8UHNYs6a6JzszyIhs-_FFAL9fZvu9zNb2CfEOA5Y Changes made: {'occurrencesChanged': 1}\""
            ]
          },
          "metadata": {
            "tags": []
          }
        }
      ]
    }
  ]
}