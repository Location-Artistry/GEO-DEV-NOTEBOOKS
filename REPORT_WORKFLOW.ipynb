{
  "nbformat": 4,
  "nbformat_minor": 0,
  "metadata": {
    "colab": {
      "name": "REPORT-WORKFLOW.ipynb",
      "provenance": [],
      "collapsed_sections": [
        "wVkeM-hWAeZ3",
        "L9RJsUOOAi33",
        "p-73PV0xFje9"
      ],
      "mount_file_id": "1mDAGrqFvW8et6yHSNjPa0vN2n-hDLtv3",
      "authorship_tag": "ABX9TyNKpoQvCV16WXIzyRV6kEMp",
      "include_colab_link": true
    },
    "kernelspec": {
      "name": "python3",
      "display_name": "Python 3"
    },
    "language_info": {
      "name": "python"
    }
  },
  "cells": [
    {
      "cell_type": "markdown",
      "metadata": {
        "id": "view-in-github",
        "colab_type": "text"
      },
      "source": [
        "<a href=\"https://colab.research.google.com/github/Location-Artistry/GEO-DEV-NOTEBOOKS/blob/main/REPORT_WORKFLOW.ipynb\" target=\"_parent\"><img src=\"https://colab.research.google.com/assets/colab-badge.svg\" alt=\"Open In Colab\"/></a>"
      ]
    },
    {
      "cell_type": "markdown",
      "metadata": {
        "id": "f0l6GzNNATdP"
      },
      "source": [
        "# **Full test of inserting figures into Doc Template**"
      ]
    },
    {
      "cell_type": "markdown",
      "metadata": {
        "id": "wVkeM-hWAeZ3"
      },
      "source": [
        "## Imports & Functions"
      ]
    },
    {
      "cell_type": "code",
      "metadata": {
        "colab": {
          "base_uri": "https://localhost:8080/"
        },
        "id": "OIolXr4CABNx",
        "outputId": "641f2809-967e-44ee-8c5d-afc3fbafe6a5"
      },
      "source": [
        "# Colab libraries install & mount google drive to access credentials\n",
        "#!pip install google-api-python-client google-auth-httplib2 google-auth-oauthlib \n",
        "import os\n",
        "from __future__ import print_function\n",
        "import os.path\n",
        "from googleapiclient.discovery import build\n",
        "from google_auth_oauthlib.flow import InstalledAppFlow\n",
        "from google.auth.transport.requests import Request\n",
        "from google.oauth2.credentials import Credentials\n",
        "from google.colab import drive\n",
        "drive.mount('/content/drive')"
      ],
      "execution_count": 1,
      "outputs": [
        {
          "output_type": "stream",
          "text": [
            "Mounted at /content/drive\n"
          ],
          "name": "stdout"
        }
      ]
    },
    {
      "cell_type": "code",
      "metadata": {
        "id": "l_0j1MdxAM7e"
      },
      "source": [
        "# Get and return GoogleAPIS credentials\n",
        "def getGcreds(CLIENT_SECRETS_FILE, SCOPES):\n",
        "  flow = InstalledAppFlow.from_client_secrets_file(CLIENT_SECRETS_FILE, SCOPES)\n",
        "  credentials = flow.run_console()\n",
        "  return credentials\n",
        "\n",
        "# Create copy of Gdoc from template\n",
        "def copyFile(DOCUMENT_ID, copyTitle, credentials):\n",
        "  API_SERVICE_NAME = 'drive'\n",
        "  API_VERSION = 'v3'\n",
        "  service = build(API_SERVICE_NAME, API_VERSION, credentials = credentials)\n",
        "  newText = {'name': copyTitle}\n",
        "  try:\n",
        "    result = service.files().copy(fileId=DOCUMENT_ID, body=newText).execute()\n",
        "    display(result)\n",
        "    return result['id']\n",
        "  except (errors.HttpError, error):\n",
        "    print('An error occurred: %s') % error\n",
        "  return None\n",
        "\n",
        "# List files in drive, pass number desired file results\n",
        "def listFiles(num, credentials):\n",
        "  API_SERVICE_NAME = 'drive'\n",
        "  API_VERSION = 'v3'\n",
        "  service = build(API_SERVICE_NAME, API_VERSION, credentials = credentials)\n",
        "  results = service.files().list(\n",
        "        pageSize=num, fields=\"nextPageToken, files(id, name, mimeType, size, parents, modifiedTime)\").execute()\n",
        "  items = results['files']\n",
        "  # list all 20 files & folders\n",
        "  for x, i in enumerate(items):\n",
        "    display(f'{x} - {i.get(\"id\")} - {i.get(\"mimeType\")} - {i.get(\"parents\")} - {i.get(\"modifiedTime\")}')\n",
        "  #for item in items:\n",
        "  #  display(item)\n",
        "  return items\n",
        "\n",
        "  # Drive search function, template from Google Developers\n",
        "def fileSearch(type,query,credentials):\n",
        "  f = {'jpeg': \"mimeType='image/jpeg'\",'pdf':\"mimeType='application/pdf'\",'doc':\"mimeType='application/vnd.google-apps.document'\",\n",
        "     'sheet':\"mimeType='application/vnd.google-apps.spreadsheet'\",'folder':\"mimeType='application/vnd.google-apps.folder'\",'png':\"mimeType='image/png'\",\n",
        "     'text':\"mimeType='text/plain'\"}\n",
        "  API_SERVICE_NAME, API_VERSION, page_token = 'drive','v3',None\n",
        "  drive_service = build(API_SERVICE_NAME, API_VERSION, credentials = credentials)\n",
        "  query = (f\"{f[type]}{query}\")\n",
        "  while True:\n",
        "    response = drive_service.files().list(q=query,spaces='drive',fields='nextPageToken, files(id, name)',pageToken=page_token).execute()\n",
        "    for x, file in enumerate(response.get('files', [])):\n",
        "      display(f'Found {x}: {file.get(\"name\")} - {file.get(\"id\")}')\n",
        "    page_token = response.get('nextPageToken', None)\n",
        "    if page_token is None:\n",
        "      break\n",
        "  return response['files']\n",
        "  \n",
        "# Update document with spcified requests\n",
        "def updateDoc(DOCUMENT_ID, req, credentials):\n",
        "  API_SERVICE_NAME = 'docs'\n",
        "  API_VERSION = 'v1'\n",
        "  service = build(API_SERVICE_NAME, API_VERSION, credentials = credentials)\n",
        "  result = service.documents().batchUpdate(documentId=DOCUMENT_ID, body={'requests': req}).execute()\n",
        "  display(f'Edit Successful for id: {result[\"documentId\"]} Changes made: {result[\"replies\"][0]}')\n",
        "  return result"
      ],
      "execution_count": 27,
      "outputs": []
    },
    {
      "cell_type": "markdown",
      "metadata": {
        "id": "L9RJsUOOAi33"
      },
      "source": [
        "## Install Plotly Express and associated libraries"
      ]
    },
    {
      "cell_type": "code",
      "metadata": {
        "id": "L8VzOiliA5-3"
      },
      "source": [
        "!pip install -U plotly\n",
        "import plotly\n",
        "print(plotly.__version__)\n",
        "from urllib.request import urlopen\n",
        "import json\n",
        "import pandas as pd\n",
        "import plotly.express as px\n",
        "\n",
        "# orca to export plotly images\n",
        "!wget https://github.com/plotly/orca/releases/download/v1.2.1/orca-1.2.1-x86_64.AppImage -O /usr/local/bin/orca\n",
        "!chmod +x /usr/local/bin/orca\n",
        "!apt-get install xvfb libgtk2.0-0 libgconf-2-4"
      ],
      "execution_count": null,
      "outputs": []
    },
    {
      "cell_type": "code",
      "metadata": {
        "id": "cbHo8l__Slxy"
      },
      "source": [
        "with urlopen('https://raw.githubusercontent.com/plotly/datasets/master/geojson-counties-fips.json') as response:\n",
        "    counties = json.load(response)\n",
        "counties[\"features\"][0]"
      ],
      "execution_count": null,
      "outputs": []
    },
    {
      "cell_type": "code",
      "metadata": {
        "id": "itPb15dfTOGT"
      },
      "source": [
        "import pandas as pd\n",
        "df = pd.read_csv(\"https://raw.githubusercontent.com/plotly/datasets/master/fips-unemp-16.csv\",\n",
        "                   dtype={\"fips\": str})\n",
        "df.head()"
      ],
      "execution_count": null,
      "outputs": []
    },
    {
      "cell_type": "code",
      "metadata": {
        "id": "t-me29_4TPoQ"
      },
      "source": [
        "import plotly.express as px\n",
        "fig = px.choropleth(df, geojson=counties, locations='fips', color='unemp',\n",
        "                           color_continuous_scale=\"Viridis\",\n",
        "                           range_color=(0, 12),\n",
        "                           scope=\"usa\",\n",
        "                           labels={'unemp':'unemployment rate'}\n",
        "                          )\n",
        "fig.update_layout(margin={\"r\":0,\"t\":0,\"l\":0,\"b\":0})\n",
        "#fig.show()\n",
        "fig.write_image(\"fig1.png\")"
      ],
      "execution_count": 79,
      "outputs": []
    },
    {
      "cell_type": "code",
      "metadata": {
        "id": "Y-8zN80zV-VB"
      },
      "source": [
        "# loop through list of figure names, name files dynamically\n",
        "names = ['fig11','fig21','fig31']\n",
        "for name in names:\n",
        "  fig = px.choropleth(df, geojson=counties, locations='fips', color='unemp',color_continuous_scale=\"Viridis\",range_color=(0, 12),scope=\"usa\",labels={'unemp':'unemployment rate'})\n",
        "  fig.update_layout(margin={\"r\":0,\"t\":0,\"l\":0,\"b\":0})\n",
        "  fig.write_image(f'{name}.png')"
      ],
      "execution_count": 92,
      "outputs": []
    },
    {
      "cell_type": "code",
      "metadata": {
        "colab": {
          "base_uri": "https://localhost:8080/",
          "height": 125
        },
        "id": "8TMsgQQvWvyh",
        "outputId": "1d2b4a33-0f07-4fd4-9f4d-43839e1a551e"
      },
      "source": [
        "# loop throug list of figures and insert dynamically by name\n",
        "for name in names:\n",
        "  s = (f'and name contains \"{name}\"')\n",
        "  search = fileSearch('png', s, credentials)\n",
        "  params = [{'insertInlineImage': {'location': {'index': 1},'uri':(f'http://drive.google.com/uc?export=view&id={search[0][\"id\"]}'),\n",
        "        'objectSize': {'height': {'magnitude': 50,'unit': 'PT'},'width': {'magnitude': 50,'unit': 'PT'}}}}]\n",
        "  docResult = updateDoc(copyID, params, credentials)"
      ],
      "execution_count": 93,
      "outputs": [
        {
          "output_type": "display_data",
          "data": {
            "application/vnd.google.colaboratory.intrinsic+json": {
              "type": "string"
            },
            "text/plain": [
              "'Found 0: fig11.png - 1-WcF3szSRVgBTMsJJZxyOBd7StvBM3Nc'"
            ]
          },
          "metadata": {
            "tags": []
          }
        },
        {
          "output_type": "display_data",
          "data": {
            "application/vnd.google.colaboratory.intrinsic+json": {
              "type": "string"
            },
            "text/plain": [
              "\"Edit Successful for id: 1fFBXoHE1zNdyPRPd_Y6ITkhIvDo7YYChHJxD8E1QM3U Changes made: {'insertInlineImage': {'objectId': 'kix.oms2sptr7508'}}\""
            ]
          },
          "metadata": {
            "tags": []
          }
        },
        {
          "output_type": "display_data",
          "data": {
            "application/vnd.google.colaboratory.intrinsic+json": {
              "type": "string"
            },
            "text/plain": [
              "'Found 0: fig21.png - 1-bQqLRQOfKofaJuJV3UKqZLIrrxN5CyW'"
            ]
          },
          "metadata": {
            "tags": []
          }
        },
        {
          "output_type": "display_data",
          "data": {
            "application/vnd.google.colaboratory.intrinsic+json": {
              "type": "string"
            },
            "text/plain": [
              "\"Edit Successful for id: 1fFBXoHE1zNdyPRPd_Y6ITkhIvDo7YYChHJxD8E1QM3U Changes made: {'insertInlineImage': {'objectId': 'kix.tyukelhe4jgn'}}\""
            ]
          },
          "metadata": {
            "tags": []
          }
        },
        {
          "output_type": "display_data",
          "data": {
            "application/vnd.google.colaboratory.intrinsic+json": {
              "type": "string"
            },
            "text/plain": [
              "'Found 0: fig31.png - 1-euPGwhJFb9DOmTaxkYIJ-CH3PLFnIcT'"
            ]
          },
          "metadata": {
            "tags": []
          }
        },
        {
          "output_type": "display_data",
          "data": {
            "application/vnd.google.colaboratory.intrinsic+json": {
              "type": "string"
            },
            "text/plain": [
              "\"Edit Successful for id: 1fFBXoHE1zNdyPRPd_Y6ITkhIvDo7YYChHJxD8E1QM3U Changes made: {'insertInlineImage': {'objectId': 'kix.223fxsbvecrw'}}\""
            ]
          },
          "metadata": {
            "tags": []
          }
        }
      ]
    },
    {
      "cell_type": "code",
      "metadata": {
        "colab": {
          "base_uri": "https://localhost:8080/",
          "height": 35
        },
        "id": "qfRvuHOjVSso",
        "outputId": "760c1f13-29fa-446e-a152-d12741562773"
      },
      "source": [
        "# Workflow for indivvidual images\n",
        "# find recently created image export\n",
        "s = \"and name contains 'fig1'\"\n",
        "#s = \"id contains '1uBK5Sgzjuy7pNdKQ-ANf8pskXdM6K8libKfkpZ1z1lo'\"\n",
        "search = fileSearch('png', s, credentials)"
      ],
      "execution_count": 80,
      "outputs": [
        {
          "output_type": "display_data",
          "data": {
            "application/vnd.google.colaboratory.intrinsic+json": {
              "type": "string"
            },
            "text/plain": [
              "'Found 0: fig1.png - 1-N-gWS5mmC-jLrnUsRkkdzvjhnB0Nn-T'"
            ]
          },
          "metadata": {
            "tags": []
          }
        }
      ]
    },
    {
      "cell_type": "code",
      "metadata": {
        "colab": {
          "base_uri": "https://localhost:8080/",
          "height": 35
        },
        "id": "O6wSmzhNVTPc",
        "outputId": "8da8d633-0dbd-4b35-c4a9-6016e48cad90"
      },
      "source": [
        "# insert chart into specified location in document\n",
        "params = [{'insertInlineImage': {'location': {'index': 1},'uri':(f'http://drive.google.com/uc?export=view&id={search[0][\"id\"]}'),\n",
        "        'objectSize': {'height': {'magnitude': 50,'unit': 'PT'},'width': {'magnitude': 50,'unit': 'PT'}}}}]\n",
        "docResult = updateDoc(copyID, params, credentials)"
      ],
      "execution_count": 81,
      "outputs": [
        {
          "output_type": "display_data",
          "data": {
            "application/vnd.google.colaboratory.intrinsic+json": {
              "type": "string"
            },
            "text/plain": [
              "\"Edit Successful for id: 1fFBXoHE1zNdyPRPd_Y6ITkhIvDo7YYChHJxD8E1QM3U Changes made: {'insertInlineImage': {'objectId': 'kix.ssluskf13hc6'}}\""
            ]
          },
          "metadata": {
            "tags": []
          }
        }
      ]
    },
    {
      "cell_type": "markdown",
      "metadata": {
        "id": "u32wV6Ehac2M"
      },
      "source": [
        "## Plotly styled DataFrame Export"
      ]
    },
    {
      "cell_type": "code",
      "metadata": {
        "id": "hVBERpXBab1Z"
      },
      "source": [
        "import plotly.graph_objects as go\n",
        "\n",
        "fig = go.Figure(data=[go.Table(header=dict(values=['A Scores', 'B Scores']),\n",
        "                 cells=dict(values=[[100, 90, 80, 90], [95, 85, 75, 95]]))\n",
        "                     ])\n",
        "fig.show()"
      ],
      "execution_count": null,
      "outputs": []
    },
    {
      "cell_type": "code",
      "metadata": {
        "id": "lqh2ci13a10R"
      },
      "source": [
        "import plotly.graph_objects as go\n",
        "\n",
        "fig = go.Figure(data=[go.Table(\n",
        "    header=dict(values=['A Scores', 'B Scores'],\n",
        "                line_color='darkslategray',\n",
        "                fill_color='lightskyblue',\n",
        "                align='left'),\n",
        "    cells=dict(values=[[100, 90, 80, 90], # 1st column\n",
        "                       [95, 85, 75, 95]], # 2nd column\n",
        "               line_color='darkslategray',\n",
        "               fill_color='lightcyan',\n",
        "               align='left'))\n",
        "])\n",
        "\n",
        "fig.update_layout(width=500, height=300)\n",
        "fig.show()"
      ],
      "execution_count": null,
      "outputs": []
    },
    {
      "cell_type": "code",
      "metadata": {
        "id": "eg1tKYePa49Z"
      },
      "source": [
        "import plotly.graph_objects as go\n",
        "import pandas as pd\n",
        "\n",
        "df = pd.read_csv('https://raw.githubusercontent.com/plotly/datasets/master/2014_usa_states.csv')\n",
        "\n",
        "fig = go.Figure(data=[go.Table(\n",
        "    header=dict(values=list(df.columns),\n",
        "                fill_color='paleturquoise',\n",
        "                align='left'),\n",
        "    cells=dict(values=[df.Rank, df.State, df.Postal, df.Population],\n",
        "               fill_color='lavender',\n",
        "               align='left'))\n",
        "])\n",
        "\n",
        "name = 'df1'\n",
        "fig.show()\n",
        "fig.write_image(f'{name}.png')"
      ],
      "execution_count": null,
      "outputs": []
    },
    {
      "cell_type": "markdown",
      "metadata": {
        "id": "p-73PV0xFje9"
      },
      "source": [
        "## Seaborn Plots Export image"
      ]
    },
    {
      "cell_type": "code",
      "metadata": {
        "id": "HEIPwA0kD6Xa"
      },
      "source": [
        "import matplotlib.pyplot as plt\n",
        "plt.style.use('classic')\n",
        "%matplotlib inline\n",
        "import numpy as np\n",
        "import pandas as pd\n",
        "import seaborn as sns\n",
        "sns.set()"
      ],
      "execution_count": 17,
      "outputs": []
    },
    {
      "cell_type": "code",
      "metadata": {
        "id": "GOmMOn8sGErR"
      },
      "source": [
        "# set directory to save image exports\n",
        "os.chdir('/content/drive/MyDrive/TEST-PROD')\n",
        "#os.getcwd()"
      ],
      "execution_count": 30,
      "outputs": []
    },
    {
      "cell_type": "code",
      "metadata": {
        "id": "snMyH6HEFoPQ"
      },
      "source": [
        "# Create some data\n",
        "rng = np.random.RandomState(0)\n",
        "x = np.linspace(0, 10, 500)\n",
        "y = np.cumsum(rng.randn(500, 6), 0)"
      ],
      "execution_count": 18,
      "outputs": []
    },
    {
      "cell_type": "code",
      "metadata": {
        "colab": {
          "base_uri": "https://localhost:8080/",
          "height": 279
        },
        "id": "5YYzluzSFqjv",
        "outputId": "716d1f2b-808e-43db-c86c-48fdcd6ba3a6"
      },
      "source": [
        "# Create and save high quality plot\n",
        "plt.plot(x, y)\n",
        "plt.legend('ABCDEF', ncol=2, loc='upper left')\n",
        "plt.savefig('PLOT1.png', dpi=300)"
      ],
      "execution_count": 41,
      "outputs": [
        {
          "output_type": "display_data",
          "data": {
            "image/png": "[encoded data removed]",
            "text/plain": [
              "<Figure size 432x288 with 1 Axes>"
            ]
          },
          "metadata": {
            "tags": []
          }
        }
      ]
    },
    {
      "cell_type": "code",
      "metadata": {
        "colab": {
          "base_uri": "https://localhost:8080/"
        },
        "id": "TzadwdedGcga",
        "outputId": "c6a07f19-14a0-4a24-f4ac-05618a7eca66"
      },
      "source": [
        " # Verify and create credentials\n",
        "CLIENT_SECRETS_FILE = \"CRED-DESK.json\"\n",
        "SCOPES = ['https://www.googleapis.com/auth/drive', 'https://www.googleapis.com/auth/documents', 'https://www.googleapis.com/auth/spreadsheets']\n",
        "# verify credentials run once when initalizing workflow\n",
        "credentials = getGcreds(CLIENT_SECRETS_FILE,SCOPES)"
      ],
      "execution_count": 31,
      "outputs": [
        {
          "output_type": "stream",
          "text": [
            "Please visit this URL to authorize this application: https://accounts.google.com/o/oauth2/auth?response_type=code&client_id=244871284916-ieooau3uf8ilc792obrsk33nu933918c.apps.googleusercontent.com&redirect_uri=urn%3Aietf%3Awg%3Aoauth%3A2.0%3Aoob&scope=https%3A%2F%2Fwww.googleapis.com%2Fauth%2Fdrive+https%3A%2F%2Fwww.googleapis.com%2Fauth%2Fdocuments+https%3A%2F%2Fwww.googleapis.com%2Fauth%2Fspreadsheets&state=POvLLJMrYLmAra9pGMJ1iVfmObjlJS&prompt=consent&access_type=offline\n",
            "Enter the authorization code: 4/1AY0e-g4ENOzYNWhGHY3T0LfbBVTwXK2H4ejoC_NO9IhVyBA2Am6fcHKsB-w\n"
          ],
          "name": "stdout"
        }
      ]
    },
    {
      "cell_type": "code",
      "metadata": {
        "colab": {
          "base_uri": "https://localhost:8080/",
          "height": 89
        },
        "id": "y5VuIW3aHuse",
        "outputId": "316ea762-6fe9-4197-9746-89c19d9744f9"
      },
      "source": [
        "# Create new WQAR from Template\n",
        "DOCUMENT_ID = '1XSZRy7p0e75NoxFd_J5JyvCDpRGRwWixYc6BadGHLq8'\n",
        "docTitle = 'WQAR 2024 DRAFT'\n",
        "copyID = copyFile(DOCUMENT_ID, docTitle, credentials)"
      ],
      "execution_count": 33,
      "outputs": [
        {
          "output_type": "display_data",
          "data": {
            "text/plain": [
              "{'id': '1fFBXoHE1zNdyPRPd_Y6ITkhIvDo7YYChHJxD8E1QM3U',\n",
              " 'kind': 'drive#file',\n",
              " 'mimeType': 'application/vnd.google-apps.document',\n",
              " 'name': 'WQAR 2024 DRAFT'}"
            ]
          },
          "metadata": {
            "tags": []
          }
        }
      ]
    },
    {
      "cell_type": "code",
      "metadata": {
        "colab": {
          "base_uri": "https://localhost:8080/",
          "height": 0
        },
        "id": "Xhm1Xt8dIIR6",
        "outputId": "a890dbd1-71b1-4038-a7c9-508c83e97786"
      },
      "source": [
        "# find recently created image export\n",
        "s = \"and name contains 'PLOT1'\"\n",
        "#s = \"id contains '1uBK5Sgzjuy7pNdKQ-ANf8pskXdM6K8libKfkpZ1z1lo'\"\n",
        "search = fileSearch('png', s, credentials)"
      ],
      "execution_count": 53,
      "outputs": [
        {
          "output_type": "display_data",
          "data": {
            "application/vnd.google.colaboratory.intrinsic+json": {
              "type": "string"
            },
            "text/plain": [
              "'Found 0: PLOT1.png - 1-ElC6io7y5LbnoX_rFBSOqiePMu3nXEG'"
            ]
          },
          "metadata": {
            "tags": []
          }
        }
      ]
    },
    {
      "cell_type": "code",
      "metadata": {
        "colab": {
          "base_uri": "https://localhost:8080/",
          "height": 35
        },
        "id": "BOgn3glrH-Lu",
        "outputId": "082db6a2-8b72-4583-9da2-597d942a377b"
      },
      "source": [
        "# insert chart into specified location in document\n",
        "params = [{'insertInlineImage': {'location': {'index': 1},'uri':(f'http://drive.google.com/uc?export=view&id={search[0][\"id\"]}'),\n",
        "        'objectSize': {'height': {'magnitude': 50,'unit': 'PT'},'width': {'magnitude': 50,'unit': 'PT'}}}}]\n",
        "docResult = updateDoc(copyID, params, credentials)"
      ],
      "execution_count": 54,
      "outputs": [
        {
          "output_type": "display_data",
          "data": {
            "application/vnd.google.colaboratory.intrinsic+json": {
              "type": "string"
            },
            "text/plain": [
              "\"Edit Successful for id: 1fFBXoHE1zNdyPRPd_Y6ITkhIvDo7YYChHJxD8E1QM3U Changes made: {'insertInlineImage': {'objectId': 'kix.l6vj7jyx5oht'}}\""
            ]
          },
          "metadata": {
            "tags": []
          }
        }
      ]
    },
    {
      "cell_type": "markdown",
      "metadata": {
        "id": "7MxYAdm8UvPC"
      },
      "source": [
        "## Pandas-Bokeh - Hold off for now"
      ]
    },
    {
      "cell_type": "code",
      "metadata": {
        "id": "gq0iui9vBBHB"
      },
      "source": [
        "# pandas_bokeh Section\n",
        "# Important library for many geopython libraries\n",
        "!apt install gdal-bin python-gdal python3-gdal \n",
        "# Install rtree - Geopandas requirment\n",
        "!apt install python3-rtree \n",
        "# Install Geopandas\n",
        "!pip install git+git://github.com/geopandas/geopandas.git\n",
        "# Install descartes - Geopandas requirment\n",
        "!pip install descartes \n",
        "!pip install pandas-bokeh\n",
        "\n",
        "import requests\n",
        "import geopandas as gpd\n",
        "import pandas as pd\n",
        "import pandas_bokeh\n",
        "pandas_bokeh.output_notebook()\n"
      ],
      "execution_count": null,
      "outputs": []
    },
    {
      "cell_type": "code",
      "metadata": {
        "id": "1qIrWWJDBIBp"
      },
      "source": [
        "#Download GeoJSON example data:\n",
        "geojson = 'https://raw.githubusercontent.com/PublicaMundi/MappingAPI/master/data/geojson/us-states.json'    \n",
        "#Read in GeoJSON:\n",
        "gdf = gpd.read_file(geojson)\n",
        "gdf.head()"
      ],
      "execution_count": null,
      "outputs": []
    },
    {
      "cell_type": "code",
      "metadata": {
        "colab": {
          "base_uri": "https://localhost:8080/",
          "height": 34
        },
        "id": "42PIFPDMBiFW",
        "outputId": "416ca81a-5e8b-4b6c-e8f2-8babba6be474"
      },
      "source": [
        "gdf.plot_bokeh(simplify_shapes=10000)"
      ],
      "execution_count": 15,
      "outputs": [
        {
          "output_type": "execute_result",
          "data": {
            "text/html": [
              "<div style=\"display: table;\"><div style=\"display: table-row;\"><div style=\"display: table-cell;\"><b title=\"bokeh.plotting.figure.Figure\">Figure</b>(</div><div style=\"display: table-cell;\">id&nbsp;=&nbsp;'1299', <span id=\"1466\" style=\"cursor: pointer;\">&hellip;)</span></div></div><div class=\"1465\" style=\"display: none;\"><div style=\"display: table-cell;\"></div><div style=\"display: table-cell;\">above&nbsp;=&nbsp;[],</div></div><div class=\"1465\" style=\"display: none;\"><div style=\"display: table-cell;\"></div><div style=\"display: table-cell;\">align&nbsp;=&nbsp;'start',</div></div><div class=\"1465\" style=\"display: none;\"><div style=\"display: table-cell;\"></div><div style=\"display: table-cell;\">aspect_ratio&nbsp;=&nbsp;None,</div></div><div class=\"1465\" style=\"display: none;\"><div style=\"display: table-cell;\"></div><div style=\"display: table-cell;\">aspect_scale&nbsp;=&nbsp;1,</div></div><div class=\"1465\" style=\"display: none;\"><div style=\"display: table-cell;\"></div><div style=\"display: table-cell;\">background&nbsp;=&nbsp;None,</div></div><div class=\"1465\" style=\"display: none;\"><div style=\"display: table-cell;\"></div><div style=\"display: table-cell;\">background_fill_alpha&nbsp;=&nbsp;1.0,</div></div><div class=\"1465\" style=\"display: none;\"><div style=\"display: table-cell;\"></div><div style=\"display: table-cell;\">background_fill_color&nbsp;=&nbsp;'#ffffff',</div></div><div class=\"1465\" style=\"display: none;\"><div style=\"display: table-cell;\"></div><div style=\"display: table-cell;\">below&nbsp;=&nbsp;[MercatorAxis(id='1310', ...)],</div></div><div class=\"1465\" style=\"display: none;\"><div style=\"display: table-cell;\"></div><div style=\"display: table-cell;\">border_fill_alpha&nbsp;=&nbsp;1.0,</div></div><div class=\"1465\" style=\"display: none;\"><div style=\"display: table-cell;\"></div><div style=\"display: table-cell;\">border_fill_color&nbsp;=&nbsp;'#ffffff',</div></div><div class=\"1465\" style=\"display: none;\"><div style=\"display: table-cell;\"></div><div style=\"display: table-cell;\">center&nbsp;=&nbsp;[Grid(id='1317', ...), Grid(id='1325', ...), Legend(id='1362', ...)],</div></div><div class=\"1465\" style=\"display: none;\"><div style=\"display: table-cell;\"></div><div style=\"display: table-cell;\">css_classes&nbsp;=&nbsp;[],</div></div><div class=\"1465\" style=\"display: none;\"><div style=\"display: table-cell;\"></div><div style=\"display: table-cell;\">disabled&nbsp;=&nbsp;False,</div></div><div class=\"1465\" style=\"display: none;\"><div style=\"display: table-cell;\"></div><div style=\"display: table-cell;\">extra_x_ranges&nbsp;=&nbsp;{},</div></div><div class=\"1465\" style=\"display: none;\"><div style=\"display: table-cell;\"></div><div style=\"display: table-cell;\">extra_y_ranges&nbsp;=&nbsp;{},</div></div><div class=\"1465\" style=\"display: none;\"><div style=\"display: table-cell;\"></div><div style=\"display: table-cell;\">frame_height&nbsp;=&nbsp;None,</div></div><div class=\"1465\" style=\"display: none;\"><div style=\"display: table-cell;\"></div><div style=\"display: table-cell;\">frame_width&nbsp;=&nbsp;None,</div></div><div class=\"1465\" style=\"display: none;\"><div style=\"display: table-cell;\"></div><div style=\"display: table-cell;\">height&nbsp;=&nbsp;400,</div></div><div class=\"1465\" style=\"display: none;\"><div style=\"display: table-cell;\"></div><div style=\"display: table-cell;\">height_policy&nbsp;=&nbsp;'auto',</div></div><div class=\"1465\" style=\"display: none;\"><div style=\"display: table-cell;\"></div><div style=\"display: table-cell;\">hidpi&nbsp;=&nbsp;True,</div></div><div class=\"1465\" style=\"display: none;\"><div style=\"display: table-cell;\"></div><div style=\"display: table-cell;\">inner_height&nbsp;=&nbsp;0,</div></div><div class=\"1465\" style=\"display: none;\"><div style=\"display: table-cell;\"></div><div style=\"display: table-cell;\">inner_width&nbsp;=&nbsp;0,</div></div><div class=\"1465\" style=\"display: none;\"><div style=\"display: table-cell;\"></div><div style=\"display: table-cell;\">js_event_callbacks&nbsp;=&nbsp;{},</div></div><div class=\"1465\" style=\"display: none;\"><div style=\"display: table-cell;\"></div><div style=\"display: table-cell;\">js_property_callbacks&nbsp;=&nbsp;{},</div></div><div class=\"1465\" style=\"display: none;\"><div style=\"display: table-cell;\"></div><div style=\"display: table-cell;\">left&nbsp;=&nbsp;[MercatorAxis(id='1318', ...)],</div></div><div class=\"1465\" style=\"display: none;\"><div style=\"display: table-cell;\"></div><div style=\"display: table-cell;\">lod_factor&nbsp;=&nbsp;10,</div></div><div class=\"1465\" style=\"display: none;\"><div style=\"display: table-cell;\"></div><div style=\"display: table-cell;\">lod_interval&nbsp;=&nbsp;300,</div></div><div class=\"1465\" style=\"display: none;\"><div style=\"display: table-cell;\"></div><div style=\"display: table-cell;\">lod_threshold&nbsp;=&nbsp;2000,</div></div><div class=\"1465\" style=\"display: none;\"><div style=\"display: table-cell;\"></div><div style=\"display: table-cell;\">lod_timeout&nbsp;=&nbsp;500,</div></div><div class=\"1465\" style=\"display: none;\"><div style=\"display: table-cell;\"></div><div style=\"display: table-cell;\">margin&nbsp;=&nbsp;(0, 0, 0, 0),</div></div><div class=\"1465\" style=\"display: none;\"><div style=\"display: table-cell;\"></div><div style=\"display: table-cell;\">match_aspect&nbsp;=&nbsp;True,</div></div><div class=\"1465\" style=\"display: none;\"><div style=\"display: table-cell;\"></div><div style=\"display: table-cell;\">max_height&nbsp;=&nbsp;None,</div></div><div class=\"1465\" style=\"display: none;\"><div style=\"display: table-cell;\"></div><div style=\"display: table-cell;\">max_width&nbsp;=&nbsp;None,</div></div><div class=\"1465\" style=\"display: none;\"><div style=\"display: table-cell;\"></div><div style=\"display: table-cell;\">min_border&nbsp;=&nbsp;5,</div></div><div class=\"1465\" style=\"display: none;\"><div style=\"display: table-cell;\"></div><div style=\"display: table-cell;\">min_border_bottom&nbsp;=&nbsp;None,</div></div><div class=\"1465\" style=\"display: none;\"><div style=\"display: table-cell;\"></div><div style=\"display: table-cell;\">min_border_left&nbsp;=&nbsp;None,</div></div><div class=\"1465\" style=\"display: none;\"><div style=\"display: table-cell;\"></div><div style=\"display: table-cell;\">min_border_right&nbsp;=&nbsp;None,</div></div><div class=\"1465\" style=\"display: none;\"><div style=\"display: table-cell;\"></div><div style=\"display: table-cell;\">min_border_top&nbsp;=&nbsp;None,</div></div><div class=\"1465\" style=\"display: none;\"><div style=\"display: table-cell;\"></div><div style=\"display: table-cell;\">min_height&nbsp;=&nbsp;None,</div></div><div class=\"1465\" style=\"display: none;\"><div style=\"display: table-cell;\"></div><div style=\"display: table-cell;\">min_width&nbsp;=&nbsp;None,</div></div><div class=\"1465\" style=\"display: none;\"><div style=\"display: table-cell;\"></div><div style=\"display: table-cell;\">name&nbsp;=&nbsp;None,</div></div><div class=\"1465\" style=\"display: none;\"><div style=\"display: table-cell;\"></div><div style=\"display: table-cell;\">outer_height&nbsp;=&nbsp;0,</div></div><div class=\"1465\" style=\"display: none;\"><div style=\"display: table-cell;\"></div><div style=\"display: table-cell;\">outer_width&nbsp;=&nbsp;0,</div></div><div class=\"1465\" style=\"display: none;\"><div style=\"display: table-cell;\"></div><div style=\"display: table-cell;\">outline_line_alpha&nbsp;=&nbsp;1.0,</div></div><div class=\"1465\" style=\"display: none;\"><div style=\"display: table-cell;\"></div><div style=\"display: table-cell;\">outline_line_cap&nbsp;=&nbsp;'butt',</div></div><div class=\"1465\" style=\"display: none;\"><div style=\"display: table-cell;\"></div><div style=\"display: table-cell;\">outline_line_color&nbsp;=&nbsp;'#e5e5e5',</div></div><div class=\"1465\" style=\"display: none;\"><div style=\"display: table-cell;\"></div><div style=\"display: table-cell;\">outline_line_dash&nbsp;=&nbsp;[],</div></div><div class=\"1465\" style=\"display: none;\"><div style=\"display: table-cell;\"></div><div style=\"display: table-cell;\">outline_line_dash_offset&nbsp;=&nbsp;0,</div></div><div class=\"1465\" style=\"display: none;\"><div style=\"display: table-cell;\"></div><div style=\"display: table-cell;\">outline_line_join&nbsp;=&nbsp;'bevel',</div></div><div class=\"1465\" style=\"display: none;\"><div style=\"display: table-cell;\"></div><div style=\"display: table-cell;\">outline_line_width&nbsp;=&nbsp;1,</div></div><div class=\"1465\" style=\"display: none;\"><div style=\"display: table-cell;\"></div><div style=\"display: table-cell;\">output_backend&nbsp;=&nbsp;'webgl',</div></div><div class=\"1465\" style=\"display: none;\"><div style=\"display: table-cell;\"></div><div style=\"display: table-cell;\">renderers&nbsp;=&nbsp;[TileRenderer(id='1342', ...), GlyphRenderer(id='1350', ...)],</div></div><div class=\"1465\" style=\"display: none;\"><div style=\"display: table-cell;\"></div><div style=\"display: table-cell;\">reset_policy&nbsp;=&nbsp;'standard',</div></div><div class=\"1465\" style=\"display: none;\"><div style=\"display: table-cell;\"></div><div style=\"display: table-cell;\">right&nbsp;=&nbsp;[],</div></div><div class=\"1465\" style=\"display: none;\"><div style=\"display: table-cell;\"></div><div style=\"display: table-cell;\">sizing_mode&nbsp;=&nbsp;None,</div></div><div class=\"1465\" style=\"display: none;\"><div style=\"display: table-cell;\"></div><div style=\"display: table-cell;\">subscribed_events&nbsp;=&nbsp;[],</div></div><div class=\"1465\" style=\"display: none;\"><div style=\"display: table-cell;\"></div><div style=\"display: table-cell;\">syncable&nbsp;=&nbsp;True,</div></div><div class=\"1465\" style=\"display: none;\"><div style=\"display: table-cell;\"></div><div style=\"display: table-cell;\">tags&nbsp;=&nbsp;[],</div></div><div class=\"1465\" style=\"display: none;\"><div style=\"display: table-cell;\"></div><div style=\"display: table-cell;\">title&nbsp;=&nbsp;Title(id='1300', ...),</div></div><div class=\"1465\" style=\"display: none;\"><div style=\"display: table-cell;\"></div><div style=\"display: table-cell;\">title_location&nbsp;=&nbsp;'above',</div></div><div class=\"1465\" style=\"display: none;\"><div style=\"display: table-cell;\"></div><div style=\"display: table-cell;\">toolbar&nbsp;=&nbsp;Toolbar(id='1333', ...),</div></div><div class=\"1465\" style=\"display: none;\"><div style=\"display: table-cell;\"></div><div style=\"display: table-cell;\">toolbar_location&nbsp;=&nbsp;'right',</div></div><div class=\"1465\" style=\"display: none;\"><div style=\"display: table-cell;\"></div><div style=\"display: table-cell;\">toolbar_sticky&nbsp;=&nbsp;True,</div></div><div class=\"1465\" style=\"display: none;\"><div style=\"display: table-cell;\"></div><div style=\"display: table-cell;\">visible&nbsp;=&nbsp;True,</div></div><div class=\"1465\" style=\"display: none;\"><div style=\"display: table-cell;\"></div><div style=\"display: table-cell;\">width&nbsp;=&nbsp;600,</div></div><div class=\"1465\" style=\"display: none;\"><div style=\"display: table-cell;\"></div><div style=\"display: table-cell;\">width_policy&nbsp;=&nbsp;'auto',</div></div><div class=\"1465\" style=\"display: none;\"><div style=\"display: table-cell;\"></div><div style=\"display: table-cell;\">x_range&nbsp;=&nbsp;DataRange1d(id='1302', ...),</div></div><div class=\"1465\" style=\"display: none;\"><div style=\"display: table-cell;\"></div><div style=\"display: table-cell;\">x_scale&nbsp;=&nbsp;LinearScale(id='1306', ...),</div></div><div class=\"1465\" style=\"display: none;\"><div style=\"display: table-cell;\"></div><div style=\"display: table-cell;\">y_range&nbsp;=&nbsp;DataRange1d(id='1304', ...),</div></div><div class=\"1465\" style=\"display: none;\"><div style=\"display: table-cell;\"></div><div style=\"display: table-cell;\">y_scale&nbsp;=&nbsp;LinearScale(id='1308', ...))</div></div></div>\n",
              "<script>\n",
              "(function() {\n",
              "  var expanded = false;\n",
              "  var ellipsis = document.getElementById(\"1466\");\n",
              "  ellipsis.addEventListener(\"click\", function() {\n",
              "    var rows = document.getElementsByClassName(\"1465\");\n",
              "    for (var i = 0; i < rows.length; i++) {\n",
              "      var el = rows[i];\n",
              "      el.style.display = expanded ? \"none\" : \"table-row\";\n",
              "    }\n",
              "    ellipsis.innerHTML = expanded ? \"&hellip;)\" : \"&lsaquo;&lsaquo;&lsaquo;\";\n",
              "    expanded = !expanded;\n",
              "  });\n",
              "})();\n",
              "</script>\n"
            ],
            "text/plain": [
              "Figure(id='1299', ...)"
            ]
          },
          "metadata": {
            "tags": []
          },
          "execution_count": 15
        }
      ]
    },
    {
      "cell_type": "code",
      "metadata": {
        "id": "5YugQ0cEBrf7"
      },
      "source": [
        "pandas_bokeh.output_file(\"Interactive Plot.jpg\")"
      ],
      "execution_count": 14,
      "outputs": []
    }
  ]
}