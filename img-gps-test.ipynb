{
 "cells": [
  {
   "cell_type": "code",
   "execution_count": null,
   "metadata": {},
   "outputs": [],
   "source": [
    "# Need to pip install packages from python command line venv\n",
    "# navigate to project directory via python command prompt\n",
    "# from command line within venv:\n",
    "# pip install piexif --user\n",
    "# pip install pillow --user\n",
    "# pip install GPSPhoto --user\n",
    "# then type in jupyter-notebook to open the notebook from command line!"
   ]
  },
  {
   "cell_type": "code",
   "execution_count": 62,
   "metadata": {},
   "outputs": [],
   "source": [
    "from GPSPhoto import gpsphoto\n",
    "import os"
   ]
  },
  {
   "cell_type": "code",
   "execution_count": 63,
   "metadata": {},
   "outputs": [],
   "source": [
    "import arcgis as GIS\n",
    "import arcpy.mp\n",
    "import os\n",
    "import arcpy\n",
    "import string, random\n",
    "import pandas as pd\n",
    "from arcgis.gis import GIS\n",
    "from arcgis.features import SpatialDataFrame\n",
    "from arcgis.features import GeoAccessor, GeoSeriesAccessor"
   ]
  },
  {
   "cell_type": "code",
   "execution_count": 83,
   "metadata": {},
   "outputs": [],
   "source": [
    "def getIMG():\n",
    "    curDir = os.path.abspath(os.getcwd())\n",
    "    listDir = os.listdir()\n",
    "    for i, directory in enumerate(listDir):\n",
    "        if os.path.isdir(directory):\n",
    "            print(f'{directory} is a directory')\n",
    "            imgList = os.listdir(directory)\n",
    "            for img in imgList:\n",
    "                if img.endswith('JPG'):\n",
    "                    print(img)\n",
    "\n",
    "def setDir():\n",
    "    curDir = os.path.abspath(os.getcwd())\n",
    "    listDir = os.listdir()\n",
    "    print(f'Current Directory: {curDir}')\n",
    "    print(f'Directory Contents:')\n",
    "    for i, item in enumerate(listDir):\n",
    "        print(f'{i} - {item}')\n",
    "    ind = int(input(f'Change to Sub-Directory?<ENTER for none> ') or 999)\n",
    "    if ind != 999:\n",
    "        os.chdir(f'{curDir}\\\\{listDir[ind]}')\n",
    "        curDir = os.path.abspath(os.getcwd())\n",
    "        listDir = os.listdir()\n",
    "        print(f'Current Directory: {curDir}')\n",
    "        print(f'Directory Contents:')\n",
    "        for i, item in enumerate(listDir):\n",
    "            print(f'{i} - {item}')\n",
    "    pathName = input(f'Enter Path to change Directory?<ENTER for none> ') or 'NO'\n",
    "    if pathName != 'NO':\n",
    "        os.chdir(pathName)\n",
    "        curDir = os.path.abspath(os.getcwd())\n",
    "    return curDir\n",
    "\n",
    "gpsphoto.getGPSData('DJI_0204.JPG')\n",
    "\n",
    "def getIMGgps():\n",
    "    curDir = os.path.abspath(os.getcwd())\n",
    "    listDir = os.listdir()\n",
    "    df = pd.DataFrame(columns = ['ID','Latitude','Longitude','Altitude'])\n",
    "    for i, directory in enumerate(listDir):\n",
    "        if directory.endswith('JPG'):\n",
    "            print(f'dir - {directory}')\n",
    "            gps = gpsphoto.getGPSData(directory)\n",
    "            df = df.append({'ID':directory,'Latitude':gps['Latitude'], \"Longitude\":gps['Longitude'], 'Altitude':gps['Altitude']}, ignore_index = True)\n",
    "        if os.path.isdir(directory):\n",
    "            print(f'{directory} is a directory')\n",
    "            imgList = os.listdir(directory)\n",
    "            for img in imgList:\n",
    "                if img.endswith('JPG'):\n",
    "                    print(f'img - {img}')\n",
    "                    gps = gpsphoto.getGPSData(f'{directory}\\\\{img}')\n",
    "                    df = df.append({'ID':img,'Latitude':gps['Latitude'], \"Longitude\":gps['Longitude'], 'Altitude':gps['Altitude']}, ignore_index = True)   \n",
    "                    #data = {'ID':'','Latitude':gps['Latitude'], \"Longitude\":gps['Longitude'], 'Altitude':gps['Altitude']}\n",
    "                    #print(data)\n",
    "    return df\n"
   ]
  },
  {
   "cell_type": "code",
   "execution_count": null,
   "metadata": {
    "scrolled": true
   },
   "outputs": [],
   "source": []
  },
  {
   "cell_type": "code",
   "execution_count": null,
   "metadata": {
    "scrolled": true
   },
   "outputs": [],
   "source": [
    "df = getIMGgps()"
   ]
  },
  {
   "cell_type": "code",
   "execution_count": 85,
   "metadata": {},
   "outputs": [
    {
     "name": "stdout",
     "output_type": "stream",
     "text": [
      "<class 'pandas.core.frame.DataFrame'>\n",
      "RangeIndex: 3104 entries, 0 to 3103\n",
      "Data columns (total 4 columns):\n",
      "ID           3104 non-null object\n",
      "Latitude     3104 non-null float64\n",
      "Longitude    3104 non-null float64\n",
      "Altitude     3104 non-null float64\n",
      "dtypes: float64(3), object(1)\n",
      "memory usage: 97.1+ KB\n"
     ]
    }
   ],
   "source": [
    "df.info()"
   ]
  },
  {
   "cell_type": "code",
   "execution_count": 86,
   "metadata": {},
   "outputs": [
    {
     "data": {
      "application/vnd.jupyter.widget-view+json": {
       "model_id": "8f6beb3c00904b4aad708692fb92fd16",
       "version_major": 2,
       "version_minor": 0
      },
      "text/plain": [
       "MapView(layout=Layout(height='400px', width='100%'))"
      ]
     },
     "metadata": {},
     "output_type": "display_data"
    },
    {
     "data": {
      "text/html": [
       "<div class=\"map-static-img-preview-18541419-ebc2-4621-b121-fe804bc01e34\"><img src=\"\"></img></div>"
      ],
      "text/plain": [
       "<IPython.core.display.HTML object>"
      ]
     },
     "metadata": {},
     "output_type": "display_data"
    }
   ],
   "source": [
    "GeoAccessor.from_xy(df, 'Longitude', 'Latitude').spatial.plot()"
   ]
  },
  {
   "cell_type": "code",
   "execution_count": 112,
   "metadata": {},
   "outputs": [],
   "source": [
    "gis = GIS()\n",
    "#map = gis.map()"
   ]
  },
  {
   "cell_type": "code",
   "execution_count": 97,
   "metadata": {},
   "outputs": [],
   "source": [
    "# Create sdf from dataframe\n",
    "sdf = pd.DataFrame.spatial(df)"
   ]
  },
  {
   "cell_type": "code",
   "execution_count": 122,
   "metadata": {},
   "outputs": [],
   "source": [
    "gis = GIS()\n",
    "map = gis.map('Athens, Michigan', zoomlevel=10)\n",
    "map.layout.height = '900px'"
   ]
  },
  {
   "cell_type": "code",
   "execution_count": 123,
   "metadata": {
    "scrolled": true
   },
   "outputs": [
    {
     "data": {
      "application/vnd.jupyter.widget-view+json": {
       "model_id": "ce121e2ab40a43a2a6b225d1b7345524",
       "version_major": 2,
       "version_minor": 0
      },
      "text/plain": [
       "MapView(layout=Layout(height='900px', width='100%'), zoom=10.0)"
      ]
     },
     "metadata": {},
     "output_type": "display_data"
    },
    {
     "data": {
      "text/html": [
       "<div class=\"map-static-img-preview-b59d3c47-06e8-4415-9cad-c80dff42a7de\"><img src=\"\"></img></div>"
      ],
      "text/plain": [
       "<IPython.core.display.HTML object>"
      ]
     },
     "metadata": {},
     "output_type": "display_data"
    }
   ],
   "source": [
    "sdf.plot(kind='map', map_widget= map)\n",
    "map"
   ]
  },
  {
   "cell_type": "code",
   "execution_count": 126,
   "metadata": {},
   "outputs": [],
   "source": [
    "df.to_csv('Y:\\\\NHBP-GEO\\\\DATA-PROCESSING\\\\2017UAVgps.csv', index=False)"
   ]
  },
  {
   "cell_type": "code",
   "execution_count": 129,
   "metadata": {},
   "outputs": [],
   "source": [
    "# this is the entire process for mapping and generating csv outputs from the drone GPS dataframe"
   ]
  },
  {
   "cell_type": "code",
   "execution_count": null,
   "metadata": {},
   "outputs": [],
   "source": [
    "setDir()"
   ]
  },
  {
   "cell_type": "code",
   "execution_count": null,
   "metadata": {},
   "outputs": [],
   "source": [
    "df = getIMGgps()"
   ]
  },
  {
   "cell_type": "code",
   "execution_count": 160,
   "metadata": {},
   "outputs": [],
   "source": [
    "sdf = pd.DataFrame.spatial(df)"
   ]
  },
  {
   "cell_type": "code",
   "execution_count": 163,
   "metadata": {},
   "outputs": [],
   "source": [
    "gis = GIS()\n",
    "map = gis.map(zoomlevel=10)\n",
    "#map.layout.height = '900px'"
   ]
  },
  {
   "cell_type": "code",
   "execution_count": 166,
   "metadata": {},
   "outputs": [],
   "source": [
    "#sdf.plot(kind='map', map_widget= map)\n",
    "# map"
   ]
  },
  {
   "cell_type": "code",
   "execution_count": 165,
   "metadata": {},
   "outputs": [],
   "source": [
    "df.to_csv('Y:\\\\NHBP-GEO\\\\DATA-PROCESSING\\\\2018UAVgps.csv', index=False)"
   ]
  },
  {
   "cell_type": "code",
   "execution_count": null,
   "metadata": {},
   "outputs": [],
   "source": [
    "# having issues with this dataframe being mapped!#&^$"
   ]
  },
  {
   "cell_type": "code",
   "execution_count": 151,
   "metadata": {},
   "outputs": [
    {
     "name": "stdout",
     "output_type": "stream",
     "text": [
      "<class 'pandas.core.frame.DataFrame'>\n",
      "RangeIndex: 2596 entries, 0 to 2595\n",
      "Data columns (total 4 columns):\n",
      "ID           2596 non-null object\n",
      "Latitude     2596 non-null float64\n",
      "Longitude    2596 non-null float64\n",
      "Altitude     2596 non-null float64\n",
      "dtypes: float64(3), object(1)\n",
      "memory usage: 81.2+ KB\n"
     ]
    }
   ],
   "source": [
    "df.info()"
   ]
  },
  {
   "cell_type": "code",
   "execution_count": 159,
   "metadata": {},
   "outputs": [
    {
     "name": "stdout",
     "output_type": "stream",
     "text": [
      "41.75288411111111 42.62632061111111 -85.91122297222223 -85.16522008333334\n"
     ]
    }
   ],
   "source": [
    "latMin = df['Latitude'].min()\n",
    "latMax = df['Latitude'].max()\n",
    "lonMin = df['Longitude'].min()\n",
    "lonMax = df['Longitude'].max()\n",
    "print(latMin, latMax, lonMin, lonMax)"
   ]
  },
  {
   "cell_type": "code",
   "execution_count": null,
   "metadata": {},
   "outputs": [],
   "source": [
    "# 2019"
   ]
  },
  {
   "cell_type": "code",
   "execution_count": null,
   "metadata": {},
   "outputs": [],
   "source": [
    "setDir()"
   ]
  },
  {
   "cell_type": "code",
   "execution_count": null,
   "metadata": {},
   "outputs": [],
   "source": [
    "df = getIMGgps()"
   ]
  },
  {
   "cell_type": "code",
   "execution_count": 176,
   "metadata": {},
   "outputs": [],
   "source": [
    "sdf = pd.DataFrame.spatial(df)"
   ]
  },
  {
   "cell_type": "code",
   "execution_count": 177,
   "metadata": {},
   "outputs": [],
   "source": [
    "gis = GIS()\n",
    "map = gis.map('Athens, Michigan', zoomlevel=10)\n",
    "map.layout.height = '900px'"
   ]
  },
  {
   "cell_type": "code",
   "execution_count": 179,
   "metadata": {},
   "outputs": [],
   "source": [
    "#sdf.plot(kind='map', map_widget= map)\n",
    "#map"
   ]
  },
  {
   "cell_type": "code",
   "execution_count": 173,
   "metadata": {},
   "outputs": [],
   "source": [
    "df.to_csv('Y:\\\\NHBP-GEO\\\\DATA-PROCESSING\\\\2019UAVgps.csv', index=False)"
   ]
  },
  {
   "cell_type": "code",
   "execution_count": null,
   "metadata": {},
   "outputs": [],
   "source": [
    "# 2020 Data Processing\n",
    "setDir()\n",
    "df = getIMGgps()\n",
    "sdf = pd.DataFrame.spatial(df)"
   ]
  },
  {
   "cell_type": "code",
   "execution_count": 183,
   "metadata": {},
   "outputs": [],
   "source": [
    "gis = GIS()\n",
    "map = gis.map('Athens, Michigan', zoomlevel=10)\n",
    "map.layout.height = '900px'\n",
    "#sdf.plot(kind='map', map_widget= map)\n",
    "#map"
   ]
  },
  {
   "cell_type": "code",
   "execution_count": 184,
   "metadata": {},
   "outputs": [],
   "source": [
    "df.to_csv('Y:\\\\NHBP-GEO\\\\DATA-PROCESSING\\\\2020UAVgps.csv', index=False)"
   ]
  },
  {
   "cell_type": "code",
   "execution_count": null,
   "metadata": {},
   "outputs": [],
   "source": [
    "# 2021 Data Processing\n",
    "setDir()\n",
    "#df = getIMGgps()\n",
    "#sdf = pd.DataFrame.spatial(df)"
   ]
  },
  {
   "cell_type": "code",
   "execution_count": null,
   "metadata": {},
   "outputs": [],
   "source": [
    "gis = GIS()\n",
    "map = gis.map('Athens, Michigan', zoomlevel=10)\n",
    "map.layout.height = '900px'\n",
    "sdf.plot(kind='map', map_widget= map)\n",
    "map"
   ]
  },
  {
   "cell_type": "code",
   "execution_count": null,
   "metadata": {},
   "outputs": [],
   "source": [
    "df.to_csv('Y:\\\\NHBP-GEO\\\\DATA-PROCESSING\\\\2021UAVgps.csv', index=False)"
   ]
  },
  {
   "cell_type": "code",
   "execution_count": 87,
   "metadata": {},
   "outputs": [],
   "source": [
    "# NHBP AGOL Account ArcGISPYmap"
   ]
  },
  {
   "cell_type": "code",
   "execution_count": 174,
   "metadata": {},
   "outputs": [],
   "source": [
    "from pathlib import Path\n",
    "import sys\n",
    "import os\n",
    "import datetime as dt\n",
    "import pandas as pd\n",
    "import getpass \n",
    "from arcgis.gis import GIS, Item\n",
    "from arcgis.env import active_gis\n",
    "from arcgis.features import FeatureLayerCollection\n",
    "from arcgis.mapping import WebMap\n",
    "from IPython.display import display\n",
    "from pathlib import Path\n",
    "from zipfile import ZipFile\n",
    "from ipywidgets import *"
   ]
  },
  {
   "cell_type": "code",
   "execution_count": 175,
   "metadata": {},
   "outputs": [],
   "source": [
    "# August 13th 2020 - these functions are working great\n",
    "# new search living atlas layer function, return selected itemID    \n",
    "# Exports map as html\n",
    "def searchItem(gisInfo, searchKeywords, itemType):\n",
    "    try:\n",
    "        searchContent = gisInfo.content.search(query=searchKeywords, item_type=itemType, max_items=25)\n",
    "        if itemType == 'Feature Service':\n",
    "            x = 0\n",
    "            print(f'<Search Query for {searchKeywords}>')\n",
    "            for z in searchContent:\n",
    "                strMod = str(z.modified)\n",
    "                stampInt = int(strMod[0:10])\n",
    "                print(f'{x} - {z.title} - {z.id} - {z.type} - {z.categories} - {dt.datetime.fromtimestamp(stampInt)}')\n",
    "                x += 1\n",
    "            layInd = int(input(f'Index of selected Feature Layer: ')) or 'NONE'\n",
    "            addLayer = gisInfo.content.get(searchContent[layInd].id)\n",
    "            return addLayer\n",
    "        elif itemType == 'Web Map':\n",
    "            x = 0\n",
    "            print(f'<Search Query for {searchKeywords}>')\n",
    "            for z in searchContent:\n",
    "                strMod = str(z.modified)\n",
    "                stampInt = int(strMod[0:10])\n",
    "                print(f'{x} - {z.title} - {z.id} - {z.type} - {z.categories} - {dt.datetime.fromtimestamp(stampInt)}')\n",
    "                x += 1\n",
    "            layInd = int(input(f'Index of selected Feature Layer: ')) or 'NONE'\n",
    "            #print(searchContent[layInd])\n",
    "            mapReturn = searchContent[layInd]\n",
    "            return mapReturn\n",
    "    except:\n",
    "        print('ERROR Search not Successful')\n",
    "        \n",
    "def quickMap():\n",
    "  mapType = input(f'(YES) for QuickMap (NO) for Existing: ')\n",
    "  if mapType.upper() == 'NO':\n",
    "    mapSize = ['480px','720px','960px']\n",
    "    print(f'<You entered {mapType} please login below>')\n",
    "    #userLogin() \n",
    "    mapKeywords = input(f'Name of WebMap to Search for: ') or ''\n",
    "    mapObj = searchItem(gis,mapKeywords,'Web Map')\n",
    "    map = gis.map(mapObj)\n",
    "    sizeIn = int(input(f'MAP SIZE (0)SMALL (1)MEDIUM (2)HUGE: '))\n",
    "    map.layout.height = mapSize[sizeIn]\n",
    "    display(map)\n",
    "  else:\n",
    "    print(f'<You entered {mapType} Opening QuickMap>')\n",
    "    mapList = ['topo','hybrid','streets','dark-gray','terrain']\n",
    "    mapDimen = ['2D','3D']\n",
    "    mapSize = ['480px','720px','960px']\n",
    "    mapLoc = input(f'Location (default=Michigan): ') or 'Michigan'\n",
    "    mapBaseNum = input(f'Basemap (default=topo (1=hybrid,2=streets,3=dark-gray,4=terrain): ') or 0\n",
    "    mapDimIn = input(f'ENTER (1) for 3D Map: ') or 0\n",
    "    atlasLayers = input(f'Layers from Living Atlas(Enter for None): ') or 'NONE'\n",
    "    gisNone = GIS()\n",
    "    map = gisNone.map(mapLoc)\n",
    "    map.basemap = mapList[int(mapBaseNum)]\n",
    "    if atlasLayers != 'NONE':\n",
    "        layerDisplay = searchItem(gisNone, atlasLayers,'Feature Service')\n",
    "        for layrs in layerDisplay.layers:\n",
    "            map.add_layer(layrs)\n",
    "    map.mode = mapDimen[int(mapDimIn)]\n",
    "    sizeIn = int(input(f'MAP SIZE (0)SMALL (1)MEDIUM (2)HUGE: '))\n",
    "    map.layout.height = mapSize[sizeIn]\n",
    "    #Use this string unix based file systems\n",
    "    #file_path = \"/Users/username/th.html\"\n",
    "    #Use this string for Windows based file systems\n",
    "    file_path = r\"C:\\Users\\ekerney\\DesktopthisMap.html\"\n",
    "    map.export_to_html(file_path)\n",
    "    #print(f'exporting to: {file_path}')\n",
    "    display(map)"
   ]
  },
  {
   "cell_type": "code",
   "execution_count": 92,
   "metadata": {},
   "outputs": [
    {
     "name": "stdout",
     "output_type": "stream",
     "text": [
      "(YES) for QuickMap (NO) for Existing: YES\n",
      "<You entered YES Opening QuickMap>\n",
      "Location (default=Michigan): \n",
      "Basemap (default=topo (1=hybrid,2=streets,3=dark-gray,4=terrain): 3\n",
      "ENTER (1) for 3D Map: \n",
      "Layers from Living Atlas(Enter for None): \n",
      "MAP SIZE (0)SMALL (1)MEDIUM (2)HUGE: 2\n"
     ]
    },
    {
     "data": {
      "application/vnd.jupyter.widget-view+json": {
       "model_id": "ad8ecec0332f4cdabb4b354ab2e4d82e",
       "version_major": 2,
       "version_minor": 0
      },
      "text/plain": [
       "MapView(layout=Layout(height='960px', width='100%'))"
      ]
     },
     "metadata": {},
     "output_type": "display_data"
    },
    {
     "data": {
      "text/html": [
       "<div class=\"map-static-img-preview-465a6549-7d59-45ba-903a-0d96cd58d854\"><img src=\"\"></img></div>"
      ],
      "text/plain": [
       "<IPython.core.display.HTML object>"
      ]
     },
     "metadata": {},
     "output_type": "display_data"
    }
   ],
   "source": [
    "quickMap()"
   ]
  },
  {
   "cell_type": "markdown",
   "metadata": {},
   "source": [
    "## New Functions AUGUST 2021\n",
    "listWorkSpaces(workPath), listGDBitems(GDBpath), deleteFeatureClass(GDBpath,fcName), newFCfromSelect(GDBpath, selectFrom, selector, selType)"
   ]
  },
  {
   "cell_type": "code",
   "execution_count": 2,
   "metadata": {},
   "outputs": [],
   "source": [
    "# Return list of workspaces in specified arcpy.env.workspace path\n",
    "def listWorkSpaces(workPath):\n",
    "    try:\n",
    "        arcpy.env.workspace = workPath\n",
    "        wsList = []\n",
    "        ws = arcpy.ListWorkspaces(\"*\", \"FileGDB\")\n",
    "        for i,w in enumerate(ws):\n",
    "            wsList.append(w)\n",
    "            print(f'{i} - {w}')\n",
    "        return wsList\n",
    "    except:\n",
    "        display(f'ERROR listing WorkSpaces in {workPath}')\n",
    "        \n",
    "# function to list all Feature Classes in specified FileGeoDatabase\n",
    "def listItems(GDBpath):\n",
    "    try:\n",
    "        arcpy.env.workspace = GDBpath\n",
    "        fcList = []\n",
    "        fc = arcpy.ListFeatureClasses()\n",
    "        print(f'Feature Classes/Shapefile in {GDBpath}: ')\n",
    "        for i,f in enumerate(fc):\n",
    "            fcList.append(f)\n",
    "            print(f'{i} - {f}')\n",
    "        return fcList\n",
    "    except:\n",
    "        display(f'ERROR listing Feature Classes in {GDBpath}')\n",
    "\n",
    "# Delete feature class given path to GDB and fc name\n",
    "def deleteFeatureClass(GDBpath,fcName):\n",
    "    try:\n",
    "        quest = (input(f'DELETE FEATURE CLASS - {GDBpath}\\\\{fcName} ??? - ') or 'NO').upper()\n",
    "        if quest == 'YES':\n",
    "            result = arcpy.Delete_management(f'{GDBpath}\\\\{fcName}')\n",
    "            display(f'File: {fcName} delete = {result}')\n",
    "        else:\n",
    "            display(f'Did not delete: {fcName}')\n",
    "    except:\n",
    "        display(f'ERROR DELETING {fcName}')\n",
    "\n",
    "\n",
    "# Make Selecttion and Create New Feature Class into function\n",
    "def newFCfromSelect(GDBpath, selectFrom, selector, selType):\n",
    "    try:\n",
    "        switchSel = (input(f'Switch the resulting selection(y/N)? ')).upper()\n",
    "        # set workspace GDB, overwrite = True\n",
    "        arcpy.env.workspace,arcpy.env.overwriteOutput = GDBpath, True\n",
    "        arcpy.Compact_management(GDBpath)\n",
    "        # create random string to append to file name, prevents duplication errors\n",
    "        rand = ''.join(random.choices(string.ascii_uppercase + string.digits, k = 8))\n",
    "        # tempLayer name from selectFrom name and random 8 character string\n",
    "        # clear any previous selection and create temporary layer\n",
    "        arcpy.SelectLayerByAttribute_management(selectFrom, \"CLEAR_SELECTION\")\n",
    "        arcpy.MakeFeatureLayer_management(selectFrom, 'tempLayer') \n",
    "        # clear selection on selector and perfrom on temporary layer\n",
    "        arcpy.SelectLayerByAttribute_management('tempLayer', \"CLEAR_SELECTION\")\n",
    "        arcpy.SelectLayerByLocation_management('tempLayer', selType, selector)\n",
    "        if switchSel == 'Y':\n",
    "            arcpy.SelectLayerByAttribute_management('tempLayer', \"SWITCH_SELECTION\")\n",
    "        # Check to see if any features were selected\n",
    "        matchcount = int(arcpy.GetCount_management('tempLayer')[0]) \n",
    "        if matchcount == 0:\n",
    "            print('no features matched spatial and attribute criteria')\n",
    "        else:\n",
    "            arcpy.CopyFeatures_management('tempLayer', (f'{selectFrom}_{rand}_{selType}'))\n",
    "            display(f'{matchcount} Features selected and written to: {selectFrom}_{rand}_{selType}')\n",
    "    except:\n",
    "        display(f'ERROR Creating Selection: {selectFrom} {selType} {selector}')\n",
    "        \n",
    "def setCRS(envPath):\n",
    "    try:\n",
    "        test, count = 1, 0\n",
    "        while test != 0:    \n",
    "            dirList,layList = [], []\n",
    "            arcpy.env.workspace = envPath\n",
    "            arcpy.env.overwriteOutput = True\n",
    "            print(f'ArcPy Workspace: {arcpy.env.workspace}')\n",
    "            os.chdir(arcpy.env.workspace)\n",
    "            print(f'Subdirectories')\n",
    "            for i, item in enumerate(os.scandir(envPath)):\n",
    "                if item.is_dir():\n",
    "                    dirList.append(item.path)\n",
    "                    print(f'{i} - {item.path}')\n",
    "            ind = int(input(f'Change to Sub-Directory?<ENTER for none> ') or 999)\n",
    "            if ind != 999:\n",
    "                arcpy.env.workspace = dirList[ind]\n",
    "                print(f'ArcPy Workspace: {arcpy.env.workspace}')\n",
    "            for i, item in enumerate(arcpy.ListFeatureClasses()):\n",
    "                layList.append(item)\n",
    "                print(f'{i} - {item}')\n",
    "            ind = int(input(f'TARGET LAYER TO DEFINE PROJECTION: ') or 999)\n",
    "            if ind != 999:\n",
    "                CRS = arcpy.SpatialReference(4326)\n",
    "                arcpy.DefineProjection_management(layList[ind],CRS)\n",
    "                print(f'Successfully Defined Projection for {layList[ind]}')\n",
    "                count += 1\n",
    "            test = int(input(f'PRESS 1 TO CONTINUE? ') or 0)\n",
    "        print(f'Set CRS for {count} layers')\n",
    "    except:\n",
    "        print(f'ERROR Defining Projection')"
   ]
  },
  {
   "cell_type": "markdown",
   "metadata": {},
   "source": [
    "## ArcPro Mapping Functions 2021\n"
   ]
  },
  {
   "cell_type": "code",
   "execution_count": 54,
   "metadata": {},
   "outputs": [],
   "source": [
    "def setDir():\n",
    "    curDir = os.path.abspath(os.getcwd())\n",
    "    listDir = os.listdir()\n",
    "    print(f'Current Directory: {curDir}')\n",
    "    print(f'Directory Contents:')\n",
    "    for i, item in enumerate(listDir):\n",
    "        print(f'{i} - {item}')\n",
    "    ind = int(input(f'Change to Sub-Directory?<ENTER for none> ') or 999)\n",
    "    if ind != 999:\n",
    "        os.chdir(f'{curDir}\\\\{listDir[ind]}')\n",
    "        curDir = os.path.abspath(os.getcwd())\n",
    "        listDir = os.listdir()\n",
    "        print(f'Current Directory: {curDir}')\n",
    "        print(f'Directory Contents:')\n",
    "        for i, item in enumerate(listDir):\n",
    "            print(f'{i} - {item}')\n",
    "    pathName = input(f'Enter Path to change Directory?<ENTER for none> ') or 'NO'\n",
    "    if pathName != 'NO':\n",
    "        os.chdir(pathName)\n",
    "        curDir = os.path.abspath(os.getcwd())\n",
    "    return curDir\n",
    "\n",
    "def loadProj():\n",
    "    try:\n",
    "        curDir = os.path.abspath(os.getcwd())\n",
    "        listDir = os.listdir()\n",
    "        print(f'ArcPro Projects in Directory: ')\n",
    "        for i, item in enumerate(listDir):\n",
    "            print(f'{i} - {item}')\n",
    "        ind = int(input(f'Project Index Number? ') or 999)\n",
    "        aprx = arcpy.mp.ArcGISProject(f'{curDir}\\\\{listDir[ind]}')\n",
    "        print(f'PROJECT LOADED: {listDir[ind]} - {aprx.filePath}')\n",
    "        return aprx\n",
    "    except:\n",
    "        print(f'COULD NOT FIND check for .aprx project')\n",
    "\n",
    "def getMap(aprx):\n",
    "    maps = aprx.listMaps('*')\n",
    "    for i, item in enumerate(maps):\n",
    "        print(f'{i} - {item.name}')\n",
    "    ind = int(input(f'Choose Map Index? ') or 999)\n",
    "    display(f'Active Map is: {maps[ind].name}')\n",
    "    return maps[ind]\n",
    "\n",
    "def listLayers(m):\n",
    "    try:    \n",
    "        lyrs = m.listLayers()\n",
    "        for i, item in enumerate(lyrs):\n",
    "            print(f'{i} - {item.name} - vis: {item.visible}')\n",
    "        return lyrs\n",
    "    except: \n",
    "        print(f'FAILED to List Layers for {m}')\n",
    "\n",
    "def getLayer(m):\n",
    "    try:\n",
    "        lyrs = m.listLayers()\n",
    "        for i, item in enumerate(lyrs):\n",
    "            print(f'{i} - {item.name} - vis: {item.visible}')\n",
    "        ind = int(input(f'Choose Layer Index? ') or 999)\n",
    "        display(f'Layer: {lyrs[ind].name}')\n",
    "        return lyrs[ind]\n",
    "    except:\n",
    "        print(f'FAILED to get Layers for {m}')\n",
    "        \n",
    "def layersFields(lyrs):\n",
    "    try:\n",
    "        for lyr in lyrs:\n",
    "            print(f'{lyr.name}')\n",
    "            if lyr.isFeatureLayer == True:\n",
    "                fields = arcpy.ListFields(lyr)\n",
    "                for field in fields:\n",
    "                    print(f'NAME: {field.name}')\n",
    "    except:\n",
    "        print(f'Could not list fields for layerList: {lyrs}')\n",
    "\n",
    "def mergeLayers(lyrs, targetField, outputName):\n",
    "    try:\n",
    "        mergeList, rand = [], ''.join(random.choices(string.ascii_uppercase + string.digits, k = 8))\n",
    "        for lyr in lyrs:\n",
    "            if lyr.isFeatureLayer == True:\n",
    "                fields = arcpy.ListFields(lyr)\n",
    "                for field in fields:\n",
    "                    if field.name == targetField:\n",
    "                        print(f'MATCH: {field.name} - {lyr.name} - {lyr.dataSource}')\n",
    "                        mergeList.append(lyr)\n",
    "        arcpy.Merge_management(mergeList, (f'{os.path.abspath(os.getcwd())}\\\\{outputName}-{rand}.shp'), '', '')\n",
    "        print(f'Successful Merge - Output: {os.path.abspath(os.getcwd())}\\\\{outputName}-{rand}.shp')\n",
    "        return mergeList\n",
    "    except:\n",
    "        print(f'Could not merge layers for layerList: {lyrs}')\n",
    "        \n",
    "def getLayout(aprx):\n",
    "    lyt = aprx.listLayouts()\n",
    "    for i, item in enumerate(lyt):\n",
    "        print(f'{i} - {item.name}')\n",
    "    ind = int(input(f'Choose Layout Index? ') or 999)\n",
    "    display(f'Layer: {lyt[ind].name}')\n",
    "    return lyt[ind]\n",
    "\n",
    "def getElement(lyt):\n",
    "    el = lyt.listElements()\n",
    "    for i, item in enumerate(el):\n",
    "        print(f'{i} - {item.name}')\n",
    "    ind = int(input(f'Choose Element Index? ') or 999)\n",
    "    display(f'Layer: {el[ind].name}')\n",
    "    return el[ind]\n",
    "\n",
    "def addLyr(m):\n",
    "    #try:\n",
    "        lyrDir = 'Y:\\\\LAYERS\\\\'\n",
    "        lyrs = os.listdir(lyrDir)\n",
    "        for i, item in enumerate(lyrs):\n",
    "            print(f'{i} - {item}')\n",
    "        ind = int(input(f'Choose Layer Index? ') or 999)\n",
    "        #dirPath = 'Y:\\\\LAYERS\\\\'\n",
    "        layerPath = (f'{lyrDir}{lyrs[ind]}')\n",
    "        lyr = arcpy.mp.LayerFile(layerPath)\n",
    "        addLyr = m.addLayer(lyr, 'TOP')\n",
    "        print(f'{lyr} added to {m.name}')\n",
    "        \n",
    "def importMxd(aprx):\n",
    "    try:\n",
    "        setDir()\n",
    "        listDir = os.listdir()\n",
    "        print(f'Directory Contents:')\n",
    "        for i, item in enumerate(listDir):\n",
    "            print(f'{i} - {item}')\n",
    "        ind = int(input(f'Choose .mxd to Import into Project ') or 999)\n",
    "        if int != 999:\n",
    "            curDir = os.path.abspath(os.getcwd())\n",
    "            mxd = listDir[ind]\n",
    "        aprx.importDocument(f'{curDir}\\\\{mxd}')\n",
    "        print(f'Successfully imported {curDir}\\\\{mxd}')\n",
    "        return aprx\n",
    "    except:\n",
    "        print(f'Could not import .mxd')\n",
    "\n",
    "def delMulLayers():\n",
    "    try:\n",
    "        curDir, delList = os.path.abspath(os.getcwd()), []\n",
    "        print(f'Current Directory: {curDir}')\n",
    "        pathName = input(f'Enter Path to change Directory?<ENTER for none> ') or 'NO'\n",
    "        if pathName != 'NO':\n",
    "            os.chdir(pathName)\n",
    "            curDir = os.path.abspath(os.getcwd())\n",
    "        listDir = os.listdir()\n",
    "        print(f'Current Directory: {curDir}')\n",
    "        print(f'Directory Contents:')\n",
    "        for i, item in enumerate(listDir):\n",
    "            files = item.split('.')\n",
    "            if ((files[1].upper() == 'SHP') and (len(files) < 3)):\n",
    "                print(f'{i} - {item} - {files[1].upper()}')\n",
    "                delList.append(item)\n",
    "        for item in delList:\n",
    "            delQuest = input(f'DELETE - {item} <YES/NO>') or 'NO'\n",
    "            if delQuest.upper() == 'YES':\n",
    "                deleteFeatureClass(curDir, item)\n",
    "        return curDir\n",
    "    except:\n",
    "        print(f'Could not perform delete in {os.path.abspath(os.getcwd())}')"
   ]
  },
  {
   "cell_type": "code",
   "execution_count": null,
   "metadata": {},
   "outputs": [],
   "source": [
    "work = listWorkSpaces('Y:\\\\DATA_2017\\\\RICE_DATA_2021\\\\')"
   ]
  },
  {
   "cell_type": "code",
   "execution_count": null,
   "metadata": {},
   "outputs": [],
   "source": [
    "arcpy.env.workspace = 'Y:\\\\DATA_2017\\\\RICE_DATA_2021\\\\RICE_DATA_2016\\\\'\n",
    "arcpy.env.workspace"
   ]
  },
  {
   "cell_type": "code",
   "execution_count": null,
   "metadata": {},
   "outputs": [],
   "source": [
    "# add layers to mxd function\n",
    "# arcpy.mapping does not work with new arcpy for ArcGIS PRO!!!\n",
    "\n",
    "#mxd = arcpy.mapping.MapDocument(f'Y:\\PROJECTS\\MNOMEN_2018\\RICE-2021\\STEVE RICE MAP 2021.mxd')\n",
    "#df = arcpy.mapping.ListDataFrames(mxd, \"New Data Frame\")[0]\n",
    "#addLayer = arcpy.mapping.Layer(r\"C:\\Project\\Data\\Orthophoto.lyr\")\n",
    "#arcpy.mapping.AddLayer(df, addLayer, \"BOTTOM\")\n",
    "#mxd.saveACopy(r\"C:\\Project\\Project2.mxd\")\n",
    "#del mxd, addLayer"
   ]
  },
  {
   "cell_type": "code",
   "execution_count": 46,
   "metadata": {},
   "outputs": [
    {
     "name": "stdout",
     "output_type": "stream",
     "text": [
      "Current Directory: Y:\\PROJECTS\\MNOMEN_2018\\RICE-2021\n",
      "Directory Contents:\n",
      "0 - RICE-2016-ONLY.mxd\n",
      "1 - STEVE RICE MAP 2021 - Shortcut.lnk\n",
      "2 - STEVE RICE MAP 2021.mxd\n",
      "Change to Sub-Directory?<ENTER for none> \n",
      "Enter Path to change Directory?<ENTER for none> Y:\\PROJ-2021\\TEMPLATES\\BLANK-PROJ\n",
      "ArcPro Projects in Directory: \n",
      "0 - BLANK-PROJ.aprx\n",
      "1 - BLANK-PROJ.gdb\n",
      "2 - BLANK-PROJ.tbx\n",
      "3 - ImportLog\n",
      "4 - Index\n",
      "Project Index Number? 0\n",
      "PROJECT LOADED: BLANK-PROJ.aprx - Y:\\PROJ-2021\\TEMPLATES\\BLANK-PROJ\\BLANK-PROJ.aprx\n"
     ]
    }
   ],
   "source": [
    "# Blank .aprx location: Y:\\PROJ-2021\\TEMPLATES\\BLANK-PROJ\n",
    "# change to directory with blank twmplate\n",
    "curDir = setDir()\n",
    "# load blank .aprx project\n",
    "aprx = loadProj()"
   ]
  },
  {
   "cell_type": "code",
   "execution_count": 47,
   "metadata": {},
   "outputs": [
    {
     "name": "stdout",
     "output_type": "stream",
     "text": [
      "Current Directory: Y:\\PROJ-2021\\TEMPLATES\\BLANK-PROJ\n",
      "Directory Contents:\n",
      "0 - BLANK-PROJ.aprx\n",
      "1 - BLANK-PROJ.gdb\n",
      "2 - BLANK-PROJ.tbx\n",
      "3 - ImportLog\n",
      "4 - Index\n",
      "Change to Sub-Directory?<ENTER for none> \n",
      "Enter Path to change Directory?<ENTER for none> Y:\\PROJECTS\\MNOMEN_2018\\RICE-2021\\\n",
      "Directory Contents:\n",
      "0 - RICE-2016-ONLY.mxd\n",
      "1 - STEVE RICE MAP 2021 - Shortcut.lnk\n",
      "2 - STEVE RICE MAP 2021.mxd\n",
      "Choose .mxd to Import into Project 0\n",
      "Successfully imported Y:\\PROJECTS\\MNOMEN_2018\\RICE-2021\\RICE-2016-ONLY.mxd\n"
     ]
    }
   ],
   "source": [
    "# Rice .mxd dir: Y:\\PROJECTS\\MNOMEN_2018\\RICE-2021\\\n",
    "aprx2 = importMxd(aprx)"
   ]
  },
  {
   "cell_type": "code",
   "execution_count": 48,
   "metadata": {
    "scrolled": true
   },
   "outputs": [
    {
     "name": "stdout",
     "output_type": "stream",
     "text": [
      "0 - Layers\n",
      "1 - Map\n",
      "Choose Map Index? 0\n"
     ]
    },
    {
     "data": {
      "text/plain": [
       "'Active Map is: Layers'"
      ]
     },
     "metadata": {},
     "output_type": "display_data"
    }
   ],
   "source": [
    "m = getMap(aprx2)"
   ]
  },
  {
   "cell_type": "code",
   "execution_count": null,
   "metadata": {},
   "outputs": [],
   "source": [
    "lyr = getLayer(m)"
   ]
  },
  {
   "cell_type": "code",
   "execution_count": 58,
   "metadata": {
    "scrolled": false
   },
   "outputs": [
    {
     "name": "stdout",
     "output_type": "stream",
     "text": [
      "0 - 2016_RICE_DATA - vis: False\n",
      "1 - Wild_Ri3 - vis: True\n",
      "2 - Wild_Ric - vis: True\n",
      "3 - Wild_Ri4 - vis: True\n",
      "4 - Wild_Ri2 - vis: True\n",
      "5 - Line_gen - vis: True\n",
      "6 - Wild_Ri2 - vis: True\n",
      "7 - Wild_Ri3 - vis: True\n",
      "8 - Wild_Ri2 - vis: True\n",
      "9 - Wild_Ri2 - vis: True\n",
      "10 - Wild_Ri3 - vis: True\n",
      "11 - Wild_Ri4 - vis: True\n",
      "12 - Wild_Ric - vis: True\n",
      "13 - Wild_Ri2 - vis: True\n",
      "14 - Wild_Ri3 - vis: True\n",
      "15 - Wild_Ri4 - vis: True\n",
      "16 - Wild_Ri2 - vis: True\n",
      "17 - Wild_Ri4 - vis: True\n",
      "18 - Wild_Ric - vis: True\n",
      "19 - Wild_Ri3 - vis: True\n",
      "20 - Wild_Ri4 - vis: True\n",
      "21 - Wild_Ric - vis: True\n",
      "22 - Wild_Ri2 - vis: True\n",
      "23 - Wild_Ri3 - vis: True\n",
      "24 - Wild_Ri4 - vis: True\n",
      "25 - Wild_Ri3 - vis: True\n",
      "26 - Wild_Ri4 - vis: True\n",
      "27 - Point_ge - vis: True\n",
      "28 - Wild_Ric - vis: True\n",
      "29 - Wild_Ri3 - vis: True\n",
      "30 - Wild_Ri2 - vis: True\n",
      "31 - Wild_Ric - vis: True\n",
      "32 - Wild_Ri4 - vis: True\n",
      "33 - Wild_Ri4 - vis: True\n",
      "34 - Wild_Ric - vis: True\n",
      "35 - Wild_Ric - vis: True\n",
      "36 - Wild_Ri2 - vis: True\n",
      "37 - Wild_Ri3 - vis: True\n",
      "38 - Wild_Ri4 - vis: True\n",
      "39 - Wild_Ric - vis: True\n"
     ]
    }
   ],
   "source": [
    "lyrs = listLayers(m)"
   ]
  },
  {
   "cell_type": "code",
   "execution_count": 62,
   "metadata": {
    "scrolled": false
   },
   "outputs": [
    {
     "name": "stdout",
     "output_type": "stream",
     "text": [
      "2016_RICE_DATA\n",
      "Wild_Ri3\n",
      "NAME: FID\n",
      "NAME: Shape\n",
      "NAME: GPS_Date\n",
      "NAME: GPS_Time\n",
      "NAME: Horz_Prec\n",
      "Wild_Ric\n",
      "NAME: FID\n",
      "NAME: Shape\n",
      "NAME: Stalks\n",
      "NAME: GPS_Date\n",
      "NAME: GPS_Time\n",
      "NAME: Horz_Prec\n",
      "Wild_Ri4\n",
      "NAME: FID\n",
      "NAME: Shape\n",
      "NAME: GPS_Date\n",
      "NAME: GPS_Time\n",
      "NAME: Horz_Prec\n",
      "Wild_Ri2\n",
      "NAME: FID\n",
      "NAME: Shape\n",
      "NAME: Bed_Width\n",
      "NAME: Bed_Densit\n",
      "NAME: GPS_Date\n",
      "NAME: GPS_Time\n",
      "NAME: Horz_Prec\n",
      "Line_gen\n",
      "NAME: FID\n",
      "NAME: Shape\n",
      "NAME: Comment\n",
      "NAME: GPS_Date\n",
      "NAME: GPS_Time\n",
      "Wild_Ri2\n",
      "NAME: FID\n",
      "NAME: Shape\n",
      "NAME: Bed_Width\n",
      "NAME: Bed_Densit\n",
      "NAME: GPS_Date\n",
      "NAME: GPS_Time\n",
      "NAME: Horz_Prec\n",
      "Wild_Ri3\n",
      "NAME: FID\n",
      "NAME: Shape\n",
      "NAME: GPS_Date\n",
      "NAME: GPS_Time\n",
      "NAME: Horz_Prec\n",
      "Wild_Ri2\n",
      "NAME: FID\n",
      "NAME: Shape\n",
      "NAME: Bed_Width\n",
      "NAME: Bed_Densit\n",
      "NAME: GPS_Date\n",
      "NAME: GPS_Time\n",
      "NAME: Horz_Prec\n",
      "Wild_Ri2\n",
      "NAME: FID\n",
      "NAME: Shape\n",
      "NAME: Bed_Width\n",
      "NAME: Bed_Densit\n",
      "NAME: GPS_Date\n",
      "NAME: GPS_Time\n",
      "NAME: Horz_Prec\n",
      "Wild_Ri3\n",
      "NAME: FID\n",
      "NAME: Shape\n",
      "NAME: GPS_Date\n",
      "NAME: GPS_Time\n",
      "NAME: Horz_Prec\n",
      "Wild_Ri4\n",
      "NAME: FID\n",
      "NAME: Shape\n",
      "NAME: GPS_Date\n",
      "NAME: GPS_Time\n",
      "NAME: Horz_Prec\n",
      "Wild_Ric\n",
      "NAME: FID\n",
      "NAME: Shape\n",
      "NAME: Stalks\n",
      "NAME: GPS_Date\n",
      "NAME: GPS_Time\n",
      "NAME: Horz_Prec\n",
      "Wild_Ri2\n",
      "NAME: FID\n",
      "NAME: Shape\n",
      "NAME: Bed_Width\n",
      "NAME: Bed_Densit\n",
      "NAME: GPS_Date\n",
      "NAME: GPS_Time\n",
      "NAME: Horz_Prec\n",
      "Wild_Ri3\n",
      "NAME: FID\n",
      "NAME: Shape\n",
      "NAME: GPS_Date\n",
      "NAME: GPS_Time\n",
      "NAME: Horz_Prec\n",
      "Wild_Ri4\n",
      "NAME: FID\n",
      "NAME: Shape\n",
      "NAME: GPS_Date\n",
      "NAME: GPS_Time\n",
      "NAME: Horz_Prec\n",
      "Wild_Ri2\n",
      "NAME: FID\n",
      "NAME: Shape\n",
      "NAME: Bed_Width\n",
      "NAME: Bed_Densit\n",
      "NAME: GPS_Date\n",
      "NAME: GPS_Time\n",
      "NAME: Horz_Prec\n",
      "Wild_Ri4\n",
      "NAME: FID\n",
      "NAME: Shape\n",
      "NAME: GPS_Date\n",
      "NAME: GPS_Time\n",
      "NAME: Horz_Prec\n",
      "Wild_Ric\n",
      "NAME: FID\n",
      "NAME: Shape\n",
      "NAME: Stalks\n",
      "NAME: GPS_Date\n",
      "NAME: GPS_Time\n",
      "NAME: Horz_Prec\n",
      "Wild_Ri3\n",
      "NAME: FID\n",
      "NAME: Shape\n",
      "NAME: GPS_Date\n",
      "NAME: GPS_Time\n",
      "NAME: Horz_Prec\n",
      "Wild_Ri4\n",
      "NAME: FID\n",
      "NAME: Shape\n",
      "NAME: GPS_Date\n",
      "NAME: GPS_Time\n",
      "NAME: Horz_Prec\n",
      "Wild_Ric\n",
      "NAME: FID\n",
      "NAME: Shape\n",
      "NAME: Stalks\n",
      "NAME: GPS_Date\n",
      "NAME: GPS_Time\n",
      "NAME: Horz_Prec\n",
      "Wild_Ri2\n",
      "NAME: FID\n",
      "NAME: Shape\n",
      "NAME: Bed_Width\n",
      "NAME: Bed_Densit\n",
      "NAME: GPS_Date\n",
      "NAME: GPS_Time\n",
      "NAME: Horz_Prec\n",
      "Wild_Ri3\n",
      "NAME: FID\n",
      "NAME: Shape\n",
      "NAME: GPS_Date\n",
      "NAME: GPS_Time\n",
      "NAME: Horz_Prec\n",
      "Wild_Ri4\n",
      "NAME: FID\n",
      "NAME: Shape\n",
      "NAME: GPS_Date\n",
      "NAME: GPS_Time\n",
      "NAME: Horz_Prec\n",
      "Wild_Ri3\n",
      "NAME: FID\n",
      "NAME: Shape\n",
      "NAME: GPS_Date\n",
      "NAME: GPS_Time\n",
      "NAME: Horz_Prec\n",
      "Wild_Ri4\n",
      "NAME: FID\n",
      "NAME: Shape\n",
      "NAME: GPS_Date\n",
      "NAME: GPS_Time\n",
      "NAME: Horz_Prec\n",
      "Point_ge\n",
      "NAME: FID\n",
      "NAME: Shape\n",
      "NAME: Comment\n",
      "NAME: GPS_Date\n",
      "NAME: GPS_Time\n",
      "NAME: Horz_Prec\n",
      "Wild_Ric\n",
      "NAME: FID\n",
      "NAME: Shape\n",
      "NAME: Stalks\n",
      "NAME: GPS_Date\n",
      "NAME: GPS_Time\n",
      "NAME: Horz_Prec\n",
      "Wild_Ri3\n",
      "NAME: FID\n",
      "NAME: Shape\n",
      "NAME: GPS_Date\n",
      "NAME: GPS_Time\n",
      "NAME: Horz_Prec\n",
      "Wild_Ri2\n",
      "NAME: FID\n",
      "NAME: Shape\n",
      "NAME: Bed_Width\n",
      "NAME: Bed_Densit\n",
      "NAME: GPS_Date\n",
      "NAME: GPS_Time\n",
      "NAME: Horz_Prec\n",
      "Wild_Ric\n",
      "NAME: FID\n",
      "NAME: Shape\n",
      "NAME: Stalks\n",
      "NAME: GPS_Date\n",
      "NAME: GPS_Time\n",
      "NAME: Horz_Prec\n",
      "Wild_Ri4\n",
      "NAME: FID\n",
      "NAME: Shape\n",
      "NAME: GPS_Date\n",
      "NAME: GPS_Time\n",
      "NAME: Horz_Prec\n",
      "Wild_Ri4\n",
      "NAME: FID\n",
      "NAME: Shape\n",
      "NAME: GPS_Date\n",
      "NAME: GPS_Time\n",
      "NAME: Horz_Prec\n",
      "Wild_Ric\n",
      "NAME: FID\n",
      "NAME: Shape\n",
      "NAME: Stalks\n",
      "NAME: GPS_Date\n",
      "NAME: GPS_Time\n",
      "NAME: Horz_Prec\n",
      "Wild_Ric\n",
      "NAME: FID\n",
      "NAME: Shape\n",
      "NAME: Stalks\n",
      "NAME: GPS_Date\n",
      "NAME: GPS_Time\n",
      "NAME: Horz_Prec\n",
      "Wild_Ri2\n",
      "NAME: FID\n",
      "NAME: Shape\n",
      "NAME: Bed_Width\n",
      "NAME: Bed_Densit\n",
      "NAME: GPS_Date\n",
      "NAME: GPS_Time\n",
      "NAME: Horz_Prec\n",
      "Wild_Ri3\n",
      "NAME: FID\n",
      "NAME: Shape\n",
      "NAME: GPS_Date\n",
      "NAME: GPS_Time\n",
      "NAME: Horz_Prec\n",
      "Wild_Ri4\n",
      "NAME: FID\n",
      "NAME: Shape\n",
      "NAME: GPS_Date\n",
      "NAME: GPS_Time\n",
      "NAME: Horz_Prec\n",
      "Wild_Ric\n",
      "NAME: FID\n",
      "NAME: Shape\n",
      "NAME: Stalks\n",
      "NAME: GPS_Date\n",
      "NAME: GPS_Time\n",
      "NAME: Horz_Prec\n"
     ]
    }
   ],
   "source": [
    "layersFields(lyrs)"
   ]
  },
  {
   "cell_type": "code",
   "execution_count": 59,
   "metadata": {
    "scrolled": true
   },
   "outputs": [
    {
     "name": "stdout",
     "output_type": "stream",
     "text": [
      "MATCH: Stalks - Wild_Ric - Y:\\DATA_2017\\RICE_DATA_2021\\RICE_DATA_2016\\VDRIVE\\Wild_Ric\n",
      "MATCH: Stalks - Wild_Ric - Y:\\DATA_2017\\RICE_DATA_2021\\RICE_DATA_2016\\RT_SIDE\\Wild_Ric\n",
      "MATCH: Stalks - Wild_Ric - Y:\\DATA_2017\\RICE_DATA_2021\\RICE_DATA_2016\\V_DOWN_LEFT\\Wild_Ric\n",
      "MATCH: Stalks - Wild_Ric - Y:\\DATA_2017\\RICE_DATA_2021\\RICE_DATA_2016\\SHORTS_BRIDGE_LEFT\\Wild_Ric\n",
      "MATCH: Stalks - Wild_Ric - Y:\\DATA_2017\\RICE_DATA_2021\\RICE_DATA_2016\\O_DRIVE_UP\\Wild_Ric\n",
      "MATCH: Stalks - Wild_Ric - Y:\\DATA_2017\\RICE_DATA_2021\\RICE_DATA_2016\\O_DRIVE_DOWN\\Wild_Ric\n",
      "MATCH: Stalks - Wild_Ric - Y:\\DATA_2017\\RICE_DATA_2021\\RICE_DATA_2016\\Mud_Correl_right_side\\Wild_Ric\n",
      "MATCH: Stalks - Wild_Ric - Y:\\DATA_2017\\RICE_DATA_2021\\RICE_DATA_2016\\MARL_DOWN_LEFT\\Wild_Ric\n",
      "MATCH: Stalks - Wild_Ric - Y:\\DATA_2017\\RICE_DATA_2021\\RICE_DATA_2016\\MARL_DOWN_RIGHT\\Wild_Ric\n",
      "Successful Merge - Output: Y:\\PROJECTS\\MNOMEN_2018\\RICE-2021\\mergeStalks-H6X1ZCHB.shp\n"
     ]
    }
   ],
   "source": [
    "stalks = mergeLayers(lyrs, 'Stalks', 'mergeStalks')"
   ]
  },
  {
   "cell_type": "code",
   "execution_count": 56,
   "metadata": {},
   "outputs": [],
   "source": [
    "def mergeLayers(lyrs, targetField, outputName):\n",
    "    #try:\n",
    "        mergeList, rand = [], ''.join(random.choices(string.ascii_uppercase + string.digits, k = 8))\n",
    "        for lyr in lyrs:\n",
    "            if lyr.isFeatureLayer == True:\n",
    "                fields = arcpy.ListFields(lyr)\n",
    "                for field in fields:\n",
    "                    if field.name == targetField:\n",
    "                        print(f'MATCH: {field.name} - {lyr.name} - {lyr.dataSource}')\n",
    "                        mergeList.append(lyr)\n",
    "        arcpy.Merge_management(mergeList, (f'{os.path.abspath(os.getcwd())}\\\\{outputName}-{rand}.shp'), '', '')\n",
    "        print(f'Successful Merge - Output: {os.path.abspath(os.getcwd())}\\\\{outputName}-{rand}.shp')\n",
    "        return mergeList\n",
    "    #except:\n",
    "    #    print(f'Could not merge layers for layerList: {lyrs}')"
   ]
  },
  {
   "cell_type": "code",
   "execution_count": 61,
   "metadata": {},
   "outputs": [
    {
     "name": "stdout",
     "output_type": "stream",
     "text": [
      "MATCH: Bed_Width - Wild_Ri2 - Y:\\DATA_2017\\RICE_DATA_2021\\RICE_DATA_2016\\VDRIVE\\Wild_Ri2\n",
      "MATCH: Bed_Width - Wild_Ri2 - Y:\\DATA_2017\\RICE_DATA_2021\\RICE_DATA_2016\\Mud_Correl_right_side\\Wild_Ri2\n",
      "MATCH: Bed_Width - Wild_Ri2 - Y:\\DATA_2017\\RICE_DATA_2021\\RICE_DATA_2016\\O_DRIVE_DOWN\\Wild_Ri2\n",
      "MATCH: Bed_Width - Wild_Ri2 - Y:\\DATA_2017\\RICE_DATA_2021\\RICE_DATA_2016\\RT_SIDE\\Wild_Ri2\n",
      "MATCH: Bed_Width - Wild_Ri2 - Y:\\DATA_2017\\RICE_DATA_2021\\RICE_DATA_2016\\SHORTS_BRIDGE_LEFT\\Wild_Ri2\n",
      "MATCH: Bed_Width - Wild_Ri2 - Y:\\DATA_2017\\RICE_DATA_2021\\RICE_DATA_2016\\V_DOWN_LEFT\\Wild_Ri2\n",
      "MATCH: Bed_Width - Wild_Ri2 - Y:\\DATA_2017\\RICE_DATA_2021\\RICE_DATA_2016\\MARL_DOWN_LEFT\\Wild_Ri2\n",
      "MATCH: Bed_Width - Wild_Ri2 - Y:\\DATA_2017\\RICE_DATA_2021\\RICE_DATA_2016\\O_DRIVE_UP\\Wild_Ri2\n",
      "MATCH: Bed_Width - Wild_Ri2 - Y:\\DATA_2017\\RICE_DATA_2021\\RICE_DATA_2016\\MARL_DOWN_RIGHT\\Wild_Ri2\n",
      "Successful Merge - Output: Y:\\PROJECTS\\MNOMEN_2018\\RICE-2021\\mergeBeds-OJKIZ6X4.shp\n"
     ]
    }
   ],
   "source": [
    "beds = mergeLayers(lyrs, 'Bed_Width', 'mergeBeds')"
   ]
  },
  {
   "cell_type": "code",
   "execution_count": 60,
   "metadata": {},
   "outputs": [
    {
     "name": "stdout",
     "output_type": "stream",
     "text": [
      "Current Directory: Y:\\PROJECTS\\MNOMEN_2018\\RICE-2021\n",
      "Enter Path to change Directory?<ENTER for none> \n",
      "Current Directory: Y:\\PROJECTS\\MNOMEN_2018\\RICE-2021\n",
      "Directory Contents:\n",
      "5 - mergeStalks-H6X1ZCHB.shp - SHP\n",
      "13 - mergeStalks-TLPNQ87G.shp - SHP\n",
      "DELETE - mergeStalks-H6X1ZCHB.shp <YES/NO>YES\n",
      "DELETE FEATURE CLASS - Y:\\PROJECTS\\MNOMEN_2018\\RICE-2021\\mergeStalks-H6X1ZCHB.shp ??? - YES\n"
     ]
    },
    {
     "data": {
      "text/plain": [
       "'File: mergeStalks-H6X1ZCHB.shp delete = true'"
      ]
     },
     "metadata": {},
     "output_type": "display_data"
    },
    {
     "name": "stdout",
     "output_type": "stream",
     "text": [
      "DELETE - mergeStalks-TLPNQ87G.shp <YES/NO>\n"
     ]
    },
    {
     "data": {
      "text/plain": [
       "'Y:\\\\PROJECTS\\\\MNOMEN_2018\\\\RICE-2021'"
      ]
     },
     "execution_count": 60,
     "metadata": {},
     "output_type": "execute_result"
    }
   ],
   "source": [
    "delMulLayers()"
   ]
  },
  {
   "cell_type": "code",
   "execution_count": null,
   "metadata": {},
   "outputs": [],
   "source": []
  },
  {
   "cell_type": "code",
   "execution_count": null,
   "metadata": {},
   "outputs": [],
   "source": []
  }
 ],
 "metadata": {
  "kernelspec": {
   "display_name": "Python 3",
   "language": "python",
   "name": "python3"
  },
  "language_info": {
   "codemirror_mode": {
    "name": "ipython",
    "version": 3
   },
   "file_extension": ".py",
   "mimetype": "text/x-python",
   "name": "python",
   "nbconvert_exporter": "python",
   "pygments_lexer": "ipython3",
   "version": "3.6.8"
  }
 },
 "nbformat": 4,
 "nbformat_minor": 2
}

