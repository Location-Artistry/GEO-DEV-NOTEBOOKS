{
 "cells": [
  {
   "cell_type": "code",
   "execution_count": 1,
   "metadata": {},
   "outputs": [],
   "source": [
    "import arcgis as GIS\n",
    "import arcpy.mp\n",
    "import os\n",
    "import arcpy\n",
    "import string, random"
   ]
  },
  {
   "cell_type": "markdown",
   "metadata": {},
   "source": [
    "## New Functions June 2021\n",
    "listWorkSpaces(workPath), listGDBitems(GDBpath), deleteFeatureClass(GDBpath,fcName), newFCfromSelect(GDBpath, selectFrom, selector, selType)"
   ]
  },
  {
   "cell_type": "code",
   "execution_count": 38,
   "metadata": {},
   "outputs": [],
   "source": [
    "# Return list of workspaces in specified arcpy.env.workspace path\n",
    "def listWorkSpaces(workPath):\n",
    "    try:\n",
    "        arcpy.env.workspace = workPath\n",
    "        wsList = []\n",
    "        ws = arcpy.ListWorkspaces(\"*\", \"FileGDB\")\n",
    "        for i,w in enumerate(ws):\n",
    "            wsList.append(w)\n",
    "            print(f'{i} - {w}')\n",
    "        return wsList\n",
    "    except:\n",
    "        display(f'ERROR listing WorkSpaces in {workPath}')\n",
    "        \n",
    "# function to list all Feature Classes in specified FileGeoDatabase\n",
    "def listItems(GDBpath):\n",
    "    try:\n",
    "        arcpy.env.workspace = GDBpath\n",
    "        fcList = []\n",
    "        fc = arcpy.ListFeatureClasses()\n",
    "        print(f'Feature Classes/Shapefile in {GDBpath}: ')\n",
    "        for i,f in enumerate(fc):\n",
    "            fcList.append(f)\n",
    "            print(f'{i} - {f}')\n",
    "        return fcList\n",
    "    except:\n",
    "        display(f'ERROR listing Feature Classes in {GDBpath}')\n",
    "\n",
    "# Delete feature class given path to GDB and fc name\n",
    "def deleteFeatureClass(GDBpath,fcName):\n",
    "    try:\n",
    "        quest = (input(f'DELETE FEATURE CLASS - {GDBpath}\\\\{fcName} ??? - ') or 'NO').upper()\n",
    "        if quest == 'YES':\n",
    "            result = arcpy.Delete_management(f'{GDBpath}\\\\{fcName}')\n",
    "            display(f'File: {fcName} delete = {result}')\n",
    "        else:\n",
    "            display(f'Did not delete: {fcName}')\n",
    "    except:\n",
    "        display(f'ERROR DELETING {fcName}')\n",
    "\n",
    "\n",
    "# Make Selecttion and Create New Feature Class into function\n",
    "def newFCfromSelect(GDBpath, selectFrom, selector, selType):\n",
    "    try:\n",
    "        switchSel = (input(f'Switch the resulting selection(y/N)? ')).upper()\n",
    "        import string, random\n",
    "        # set workspace GDB, overwrite = True\n",
    "        arcpy.env.workspace,arcpy.env.overwriteOutput = GDBpath, True\n",
    "        arcpy.Compact_management(GDBpath)\n",
    "        # create random string to append to file name, prevents duplication errors\n",
    "        rand = ''.join(random.choices(string.ascii_uppercase + string.digits, k = 8))\n",
    "        # tempLayer name from selectFrom name and random 8 character string\n",
    "        # clear any previous selection and create temporary layer\n",
    "        arcpy.SelectLayerByAttribute_management(selectFrom, \"CLEAR_SELECTION\")\n",
    "        arcpy.MakeFeatureLayer_management(selectFrom, 'tempLayer') \n",
    "        # clear selection on selector and perfrom on temporary layer\n",
    "        arcpy.SelectLayerByAttribute_management('tempLayer', \"CLEAR_SELECTION\")\n",
    "        arcpy.SelectLayerByLocation_management('tempLayer', selType, selector)\n",
    "        if switchSel == 'Y':\n",
    "            arcpy.SelectLayerByAttribute_management('tempLayer', \"SWITCH_SELECTION\")\n",
    "        # Check to see if any features were selected\n",
    "        matchcount = int(arcpy.GetCount_management('tempLayer')[0]) \n",
    "        if matchcount == 0:\n",
    "            print('no features matched spatial and attribute criteria')\n",
    "        else:\n",
    "            arcpy.CopyFeatures_management('tempLayer', (f'{selectFrom}_{rand}_{selType}'))\n",
    "            display(f'{matchcount} Features selected and written to: {selectFrom}_{rand}_{selType}')\n",
    "    except:\n",
    "        display(f'ERROR Creating Selection: {selectFrom} {selType} {selector}')\n",
    "        \n",
    "def setCRS(envPath):\n",
    "    try:\n",
    "        test, count = 1, 0\n",
    "        while test != 0:    \n",
    "            dirList,layList = [], []\n",
    "            arcpy.env.workspace = envPath\n",
    "            arcpy.env.overwriteOutput = True\n",
    "            print(f'ArcPy Workspace: {arcpy.env.workspace}')\n",
    "            os.chdir(arcpy.env.workspace)\n",
    "            print(f'Subdirectories')\n",
    "            for i, item in enumerate(os.scandir(envPath)):\n",
    "                if item.is_dir():\n",
    "                    dirList.append(item.path)\n",
    "                    print(f'{i} - {item.path}')\n",
    "            ind = int(input(f'Change to Sub-Directory?<ENTER for none> ') or 999)\n",
    "            if ind != 999:\n",
    "                arcpy.env.workspace = dirList[ind]\n",
    "                print(f'ArcPy Workspace: {arcpy.env.workspace}')\n",
    "            for i, item in enumerate(arcpy.ListFeatureClasses()):\n",
    "                layList.append(item)\n",
    "                print(f'{i} - {item}')\n",
    "            ind = int(input(f'TARGET LAYER TO DEFINE PROJECTION: ') or 999)\n",
    "            if ind != 999:\n",
    "                CRS = arcpy.SpatialReference(4326)\n",
    "                arcpy.DefineProjection_management(layList[ind],CRS)\n",
    "                print(f'Successfully Defined Projection for {layList[ind]}')\n",
    "                count += 1\n",
    "            test = int(input(f'PRESS 1 TO CONTINUE? ') or 0)\n",
    "        print(f'Set CRS for {count} layers')\n",
    "    except:\n",
    "        print(f'ERROR Defining Projection')"
   ]
  },
  {
   "cell_type": "markdown",
   "metadata": {},
   "source": [
    "## ArcPro Mapping Functions 2021\n"
   ]
  },
  {
   "cell_type": "code",
   "execution_count": 34,
   "metadata": {},
   "outputs": [],
   "source": [
    "def setDir():\n",
    "    # os.chdir('Y:\\\\PROJ-2021\\\\TEMPLATES')\n",
    "    curDir = os.path.abspath(os.getcwd())\n",
    "    listDir = os.listdir()\n",
    "    print(f'Current Directory: {curDir}')\n",
    "    print(f'Directory Contents:')\n",
    "    for i, item in enumerate(listDir):\n",
    "        print(f'{i} - {item}')\n",
    "    ind = int(input(f'Change to Sub-Directory?<ENTER for none> ') or 999)\n",
    "    if ind != 999:\n",
    "        os.chdir(f'{curDir}\\\\{listDir[ind]}')\n",
    "        curDir = os.path.abspath(os.getcwd())\n",
    "        listDir = os.listdir()\n",
    "        print(f'Current Directory: {curDir}')\n",
    "        print(f'Directory Contents:')\n",
    "        for i, item in enumerate(listDir):\n",
    "            print(f'{i} - {item}')\n",
    "    pathName = input(f'Enter Path to change Directory?<ENTER for none> ') or 'NO'\n",
    "    if pathName != 'NO':\n",
    "        os.chdir(pathName)\n",
    "        curDir = os.path.abspath(os.getcwd())\n",
    "    return curDir\n",
    "\n",
    "def loadProj():\n",
    "    curDir = os.path.abspath(os.getcwd())\n",
    "    listDir = os.listdir()\n",
    "    print(f'ArcPro Projects in Directory: ')\n",
    "    for i, item in enumerate(listDir):\n",
    "        print(f'{i} - {item}')\n",
    "    ind = int(input(f'Project Index Number? ') or 999)\n",
    "    aprx = arcpy.mp.ArcGISProject(f'{curDir}\\\\{listDir[ind]}')\n",
    "    print(f'PROJECT LOADED: {listDir[ind]} - {aprx.filePath}')\n",
    "    return aprx\n",
    "\n",
    "def getMap(aprx):\n",
    "    maps = aprx.listMaps('*')\n",
    "    for i, item in enumerate(maps):\n",
    "        print(f'{i} - {item.name}')\n",
    "    ind = int(input(f'Choose Map Index? ') or 999)\n",
    "    display(f'Active Map is: {maps[ind].name}')\n",
    "    return maps[ind]\n",
    "\n",
    "def getLayer(m):\n",
    "    lyrs = m.listLayers()\n",
    "    for i, item in enumerate(lyrs):\n",
    "        print(f'{i} - {item.name} - vis: {item.visible} - trans: {item.transparency}')\n",
    "    ind = int(input(f'Choose Layer Index? ') or 999)\n",
    "    display(f'Layer: {lyrs[ind].name}')\n",
    "    return lyrs[ind]\n",
    "\n",
    "def getLayout(aprx):\n",
    "    lyt = aprx.listLayouts()\n",
    "    for i, item in enumerate(lyt):\n",
    "        print(f'{i} - {item.name}')\n",
    "    ind = int(input(f'Choose Layout Index? ') or 999)\n",
    "    display(f'Layer: {lyt[ind].name}')\n",
    "    return lyt[ind]\n",
    "\n",
    "def getElement(lyt):\n",
    "    el = lyt.listElements()\n",
    "    for i, item in enumerate(el):\n",
    "        print(f'{i} - {item.name}')\n",
    "    ind = int(input(f'Choose Element Index? ') or 999)\n",
    "    display(f'Layer: {el[ind].name}')\n",
    "    return el[ind]\n",
    "\n",
    "def addLyr(m):\n",
    "    #try:\n",
    "        lyrDir = 'Y:\\\\LAYERS\\\\'\n",
    "        lyrs = os.listdir(lyrDir)\n",
    "        for i, item in enumerate(lyrs):\n",
    "            print(f'{i} - {item}')\n",
    "        ind = int(input(f'Choose Layer Index? ') or 999)\n",
    "        #dirPath = 'Y:\\\\LAYERS\\\\'\n",
    "        layerPath = (f'{lyrDir}{lyrs[ind]}')\n",
    "        lyr = arcpy.mp.LayerFile(layerPath)\n",
    "        addLyr = m.addLayer(lyr, 'TOP')\n",
    "        print(f'{lyr} added to {m.name}')\n"
   ]
  },
  {
   "cell_type": "code",
   "execution_count": 28,
   "metadata": {},
   "outputs": [
    {
     "name": "stdout",
     "output_type": "stream",
     "text": [
      " Volume in drive Y is EnvShare\n",
      " Volume Serial Number is 5CC6-B96D\n",
      "\n",
      " Directory of Y:\\DATA_2017\\RICE_DATA_2021\\RICE_DATA_2016\n",
      "\n",
      "07/07/2021  04:46 PM    <DIR>          .\n",
      "07/07/2021  04:46 PM    <DIR>          ..\n",
      "07/08/2021  10:19 AM    <DIR>          AUGUSTA\n",
      "07/07/2021  03:44 PM    <DIR>          FLOOD_2016\n",
      "07/07/2021  04:56 PM    <DIR>          KETCHUM\n",
      "07/07/2021  04:57 PM    <DIR>          KZOO_RIVER\n",
      "07/08/2021  10:21 AM    <DIR>          MARL_DOWN_LEFT\n",
      "07/07/2021  05:01 PM    <DIR>          MARL_DOWN_RIGHT\n",
      "07/07/2021  05:01 PM    <DIR>          MORROW_DELTA\n",
      "07/07/2021  05:01 PM    <DIR>          Mud_Correl_right_side\n",
      "07/08/2021  10:01 AM    <DIR>          O_DRIVE_DOWN\n",
      "07/08/2021  10:02 AM    <DIR>          O_DRIVE_DOWN_2\n",
      "07/08/2021  10:02 AM    <DIR>          O_DRIVE_UP\n",
      "07/08/2021  10:03 AM    <DIR>          PINE_TRANS_2\n",
      "07/08/2021  10:03 AM    <DIR>          PINE_TRANSPLANTS\n",
      "07/08/2021  10:03 AM    <DIR>          RT_SIDE\n",
      "07/08/2021  10:04 AM    <DIR>          SHORTS_BRIDGE_LEFT\n",
      "07/08/2021  10:05 AM    <DIR>          V_DOWN_LEFT\n",
      "07/08/2021  10:15 AM    <DIR>          V_DOWN_RIGHT\n",
      "07/08/2021  10:04 AM    <DIR>          VDRIVE\n",
      "               0 File(s)              0 bytes\n",
      "              20 Dir(s)  827,698,782,208 bytes free\n"
     ]
    }
   ],
   "source": [
    "# terminal bash list current directory contents\n",
    "%ls"
   ]
  },
  {
   "cell_type": "code",
   "execution_count": 39,
   "metadata": {},
   "outputs": [
    {
     "data": {
      "text/plain": [
       "'Y:\\\\DATA_2017\\\\RICE_DATA_2021\\\\RICE_DATA_2016\\\\MARL_DOWN_LEFT'"
      ]
     },
     "execution_count": 39,
     "metadata": {},
     "output_type": "execute_result"
    }
   ],
   "source": [
    "arcpy.env.workspace = 'Y:\\\\DATA_2017\\\\RICE_DATA_2021\\\\RICE_DATA_2016\\\\MARL_DOWN_LEFT'\n",
    "arcpy.env.workspace"
   ]
  },
  {
   "cell_type": "code",
   "execution_count": 40,
   "metadata": {},
   "outputs": [
    {
     "name": "stdout",
     "output_type": "stream",
     "text": [
      "Feature Classes/Shapefile in Y:\\DATA_2017\\RICE_DATA_2021\\RICE_DATA_2016\\MARL_DOWN_LEFT: \n",
      "0 - Line_gen.shp\n",
      "1 - Wild_Ri2.shp\n",
      "2 - Wild_Ri3.shp\n",
      "3 - Wild_Ri4.shp\n",
      "4 - Wild_Ric.shp\n"
     ]
    }
   ],
   "source": [
    "listLayers = listItems(arcpy.env.workspace)"
   ]
  },
  {
   "cell_type": "code",
   "execution_count": 41,
   "metadata": {},
   "outputs": [
    {
     "name": "stdout",
     "output_type": "stream",
     "text": [
      "ArcPy Workspace: Y:\\DATA_2017\\RICE_DATA_2021\\RICE_DATA_2016\n",
      "Subdirectories\n",
      "0 - Y:\\DATA_2017\\RICE_DATA_2021\\RICE_DATA_2016\\AUGUSTA\n",
      "1 - Y:\\DATA_2017\\RICE_DATA_2021\\RICE_DATA_2016\\FLOOD_2016\n",
      "2 - Y:\\DATA_2017\\RICE_DATA_2021\\RICE_DATA_2016\\KETCHUM\n",
      "3 - Y:\\DATA_2017\\RICE_DATA_2021\\RICE_DATA_2016\\KZOO_RIVER\n",
      "4 - Y:\\DATA_2017\\RICE_DATA_2021\\RICE_DATA_2016\\MARL_DOWN_LEFT\n",
      "5 - Y:\\DATA_2017\\RICE_DATA_2021\\RICE_DATA_2016\\MARL_DOWN_RIGHT\n",
      "6 - Y:\\DATA_2017\\RICE_DATA_2021\\RICE_DATA_2016\\MORROW_DELTA\n",
      "7 - Y:\\DATA_2017\\RICE_DATA_2021\\RICE_DATA_2016\\Mud_Correl_right_side\n",
      "8 - Y:\\DATA_2017\\RICE_DATA_2021\\RICE_DATA_2016\\O_DRIVE_DOWN\n",
      "9 - Y:\\DATA_2017\\RICE_DATA_2021\\RICE_DATA_2016\\O_DRIVE_DOWN_2\n",
      "10 - Y:\\DATA_2017\\RICE_DATA_2021\\RICE_DATA_2016\\O_DRIVE_UP\n",
      "11 - Y:\\DATA_2017\\RICE_DATA_2021\\RICE_DATA_2016\\PINE_TRANSPLANTS\n",
      "12 - Y:\\DATA_2017\\RICE_DATA_2021\\RICE_DATA_2016\\PINE_TRANS_2\n",
      "13 - Y:\\DATA_2017\\RICE_DATA_2021\\RICE_DATA_2016\\RT_SIDE\n",
      "14 - Y:\\DATA_2017\\RICE_DATA_2021\\RICE_DATA_2016\\SHORTS_BRIDGE_LEFT\n",
      "15 - Y:\\DATA_2017\\RICE_DATA_2021\\RICE_DATA_2016\\VDRIVE\n",
      "16 - Y:\\DATA_2017\\RICE_DATA_2021\\RICE_DATA_2016\\V_DOWN_LEFT\n",
      "17 - Y:\\DATA_2017\\RICE_DATA_2021\\RICE_DATA_2016\\V_DOWN_RIGHT\n",
      "Change to Sub-Directory?<ENTER for none> 0\n",
      "ArcPy Workspace: Y:\\DATA_2017\\RICE_DATA_2021\\RICE_DATA_2016\\AUGUSTA\n",
      "0 - Point_ge.shp\n",
      "TARGET LAYER TO DEFINE PROJECTION: 0\n",
      "Successfully Defined Projection for Point_ge.shp\n",
      "PRESS 1 TO CONTINUE? \n",
      "Set CRS for 1 layers\n"
     ]
    }
   ],
   "source": [
    "# Created function for the define CRS operation, workflow below\n",
    "path = 'Y:\\\\DATA_2017\\\\RICE_DATA_2021\\\\RICE_DATA_2016'\n",
    "results = setCRS(path)"
   ]
  }
 ],
 "metadata": {
  "kernelspec": {
   "display_name": "Python 3",
   "language": "python",
   "name": "python3"
  },
  "language_info": {
   "codemirror_mode": {
    "name": "ipython",
    "version": 3
   },
   "file_extension": ".py",
   "mimetype": "text/x-python",
   "name": "python",
   "nbconvert_exporter": "python",
   "pygments_lexer": "ipython3",
   "version": "3.6.8"
  }
 },
 "nbformat": 4,
 "nbformat_minor": 2
}
