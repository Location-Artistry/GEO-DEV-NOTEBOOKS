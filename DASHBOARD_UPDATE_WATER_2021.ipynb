{
  "nbformat": 4,
  "nbformat_minor": 0,
  "metadata": {
    "colab": {
      "name": "DASHBOARD-UPDATE-WATER-2021.ipynb",
      "provenance": [],
      "collapsed_sections": [
        "AxvdxwZoO8jw"
      ],
      "toc_visible": true,
      "authorship_tag": "ABX9TyOqMXV7h9jSMUjuEDzzv5HZ",
      "include_colab_link": true
    },
    "kernelspec": {
      "display_name": "Python 3",
      "name": "python3"
    }
  },
  "cells": [
    {
      "cell_type": "markdown",
      "metadata": {
        "id": "view-in-github",
        "colab_type": "text"
      },
      "source": [
        "<a href=\"https://colab.research.google.com/github/Location-Artistry/GEO-DEV-NOTEBOOKS/blob/main/DASHBOARD_UPDATE_WATER_2021.ipynb\" target=\"_parent\"><img src=\"https://colab.research.google.com/assets/colab-badge.svg\" alt=\"Open In Colab\"/></a>"
      ]
    },
    {
      "cell_type": "markdown",
      "metadata": {
        "id": "Qt5CxDNoJMdA"
      },
      "source": [
        "\n",
        "# **UPDATE AGOL WATER DASHBOARD SCRIPTS**\n",
        "## Cloned from: WATER-SAMP-SETUP-2021\n",
        "6-28-2021\n",
        "Copying most update agol Class Library"
      ]
    },
    {
      "cell_type": "markdown",
      "metadata": {
        "id": "AxvdxwZoO8jw"
      },
      "source": [
        "## IMPORT DEPENDENCIES\n",
        "**Updated 6-15-2021**\n",
        "\n"
      ]
    },
    {
      "cell_type": "code",
      "metadata": {
        "id": "jdUv7-sccT-k",
        "colab": {
          "base_uri": "https://localhost:8080/"
        },
        "outputId": "6259f4f2-76ae-48fc-945b-362d13e077bc"
      },
      "source": [
        "# geoPandas libraries\n",
        "!apt install gdal-bin python-gdal python3-gdal\n",
        "!apt install python3-rtree\n",
        "!pip install pygeos \n",
        "!pip install git+git://github.com/geopandas/geopandas.git\n",
        "import geopandas as gpd\n",
        "\n",
        "# ArcGIS Pytho API libraries \n",
        "!pip install arcgis\n",
        "from arcgis.gis import GIS, Item\n",
        "from arcgis.features import FeatureLayerCollection\n",
        "from arcgis.mapping import WebMap\n",
        "from arcgis.features import FeatureLayer\n",
        "\n",
        "import datetime as dt\n",
        "import getpass\n",
        "import pandas as pd\n",
        "import time"
      ],
      "execution_count": 1,
      "outputs": [
        {
          "output_type": "stream",
          "text": [
            "Reading package lists... Done\n",
            "Building dependency tree       \n",
            "Reading state information... Done\n",
            "gdal-bin is already the newest version (2.2.3+dfsg-2).\n",
            "python-gdal is already the newest version (2.2.3+dfsg-2).\n",
            "python3-gdal is already the newest version (2.2.3+dfsg-2).\n",
            "0 upgraded, 0 newly installed, 0 to remove and 39 not upgraded.\n",
            "Reading package lists... Done\n",
            "Building dependency tree       \n",
            "Reading state information... Done\n",
            "python3-rtree is already the newest version (0.8.3+ds-1).\n",
            "0 upgraded, 0 newly installed, 0 to remove and 39 not upgraded.\n",
            "Requirement already satisfied: pygeos in /usr/local/lib/python3.7/dist-packages (0.10)\n",
            "Requirement already satisfied: numpy>=1.13 in /usr/local/lib/python3.7/dist-packages (from pygeos) (1.19.5)\n",
            "Collecting git+git://github.com/geopandas/geopandas.git\n",
            "  Cloning git://github.com/geopandas/geopandas.git to /tmp/pip-req-build-oroqky7t\n",
            "  Running command git clone -q git://github.com/geopandas/geopandas.git /tmp/pip-req-build-oroqky7t\n",
            "Requirement already satisfied (use --upgrade to upgrade): geopandas==0.9.0+37.gae3f821 from git+git://github.com/geopandas/geopandas.git in /usr/local/lib/python3.7/dist-packages\n",
            "Requirement already satisfied: pandas>=0.24.0 in /usr/local/lib/python3.7/dist-packages (from geopandas==0.9.0+37.gae3f821) (1.1.5)\n",
            "Requirement already satisfied: shapely>=1.6 in /usr/local/lib/python3.7/dist-packages (from geopandas==0.9.0+37.gae3f821) (1.7.1)\n",
            "Requirement already satisfied: fiona>=1.8 in /usr/local/lib/python3.7/dist-packages (from geopandas==0.9.0+37.gae3f821) (1.8.20)\n",
            "Requirement already satisfied: pyproj>=2.2.0 in /usr/local/lib/python3.7/dist-packages (from geopandas==0.9.0+37.gae3f821) (3.1.0)\n",
            "Requirement already satisfied: python-dateutil>=2.7.3 in /usr/local/lib/python3.7/dist-packages (from pandas>=0.24.0->geopandas==0.9.0+37.gae3f821) (2.8.1)\n",
            "Requirement already satisfied: pytz>=2017.2 in /usr/local/lib/python3.7/dist-packages (from pandas>=0.24.0->geopandas==0.9.0+37.gae3f821) (2018.9)\n",
            "Requirement already satisfied: numpy>=1.15.4 in /usr/local/lib/python3.7/dist-packages (from pandas>=0.24.0->geopandas==0.9.0+37.gae3f821) (1.19.5)\n",
            "Requirement already satisfied: attrs>=17 in /usr/local/lib/python3.7/dist-packages (from fiona>=1.8->geopandas==0.9.0+37.gae3f821) (21.2.0)\n",
            "Requirement already satisfied: click-plugins>=1.0 in /usr/local/lib/python3.7/dist-packages (from fiona>=1.8->geopandas==0.9.0+37.gae3f821) (1.1.1)\n",
            "Requirement already satisfied: munch in /usr/local/lib/python3.7/dist-packages (from fiona>=1.8->geopandas==0.9.0+37.gae3f821) (2.5.0)\n",
            "Requirement already satisfied: click>=4.0 in /usr/local/lib/python3.7/dist-packages (from fiona>=1.8->geopandas==0.9.0+37.gae3f821) (7.1.2)\n",
            "Requirement already satisfied: six>=1.7 in /usr/local/lib/python3.7/dist-packages (from fiona>=1.8->geopandas==0.9.0+37.gae3f821) (1.15.0)\n",
            "Requirement already satisfied: cligj>=0.5 in /usr/local/lib/python3.7/dist-packages (from fiona>=1.8->geopandas==0.9.0+37.gae3f821) (0.7.2)\n",
            "Requirement already satisfied: setuptools in /usr/local/lib/python3.7/dist-packages (from fiona>=1.8->geopandas==0.9.0+37.gae3f821) (57.0.0)\n",
            "Requirement already satisfied: certifi in /usr/local/lib/python3.7/dist-packages (from fiona>=1.8->geopandas==0.9.0+37.gae3f821) (2021.5.30)\n",
            "Building wheels for collected packages: geopandas\n",
            "  Building wheel for geopandas (setup.py) ... \u001b[?25l\u001b[?25hdone\n",
            "  Created wheel for geopandas: filename=geopandas-0.9.0+37.gae3f821-py2.py3-none-any.whl size=996489 sha256=5a9b2383019bca3d4808b1226c64bf7fd51c988d80a811882a4583d088f56730\n",
            "  Stored in directory: /tmp/pip-ephem-wheel-cache-njawyj27/wheels/91/24/71/376c9c67192694168352afcccc2d264248f7e2cc6192997186\n",
            "Successfully built geopandas\n"
          ],
          "name": "stdout"
        },
        {
          "output_type": "stream",
          "text": [
            "/usr/local/lib/python3.7/dist-packages/geopandas/_compat.py:110: UserWarning: The Shapely GEOS version (3.8.0-CAPI-1.13.1 ) is incompatible with the GEOS version PyGEOS was compiled with (3.9.1-CAPI-1.14.2). Conversions between both will be slow.\n",
            "  shapely_geos_version, geos_capi_version_string\n"
          ],
          "name": "stderr"
        },
        {
          "output_type": "stream",
          "text": [
            "Requirement already satisfied: arcgis in /usr/local/lib/python3.7/dist-packages (1.8.5.post3)\n",
            "Requirement already satisfied: pyshp>=2 in /usr/local/lib/python3.7/dist-packages (from arcgis) (2.1.3)\n",
            "Requirement already satisfied: requests-ntlm in /usr/local/lib/python3.7/dist-packages (from arcgis) (1.1.0)\n",
            "Requirement already satisfied: widgetsnbextension>=3 in /usr/local/lib/python3.7/dist-packages (from arcgis) (3.5.1)\n",
            "Requirement already satisfied: lerc in /usr/local/lib/python3.7/dist-packages (from arcgis) (0.1.0)\n",
            "Requirement already satisfied: six in /usr/local/lib/python3.7/dist-packages (from arcgis) (1.15.0)\n",
            "Requirement already satisfied: jupyterlab in /usr/local/lib/python3.7/dist-packages (from arcgis) (3.0.16)\n",
            "Requirement already satisfied: requests in /usr/local/lib/python3.7/dist-packages (from arcgis) (2.23.0)\n",
            "Requirement already satisfied: ipywidgets>=7 in /usr/local/lib/python3.7/dist-packages (from arcgis) (7.6.3)\n",
            "Requirement already satisfied: ujson>=3 in /usr/local/lib/python3.7/dist-packages (from arcgis) (4.0.2)\n",
            "Requirement already satisfied: requests-toolbelt in /usr/local/lib/python3.7/dist-packages (from arcgis) (0.9.1)\n",
            "Requirement already satisfied: matplotlib in /usr/local/lib/python3.7/dist-packages (from arcgis) (3.2.2)\n",
            "Requirement already satisfied: requests-oauthlib in /usr/local/lib/python3.7/dist-packages (from arcgis) (1.3.0)\n",
            "Requirement already satisfied: python-certifi-win32 in /usr/local/lib/python3.7/dist-packages (from arcgis) (1.6)\n",
            "Requirement already satisfied: keyring>=19 in /usr/local/lib/python3.7/dist-packages (from arcgis) (23.0.1)\n",
            "Requirement already satisfied: numpy>=1.16.2 in /usr/local/lib/python3.7/dist-packages (from arcgis) (1.19.5)\n",
            "Requirement already satisfied: pandas>=1 in /usr/local/lib/python3.7/dist-packages (from arcgis) (1.1.5)\n",
            "Requirement already satisfied: ntlm-auth>=1.0.2 in /usr/local/lib/python3.7/dist-packages (from requests-ntlm->arcgis) (1.5.0)\n",
            "Requirement already satisfied: cryptography>=1.3 in /usr/local/lib/python3.7/dist-packages (from requests-ntlm->arcgis) (3.4.7)\n",
            "Requirement already satisfied: notebook>=4.4.1 in /usr/local/lib/python3.7/dist-packages (from widgetsnbextension>=3->arcgis) (5.3.1)\n",
            "Requirement already satisfied: nbclassic~=0.2 in /usr/local/lib/python3.7/dist-packages (from jupyterlab->arcgis) (0.3.1)\n",
            "Requirement already satisfied: jupyterlab-server~=2.3 in /usr/local/lib/python3.7/dist-packages (from jupyterlab->arcgis) (2.6.0)\n",
            "Requirement already satisfied: packaging in /usr/local/lib/python3.7/dist-packages (from jupyterlab->arcgis) (20.9)\n",
            "Requirement already satisfied: jupyter-core in /usr/local/lib/python3.7/dist-packages (from jupyterlab->arcgis) (4.7.1)\n",
            "Requirement already satisfied: ipython in /usr/local/lib/python3.7/dist-packages (from jupyterlab->arcgis) (5.5.0)\n",
            "Requirement already satisfied: jupyter-server~=1.4 in /usr/local/lib/python3.7/dist-packages (from jupyterlab->arcgis) (1.9.0)\n",
            "Requirement already satisfied: tornado>=6.1.0 in /usr/local/lib/python3.7/dist-packages (from jupyterlab->arcgis) (6.1)\n",
            "Requirement already satisfied: jinja2>=2.1 in /usr/local/lib/python3.7/dist-packages (from jupyterlab->arcgis) (2.11.3)\n",
            "Requirement already satisfied: idna<3,>=2.5 in /usr/local/lib/python3.7/dist-packages (from requests->arcgis) (2.10)\n",
            "Requirement already satisfied: urllib3!=1.25.0,!=1.25.1,<1.26,>=1.21.1 in /usr/local/lib/python3.7/dist-packages (from requests->arcgis) (1.24.3)\n",
            "Requirement already satisfied: certifi>=2017.4.17 in /usr/local/lib/python3.7/dist-packages (from requests->arcgis) (2021.5.30)\n",
            "Requirement already satisfied: chardet<4,>=3.0.2 in /usr/local/lib/python3.7/dist-packages (from requests->arcgis) (3.0.4)\n",
            "Requirement already satisfied: jupyterlab-widgets>=1.0.0; python_version >= \"3.6\" in /usr/local/lib/python3.7/dist-packages (from ipywidgets>=7->arcgis) (1.0.0)\n",
            "Requirement already satisfied: traitlets>=4.3.1 in /usr/local/lib/python3.7/dist-packages (from ipywidgets>=7->arcgis) (5.0.5)\n",
            "Requirement already satisfied: nbformat>=4.2.0 in /usr/local/lib/python3.7/dist-packages (from ipywidgets>=7->arcgis) (5.1.3)\n",
            "Requirement already satisfied: ipykernel>=4.5.1 in /usr/local/lib/python3.7/dist-packages (from ipywidgets>=7->arcgis) (4.10.1)\n",
            "Requirement already satisfied: pyparsing!=2.0.4,!=2.1.2,!=2.1.6,>=2.0.1 in /usr/local/lib/python3.7/dist-packages (from matplotlib->arcgis) (2.4.7)\n",
            "Requirement already satisfied: kiwisolver>=1.0.1 in /usr/local/lib/python3.7/dist-packages (from matplotlib->arcgis) (1.3.1)\n",
            "Requirement already satisfied: cycler>=0.10 in /usr/local/lib/python3.7/dist-packages (from matplotlib->arcgis) (0.10.0)\n",
            "Requirement already satisfied: python-dateutil>=2.1 in /usr/local/lib/python3.7/dist-packages (from matplotlib->arcgis) (2.8.1)\n",
            "Requirement already satisfied: oauthlib>=3.0.0 in /usr/local/lib/python3.7/dist-packages (from requests-oauthlib->arcgis) (3.1.1)\n",
            "Requirement already satisfied: setuptools-scm in /usr/local/lib/python3.7/dist-packages (from python-certifi-win32->arcgis) (6.0.1)\n",
            "Requirement already satisfied: wrapt>=1.10.4 in /usr/local/lib/python3.7/dist-packages (from python-certifi-win32->arcgis) (1.12.1)\n",
            "Requirement already satisfied: SecretStorage>=3.2; sys_platform == \"linux\" in /usr/local/lib/python3.7/dist-packages (from keyring>=19->arcgis) (3.3.1)\n",
            "Requirement already satisfied: importlib-metadata>=3.6 in /usr/local/lib/python3.7/dist-packages (from keyring>=19->arcgis) (4.5.0)\n",
            "Requirement already satisfied: jeepney>=0.4.2; sys_platform == \"linux\" in /usr/local/lib/python3.7/dist-packages (from keyring>=19->arcgis) (0.6.0)\n",
            "Requirement already satisfied: pytz>=2017.2 in /usr/local/lib/python3.7/dist-packages (from pandas>=1->arcgis) (2018.9)\n",
            "Requirement already satisfied: cffi>=1.12 in /usr/local/lib/python3.7/dist-packages (from cryptography>=1.3->requests-ntlm->arcgis) (1.14.5)\n",
            "Requirement already satisfied: Send2Trash in /usr/local/lib/python3.7/dist-packages (from notebook>=4.4.1->widgetsnbextension>=3->arcgis) (1.5.0)\n",
            "Requirement already satisfied: ipython-genutils in /usr/local/lib/python3.7/dist-packages (from notebook>=4.4.1->widgetsnbextension>=3->arcgis) (0.2.0)\n",
            "Requirement already satisfied: jupyter-client>=5.2.0 in /usr/local/lib/python3.7/dist-packages (from notebook>=4.4.1->widgetsnbextension>=3->arcgis) (5.3.5)\n",
            "Requirement already satisfied: nbconvert in /usr/local/lib/python3.7/dist-packages (from notebook>=4.4.1->widgetsnbextension>=3->arcgis) (5.6.1)\n",
            "Requirement already satisfied: terminado>=0.8.1 in /usr/local/lib/python3.7/dist-packages (from notebook>=4.4.1->widgetsnbextension>=3->arcgis) (0.10.1)\n",
            "Requirement already satisfied: json5 in /usr/local/lib/python3.7/dist-packages (from jupyterlab-server~=2.3->jupyterlab->arcgis) (0.9.6)\n",
            "Collecting jsonschema>=3.0.1\n",
            "  Using cached https://files.pythonhosted.org/packages/c5/8f/51e89ce52a085483359217bc72cdbf6e75ee595d5b1d4b5ade40c7e018b8/jsonschema-3.2.0-py2.py3-none-any.whl\n",
            "Requirement already satisfied: babel in /usr/local/lib/python3.7/dist-packages (from jupyterlab-server~=2.3->jupyterlab->arcgis) (2.9.1)\n",
            "Requirement already satisfied: setuptools>=18.5 in /usr/local/lib/python3.7/dist-packages (from ipython->jupyterlab->arcgis) (57.0.0)\n",
            "Requirement already satisfied: prompt-toolkit<2.0.0,>=1.0.4 in /usr/local/lib/python3.7/dist-packages (from ipython->jupyterlab->arcgis) (1.0.18)\n",
            "Requirement already satisfied: simplegeneric>0.8 in /usr/local/lib/python3.7/dist-packages (from ipython->jupyterlab->arcgis) (0.8.1)\n",
            "Requirement already satisfied: pexpect; sys_platform != \"win32\" in /usr/local/lib/python3.7/dist-packages (from ipython->jupyterlab->arcgis) (4.8.0)\n",
            "Requirement already satisfied: pickleshare in /usr/local/lib/python3.7/dist-packages (from ipython->jupyterlab->arcgis) (0.7.5)\n",
            "Requirement already satisfied: decorator in /usr/local/lib/python3.7/dist-packages (from ipython->jupyterlab->arcgis) (4.4.2)\n",
            "Requirement already satisfied: pygments in /usr/local/lib/python3.7/dist-packages (from ipython->jupyterlab->arcgis) (2.6.1)\n",
            "Requirement already satisfied: websocket-client in /usr/local/lib/python3.7/dist-packages (from jupyter-server~=1.4->jupyterlab->arcgis) (1.1.0)\n",
            "Requirement already satisfied: prometheus-client in /usr/local/lib/python3.7/dist-packages (from jupyter-server~=1.4->jupyterlab->arcgis) (0.11.0)\n",
            "Requirement already satisfied: requests-unixsocket in /usr/local/lib/python3.7/dist-packages (from jupyter-server~=1.4->jupyterlab->arcgis) (0.2.0)\n",
            "Requirement already satisfied: anyio<4,>=3.1.0 in /usr/local/lib/python3.7/dist-packages (from jupyter-server~=1.4->jupyterlab->arcgis) (3.2.1)\n",
            "Requirement already satisfied: argon2-cffi in /usr/local/lib/python3.7/dist-packages (from jupyter-server~=1.4->jupyterlab->arcgis) (20.1.0)\n",
            "Requirement already satisfied: pyzmq>=17 in /usr/local/lib/python3.7/dist-packages (from jupyter-server~=1.4->jupyterlab->arcgis) (22.1.0)\n",
            "Requirement already satisfied: MarkupSafe>=0.23 in /usr/local/lib/python3.7/dist-packages (from jinja2>=2.1->jupyterlab->arcgis) (2.0.1)\n",
            "Requirement already satisfied: typing-extensions>=3.6.4; python_version < \"3.8\" in /usr/local/lib/python3.7/dist-packages (from importlib-metadata>=3.6->keyring>=19->arcgis) (3.7.4.3)\n",
            "Requirement already satisfied: zipp>=0.5 in /usr/local/lib/python3.7/dist-packages (from importlib-metadata>=3.6->keyring>=19->arcgis) (3.4.1)\n",
            "Requirement already satisfied: pycparser in /usr/local/lib/python3.7/dist-packages (from cffi>=1.12->cryptography>=1.3->requests-ntlm->arcgis) (2.20)\n",
            "Requirement already satisfied: testpath in /usr/local/lib/python3.7/dist-packages (from nbconvert->notebook>=4.4.1->widgetsnbextension>=3->arcgis) (0.5.0)\n",
            "Requirement already satisfied: mistune<2,>=0.8.1 in /usr/local/lib/python3.7/dist-packages (from nbconvert->notebook>=4.4.1->widgetsnbextension>=3->arcgis) (0.8.4)\n",
            "Requirement already satisfied: bleach in /usr/local/lib/python3.7/dist-packages (from nbconvert->notebook>=4.4.1->widgetsnbextension>=3->arcgis) (3.3.0)\n",
            "Requirement already satisfied: defusedxml in /usr/local/lib/python3.7/dist-packages (from nbconvert->notebook>=4.4.1->widgetsnbextension>=3->arcgis) (0.7.1)\n",
            "Requirement already satisfied: pandocfilters>=1.4.1 in /usr/local/lib/python3.7/dist-packages (from nbconvert->notebook>=4.4.1->widgetsnbextension>=3->arcgis) (1.4.3)\n",
            "Requirement already satisfied: entrypoints>=0.2.2 in /usr/local/lib/python3.7/dist-packages (from nbconvert->notebook>=4.4.1->widgetsnbextension>=3->arcgis) (0.3)\n",
            "Requirement already satisfied: ptyprocess; os_name != \"nt\" in /usr/local/lib/python3.7/dist-packages (from terminado>=0.8.1->notebook>=4.4.1->widgetsnbextension>=3->arcgis) (0.7.0)\n",
            "Requirement already satisfied: attrs>=17.4.0 in /usr/local/lib/python3.7/dist-packages (from jsonschema>=3.0.1->jupyterlab-server~=2.3->jupyterlab->arcgis) (21.2.0)\n",
            "Requirement already satisfied: pyrsistent>=0.14.0 in /usr/local/lib/python3.7/dist-packages (from jsonschema>=3.0.1->jupyterlab-server~=2.3->jupyterlab->arcgis) (0.17.3)\n",
            "Requirement already satisfied: wcwidth in /usr/local/lib/python3.7/dist-packages (from prompt-toolkit<2.0.0,>=1.0.4->ipython->jupyterlab->arcgis) (0.2.5)\n",
            "Requirement already satisfied: sniffio>=1.1 in /usr/local/lib/python3.7/dist-packages (from anyio<4,>=3.1.0->jupyter-server~=1.4->jupyterlab->arcgis) (1.2.0)\n",
            "Requirement already satisfied: webencodings in /usr/local/lib/python3.7/dist-packages (from bleach->nbconvert->notebook>=4.4.1->widgetsnbextension>=3->arcgis) (0.5.1)\n",
            "\u001b[31mERROR: nbclient 0.5.3 has requirement jupyter-client>=6.1.5, but you'll have jupyter-client 5.3.5 which is incompatible.\u001b[0m\n",
            "\u001b[31mERROR: jupyter-server 1.9.0 has requirement jupyter-client>=6.1.1, but you'll have jupyter-client 5.3.5 which is incompatible.\u001b[0m\n",
            "Installing collected packages: jsonschema\n",
            "  Found existing installation: jsonschema 2.6.0\n",
            "    Uninstalling jsonschema-2.6.0:\n",
            "      Successfully uninstalled jsonschema-2.6.0\n",
            "Successfully installed jsonschema-3.2.0\n"
          ],
          "name": "stdout"
        }
      ]
    },
    {
      "cell_type": "markdown",
      "metadata": {
        "id": "wXmM40l7eFKY"
      },
      "source": [
        "## agol CLASS DEFINITION"
      ]
    },
    {
      "cell_type": "code",
      "metadata": {
        "id": "aUNEygZgvW0p"
      },
      "source": [
        "# Create new class from ArcGIS Python API functions\n",
        "class agol:\n",
        "  # -init- function, get user credentials to access GIS object, new Class = agol\n",
        "  def __init__(self):\n",
        "    userID = input(f'ArcGIS Online USER ID: ')\n",
        "    pwd = getpass.getpass('PASSWORD: ')\n",
        "    try:  \n",
        "      self.gis = GIS(\"https://www.arcgis.com\", userID, pwd)\n",
        "      display(f'SUCCESS - CONNECTED TO: {self.gis.users.me.username} ACCOUNT as <gis>')\n",
        "      display(self.gis)\n",
        "    except:\n",
        "        display(f'ERROR DID NOT CONNECT TO: {userID}')\n",
        "# get list of all owner AGOL items, print list with title, id, type, and categories\n",
        "  def getContent(self):\n",
        "    try:\n",
        "      my_content = self.gis.content.search(query=\"owner:\" + self.gis.users.me.username, item_type=\"\", max_items=500)\n",
        "      for x in my_content:\n",
        "        strMod = str(x.modified)\n",
        "        stampInt = int(strMod[0:10])\n",
        "        print(f'{x.title} - {x.id} - {x.type} - {x.categories} - {dt.datetime.fromtimestamp(stampInt)}')\n",
        "      return my_content\n",
        "    except:\n",
        "      print('ERROR could not get user content')\n",
        "# Clone item using id of item passed to function\n",
        "  def cloneItem(self, gis2, cloneID):    \n",
        "    try:\n",
        "      itemToClone = self.gis.content.get(cloneID)\n",
        "      print('Cloning:' + itemToClone.title + ' - ' + itemToClone.id + ' -',itemToClone.type)\n",
        "      clonedItem = gis2.gis.content.clone_items(items=[itemToClone])\n",
        "      print(f'Cloned Item: {clonedItem[0]}')\n",
        "      #return clonedItem\n",
        "    except:\n",
        "      print('ERROR Could Not Clone')\n",
        "# updated searchByKeywords, returns LIST of items 8-14-2020\n",
        "  def search(self, keyWords, maxItems, iType = ''):\n",
        "    try:\n",
        "        search = self.gis.content.search(query=f'{keyWords}', item_type=iType, max_items=maxItems)\n",
        "        for x, z in enumerate(search):\n",
        "          strMod = str(z.modified)\n",
        "          stampInt = int(strMod[0:10])\n",
        "          print(f'{x} - {z.title} - {z.id} - {z.type} - {z.categories} - {dt.datetime.fromtimestamp(stampInt)}')\n",
        "        return search\n",
        "    except:\n",
        "        print('ERROR Search not Successful')\n",
        "# find item by keywords and display visual card\n",
        "  def searchViz(self, keyWords):\n",
        "    try:\n",
        "        search = self.gis.content.search(query=f'{keyWords}', item_type='', max_items=50)\n",
        "        for z in search:\n",
        "            print(f'title: {z.title} - itemID: {z.id} - type: {z.type}')\n",
        "            display(z)\n",
        "    except:\n",
        "        print('ERROR Search not Successful')\n",
        "# return all keys and values for item when passed itemID string\n",
        "  def itemInfo(self, id):\n",
        "    try:\n",
        "      getInfo = self.gis.content.get(id)\n",
        "      for key, value in getInfo.items():\n",
        "        display(f'{key}: {value}')\n",
        "    except:\n",
        "      display('ERROR GET Keys/Values not Successful')    \n",
        "# takes itemID and gets and returns layerObject if exist, otherwise 'no layers found'\n",
        "  def getLayers(self, id):\n",
        "    try:\n",
        "      feature = self.gis.content.get(id)\n",
        "      featLay = feature.layers\n",
        "      for z, x in enumerate(featLay):\n",
        "        display(f'Layer {z}: {x}')\n",
        "        return featLay\n",
        "    except:\n",
        "        display('no layers found')\n",
        "# supply feature layer itemID, and the layer number to display table head\n",
        "# Needs work, displays Feature Layer, not related table \n",
        "  def getLayerTable(self, id, layNum):\n",
        "    try:\n",
        "      layOut = self.getLayers(id)\n",
        "      layQuery = layOut[layNum].query()\n",
        "      display(layQuery.sdf.head())\n",
        "    except:\n",
        "      print('ERROR no Tables Found')\n",
        "# delete item by itemID\n",
        "  def deleteItem(self, id):\n",
        "    delItem = self.gis.content.get(id)\n",
        "    display(delItem)\n",
        "    delQuest = input(f'Are you sure you want to delete: {delItem.title}')\n",
        "    try:\n",
        "      if delQuest.upper() == 'YES':\n",
        "        display(f'DELETING: {delItem.title}')\n",
        "        delItem.delete()\n",
        "      else:\n",
        "        display(f'NOT DELETING: {delItem.title}')\n",
        "    except:\n",
        "        display(f'ERROR failed to DELETE: {delItem.title}')\n",
        "# create new agolItem class\n",
        "  def getItem(self, id):\n",
        "    try:\n",
        "      item = agolItem(self, id)\n",
        "      return item\n",
        "    except:\n",
        "        display(f'ERROR failed to GET item ID: {id}')\n",
        "# \n",
        "  def updateLayerFromTable(self):\n",
        "    keyWords = input(f'Item Search Query: ') or ''\n",
        "    iType = input(f'AGOL Item Type: ') or ''\n",
        "    search = self.search(keyWords, 10,iType)\n",
        "    ind = int(input(f'Search Item Index: ')) or 0\n",
        "    item = self.getItem(search[ind].id)\n",
        "\n",
        "class agolItem:\n",
        "# -init- function - create new agol item from agol CLASS and item.id\n",
        "  def __init__(self,agol,id):\n",
        "    try:  \n",
        "      self.item =  agol.gis.content.get(id)\n",
        "      display(self.item)\n",
        "    except:\n",
        "        display(f'ERROR failed to GET item ID: {id}')\n",
        "  def info(self):\n",
        "    try:\n",
        "      keys, infoList = ['id', 'description', 'extent', 'spatialReference', 'url', 'owner', 'layers', 'tables'], []\n",
        "      for i, z in enumerate(keys):\n",
        "        infoList.append(self.item[z])\n",
        "        display(f'{i} - {z} - {self.item[z]}')\n",
        "      return infoList\n",
        "    except:\n",
        "      display(f'FAILED to get infoList for {self.item.title}')\n",
        "# -init function - get layer from item create new agolLayer Class\n",
        "  def getLayer(self):\n",
        "    try:\n",
        "      for i, lyr in enumerate(self.item.layers):\n",
        "        display(f'{i} - {lyr.properties.name}')\n",
        "      time.sleep(1)\n",
        "      ind = int(input('Select index of Layer: '))\n",
        "      url = self.item.url\n",
        "      layer = agolLayer(url, ind)\n",
        "      return layer\n",
        "    except:\n",
        "      display(f'Could not Get Layers for: {self.ags.url}')\n",
        "  def getTable(self):\n",
        "    try:\n",
        "      for i, tab in enumerate(self.item.tables):\n",
        "        display(f'{i} - {tab.properties.name}')\n",
        "      time.sleep(1)\n",
        "      # Quick fix to get proper id index for table instead of related layer\n",
        "      ind = int(input('Select index of Table: '))  + 1\n",
        "      url = self.item.url\n",
        "      table = agolTable(url, ind)\n",
        "      return table\n",
        "    except:\n",
        "      display(f'Could not Get Tables for: {self.ags.url}')\n",
        "             \n",
        "class agolLayer:\n",
        "# -init function - get layer from item create new agolLayer Class \n",
        "  def __init__(self, url, ind):\n",
        "    try:  \n",
        "      layUrl = (f'{url}/{ind}')\n",
        "      self.layer = FeatureLayer(layUrl)\n",
        "    except:\n",
        "        display(f'ERROR failed to GET Layer: {ind}')\n",
        "  def layerQuery(self):\n",
        "    try:\n",
        "      baseURL = self.layer.url\n",
        "      SQL = input(f'SQL query(ENTER for ALL): ') or '1=1'\n",
        "      fields = input(f'Fields(ENTER for ALL)? ') or '*'\n",
        "      url = (f'{baseURL}/query?f=geojson&where={SQL}&outFields={fields}')\n",
        "      gdf = gpd.read_file(url)\n",
        "      return gdf\n",
        "    except:\n",
        "      display(f'Query unsuccessful for: {self.item.title}')\n",
        "\n",
        "class agolTable:\n",
        "# -init function - get layer from item create new agolLayer Class \n",
        "  def __init__(self, url, ind):\n",
        "    try:  \n",
        "      tabUrl = (f'{url}/{ind}')\n",
        "      self.table = FeatureLayer(tabUrl)\n",
        "    except:\n",
        "        display(f'ERROR failed to GET Table: {ind}')\n",
        "  def tableQuery(self):\n",
        "    try:\n",
        "      baseURL = self.table.url\n",
        "      SQL = input(f'SQL query(ENTER for ALL): ') or '1=1'\n",
        "      fields = input(f'Fields(ENTER for ALL)? ') or '*'\n",
        "      url = (f'{baseURL}/query?f=geojson&where={SQL}&outFields={fields}')\n",
        "      gdf = gpd.read_file(url)\n",
        "      return gdf\n",
        "    except:\n",
        "      display(f'Query unsuccessful for: {self.item.title}')"
      ],
      "execution_count": 127,
      "outputs": []
    },
    {
      "cell_type": "markdown",
      "metadata": {
        "id": "IY5E9MJDeQ-J"
      },
      "source": [
        "## WORKING DASHBOARD UPDATE SECTION\n",
        "### 6-28-2021"
      ]
    },
    {
      "cell_type": "code",
      "metadata": {
        "colab": {
          "base_uri": "https://localhost:8080/",
          "height": 429
        },
        "id": "_hEpqCtEI4s2",
        "outputId": "b3f494a6-f961-41f1-bbd5-db9fe206899a"
      },
      "source": [
        "gis.updateLayerFromTable()"
      ],
      "execution_count": 129,
      "outputs": [
        {
          "output_type": "stream",
          "text": [
            "Item Search Query: water sampling\n",
            "AGOL Item Type: \n",
            "0 - WATER_DATA_2019_TABLE_EXPORT - 48f24de803a84a1c916db2cb2014a9af - CSV - [] - 2020-06-25 18:56:57\n",
            "1 - WATER_SAMPLING_2021 - 66523a79c3de4074b99b0d84e985bb71 - Feature Service - [] - 2021-06-16 16:34:46\n",
            "2 - SAMPLE_DESIGN - a9fe52a2772448338f1e0cda3c61ee1e - Microsoft Excel - ['/Categories/ENVIRONMENTAL DATA/WATER QUALITY'] - 2020-07-09 16:47:47\n",
            "3 - SAMPLE_DESIGN - 8cf416b413e24097a29f903090a4f981 - Feature Service - ['/Categories/ENVIRONMENTAL DATA/WATER QUALITY'] - 2020-07-10 14:22:39\n",
            "4 - SAMPLE_DESIGN_2021 - c94a036ea6bf42e6a0aa7a0fede83e5a - Feature Service - [] - 2021-06-16 15:47:35\n",
            "5 - SAMPLE_DESIGN_KZOO - 726812e0054c434d90139624ff68c1d1 - Feature Service - ['/Categories/DASHBOARDS', '/Categories/NHBP WEB MAPS', '/Categories/ENVIRONMENTAL DATA/WATER QUALITY'] - 2020-07-14 16:44:21\n",
            "6 - WATER_SAMPLING_2020 - 680016d676e746f98743f51d28abac60 - Feature Service - ['/Categories/AUTHORITATIVE', '/Categories/ENVIRONMENTAL DATA/WATER QUALITY'] - 2021-04-16 18:08:02\n",
            "7 - WATER_DATA_2019 - 9aaebf6719d345d5959267af862a081b - Feature Service - ['/Categories/NHBP SURVEYS', '/Categories/ENVIRONMENTAL DATA/WATER QUALITY', '/Categories/AUTHORITATIVE'] - 2019-11-21 18:58:22\n",
            "8 - WATER SAMPLING SURVEY 2019 - 6a1aefdf57b44b0ca0036e5d662fc16d - Form - ['/Categories/NHBP SURVEYS'] - 2019-07-25 15:38:25\n",
            "9 - WATER_SAMPLING_2020 - ee44a5082ab646b0bc2a6fa7f32ad19c - Service Definition - [] - 2020-06-29 14:41:18\n",
            "Search Item Index: 1\n"
          ],
          "name": "stdout"
        },
        {
          "output_type": "display_data",
          "data": {
            "text/html": [
              "<div class=\"item_container\" style=\"height: auto; overflow: hidden; border: 1px solid #cfcfcf; border-radius: 2px; background: #f6fafa; line-height: 1.21429em; padding: 10px;\">\n",
              "                    <div class=\"item_left\" style=\"width: 210px; float: left;\">\n",
              "                       <a href='https://nhbptribe.maps.arcgis.com/home/item.html?id=66523a79c3de4074b99b0d84e985bb71' target='_blank'>\n",
              "                        <img src='data:image/png;base64,iVBORw0KGgoAAAANSUhEUgAAAMgAAACFCAIAAACR/CB7AAAACXBIWXMAAAAnAAAAJwEqCZFPAAAE8ElEQVR4nO3dT2gcVRzA8V+Kl2IIqK2CM4tQvehN8M8seEhLMMEUJIdsPBovFoyS7HroYS/KHhJoNgUX6UWLJ2lHSA8rVFhDPe07iTkIglCF2ddzzEUKlXgYCBqi2Sb7mzfv9fs5tUuavMKXN2/fm52M7e3tCTBqp1wPAGEiLKggLKggLKggLMd63XRlumKtdT2QESMsqBhjuwEamLGcCfUimCMsqOBSWJxeNxWRqYvzrgdSBMIqzspMRUQ2bmeuB1IEwipOvpyKosj1QIpAWFDB4n3Ewn6vNzzCggouhVDBjAUVhOVMr5vmO1tB4lLoTNjbWoTlTNjbWoQFFayxoIKwoIKwgmWMcfjTCStMxpitZrXTargaAGGFKUmSicn63GLd1QB4VwgVzFhQQVhQQVhQQVhQQVhQQVhQQVhQQVhQQVhQQVhQQVhQQVhQQVhQQVhQQVhQQVhQQVhQQVhQQVhQQVhQQVhQQVhQQVhQQVhQQVhQQVhQQVhQQVhQQVhQQVhQQVhQQVhQQVhQQVhQQVhQQVgHuX2KdTAI6186rcZWs0pbJ/eY6wGUy9xifVMkSRLXA/Eej+OGCi6FUEFYJ8WvrT8UYUEFayyoYMaCCsKCCsKCCsKCCsKCikcoLE4AixRaWNbalelKr5seeJ3T5YI9KofQnC4XLMANUmMMATnn/aXwwLXPGLPVrHZaDbejgvdhHZAkycRkfW6xPsLvyTHzMXi/xoqiaOO77J+vLDXXXQ0G+wJcY6EMQrsUoiQICyq8D6vXTQ9sh/7XHimK5P3i/dtOXUSmLs7nf7XWDgYDpyOCSACL93wXIIoia+2V9xIZExHZuJ0d8c+gzPsZK4oiEel103yi2ro7Vq1WXQ8K/s9YImKtXX4z3hOpVGJhuioH7xfv+544LSIyu9R2PRCIhBFWFEXvr9089dL8x1+Y/VX8/7DWcpiozfuwVpcXVpcXxs9UnruXfvbpUEeEm9fbu3fa3JulyvuwckmS7L5QG/KLl5rrF1p9bq1RFcLiHSUUwozFbS0lFEJYKCEuhVDh8YyVvx90PQoczuOwsowd9vLy8qzQWtvv96M/+uMvcyxYUl6usVZmKiLy/Bu1ucV6fgiNsvEyrPwmvmFOb+CKl2Gh/DxevKPMfAprmJvZD92F77QanVaDrfki+RTW8Pr9/v6fjTHbt9q7d9qb17lVqzgerLE6rcZDvftrNRvbm+2nXqld++pG/kp+hwy3MxSp7GHlD/mYmKwP/8H5t1+rvD4x2LorD8YrMxeql6/eUB0hDlX2DdIkSeQh7536fNO8db66cC779YHeuHCEss9Yx9BpNbZvtXf+lPTn0P5rHglt8d7rpj983f7xnjzzIqc9LgUVVq+brn1Ui+N4/Ezl2Z0+d7U7VKKwTv7hmcFgcP6c7Nwfm346Oz3b5m2gQyUK6+Qfnnn30srEZP3SWvr9b1KrDfvZCmgo1+J9JM+lNcZ8+UH1yVfnV6/dHMmocAzOZqxDL3wjuXglSfL42fj+7/2jvxRqnIWl+qnRdz75ZpANeESWQ842SJea62ZqXml9HcdxHMca3xlDKtcaS0P+3KzZD9vcGFikEr0rREiCnbGYqNxixoKKYMPKsuzsX4NffuJUx41gw9L4pToYXrBrrFz+GXzu9StesDMW3Ap8xoIrzFhQQVhQQVhQQVhQ8Td7o8huugrIOwAAAABJRU5ErkJggg==' width='200' height='133' class=\"itemThumbnail\">\n",
              "                       </a>\n",
              "                    </div>\n",
              "\n",
              "                    <div class=\"item_right\"     style=\"float: none; width: auto; overflow: hidden;\">\n",
              "                        <a href='https://nhbptribe.maps.arcgis.com/home/item.html?id=66523a79c3de4074b99b0d84e985bb71' target='_blank'><b>WATER_SAMPLING_2021</b>\n",
              "                        </a>\n",
              "                        <br/>WATER SAMPLING SURVEY INFO 2021<img src='https://nhbptribe.maps.arcgis.com/home/js/jsapi/esri/css/images/item_type_icons/featureshosted16.png' style=\"vertical-align:middle;\">Feature Layer Collection by ekerney_nhbptribe\n",
              "                        <br/>Last Modified: June 16, 2021\n",
              "                        <br/>0 comments, 82 views\n",
              "                    </div>\n",
              "                </div>\n",
              "                "
            ],
            "text/plain": [
              "<Item title:\"WATER_SAMPLING_2021\" type:Feature Layer Collection owner:ekerney_nhbptribe>"
            ]
          },
          "metadata": {
            "tags": []
          }
        }
      ]
    },
    {
      "cell_type": "code",
      "metadata": {
        "id": "QYNNE36ZfM1O"
      },
      "source": [
        "# login and create new agol gis user class\n",
        "gis = agol()"
      ],
      "execution_count": null,
      "outputs": []
    },
    {
      "cell_type": "code",
      "metadata": {
        "id": "thHJfNvsgMlJ"
      },
      "source": [
        "# search for user items, returns list of items, max = 2nd parameter, optional itemType last parameter\n",
        "search = gis.search('water sampling 2021', 20,'Feature Service')\n",
        "search[0]"
      ],
      "execution_count": null,
      "outputs": []
    },
    {
      "cell_type": "code",
      "metadata": {
        "id": "SAr9FoTygGN8"
      },
      "source": [
        "# save item as separate binding in: 'item'\n",
        "item = gis.getItem(search[0].id)"
      ],
      "execution_count": null,
      "outputs": []
    },
    {
      "cell_type": "code",
      "metadata": {
        "id": "TaJl2HOBhdNZ"
      },
      "source": [
        "# obtain table as AGOL tab;le item/class\n",
        "table = item.getTable()"
      ],
      "execution_count": null,
      "outputs": []
    },
    {
      "cell_type": "code",
      "metadata": {
        "id": "L8OaqwhthiqV"
      },
      "source": [
        "# create dataFrame from related table\n",
        "df = table.tableQuery()"
      ],
      "execution_count": null,
      "outputs": []
    },
    {
      "cell_type": "code",
      "metadata": {
        "id": "er6rbJMjiEc5"
      },
      "source": [
        "# df can now be used like any regular dataframe\n",
        "df.describe"
      ],
      "execution_count": null,
      "outputs": []
    },
    {
      "cell_type": "code",
      "metadata": {
        "id": "A8brkOTbGeSU"
      },
      "source": [
        "  def updateLayerFromTable(self):\n",
        "    keyWords = input(f'Item Search Query: ') or ''\n",
        "    iType = input(f'AGOL Item Type: ') or ''\n",
        "    search = self.search(keyWords, 10,iType)\n",
        "    ind = int(input(f'Search Item Index: ')) or 0\n",
        "    item = self.getItem(search[ind].id)\n",
        "\n",
        "    for i, tab in enumerate(self.item.tables):\n",
        "      display(f'{i} - {tab.properties.name}')\n",
        "    time.sleep(1)\n",
        "    # Quick fix to get proper id index for table instead of related layer\n",
        "    ind = int(input('Select index of Table: '))  + 1\n",
        "    url = self.item.url\n",
        "    table = agolTable(url, ind)\n",
        "    return table\n"
      ],
      "execution_count": null,
      "outputs": []
    },
    {
      "cell_type": "code",
      "metadata": {
        "id": "827itO7apgI_"
      },
      "source": [
        "# setup for update function, get table and layer as FeatureSet\n",
        "search = gis.search('water sampling 2021', 5,'Feature Service')\n",
        "item = gis.getItem(search[0].id)\n",
        "table = item.getTable()\n",
        "layer = item.getLayer()\n",
        "# returns table query as Feature Set\n",
        "# featSet.sdf can generate spatial dataFrame and more from Feature Set!\n",
        "tableFeat = table.table.query()\n",
        "layerFeat = layer.layer.query()"
      ],
      "execution_count": null,
      "outputs": []
    },
    {
      "cell_type": "code",
      "metadata": {
        "id": "Md_HWn-AxgjH"
      },
      "source": [
        "for lFeat in layerFeat:\n",
        "  lFeat.set_value(layAtt, 0)\n",
        "edits = layer.layer.edit_features(updates=layerFeat)"
      ],
      "execution_count": 94,
      "outputs": []
    },
    {
      "cell_type": "code",
      "metadata": {
        "colab": {
          "base_uri": "https://localhost:8080/"
        },
        "id": "kvmRTFLhizY4",
        "outputId": "f0511e0e-c594-4a4a-f20e-76481b7999dd"
      },
      "source": [
        "# Function to update attributes in a Feature Layer based on related table values\n",
        "# Based on agol class custom libray\n",
        "pKey,tabAtt,layAtt,ref = 'SITE_ID','DO_mgl','DO_STATUS_',[5,6,7,100] # values to be passed into function\n",
        "\n",
        "# First set all target layer attribute 'layAtt' to zero to clear old values\n",
        "for lFeat in layerFeat:\n",
        "  lFeat.set_value(layAtt, 0)\n",
        "edits = layer.layer.edit_features(updates=layerFeat)\n",
        "\n",
        "# Next loop through each entry in table to update attribute in layer\n",
        "for tFeat in tableFeat:\n",
        "  # test for null features\n",
        "  if (tFeat.attributes['WATER_TEMP']):\n",
        "    # loop through all layer features to find match with pKey\n",
        "    for lFeat in layerFeat:\n",
        "      if tFeat.attributes[pKey] == lFeat.attributes[pKey]:\n",
        "        print(f'{tFeat.attributes[pKey]} matches {lFeat.attributes[pKey]} value {tFeat.attributes[tabAtt]}')\n",
        "        for x,val in enumerate(ref, start=1):\n",
        "          if tFeat.attributes[tabAtt] < val:\n",
        "            print(f'found value {x}')\n",
        "            lFeat.set_value(layAtt, x)\n",
        "            break\n",
        "# Now update target layer with updated FeatureSet using edit_features()            \n",
        "edits = layer.layer.edit_features(updates=layerFeat)\n",
        "# Count edited features, currently counting all features\n",
        "for i, edit in enumerate(edits['updateResults'],start=1):\n",
        "  pass\n",
        "print(f'updated {layer.layer.properties.name} with {i} edits')\n"
      ],
      "execution_count": 119,
      "outputs": [
        {
          "output_type": "stream",
          "text": [
            "SCD-ST-40 matches SCD-ST-40 value 7.66\n",
            "found value 4\n",
            "SCD-ST-40 matches SCD-ST-40 value 7.65\n",
            "found value 4\n",
            "PNC-ST-60 matches PNC-ST-60 value 7.34\n",
            "found value 4\n",
            "PNC-ST-50 matches PNC-ST-50 value 6.9\n",
            "found value 3\n",
            "PNC-ST-45 matches PNC-ST-45 value 7.7\n",
            "found value 4\n",
            "updated WATER_STATIONS_2021 with 63 edits\n"
          ],
          "name": "stdout"
        }
      ]
    },
    {
      "cell_type": "code",
      "metadata": {
        "id": "Mf0yIuSLm_fy"
      },
      "source": [
        "# X Loop through each Feature in Feature Set\n",
        "# X Check for null samples\n",
        "# X Find SITE ID to match records with\n",
        "# X Get value of SITE ID for Table Record\n",
        "# X Loop through list of Features/Stations in Associated Feature Service\n",
        "# X Get value of each Feature Service Feature\n",
        "# X Check for match\n",
        "# X if match is found, then loop through list of break values to find where Table Record Value fits \n",
        "# X Use layerFeature.set_value() to set status for feature, categorize from [1, 2, 3, 4]\n",
        "# X Set updates to Target Layer with updated FeatureSet with targetLayer.edit_features(updates=layerFeatures)\n",
        "# X Show number of edits completed, just for reference, does not effect values."
      ],
      "execution_count": null,
      "outputs": []
    }
  ]
}