{
  "nbformat": 4,
  "nbformat_minor": 0,
  "metadata": {
    "colab": {
      "name": "DASHBOARD-UPDATE-WATER-2021.ipynb",
      "provenance": [],
      "collapsed_sections": [
        "wXmM40l7eFKY"
      ],
      "toc_visible": true,
      "authorship_tag": "ABX9TyN3+idzLIzzI5CrqSrWE/dt",
      "include_colab_link": true
    },
    "kernelspec": {
      "display_name": "Python 3",
      "name": "python3"
    }
  },
  "cells": [
    {
      "cell_type": "markdown",
      "metadata": {
        "id": "view-in-github",
        "colab_type": "text"
      },
      "source": [
        "<a href=\"https://colab.research.google.com/github/Location-Artistry/GEO-DEV-NOTEBOOKS/blob/main/DASHBOARD_UPDATE_WATER_2021.ipynb\" target=\"_parent\"><img src=\"https://colab.research.google.com/assets/colab-badge.svg\" alt=\"Open In Colab\"/></a>"
      ]
    },
    {
      "cell_type": "markdown",
      "metadata": {
        "id": "Qt5CxDNoJMdA"
      },
      "source": [
        "\n",
        "# **UPDATE AGOL WATER DASHBOARD SCRIPTS**\n",
        "## Cloned from: WATER-SAMP-SETUP-2021\n",
        "Updated agol_class 6-29-2021   \n",
        "Added updateLayerFromTable() function   \n",
        "Updated agol-class Notebook 6-29-2021 - Pushed to LocationArtistry Github"
      ]
    },
    {
      "cell_type": "markdown",
      "metadata": {
        "id": "AxvdxwZoO8jw"
      },
      "source": [
        "## IMPORT DEPENDENCIES\n",
        "**Updated 6-15-2021**   \n",
        "Must RESTART Runtime and re-run after first execution\n",
        "\n"
      ]
    },
    {
      "cell_type": "code",
      "metadata": {
        "id": "jdUv7-sccT-k"
      },
      "source": [
        "# geoPandas libraries\n",
        "# Not needed in this project\n",
        "# !apt install gdal-bin python-gdal python3-gdal\n",
        "# !apt install python3-rtree\n",
        "# !pip install pygeos \n",
        "# !pip install git+git://github.com/geopandas/geopandas.git\n",
        "# import geopandas as gpd\n",
        "\n",
        "# ArcGIS Python API libraries \n",
        "!pip install arcgis\n",
        "from arcgis.gis import GIS, Item\n",
        "from arcgis.features import FeatureLayerCollection\n",
        "from arcgis.mapping import WebMap\n",
        "from arcgis.features import FeatureLayer\n",
        "\n",
        "import datetime as dt\n",
        "import getpass\n",
        "import pandas as pd\n",
        "import time"
      ],
      "execution_count": null,
      "outputs": []
    },
    {
      "cell_type": "markdown",
      "metadata": {
        "id": "wXmM40l7eFKY"
      },
      "source": [
        "## agol CLASS DEFINITION"
      ]
    },
    {
      "cell_type": "code",
      "metadata": {
        "id": "aUNEygZgvW0p"
      },
      "source": [
        "# Create new class from ArcGIS Python API functions\n",
        "class agol:\n",
        "  # -init- function, get user credentials to access GIS object, new Class = agol\n",
        "  def __init__(self):\n",
        "    userID = input(f'ArcGIS Online USER ID: ')\n",
        "    pwd = getpass.getpass('PASSWORD: ')\n",
        "    try:  \n",
        "      self.gis = GIS(\"https://www.arcgis.com\", userID, pwd)\n",
        "      display(f'SUCCESS - CONNECTED TO: {self.gis.users.me.username} ACCOUNT as <gis>')\n",
        "      display(self.gis)\n",
        "    except:\n",
        "        display(f'ERROR DID NOT CONNECT TO: {userID}')\n",
        "# get list of all owner AGOL items, print list with title, id, type, and categories\n",
        "  def getContent(self):\n",
        "    try:\n",
        "      my_content = self.gis.content.search(query=\"owner:\" + self.gis.users.me.username, item_type=\"\", max_items=500)\n",
        "      for x in my_content:\n",
        "        strMod = str(x.modified)\n",
        "        stampInt = int(strMod[0:10])\n",
        "        print(f'{x.title} - {x.id} - {x.type} - {x.categories} - {dt.datetime.fromtimestamp(stampInt)}')\n",
        "      return my_content\n",
        "    except:\n",
        "      print('ERROR could not get user content')\n",
        "# Clone item using id of item passed to function\n",
        "  def cloneItem(self, gis2, cloneID):    \n",
        "    try:\n",
        "      itemToClone = self.gis.content.get(cloneID)\n",
        "      print('Cloning:' + itemToClone.title + ' - ' + itemToClone.id + ' -',itemToClone.type)\n",
        "      clonedItem = gis2.gis.content.clone_items(items=[itemToClone])\n",
        "      print(f'Cloned Item: {clonedItem[0]}')\n",
        "      #return clonedItem\n",
        "    except:\n",
        "      print('ERROR Could Not Clone')\n",
        "# updated searchByKeywords, returns LIST of items 8-14-2020\n",
        "  def search(self, keyWords, maxItems, iType = ''):\n",
        "    try:\n",
        "        search = self.gis.content.search(query=f'{keyWords}', item_type=iType, max_items=maxItems)\n",
        "        for x, z in enumerate(search):\n",
        "          strMod = str(z.modified)\n",
        "          stampInt = int(strMod[0:10])\n",
        "          print(f'{x} - {z.title} - {z.id} - {z.type} - {z.categories} - {dt.datetime.fromtimestamp(stampInt)}')\n",
        "        return search\n",
        "    except:\n",
        "        print('ERROR Search not Successful')\n",
        "# find item by keywords and display visual card\n",
        "  def searchViz(self, keyWords):\n",
        "    try:\n",
        "        search = self.gis.content.search(query=f'{keyWords}', item_type='', max_items=50)\n",
        "        for z in search:\n",
        "            print(f'title: {z.title} - itemID: {z.id} - type: {z.type}')\n",
        "            display(z)\n",
        "    except:\n",
        "        print('ERROR Search not Successful')\n",
        "# return all keys and values for item when passed itemID string\n",
        "  def itemInfo(self, id):\n",
        "    try:\n",
        "      getInfo = self.gis.content.get(id)\n",
        "      for key, value in getInfo.items():\n",
        "        display(f'{key}: {value}')\n",
        "    except:\n",
        "      display('ERROR GET Keys/Values not Successful')    \n",
        "# takes itemID and gets and returns layerObject if exist, otherwise 'no layers found'\n",
        "  def getLayers(self, id):\n",
        "    try:\n",
        "      feature = self.gis.content.get(id)\n",
        "      featLay = feature.layers\n",
        "      for z, x in enumerate(featLay):\n",
        "        display(f'Layer {z}: {x}')\n",
        "        return featLay\n",
        "    except:\n",
        "        display('no layers found')\n",
        "# supply feature layer itemID, and the layer number to display table head\n",
        "# Needs work, displays Feature Layer, not related table \n",
        "  def getLayerTable(self, id, layNum):\n",
        "    try:\n",
        "      layOut = self.getLayers(id)\n",
        "      layQuery = layOut[layNum].query()\n",
        "      display(layQuery.sdf.head())\n",
        "    except:\n",
        "      print('ERROR no Tables Found')\n",
        "# delete item by itemID\n",
        "  def deleteItem(self, id):\n",
        "    delItem = self.gis.content.get(id)\n",
        "    display(delItem)\n",
        "    delQuest = input(f'Are you sure you want to delete: {delItem.title}')\n",
        "    try:\n",
        "      if delQuest.upper() == 'YES':\n",
        "        display(f'DELETING: {delItem.title}')\n",
        "        delItem.delete()\n",
        "      else:\n",
        "        display(f'NOT DELETING: {delItem.title}')\n",
        "    except:\n",
        "        display(f'ERROR failed to DELETE: {delItem.title}')\n",
        "# create new agolItem class\n",
        "  def getItem(self, id):\n",
        "    try:\n",
        "      item = agolItem(self, id)\n",
        "      return item\n",
        "    except:\n",
        "        display(f'ERROR failed to GET item ID: {id}')\n",
        "# Function to update attributes in a Feature Layer based on related table values\n",
        "  def updateLayerFromTable(self, ref):\n",
        "    # Search for Feature Layer to be updated\n",
        "    keyWords = input(f'Item Search Query: ') or ''\n",
        "    iType = input(f'AGOL Item Type: ') or ''\n",
        "    search = self.search(keyWords, 10,iType)\n",
        "    ind = int(input(f'Search Item Index: ')) or 0\n",
        "    # create item as target for update operation\n",
        "    item = self.getItem(search[ind].id)\n",
        "    # agol defined functions to get table and layer from the Feature Service\n",
        "    table = item.getTable()\n",
        "    layer = item.getLayer()\n",
        "    # Create FeatureSets from the target layers and tables\n",
        "    tableFeat = table.table.query()\n",
        "    layerFeat = layer.layer.query()\n",
        "    # find the primary key to match layer and table\n",
        "    for i, field in enumerate(layerFeat.fields):\n",
        "      print(f'{i} - {field[\"name\"]}')\n",
        "    ind = int(input(f'PRIMARY MATCH KEY INDEX: ')) or 0\n",
        "    pKey = layerFeat.fields[ind][\"name\"]\n",
        "    # find the target field name\n",
        "    for i, field in enumerate(layerFeat.fields):\n",
        "      print(f'{i} - {field[\"name\"]}')\n",
        "    ind = int(input(f'Layer Target Field Index: ')) or 0\n",
        "    layAtt = layerFeat.fields[ind][\"name\"]\n",
        "    # set target attribute to zero\n",
        "    for lFeat in layerFeat:\n",
        "      lFeat.set_value(layAtt, 0)\n",
        "    edits = layer.layer.edit_features(updates=layerFeat)\n",
        "    # find the table source field name\n",
        "    for i, field in enumerate(tableFeat.fields):\n",
        "      print(f'{i} - {field[\"name\"]}')\n",
        "    ind = int(input(f'Table Source Field Index: ')) or 0\n",
        "    tabAtt = tableFeat.fields[ind][\"name\"]\n",
        "    # final portion of function\n",
        "    for tFeat in tableFeat:\n",
        "    # test for null features\n",
        "      if (tFeat.attributes['WATER_TEMP']):\n",
        "        # loop through all layer features to find match with pKey\n",
        "        for lFeat in layerFeat:\n",
        "          if tFeat.attributes[pKey] == lFeat.attributes[pKey]:\n",
        "            print(f'{tFeat.attributes[pKey]} matches {lFeat.attributes[pKey]} value {tFeat.attributes[tabAtt]}')\n",
        "            for x,val in enumerate(ref, start=1):\n",
        "              if tFeat.attributes[tabAtt] < val:\n",
        "                print(f'found value {x}')\n",
        "                lFeat.set_value(layAtt, x)\n",
        "                break\n",
        "    # Now update target layer with updated FeatureSet using edit_features()            \n",
        "    edits = layer.layer.edit_features(updates=layerFeat)\n",
        "    # Count edited features, currently counting all features\n",
        "    for i, edit in enumerate(edits['updateResults'],start=1):\n",
        "      pass\n",
        "    print(f'updated {layer.layer.properties.name} with {i} edits')\n",
        "\n",
        "class agolItem:\n",
        "# -init- function - create new agol item from agol CLASS and item.id\n",
        "  def __init__(self,agol,id):\n",
        "    try:  \n",
        "      self.item =  agol.gis.content.get(id)\n",
        "      display(self.item)\n",
        "    except:\n",
        "        display(f'ERROR failed to GET item ID: {id}')\n",
        "  def info(self):\n",
        "    try:\n",
        "      keys, infoList = ['id', 'description', 'extent', 'spatialReference', 'url', 'owner', 'layers', 'tables'], []\n",
        "      for i, z in enumerate(keys):\n",
        "        infoList.append(self.item[z])\n",
        "        display(f'{i} - {z} - {self.item[z]}')\n",
        "      return infoList\n",
        "    except:\n",
        "      display(f'FAILED to get infoList for {self.item.title}')\n",
        "# -init function - get layer from item create new agolLayer Class\n",
        "  def getLayer(self):\n",
        "    try:\n",
        "      for i, lyr in enumerate(self.item.layers):\n",
        "        display(f'{i} - {lyr.properties.name}')\n",
        "      time.sleep(1)\n",
        "      ind = int(input('Select index of Layer: '))\n",
        "      url = self.item.url\n",
        "      layer = agolLayer(url, ind)\n",
        "      return layer\n",
        "    except:\n",
        "      display(f'Could not Get Layers for: {self.ags.url}')\n",
        "  def getTable(self):\n",
        "    try:\n",
        "      for i, tab in enumerate(self.item.tables):\n",
        "        display(f'{i} - {tab.properties.name}')\n",
        "      time.sleep(1)\n",
        "      # Quick fix to get proper id index for table instead of related layer\n",
        "      ind = int(input('Select index of Table: '))  + 1\n",
        "      url = self.item.url\n",
        "      table = agolTable(url, ind)\n",
        "      return table\n",
        "    except:\n",
        "      display(f'Could not Get Tables for: {self.ags.url}')\n",
        "             \n",
        "class agolLayer:\n",
        "# -init function - get layer from item create new agolLayer Class \n",
        "  def __init__(self, url, ind):\n",
        "    try:  \n",
        "      layUrl = (f'{url}/{ind}')\n",
        "      self.layer = FeatureLayer(layUrl)\n",
        "    except:\n",
        "        display(f'ERROR failed to GET Layer: {ind}')\n",
        "  def layerQuery(self):\n",
        "    try:\n",
        "      baseURL = self.layer.url\n",
        "      SQL = input(f'SQL query(ENTER for ALL): ') or '1=1'\n",
        "      fields = input(f'Fields(ENTER for ALL)? ') or '*'\n",
        "      url = (f'{baseURL}/query?f=geojson&where={SQL}&outFields={fields}')\n",
        "      gdf = gpd.read_file(url)\n",
        "      return gdf\n",
        "    except:\n",
        "      display(f'Query unsuccessful for: {self.item.title}')\n",
        "\n",
        "class agolTable:\n",
        "# -init function - get layer from item create new agolLayer Class \n",
        "  def __init__(self, url, ind):\n",
        "    try:  \n",
        "      tabUrl = (f'{url}/{ind}')\n",
        "      self.table = FeatureLayer(tabUrl)\n",
        "    except:\n",
        "        display(f'ERROR failed to GET Table: {ind}')\n",
        "  def tableQuery(self):\n",
        "    try:\n",
        "      baseURL = self.table.url\n",
        "      SQL = input(f'SQL query(ENTER for ALL): ') or '1=1'\n",
        "      fields = input(f'Fields(ENTER for ALL)? ') or '*'\n",
        "      url = (f'{baseURL}/query?f=geojson&where={SQL}&outFields={fields}')\n",
        "      gdf = gpd.read_file(url)\n",
        "      return gdf\n",
        "    except:\n",
        "      display(f'Query unsuccessful for: {self.item.title}')"
      ],
      "execution_count": 2,
      "outputs": []
    },
    {
      "cell_type": "markdown",
      "metadata": {
        "id": "IY5E9MJDeQ-J"
      },
      "source": [
        "## Final Dashboard Update Workflow\n",
        "### 6-29-2021 method added into agol() class"
      ]
    },
    {
      "cell_type": "code",
      "metadata": {
        "colab": {
          "base_uri": "https://localhost:8080/",
          "height": 88
        },
        "id": "52CMId_jtVli",
        "outputId": "9a5f6dbc-638e-40a4-8cc3-e908362b1b9e"
      },
      "source": [
        "# First login to creat agol() class item\n",
        "gis = agol()"
      ],
      "execution_count": 3,
      "outputs": [
        {
          "name": "stdout",
          "output_type": "stream",
          "text": [
            "ArcGIS Online USER ID: ekerney_nhbptribe\n",
            "PASSWORD: ··········\n"
          ]
        },
        {
          "output_type": "display_data",
          "data": {
            "application/vnd.google.colaboratory.intrinsic+json": {
              "type": "string"
            },
            "text/plain": [
              "'SUCCESS - CONNECTED TO: ekerney_nhbptribe ACCOUNT as <gis>'"
            ]
          },
          "metadata": {}
        },
        {
          "output_type": "display_data",
          "data": {
            "text/html": [
              "GIS @ <a href=\"https://nhbptribe.maps.arcgis.com\">https://nhbptribe.maps.arcgis.com</a>"
            ],
            "text/plain": [
              "GIS @ https://nhbptribe.maps.arcgis.com version:9.2"
            ]
          },
          "metadata": {}
        }
      ]
    },
    {
      "cell_type": "code",
      "metadata": {
        "colab": {
          "base_uri": "https://localhost:8080/",
          "height": 1000
        },
        "id": "_hEpqCtEI4s2",
        "outputId": "bb28f94d-8c84-4bec-8988-581c2c522a1b"
      },
      "source": [
        "# Use updateLayerFromTable() method to update sampling stations\n",
        "# Single argument is list of reference values to classify value categories\n",
        "# Search Query 'water sampling 2021' - Table Index: 0 - Layer Index: 0\n",
        "# Match Key: 'SITE_ID(2)' - Layer Target: \"DO_STATUS_(28)\" - Source Field: 'DO_mgl(11)'\n",
        "gis.updateLayerFromTable([5,6,7,100])"
      ],
      "execution_count": 5,
      "outputs": [
        {
          "name": "stdout",
          "output_type": "stream",
          "text": [
            "Item Search Query: water sampling 2021\n",
            "AGOL Item Type: \n",
            "0 - WATER_SAMPLING_2021 - 66523a79c3de4074b99b0d84e985bb71 - Feature Service - [] - 2021-06-16 16:34:46\n",
            "1 - SAMPLE_DESIGN_2021 - c94a036ea6bf42e6a0aa7a0fede83e5a - Feature Service - [] - 2021-06-16 15:47:35\n",
            "2 - Grand River Water Sampling 2021 - f0f2ddb89d204ff18fcbbf106c1b6bb5 - Dashboard - ['/Categories/DASHBOARDS'] - 2021-04-23 01:45:33\n",
            "Search Item Index: 0\n"
          ]
        },
        {
          "output_type": "display_data",
          "data": {
            "text/html": [
              "<div class=\"item_container\" style=\"height: auto; overflow: hidden; border: 1px solid #cfcfcf; border-radius: 2px; background: #f6fafa; line-height: 1.21429em; padding: 10px;\">\n",
              "                    <div class=\"item_left\" style=\"width: 210px; float: left;\">\n",
              "                       <a href='https://nhbptribe.maps.arcgis.com/home/item.html?id=66523a79c3de4074b99b0d84e985bb71' target='_blank'>\n",
              "                        <img src='data:image/png;base64,iVBORw0KGgoAAAANSUhEUgAAAMgAAACFCAIAAACR/CB7AAAACXBIWXMAAAAnAAAAJwEqCZFPAAAE8ElEQVR4nO3dT2gcVRzA8V+Kl2IIqK2CM4tQvehN8M8seEhLMMEUJIdsPBovFoyS7HroYS/KHhJoNgUX6UWLJ2lHSA8rVFhDPe07iTkIglCF2ddzzEUKlXgYCBqi2Sb7mzfv9fs5tUuavMKXN2/fm52M7e3tCTBqp1wPAGEiLKggLKggLKggLMd63XRlumKtdT2QESMsqBhjuwEamLGcCfUimCMsqOBSWJxeNxWRqYvzrgdSBMIqzspMRUQ2bmeuB1IEwipOvpyKosj1QIpAWFDB4n3Ewn6vNzzCggouhVDBjAUVhOVMr5vmO1tB4lLoTNjbWoTlTNjbWoQFFayxoIKwoIKwgmWMcfjTCStMxpitZrXTargaAGGFKUmSicn63GLd1QB4VwgVzFhQQVhQQVhQQVhQQVhQQVhQQVhQQVhQQVhQQVhQQVhQQVhQQVhQQVhQQVhQQVhQQVhQQVhQQVhQQVhQQVhQQVhQQVhQQVhQQVhQQVhQQVhQQVhQQVhQQVhQQVhQQVhQQVhQQVhQQVhQQVgHuX2KdTAI6186rcZWs0pbJ/eY6wGUy9xifVMkSRLXA/Eej+OGCi6FUEFYJ8WvrT8UYUEFayyoYMaCCsKCCsKCCsKCCsKCikcoLE4AixRaWNbalelKr5seeJ3T5YI9KofQnC4XLMANUmMMATnn/aXwwLXPGLPVrHZaDbejgvdhHZAkycRkfW6xPsLvyTHzMXi/xoqiaOO77J+vLDXXXQ0G+wJcY6EMQrsUoiQICyq8D6vXTQ9sh/7XHimK5P3i/dtOXUSmLs7nf7XWDgYDpyOCSACL93wXIIoia+2V9xIZExHZuJ0d8c+gzPsZK4oiEel103yi2ro7Vq1WXQ8K/s9YImKtXX4z3hOpVGJhuioH7xfv+544LSIyu9R2PRCIhBFWFEXvr9089dL8x1+Y/VX8/7DWcpiozfuwVpcXVpcXxs9UnruXfvbpUEeEm9fbu3fa3JulyvuwckmS7L5QG/KLl5rrF1p9bq1RFcLiHSUUwozFbS0lFEJYKCEuhVDh8YyVvx90PQoczuOwsowd9vLy8qzQWtvv96M/+uMvcyxYUl6usVZmKiLy/Bu1ucV6fgiNsvEyrPwmvmFOb+CKl2Gh/DxevKPMfAprmJvZD92F77QanVaDrfki+RTW8Pr9/v6fjTHbt9q7d9qb17lVqzgerLE6rcZDvftrNRvbm+2nXqld++pG/kp+hwy3MxSp7GHlD/mYmKwP/8H5t1+rvD4x2LorD8YrMxeql6/eUB0hDlX2DdIkSeQh7536fNO8db66cC779YHeuHCEss9Yx9BpNbZvtXf+lPTn0P5rHglt8d7rpj983f7xnjzzIqc9LgUVVq+brn1Ui+N4/Ezl2Z0+d7U7VKKwTv7hmcFgcP6c7Nwfm346Oz3b5m2gQyUK6+Qfnnn30srEZP3SWvr9b1KrDfvZCmgo1+J9JM+lNcZ8+UH1yVfnV6/dHMmocAzOZqxDL3wjuXglSfL42fj+7/2jvxRqnIWl+qnRdz75ZpANeESWQ842SJea62ZqXml9HcdxHMca3xlDKtcaS0P+3KzZD9vcGFikEr0rREiCnbGYqNxixoKKYMPKsuzsX4NffuJUx41gw9L4pToYXrBrrFz+GXzu9StesDMW3Ap8xoIrzFhQQVhQQVhQQVhQ8Td7o8huugrIOwAAAABJRU5ErkJggg==' width='200' height='133' class=\"itemThumbnail\">\n",
              "                       </a>\n",
              "                    </div>\n",
              "\n",
              "                    <div class=\"item_right\"     style=\"float: none; width: auto; overflow: hidden;\">\n",
              "                        <a href='https://nhbptribe.maps.arcgis.com/home/item.html?id=66523a79c3de4074b99b0d84e985bb71' target='_blank'><b>WATER_SAMPLING_2021</b>\n",
              "                        </a>\n",
              "                        <br/>WATER SAMPLING SURVEY INFO 2021<img src='https://nhbptribe.maps.arcgis.com/home/js/jsapi/esri/css/images/item_type_icons/featureshosted16.png' style=\"vertical-align:middle;\">Feature Layer Collection by ekerney_nhbptribe\n",
              "                        <br/>Last Modified: June 16, 2021\n",
              "                        <br/>0 comments, 193 views\n",
              "                    </div>\n",
              "                </div>\n",
              "                "
            ],
            "text/plain": [
              "<Item title:\"WATER_SAMPLING_2021\" type:Feature Layer Collection owner:ekerney_nhbptribe>"
            ]
          },
          "metadata": {}
        },
        {
          "output_type": "display_data",
          "data": {
            "application/vnd.google.colaboratory.intrinsic+json": {
              "type": "string"
            },
            "text/plain": [
              "'0 - WATER_DATA_2021'"
            ]
          },
          "metadata": {}
        },
        {
          "name": "stdout",
          "output_type": "stream",
          "text": [
            "Select index of Table: 0\n"
          ]
        },
        {
          "output_type": "display_data",
          "data": {
            "application/vnd.google.colaboratory.intrinsic+json": {
              "type": "string"
            },
            "text/plain": [
              "'0 - WATER_STATIONS_2021'"
            ]
          },
          "metadata": {}
        },
        {
          "output_type": "stream",
          "name": "stdout",
          "text": [
            "Select index of Layer: 0\n",
            "0 - OBJECTID\n",
            "1 - DATE_TIME\n",
            "2 - SITE_ID\n",
            "3 - STAFF\n",
            "4 - SAMP_EQUIP\n",
            "5 - AIR_TEMP\n",
            "6 - CUR_PRECIP\n",
            "7 - PREV_48_PRECIP\n",
            "8 - WIND_SPEED\n",
            "9 - WEATHER_NOTES\n",
            "10 - WATER_TEMP\n",
            "11 - DO_mgl\n",
            "12 - SPEC_COND_uS_cm\n",
            "13 - TURB_NTU\n",
            "14 - pH\n",
            "15 - QC\n",
            "16 - DEPTH_FT\n",
            "17 - NOTES\n",
            "18 - LOCATION\n",
            "19 - LAB_SAMP_QUES\n",
            "20 - Ecoli_100ml_\n",
            "21 - TOT_PHOS_\n",
            "22 - TOT_NITRO_\n",
            "23 - LAKE_SAMP_QUES_\n",
            "24 - SECCH_DEP_FT_\n",
            "25 - CHLOROPHYLLa_ug_L_\n",
            "26 - STAT_SAMP_QUES_\n",
            "27 - ECOLI_STATUS_\n",
            "28 - DO_STATUS_\n",
            "29 - TEMP_STATUS_\n",
            "30 - TURB_STATUS_\n",
            "31 - GlobalID\n",
            "PRIMARY MATCH KEY INDEX: 2\n",
            "0 - OBJECTID\n",
            "1 - DATE_TIME\n",
            "2 - SITE_ID\n",
            "3 - STAFF\n",
            "4 - SAMP_EQUIP\n",
            "5 - AIR_TEMP\n",
            "6 - CUR_PRECIP\n",
            "7 - PREV_48_PRECIP\n",
            "8 - WIND_SPEED\n",
            "9 - WEATHER_NOTES\n",
            "10 - WATER_TEMP\n",
            "11 - DO_mgl\n",
            "12 - SPEC_COND_uS_cm\n",
            "13 - TURB_NTU\n",
            "14 - pH\n",
            "15 - QC\n",
            "16 - DEPTH_FT\n",
            "17 - NOTES\n",
            "18 - LOCATION\n",
            "19 - LAB_SAMP_QUES\n",
            "20 - Ecoli_100ml_\n",
            "21 - TOT_PHOS_\n",
            "22 - TOT_NITRO_\n",
            "23 - LAKE_SAMP_QUES_\n",
            "24 - SECCH_DEP_FT_\n",
            "25 - CHLOROPHYLLa_ug_L_\n",
            "26 - STAT_SAMP_QUES_\n",
            "27 - ECOLI_STATUS_\n",
            "28 - DO_STATUS_\n",
            "29 - TEMP_STATUS_\n",
            "30 - TURB_STATUS_\n",
            "31 - GlobalID\n",
            "Layer Target Field Index: 28\n",
            "0 - OBJECTID\n",
            "1 - SITE_ID\n",
            "2 - DATE_TIME\n",
            "3 - STAFF\n",
            "4 - SAMP_EQUIP\n",
            "5 - AIR_TEMP\n",
            "6 - CUR_PRECIP\n",
            "7 - PREV_48_PRECIP\n",
            "8 - WIND_SPEED\n",
            "9 - WEATHER_NOTES\n",
            "10 - WATER_TEMP\n",
            "11 - DO_mgl\n",
            "12 - SPEC_COND_uS_cm\n",
            "13 - TURB_NTU\n",
            "14 - pH\n",
            "15 - QC\n",
            "16 - DEPTH_FT\n",
            "17 - NOTES\n",
            "18 - SITE_IMAGE\n",
            "19 - LAB_SAMP_QUES\n",
            "20 - Ecoli_100ml_\n",
            "21 - TOT_PHOS_\n",
            "22 - TOT_NITRO_\n",
            "23 - LAKE_SAMP_QUES_\n",
            "24 - SECCH_DEP_FT_\n",
            "25 - CHLOROPHYLLa_ug_L_\n",
            "26 - STAT_SAMP_QUES_\n",
            "27 - ECOLI_STATUS_\n",
            "28 - DO_STATUS_\n",
            "29 - TEMP_STATUS_\n",
            "30 - TURB_STATUS_\n",
            "31 - GlobalID\n",
            "32 - NEW_SITE_ID\n",
            "33 - NEW_SITE_DESC\n",
            "34 - SITE_NUM\n",
            "Table Source Field Index: 11\n",
            "updated WATER_STATIONS_2021 with 63 edits\n"
          ]
        }
      ]
    },
    {
      "cell_type": "code",
      "metadata": {
        "id": "gi-YZn-rJVKJ"
      },
      "source": [
        ""
      ],
      "execution_count": null,
      "outputs": []
    }
  ]
}