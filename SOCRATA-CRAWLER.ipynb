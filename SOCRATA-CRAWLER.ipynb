{
  "nbformat": 4,
  "nbformat_minor": 0,
  "metadata": {
    "colab": {
      "name": "States-Geo-Data.ipynb",
      "provenance": [],
      "collapsed_sections": [],
      "toc_visible": true,
      "authorship_tag": "ABX9TyOSy7+J8eSGVHNZU5tVDGUd",
      "include_colab_link": true
    },
    "kernelspec": {
      "name": "python3",
      "display_name": "Python 3"
    },
    "language_info": {
      "name": "python"
    }
  },
  "cells": [
    {
      "cell_type": "markdown",
      "metadata": {
        "id": "view-in-github",
        "colab_type": "text"
      },
      "source": [
        "<a href=\"https://colab.research.google.com/github/Location-Artistry/GEO-DEV-NOTEBOOKS/blob/main/SOCRATA-CRAWLER.ipynb\" target=\"_parent\"><img src=\"https://colab.research.google.com/assets/colab-badge.svg\" alt=\"Open In Colab\"/></a>"
      ]
    },
    {
      "cell_type": "markdown",
      "metadata": {
        "id": "VA74ODUGzMoO"
      },
      "source": [
        "# **Python Search Script**\n",
        "## Utilize Beautiful Soup4 and Google Libraries to search state websites\n",
        "### Explore which Geospatial data storage systems states are utilizing"
      ]
    },
    {
      "cell_type": "code",
      "metadata": {
        "id": "FGgUzrnsrusa"
      },
      "source": [
        "#!pip install beautifulsoup4\n",
        "#!pip install google\n",
        "from googlesearch import search \n",
        "import pandas as pd\n",
        "!pip install git+https://github.com/abenassi/Google-Search-API\n",
        "from googleapi import google"
      ],
      "execution_count": 8,
      "outputs": []
    },
    {
      "cell_type": "code",
      "metadata": {
        "id": "M7QIepFLEPdu"
      },
      "source": [
        "abrv = ['AL', 'AK','AS', 'AZ', 'AR','CA', 'CO', 'CT', 'DE', 'DC', 'FL', 'GA', 'GU', 'HI', 'ID', 'IL', 'IN', 'IA', 'KS', 'KY', 'LA', 'MA', 'MD', 'ME', 'MI', 'MN', 'MO', 'MP', 'MS', 'MT', 'NE', 'NV', 'NH', 'NJ', 'NM', 'NY', 'NC', 'ND', 'MP','OH', 'OK', 'OR', 'PA', 'PR', 'RI', 'SC', 'SD', 'TN', 'TX', 'VI', 'UT', 'VT', 'VA', 'WA', 'WV', 'WI', 'WY']"
      ],
      "execution_count": 25,
      "outputs": []
    },
    {
      "cell_type": "code",
      "metadata": {
        "id": "t8xqVPav6wxP"
      },
      "source": [
        "stateList = ['Alabama', 'Alaska', 'American Samoa', 'Arizona', 'Arkansas', 'California', 'Colorado', 'Connecticut', 'Delaware', 'District of Columbia', 'Florida', 'Georgia', 'Guam', 'Hawaii', 'Idaho', 'Illinois', 'Indiana', 'Iowa', 'Kansas', 'Kentucky', 'Louisiana', 'Maine', 'Maryland', 'Massachusetts', 'Michigan', 'Minnesota', 'Minor Outlying Islands', 'Mississippi', 'Missouri', 'Montana', 'Nebraska', 'Nevada', 'New Hampshire', 'New Jersey', 'New Mexico', 'New York', 'North Carolina', 'North Dakota', 'Northern Mariana Islands', 'Ohio', 'Oklahoma', 'Oregon', 'Pennsylvania', 'Puerto Rico', 'Rhode Island', 'South Carolina', 'South Dakota', 'Tennessee', 'Texas', 'U.S. Virgin Islands', 'Utah', 'Vermont', 'Virginia', 'Washington', 'West Virginia', 'Wisconsin', 'Wyoming']\n",
        "# stateList = ['Alabama', 'Alaska', 'American Samoa', 'Arizona']"
      ],
      "execution_count": 26,
      "outputs": []
    },
    {
      "cell_type": "code",
      "metadata": {
        "id": "S9LnkNMAFnOi"
      },
      "source": [
        "for i, z in enumerate(stateList):\n",
        "  print(f'State: {abrv[i]} - {z}')"
      ],
      "execution_count": null,
      "outputs": []
    },
    {
      "cell_type": "code",
      "metadata": {
        "id": "1C-r_6ca04hr",
        "colab": {
          "base_uri": "https://localhost:8080/"
        },
        "outputId": "efc3f176-416e-4921-e885-e9b6adac284e"
      },
      "source": [
        "q = \"Socrata open data\"\n",
        "df = pd.DataFrame(columns = ['STATE','RANK','URL'])\n",
        "for x,state in enumerate(stateList):\n",
        "  print(state,abrv[x])\n",
        "  for z,i in enumerate(search((f'{state} {abrv[x]} {q}'), tld=\"com\", num=3, stop=3, pause=2)):\n",
        "    df.loc[len(df.index)] = [abrv[x],z,i]"
      ],
      "execution_count": 31,
      "outputs": [
        {
          "output_type": "stream",
          "text": [
            "Alabama AL\n",
            "Alaska AK\n",
            "American Samoa AS\n",
            "Arizona AZ\n",
            "Arkansas AR\n",
            "California CA\n",
            "Colorado CO\n",
            "Connecticut CT\n",
            "Delaware DE\n",
            "District of Columbia DC\n",
            "Florida FL\n",
            "Georgia GA\n",
            "Guam GU\n",
            "Hawaii HI\n",
            "Idaho ID\n",
            "Illinois IL\n",
            "Indiana IN\n",
            "Iowa IA\n",
            "Kansas KS\n",
            "Kentucky KY\n",
            "Louisiana LA\n",
            "Maine MA\n",
            "Maryland MD\n",
            "Massachusetts ME\n",
            "Michigan MI\n",
            "Minnesota MN\n",
            "Minor Outlying Islands MO\n",
            "Mississippi MP\n",
            "Missouri MS\n",
            "Montana MT\n",
            "Nebraska NE\n",
            "Nevada NV\n",
            "New Hampshire NH\n",
            "New Jersey NJ\n",
            "New Mexico NM\n",
            "New York NY\n",
            "North Carolina NC\n",
            "North Dakota ND\n",
            "Northern Mariana Islands MP\n",
            "Ohio OH\n",
            "Oklahoma OK\n",
            "Oregon OR\n",
            "Pennsylvania PA\n",
            "Puerto Rico PR\n",
            "Rhode Island RI\n",
            "South Carolina SC\n",
            "South Dakota SD\n",
            "Tennessee TN\n",
            "Texas TX\n",
            "U.S. Virgin Islands VI\n",
            "Utah UT\n",
            "Vermont VT\n",
            "Virginia VA\n",
            "Washington WA\n",
            "West Virginia WV\n",
            "Wisconsin WI\n",
            "Wyoming WY\n"
          ],
          "name": "stdout"
        }
      ]
    },
    {
      "cell_type": "code",
      "metadata": {
        "colab": {
          "base_uri": "https://localhost:8080/"
        },
        "id": "rqfwLBqH1YtX",
        "outputId": "266c701b-7aba-4a9c-ed55-9cffd269d56b"
      },
      "source": [
        "df.info()"
      ],
      "execution_count": 41,
      "outputs": [
        {
          "output_type": "stream",
          "text": [
            "<class 'pandas.core.frame.DataFrame'>\n",
            "Int64Index: 171 entries, 0 to 170\n",
            "Data columns (total 3 columns):\n",
            " #   Column  Non-Null Count  Dtype \n",
            "---  ------  --------------  ----- \n",
            " 0   STATE   171 non-null    object\n",
            " 1   RANK    171 non-null    object\n",
            " 2   URL     171 non-null    object\n",
            "dtypes: object(3)\n",
            "memory usage: 5.3+ KB\n"
          ],
          "name": "stdout"
        }
      ]
    },
    {
      "cell_type": "code",
      "metadata": {
        "colab": {
          "base_uri": "https://localhost:8080/",
          "height": 194
        },
        "id": "Vxo9xi0f8lbN",
        "outputId": "6b74efc7-4ae1-4278-9c05-974dc24fb953"
      },
      "source": [
        "df.head()"
      ],
      "execution_count": 42,
      "outputs": [
        {
          "output_type": "execute_result",
          "data": {
            "text/html": [
              "<div>\n",
              "<style scoped>\n",
              "    .dataframe tbody tr th:only-of-type {\n",
              "        vertical-align: middle;\n",
              "    }\n",
              "\n",
              "    .dataframe tbody tr th {\n",
              "        vertical-align: top;\n",
              "    }\n",
              "\n",
              "    .dataframe thead th {\n",
              "        text-align: right;\n",
              "    }\n",
              "</style>\n",
              "<table border=\"1\" class=\"dataframe\">\n",
              "  <thead>\n",
              "    <tr style=\"text-align: right;\">\n",
              "      <th></th>\n",
              "      <th>STATE</th>\n",
              "      <th>RANK</th>\n",
              "      <th>URL</th>\n",
              "    </tr>\n",
              "  </thead>\n",
              "  <tbody>\n",
              "    <tr>\n",
              "      <th>0</th>\n",
              "      <td>AL</td>\n",
              "      <td>0</td>\n",
              "      <td>https://www.opendatanetwork.com/</td>\n",
              "    </tr>\n",
              "    <tr>\n",
              "      <th>1</th>\n",
              "      <td>AL</td>\n",
              "      <td>1</td>\n",
              "      <td>https://uspto.data.commerce.gov/w/apaj-dzmw/de...</td>\n",
              "    </tr>\n",
              "    <tr>\n",
              "      <th>2</th>\n",
              "      <td>AL</td>\n",
              "      <td>2</td>\n",
              "      <td>https://data-algeohub.opendata.arcgis.com/</td>\n",
              "    </tr>\n",
              "    <tr>\n",
              "      <th>3</th>\n",
              "      <td>AK</td>\n",
              "      <td>0</td>\n",
              "      <td>https://data.muni.org/</td>\n",
              "    </tr>\n",
              "    <tr>\n",
              "      <th>4</th>\n",
              "      <td>AK</td>\n",
              "      <td>1</td>\n",
              "      <td>https://data-soa-dnr.opendata.arcgis.com/</td>\n",
              "    </tr>\n",
              "  </tbody>\n",
              "</table>\n",
              "</div>"
            ],
            "text/plain": [
              "  STATE RANK                                                URL\n",
              "0    AL    0                   https://www.opendatanetwork.com/\n",
              "1    AL    1  https://uspto.data.commerce.gov/w/apaj-dzmw/de...\n",
              "2    AL    2         https://data-algeohub.opendata.arcgis.com/\n",
              "3    AK    0                             https://data.muni.org/\n",
              "4    AK    1          https://data-soa-dnr.opendata.arcgis.com/"
            ]
          },
          "metadata": {
            "tags": []
          },
          "execution_count": 42
        }
      ]
    },
    {
      "cell_type": "code",
      "metadata": {
        "id": "-_hhiEcw_9mr"
      },
      "source": [
        "df.to_csv('SOCRATA-STATES.csv',encoding='utf-8')"
      ],
      "execution_count": 43,
      "outputs": []
    },
    {
      "cell_type": "code",
      "metadata": {
        "id": "J2pux5LP1BPy"
      },
      "source": [
        "# Site with nice pre-made lists of all US states separated by commas\n",
        "https://sceptermarketing.com/comma-separated-lists-of-us-states-abbreviations-select-options-etc/\n",
        "# Open Data Network, Socrata compilation of states and regions!\n",
        "https://www.opendatanetwork.com/\n",
        "# Links of all states Open Data Portals!\n",
        "http://www.harker.com/OpenData/socrata-data-portals.html"
      ],
      "execution_count": null,
      "outputs": []
    }
  ]
}