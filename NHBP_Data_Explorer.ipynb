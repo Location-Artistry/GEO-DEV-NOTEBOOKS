{
  "nbformat": 4,
  "nbformat_minor": 0,
  "metadata": {
    "colab": {
      "name": "NHBP-Data-Explorer.ipynb",
      "provenance": [],
      "collapsed_sections": [
        "guWDp-IACXPr",
        "pb4o8LYeTr71"
      ],
      "toc_visible": true,
      "authorship_tag": "ABX9TyM8fKig2AYgvRxM/ZtQ8JkZ",
      "include_colab_link": true
    },
    "kernelspec": {
      "name": "python3",
      "display_name": "Python 3"
    }
  },
  "cells": [
    {
      "cell_type": "markdown",
      "metadata": {
        "id": "view-in-github",
        "colab_type": "text"
      },
      "source": [
        "<a href=\"https://colab.research.google.com/github/Location-Artistry/GEO-DEV-NOTEBOOKS/blob/main/NHBP_Data_Explorer.ipynb\" target=\"_parent\"><img src=\"https://colab.research.google.com/assets/colab-badge.svg\" alt=\"Open In Colab\"/></a>"
      ]
    },
    {
      "cell_type": "markdown",
      "metadata": {
        "id": "Ik4VOc4bSnfL"
      },
      "source": [
        "# **ArcREST Data Explorer**   \r\n",
        "# Efficient ArcGIS Server Browsing Library\r\n",
        "## Quickly view all services and layers available from an ArcGIS Server URL\r\n"
      ]
    },
    {
      "cell_type": "markdown",
      "metadata": {
        "id": "F1IMXbKt7zIt"
      },
      "source": [
        "### Built on top of bmi-arcgis-restapi library\r\n",
        "bmi-arcgis-restapi provides additional functionality beyond the arcgis Python API.  It will use ArcPy if available, or open source libraries if not.\r\n",
        "https://github.com/Bolton-and-Menk-GIS/restapi   \r\n",
        "Also deploys GeoPandas to read in Layer Query as a GeoDataframe\r\n"
      ]
    },
    {
      "cell_type": "markdown",
      "metadata": {
        "id": "M55TkG3XWUAs"
      },
      "source": [
        "## Class and Function Definitions\r\n",
        "Creates 3 new classes:\r\n",
        "\r\n",
        "\r\n",
        "1.   mapServer - the root ArcServer Object\r\n",
        "2.   arcService - Services contained with the mapServer\r\n",
        "3.   mapLayer - Layers available through a arcService\r\n",
        "\r\n",
        "\r\n"
      ]
    },
    {
      "cell_type": "markdown",
      "metadata": {
        "id": "dXFZdCFeMaNs"
      },
      "source": [
        "## Working to debug ArcREST Data Explorer Library to be compatible with NHBP ArcGIS Online Server Types\r\n",
        "Working 1-15-2020\r\n"
      ]
    },
    {
      "cell_type": "code",
      "metadata": {
        "id": "FU8AhX7vDdfP"
      },
      "source": [
        "!pip install bmi-arcgis-restapi\r\n",
        "import restapi"
      ],
      "execution_count": null,
      "outputs": []
    },
    {
      "cell_type": "code",
      "metadata": {
        "id": "KraQcHhof8dp"
      },
      "source": [
        "# Class creates a <-mapServer object-> based on restapi.ArcServer from bmi-arcgis-restapi library\r\n",
        "class mapServer:\r\n",
        "# -init- function, ArcServer object as self.ags, server endpoint as self.url\r\n",
        "  def __init__(self, url):\r\n",
        "    try:\r\n",
        "      creds = input(f'Credentials Needed (YES/NO)? ')\r\n",
        "      if creds.upper() == 'YES':          \r\n",
        "        id = input(f'ArcGIS Online USER ID: ')\r\n",
        "        pwd = getpass.getpass('PASSWORD: ')\r\n",
        "        self.ags = restapi.ArcServer(url, id, pwd)\r\n",
        "      else:\r\n",
        "        self.ags = restapi.ArcServer(url)\r\n",
        "      self.url = url\r\n",
        "      display('MAPSERVER OBJECT CREATED', self.ags)\r\n",
        "    except:\r\n",
        "      display(f'FAILED TO CREATE MAPSERVER')\r\n",
        "# -getServices- displays and returns a list of all ArcGIS services\r\n",
        "  def getServices(self):\r\n",
        "    for i, service in enumerate(self.ags.services):\r\n",
        "      display(f'{i} - Service Name: {service.name} -  Service Type: {service.type}')\r\n",
        "    return self.ags.services \r\n",
        "# -getFolders- displays and returns list of all folders\r\n",
        "  def getFolders(self):\r\n",
        "    try:\r\n",
        "      for i, folder in enumerate(self.ags.folders):\r\n",
        "        display(f'{i} - Folder: {folder}') \r\n",
        "      return self.ags.folders\r\n",
        "    except:\r\n",
        "      return 0\r\n",
        "# -getNestedServ- gets a mapServer's nested services\r\n",
        "  def getNestedServices(self):\r\n",
        "    for i, folder in enumerate(self.ags.folders):\r\n",
        "      display(f'{i} - Folder: {folder}')\r\n",
        "      ags = restapi.ArcServer(f'{self.ags.url}/{folder}')\r\n",
        "      for z, service in enumerate(ags.services):\r\n",
        "        display(f'   {z} - Service Name: {service.name} -  Service Type: {service.type}')\r\n",
        "# -getAttr- get atrributes and show values for non-function methods of for MapServer Object\r\n",
        "  def getAttr(self):\r\n",
        "    for attribute in dir(self.ags):\r\n",
        "      display(f'Attribute Names: {attribute} - {self.ags[attribute]}')\r\n",
        "# -listAttr- list all attrbutes of MapServer Object\r\n",
        "  def listAttr(self):\r\n",
        "    return dir(self.ags)\r\n",
        "# -getSubService- returns a arcService object within specified mapServer\r\n",
        "  def getSubService(self, rootServer=0):\r\n",
        "    folders = self.getFolders()\r\n",
        "    services = self.getServices()\r\n",
        "    display(f'{self.url} -  ')\r\n",
        "    if not folders:\r\n",
        "      fID = int(input(f'Select index of subservice: '))\r\n",
        "      url = services[fID].name\r\n",
        "      try:\r\n",
        "        subService = self.getService(url)\r\n",
        "        return subService\r\n",
        "      except:\r\n",
        "        url = (f'{self.url}/{url}/FeatureServer')\r\n",
        "        # working here\r\n",
        "        subService = arcService(self, url)\r\n",
        "        return subService\r\n",
        "    else:\r\n",
        "      fID = int(input(f'Select index of subservice folder: '))\r\n",
        "      serviceURL = (f'{self.url}/{folders[fID]}')\r\n",
        "      subFolder = mapServer(serviceURL)\r\n",
        "      subServices = subFolder.getServices()\r\n",
        "      fID = int(input(f'Select index of subservice: '))\r\n",
        "      serviceName = subServices[fID].name\r\n",
        "      display(self.url, serviceName)\r\n",
        "      subService = arcService(self, serviceName)\r\n",
        "      return subService\r\n",
        "\r\n",
        "# Class creates a <-arcService object-> based on ags.getService from bmi-arcgis-restapi library\r\n",
        "class arcService:\r\n",
        "# -init- create arcService from mapServer Class  \r\n",
        "  def __init__(self, server, servName): \r\n",
        "    try:\r\n",
        "      self.ags = server.ags.getService(servName)\r\n",
        "      self.url = self.ags.url\r\n",
        "      display(f'ARCSERVICE OBJECT CREATED - {self.ags.url}')  \r\n",
        "    except:\r\n",
        "      self.ags = restapi.MapService(servName)\r\n",
        "      self.url = self.ags.url\r\n",
        "      display(f'ARCSERVICE OBJECT CREATED - {self.ags.url}') \r\n",
        "  def getAttr(self):\r\n",
        "    try:\r\n",
        "      for attribute in dir(self.ags):\r\n",
        "        display(f'Attribute Names: {attribute} - {self.ags[attribute]}')\r\n",
        "    except:\r\n",
        "      display(f'Could not get Attributes for: {self.ags.url}')\r\n",
        "  def listAttr(self):\r\n",
        "    try:\r\n",
        "      return dir(self.ags)\r\n",
        "    except:\r\n",
        "      display(f'Could not get List Attributes for: {self.ags.url}')\r\n",
        "  def desc(self):\r\n",
        "    try:\r\n",
        "      return self.ags.description\r\n",
        "    except:\r\n",
        "      display(f'Could not get Description for: {self.ags.url}')\r\n",
        "  def spatialRef(self):\r\n",
        "    try:\r\n",
        "      return self.ags.spatialReference\r\n",
        "    except:\r\n",
        "      display(f'Could not get spatialReference for: {self.ags.url}')\r\n",
        "  def units(self):\r\n",
        "    try:\r\n",
        "      return self.ags.units\r\n",
        "    except:\r\n",
        "      display(f'Could not get Units for: {self.ags.url}')\r\n",
        "  def layers(self):\r\n",
        "    try:\r\n",
        "      return self.ags.list_layers()\r\n",
        "    except:\r\n",
        "      display(f'Could not list Layers for: {self.ags.url}')\r\n",
        "  def tables(self):\r\n",
        "    try:\r\n",
        "      return self.ags.list_tables()\r\n",
        "    except:\r\n",
        "      display(f'Could not get Tables for: {self.ags.url}')\r\n",
        "# -getLayer- returns a mapLayer from arcService Class\r\n",
        "  def getLayer(self):\r\n",
        "    try: \r\n",
        "      for i, lay in enumerate(self.ags.layers):\r\n",
        "        display(f'{i} - {lay.name}')\r\n",
        "      layers = self.layers()\r\n",
        "      # small change here separate two lines of code for input ***\r\n",
        "      time.sleep(1)\r\n",
        "      fID = int(input('Select index of Layer: '))\r\n",
        "      layerObj = mapLayer(self, layers[fID])\r\n",
        "      return layerObj\r\n",
        "    except:\r\n",
        "      display(f'Could not Get Layers for: {self.ags.url}')\r\n",
        "# -getTable- returns table object from arcService Class  \r\n",
        "  def getTable(self):\r\n",
        "    try:\r\n",
        "      tableList = self.tables()\r\n",
        "      for i, lay in enumerate(tableList):\r\n",
        "        display(f'{i} - {tableList[i]}')\r\n",
        "      time.sleep(1)\r\n",
        "      fID = int(input(f'Select index of Table: '))      \r\n",
        "      #table = self.ags.table(tableList[fID])\r\n",
        "      tableID = tableList[fID]\r\n",
        "      table = mapTable(self, tableID)\r\n",
        "      return table\r\n",
        "    except:\r\n",
        "      display(f'Not able to return table for: {self.ags.url}')\r\n",
        "\r\n",
        "# Class creates a <-Layer object-> based on ags.layer from bmi-arcgis-restapi library\r\n",
        "class mapLayer:\r\n",
        "  def __init__(self, service, lyrName): \r\n",
        "    try:\r\n",
        "      self.lyr = service.ags.layer(lyrName)\r\n",
        "      display(f'LAYER CREATED - {self.lyr.name} - id: {self.lyr.id} - url: {self.lyr.url}')\r\n",
        "    except:\r\n",
        "      display(f'COULD NOT CREATE mapLayer')\r\n",
        "  def getInfo(self):\r\n",
        "    try:\r\n",
        "      display(f'{self.lyr.name} - capabilities: {self.lyr.capabilities} - query formats: {self.lyr.supportedQueryFormats} - count: {self.lyr.getCount()}')\r\n",
        "    except:\r\n",
        "      display(f'Could not get Info for: {self.lyr.name}')\r\n",
        "  def getFields(self):\r\n",
        "    try:\r\n",
        "      return self.lyr.list_fields()\r\n",
        "    except:\r\n",
        "      display(f'Could not get Fields for: {self.lyr.name}')\r\n",
        "  def getSubLayers(self):\r\n",
        "    try:\r\n",
        "      return self.lyr.subLayers\r\n",
        "    except:\r\n",
        "      display(f'{self.lyr.name} does not have any SubLayers')\r\n",
        "# -layerQuery- prompts user for SQL query and fields, returns geoDataframe object which has access to all pandas/geoPandas methods\r\n",
        "  def layerQuery (self):\r\n",
        "    try:\r\n",
        "      baseURL = self.lyr.url\r\n",
        "      SQL = input(f'SQL query(ENTER for ALL): ') or '1=1'\r\n",
        "      fields = input(f'Fields(ENTER for ALL)? ') or '*'\r\n",
        "      RESTurl = (f'{baseURL}/query?f=geojson&where={SQL}&outFields={fields}')\r\n",
        "      gdf = gpd.read_file(RESTurl)\r\n",
        "      return gdf\r\n",
        "    except:\r\n",
        "      display(f'Query unsuccessful for: {self.lyr.name}')\r\n",
        "\r\n",
        "# Class creates a <-mapTable object-> based on ags.layer from bmi-arcgis-restapi library\r\n",
        "class mapTable:\r\n",
        "  def __init__(self, service, id): \r\n",
        "    try:\r\n",
        "      self.table = service.ags.table(id)\r\n",
        "      #self.lyr = service.ags.layer(lyrName)\r\n",
        "      display(f'TABLE CREATED - {self.table.name} - id: {self.table.id} - url: {self.table.url}')\r\n",
        "    except:\r\n",
        "      display(f'COULD NOT CREATE mapTable')\r\n",
        "  def getInfo(self):\r\n",
        "    try:\r\n",
        "      display(f'{self.table.name} - capabilities: {self.table.capabilities} - query formats: {self.table.supportedQueryFormats} - count: {self.table.getCount()}')\r\n",
        "    except:\r\n",
        "      display(f'Could not get Info for: {self.table.name}')\r\n",
        "  def getFields(self):\r\n",
        "    try:\r\n",
        "      return self.table.list_fields()\r\n",
        "    except:\r\n",
        "      display(f'Could not get Fields for: {self.table.name}')\r\n",
        "  def getSubLayers(self):\r\n",
        "    try:\r\n",
        "      return self.table.subLayers\r\n",
        "    except:\r\n",
        "      display(f'{self.table.name} does not have any SubTables')\r\n",
        "# -layerQuery- prompts user for SQL query and fields, returns geoDataframe object which has access to all pandas/geoPandas methods\r\n",
        "  def layerQuery (self):\r\n",
        "    try:\r\n",
        "      baseURL = self.table.url\r\n",
        "      SQL = input(f'SQL query(ENTER for ALL): ') or '1=1'\r\n",
        "      fields = input(f'Fields(ENTER for ALL)? ') or '*'\r\n",
        "      RESTurl = (f'{baseURL}/query?f=geojson&where={SQL}&outFields={fields}')\r\n",
        "      gdf = gpd.read_file(RESTurl)\r\n",
        "      return gdf\r\n",
        "    except:\r\n",
        "      display(f'Query unsuccessful for: {self.table.name}')"
      ],
      "execution_count": 16,
      "outputs": []
    },
    {
      "cell_type": "markdown",
      "metadata": {
        "id": "WMQU31zwnwnT"
      },
      "source": [
        "## Sample Workflow from ArcGIS REST Server Endpoint\r\n",
        "Entire Workflow for newly created Arc Server Workflow using bmi-arcgis-restapi\r\n",
        "\r\n",
        "\r\n",
        "1.   Create mapServer with Server root url\r\n",
        "2.   Derive specified arcService from root MapServer Object\r\n",
        "3.   Generate layer from specified arcService Endpoint\r\n",
        "4.   Return geoDataframe from layer query\r\n",
        "5.   Perform data analysis and visualization with gdf\r\n",
        "\r\n"
      ]
    },
    {
      "cell_type": "markdown",
      "metadata": {
        "id": "RzjPkburCaw8"
      },
      "source": [
        "## Working NHBP Workflow\r\n",
        "Functions to get layers and tables \r\n",
        "1-18 Resolved hanging function issue!"
      ]
    },
    {
      "cell_type": "code",
      "metadata": {
        "colab": {
          "base_uri": "https://localhost:8080/",
          "height": 125
        },
        "id": "YfcxmCKLSBs_",
        "outputId": "5ce3f9ee-8f10-46d4-f11e-c7261678fddd"
      },
      "source": [
        "# 1 - Create MapServer with Server root url\r\n",
        "rest_url = 'https://services5.arcgis.com/RsKCQCx9eUKixVOM/arcgis/rest/services'\r\n",
        "gisServer = mapServer(rest_url)"
      ],
      "execution_count": 34,
      "outputs": [
        {
          "output_type": "stream",
          "text": [
            "Credentials Needed (YES/NO)? YES\n",
            "ArcGIS Online USER ID: ekerney_nhbptribe\n",
            "PASSWORD: ··········\n",
            "set PROTOCOL to \"https\" from generate token\n"
          ],
          "name": "stdout"
        },
        {
          "output_type": "display_data",
          "data": {
            "application/vnd.google.colaboratory.intrinsic+json": {
              "type": "string"
            },
            "text/plain": [
              "'MAPSERVER OBJECT CREATED'"
            ]
          },
          "metadata": {
            "tags": []
          }
        },
        {
          "output_type": "display_data",
          "data": {
            "text/plain": [
              "<ArcServer: \"services5.arcgis.com\" (\"RsKCQCx9eUKixVOM\")>"
            ]
          },
          "metadata": {
            "tags": []
          }
        }
      ]
    },
    {
      "cell_type": "code",
      "metadata": {
        "id": "PCMtqJIFSFfH",
        "colab": {
          "base_uri": "https://localhost:8080/",
          "height": 1000
        },
        "outputId": "005af728-db37-4182-bfd0-124804b32415"
      },
      "source": [
        "# 2 - Derive specified arcService from root MapServer Object\r\n",
        "gisService = gisServer.getSubService()"
      ],
      "execution_count": 35,
      "outputs": [
        {
          "output_type": "display_data",
          "data": {
            "application/vnd.google.colaboratory.intrinsic+json": {
              "type": "string"
            },
            "text/plain": [
              "'0 - Service Name: 1821_1807_Ceded_Reservations_and_Villages -  Service Type: FeatureServer'"
            ]
          },
          "metadata": {
            "tags": []
          }
        },
        {
          "output_type": "display_data",
          "data": {
            "application/vnd.google.colaboratory.intrinsic+json": {
              "type": "string"
            },
            "text/plain": [
              "'1 - Service Name: 30_Minutes_Drivetime -  Service Type: FeatureServer'"
            ]
          },
          "metadata": {
            "tags": []
          }
        },
        {
          "output_type": "display_data",
          "data": {
            "application/vnd.google.colaboratory.intrinsic+json": {
              "type": "string"
            },
            "text/plain": [
              "'2 - Service Name: AirData3_geojson -  Service Type: FeatureServer'"
            ]
          },
          "metadata": {
            "tags": []
          }
        },
        {
          "output_type": "display_data",
          "data": {
            "application/vnd.google.colaboratory.intrinsic+json": {
              "type": "string"
            },
            "text/plain": [
              "'3 - Service Name: AirData4_geojson -  Service Type: FeatureServer'"
            ]
          },
          "metadata": {
            "tags": []
          }
        },
        {
          "output_type": "display_data",
          "data": {
            "application/vnd.google.colaboratory.intrinsic+json": {
              "type": "string"
            },
            "text/plain": [
              "'4 - Service Name: AirData40_geojson -  Service Type: FeatureServer'"
            ]
          },
          "metadata": {
            "tags": []
          }
        },
        {
          "output_type": "display_data",
          "data": {
            "application/vnd.google.colaboratory.intrinsic+json": {
              "type": "string"
            },
            "text/plain": [
              "'5 - Service Name: AirGeoData -  Service Type: FeatureServer'"
            ]
          },
          "metadata": {
            "tags": []
          }
        },
        {
          "output_type": "display_data",
          "data": {
            "application/vnd.google.colaboratory.intrinsic+json": {
              "type": "string"
            },
            "text/plain": [
              "'6 - Service Name: AirGeoData9_geojson -  Service Type: FeatureServer'"
            ]
          },
          "metadata": {
            "tags": []
          }
        },
        {
          "output_type": "display_data",
          "data": {
            "application/vnd.google.colaboratory.intrinsic+json": {
              "type": "string"
            },
            "text/plain": [
              "'7 - Service Name: ALL_LANDS_OCT_2017 -  Service Type: FeatureServer'"
            ]
          },
          "metadata": {
            "tags": []
          }
        },
        {
          "output_type": "display_data",
          "data": {
            "application/vnd.google.colaboratory.intrinsic+json": {
              "type": "string"
            },
            "text/plain": [
              "'8 - Service Name: BALL_STATE_CEDED_LANDS2 -  Service Type: FeatureServer'"
            ]
          },
          "metadata": {
            "tags": []
          }
        },
        {
          "output_type": "display_data",
          "data": {
            "application/vnd.google.colaboratory.intrinsic+json": {
              "type": "string"
            },
            "text/plain": [
              "'9 - Service Name: Bradley_Property_2018 -  Service Type: FeatureServer'"
            ]
          },
          "metadata": {
            "tags": []
          }
        },
        {
          "output_type": "display_data",
          "data": {
            "application/vnd.google.colaboratory.intrinsic+json": {
              "type": "string"
            },
            "text/plain": [
              "'10 - Service Name: Buffer of NHBP Lands -  Service Type: FeatureServer'"
            ]
          },
          "metadata": {
            "tags": []
          }
        },
        {
          "output_type": "display_data",
          "data": {
            "application/vnd.google.colaboratory.intrinsic+json": {
              "type": "string"
            },
            "text/plain": [
              "'11 - Service Name: Buffer_of_Housing -  Service Type: FeatureServer'"
            ]
          },
          "metadata": {
            "tags": []
          }
        },
        {
          "output_type": "display_data",
          "data": {
            "application/vnd.google.colaboratory.intrinsic+json": {
              "type": "string"
            },
            "text/plain": [
              "'12 - Service Name: Buffer_of_Housing_(Points) -  Service Type: FeatureServer'"
            ]
          },
          "metadata": {
            "tags": []
          }
        },
        {
          "output_type": "display_data",
          "data": {
            "application/vnd.google.colaboratory.intrinsic+json": {
              "type": "string"
            },
            "text/plain": [
              "'13 - Service Name: BUILDINGS -  Service Type: FeatureServer'"
            ]
          },
          "metadata": {
            "tags": []
          }
        },
        {
          "output_type": "display_data",
          "data": {
            "application/vnd.google.colaboratory.intrinsic+json": {
              "type": "string"
            },
            "text/plain": [
              "'14 - Service Name: Calhoun_Line_6B_Data -  Service Type: FeatureServer'"
            ]
          },
          "metadata": {
            "tags": []
          }
        },
        {
          "output_type": "display_data",
          "data": {
            "application/vnd.google.colaboratory.intrinsic+json": {
              "type": "string"
            },
            "text/plain": [
              "'15 - Service Name: CEDED_UPLOADS -  Service Type: FeatureServer'"
            ]
          },
          "metadata": {
            "tags": []
          }
        },
        {
          "output_type": "display_data",
          "data": {
            "application/vnd.google.colaboratory.intrinsic+json": {
              "type": "string"
            },
            "text/plain": [
              "'16 - Service Name: CHSDA_PFAS_SITES -  Service Type: FeatureServer'"
            ]
          },
          "metadata": {
            "tags": []
          }
        },
        {
          "output_type": "display_data",
          "data": {
            "application/vnd.google.colaboratory.intrinsic+json": {
              "type": "string"
            },
            "text/plain": [
              "'17 - Service Name: DO_LIVE_STATUS -  Service Type: FeatureServer'"
            ]
          },
          "metadata": {
            "tags": []
          }
        },
        {
          "output_type": "display_data",
          "data": {
            "application/vnd.google.colaboratory.intrinsic+json": {
              "type": "string"
            },
            "text/plain": [
              "'18 - Service Name: ENVbuildingDrawings -  Service Type: FeatureServer'"
            ]
          },
          "metadata": {
            "tags": []
          }
        },
        {
          "output_type": "display_data",
          "data": {
            "application/vnd.google.colaboratory.intrinsic+json": {
              "type": "string"
            },
            "text/plain": [
              "'19 - Service Name: FKCH_Drive_Time_(30_Minutes) -  Service Type: FeatureServer'"
            ]
          },
          "metadata": {
            "tags": []
          }
        },
        {
          "output_type": "display_data",
          "data": {
            "application/vnd.google.colaboratory.intrinsic+json": {
              "type": "string"
            },
            "text/plain": [
              "'20 - Service Name: HUNTING_2017 -  Service Type: FeatureServer'"
            ]
          },
          "metadata": {
            "tags": []
          }
        },
        {
          "output_type": "display_data",
          "data": {
            "application/vnd.google.colaboratory.intrinsic+json": {
              "type": "string"
            },
            "text/plain": [
              "'21 - Service Name: Join_Features_to_WATER_DATA_2019 -  Service Type: FeatureServer'"
            ]
          },
          "metadata": {
            "tags": []
          }
        },
        {
          "output_type": "display_data",
          "data": {
            "application/vnd.google.colaboratory.intrinsic+json": {
              "type": "string"
            },
            "text/plain": [
              "'22 - Service Name: Join_Features_to_WATER_DATA_2019_2 -  Service Type: FeatureServer'"
            ]
          },
          "metadata": {
            "tags": []
          }
        },
        {
          "output_type": "display_data",
          "data": {
            "application/vnd.google.colaboratory.intrinsic+json": {
              "type": "string"
            },
            "text/plain": [
              "'23 - Service Name: Join_Many_Sep_25_WATER_DATA_2019 -  Service Type: FeatureServer'"
            ]
          },
          "metadata": {
            "tags": []
          }
        },
        {
          "output_type": "display_data",
          "data": {
            "application/vnd.google.colaboratory.intrinsic+json": {
              "type": "string"
            },
            "text/plain": [
              "'24 - Service Name: JOIN_WATER_DATA_POLY_2019 -  Service Type: FeatureServer'"
            ]
          },
          "metadata": {
            "tags": []
          }
        },
        {
          "output_type": "display_data",
          "data": {
            "application/vnd.google.colaboratory.intrinsic+json": {
              "type": "string"
            },
            "text/plain": [
              "'25 - Service Name: LNL_MAP_UPLOAD_2 -  Service Type: FeatureServer'"
            ]
          },
          "metadata": {
            "tags": []
          }
        },
        {
          "output_type": "display_data",
          "data": {
            "application/vnd.google.colaboratory.intrinsic+json": {
              "type": "string"
            },
            "text/plain": [
              "'26 - Service Name: Memorial_Park_Survey -  Service Type: FeatureServer'"
            ]
          },
          "metadata": {
            "tags": []
          }
        },
        {
          "output_type": "display_data",
          "data": {
            "application/vnd.google.colaboratory.intrinsic+json": {
              "type": "string"
            },
            "text/plain": [
              "'27 - Service Name: Merge_MNOMEN_ROAM_UPDATED_MNOMEN_ROAM -  Service Type: FeatureServer'"
            ]
          },
          "metadata": {
            "tags": []
          }
        },
        {
          "output_type": "display_data",
          "data": {
            "application/vnd.google.colaboratory.intrinsic+json": {
              "type": "string"
            },
            "text/plain": [
              "'28 - Service Name: MI_LANDS -  Service Type: FeatureServer'"
            ]
          },
          "metadata": {
            "tags": []
          }
        },
        {
          "output_type": "display_data",
          "data": {
            "application/vnd.google.colaboratory.intrinsic+json": {
              "type": "string"
            },
            "text/plain": [
              "'29 - Service Name: MNOMEN_MERGE_9_16_2019 -  Service Type: FeatureServer'"
            ]
          },
          "metadata": {
            "tags": []
          }
        },
        {
          "output_type": "display_data",
          "data": {
            "application/vnd.google.colaboratory.intrinsic+json": {
              "type": "string"
            },
            "text/plain": [
              "'30 - Service Name: MNOMEN_MERGE_9_30_2019 -  Service Type: FeatureServer'"
            ]
          },
          "metadata": {
            "tags": []
          }
        },
        {
          "output_type": "display_data",
          "data": {
            "application/vnd.google.colaboratory.intrinsic+json": {
              "type": "string"
            },
            "text/plain": [
              "'31 - Service Name: MNOMEN_MERGE_9_30_2019_e036b26b0abc4b8fa521cbfcf4c0e38c -  Service Type: FeatureServer'"
            ]
          },
          "metadata": {
            "tags": []
          }
        },
        {
          "output_type": "display_data",
          "data": {
            "application/vnd.google.colaboratory.intrinsic+json": {
              "type": "string"
            },
            "text/plain": [
              "'32 - Service Name: MNOMEN_UP_AUG_17 -  Service Type: FeatureServer'"
            ]
          },
          "metadata": {
            "tags": []
          }
        },
        {
          "output_type": "display_data",
          "data": {
            "application/vnd.google.colaboratory.intrinsic+json": {
              "type": "string"
            },
            "text/plain": [
              "'33 - Service Name: NAGPRA_2018 -  Service Type: FeatureServer'"
            ]
          },
          "metadata": {
            "tags": []
          }
        },
        {
          "output_type": "display_data",
          "data": {
            "application/vnd.google.colaboratory.intrinsic+json": {
              "type": "string"
            },
            "text/plain": [
              "'34 - Service Name: NewData_geojson -  Service Type: FeatureServer'"
            ]
          },
          "metadata": {
            "tags": []
          }
        },
        {
          "output_type": "display_data",
          "data": {
            "application/vnd.google.colaboratory.intrinsic+json": {
              "type": "string"
            },
            "text/plain": [
              "'35 - Service Name: NHBP_LAND_SEP_2017 -  Service Type: FeatureServer'"
            ]
          },
          "metadata": {
            "tags": []
          }
        },
        {
          "output_type": "display_data",
          "data": {
            "application/vnd.google.colaboratory.intrinsic+json": {
              "type": "string"
            },
            "text/plain": [
              "'36 - Service Name: NHBP_LANDS_2019 -  Service Type: FeatureServer'"
            ]
          },
          "metadata": {
            "tags": []
          }
        },
        {
          "output_type": "display_data",
          "data": {
            "application/vnd.google.colaboratory.intrinsic+json": {
              "type": "string"
            },
            "text/plain": [
              "'37 - Service Name: NHBP_LANDS_2019_8bc9524082144fb489f7f79490f9592a -  Service Type: FeatureServer'"
            ]
          },
          "metadata": {
            "tags": []
          }
        },
        {
          "output_type": "display_data",
          "data": {
            "application/vnd.google.colaboratory.intrinsic+json": {
              "type": "string"
            },
            "text/plain": [
              "'38 - Service Name: NHBP_LANDS_DATA_JOIN -  Service Type: FeatureServer'"
            ]
          },
          "metadata": {
            "tags": []
          }
        },
        {
          "output_type": "display_data",
          "data": {
            "application/vnd.google.colaboratory.intrinsic+json": {
              "type": "string"
            },
            "text/plain": [
              "'39 - Service Name: NHBP_LANDS_SUP_DATA -  Service Type: FeatureServer'"
            ]
          },
          "metadata": {
            "tags": []
          }
        },
        {
          "output_type": "display_data",
          "data": {
            "application/vnd.google.colaboratory.intrinsic+json": {
              "type": "string"
            },
            "text/plain": [
              "'40 - Service Name: NHBP_Water_Monitoring_2015 -  Service Type: FeatureServer'"
            ]
          },
          "metadata": {
            "tags": []
          }
        },
        {
          "output_type": "display_data",
          "data": {
            "application/vnd.google.colaboratory.intrinsic+json": {
              "type": "string"
            },
            "text/plain": [
              "'41 - Service Name: NHBP_WATERMAP_DATA_3_21_2017 -  Service Type: FeatureServer'"
            ]
          },
          "metadata": {
            "tags": []
          }
        },
        {
          "output_type": "display_data",
          "data": {
            "application/vnd.google.colaboratory.intrinsic+json": {
              "type": "string"
            },
            "text/plain": [
              "'42 - Service Name: PA_STATIONS_FINAL -  Service Type: FeatureServer'"
            ]
          },
          "metadata": {
            "tags": []
          }
        },
        {
          "output_type": "display_data",
          "data": {
            "application/vnd.google.colaboratory.intrinsic+json": {
              "type": "string"
            },
            "text/plain": [
              "'43 - Service Name: PARCELS_UPLOAD -  Service Type: FeatureServer'"
            ]
          },
          "metadata": {
            "tags": []
          }
        },
        {
          "output_type": "display_data",
          "data": {
            "application/vnd.google.colaboratory.intrinsic+json": {
              "type": "string"
            },
            "text/plain": [
              "'44 - Service Name: PIPELINES_MAP_207 -  Service Type: FeatureServer'"
            ]
          },
          "metadata": {
            "tags": []
          }
        },
        {
          "output_type": "display_data",
          "data": {
            "application/vnd.google.colaboratory.intrinsic+json": {
              "type": "string"
            },
            "text/plain": [
              "'45 - Service Name: PIPELINES_WATER -  Service Type: FeatureServer'"
            ]
          },
          "metadata": {
            "tags": []
          }
        },
        {
          "output_type": "display_data",
          "data": {
            "application/vnd.google.colaboratory.intrinsic+json": {
              "type": "string"
            },
            "text/plain": [
              "'46 - Service Name: Public_Lands_Ceded -  Service Type: FeatureServer'"
            ]
          },
          "metadata": {
            "tags": []
          }
        },
        {
          "output_type": "display_data",
          "data": {
            "application/vnd.google.colaboratory.intrinsic+json": {
              "type": "string"
            },
            "text/plain": [
              "'47 - Service Name: Q_Drive_Restoration -  Service Type: FeatureServer'"
            ]
          },
          "metadata": {
            "tags": []
          }
        },
        {
          "output_type": "display_data",
          "data": {
            "application/vnd.google.colaboratory.intrinsic+json": {
              "type": "string"
            },
            "text/plain": [
              "'48 - Service Name: QuakeTest_geojson -  Service Type: FeatureServer'"
            ]
          },
          "metadata": {
            "tags": []
          }
        },
        {
          "output_type": "display_data",
          "data": {
            "application/vnd.google.colaboratory.intrinsic+json": {
              "type": "string"
            },
            "text/plain": [
              "'49 - Service Name: RIVER_TOUR_PTS -  Service Type: FeatureServer'"
            ]
          },
          "metadata": {
            "tags": []
          }
        },
        {
          "output_type": "display_data",
          "data": {
            "application/vnd.google.colaboratory.intrinsic+json": {
              "type": "string"
            },
            "text/plain": [
              "'50 - Service Name: ROYCE2 -  Service Type: FeatureServer'"
            ]
          },
          "metadata": {
            "tags": []
          }
        },
        {
          "output_type": "display_data",
          "data": {
            "application/vnd.google.colaboratory.intrinsic+json": {
              "type": "string"
            },
            "text/plain": [
              "'51 - Service Name: SAMPLE_DESIGN -  Service Type: FeatureServer'"
            ]
          },
          "metadata": {
            "tags": []
          }
        },
        {
          "output_type": "display_data",
          "data": {
            "application/vnd.google.colaboratory.intrinsic+json": {
              "type": "string"
            },
            "text/plain": [
              "'52 - Service Name: SAMPLE_DESIGN_b43416d6a3e742b0ace9d11dfd94c099 -  Service Type: FeatureServer'"
            ]
          },
          "metadata": {
            "tags": []
          }
        },
        {
          "output_type": "display_data",
          "data": {
            "application/vnd.google.colaboratory.intrinsic+json": {
              "type": "string"
            },
            "text/plain": [
              "'53 - Service Name: SANITARY_UTILITY -  Service Type: FeatureServer'"
            ]
          },
          "metadata": {
            "tags": []
          }
        },
        {
          "output_type": "display_data",
          "data": {
            "application/vnd.google.colaboratory.intrinsic+json": {
              "type": "string"
            },
            "text/plain": [
              "'54 - Service Name: Sensitive_Areas_2016 -  Service Type: FeatureServer'"
            ]
          },
          "metadata": {
            "tags": []
          }
        },
        {
          "output_type": "display_data",
          "data": {
            "application/vnd.google.colaboratory.intrinsic+json": {
              "type": "string"
            },
            "text/plain": [
              "'55 - Service Name: service_0b5cd5106ef041b1afc2bf631474bdf7 -  Service Type: FeatureServer'"
            ]
          },
          "metadata": {
            "tags": []
          }
        },
        {
          "output_type": "display_data",
          "data": {
            "application/vnd.google.colaboratory.intrinsic+json": {
              "type": "string"
            },
            "text/plain": [
              "'56 - Service Name: service_3179d7d1ed26461385e57df6a1a2fdc2 -  Service Type: FeatureServer'"
            ]
          },
          "metadata": {
            "tags": []
          }
        },
        {
          "output_type": "display_data",
          "data": {
            "application/vnd.google.colaboratory.intrinsic+json": {
              "type": "string"
            },
            "text/plain": [
              "'57 - Service Name: service_415b892545b34afc8a8186a76d5af213 -  Service Type: FeatureServer'"
            ]
          },
          "metadata": {
            "tags": []
          }
        },
        {
          "output_type": "display_data",
          "data": {
            "application/vnd.google.colaboratory.intrinsic+json": {
              "type": "string"
            },
            "text/plain": [
              "'58 - Service Name: service_482dfe5c83134eca9bec55293204e922 -  Service Type: FeatureServer'"
            ]
          },
          "metadata": {
            "tags": []
          }
        },
        {
          "output_type": "display_data",
          "data": {
            "application/vnd.google.colaboratory.intrinsic+json": {
              "type": "string"
            },
            "text/plain": [
              "'59 - Service Name: service_b7d113b4bbf64672b3f343561582e5f5 -  Service Type: FeatureServer'"
            ]
          },
          "metadata": {
            "tags": []
          }
        },
        {
          "output_type": "display_data",
          "data": {
            "application/vnd.google.colaboratory.intrinsic+json": {
              "type": "string"
            },
            "text/plain": [
              "'60 - Service Name: service_c68ac07184884b51ab658a7a27c5f9c3 -  Service Type: FeatureServer'"
            ]
          },
          "metadata": {
            "tags": []
          }
        },
        {
          "output_type": "display_data",
          "data": {
            "application/vnd.google.colaboratory.intrinsic+json": {
              "type": "string"
            },
            "text/plain": [
              "'61 - Service Name: service_de936a70157c423b8e75dd2740ec0228 -  Service Type: FeatureServer'"
            ]
          },
          "metadata": {
            "tags": []
          }
        },
        {
          "output_type": "display_data",
          "data": {
            "application/vnd.google.colaboratory.intrinsic+json": {
              "type": "string"
            },
            "text/plain": [
              "'62 - Service Name: ST_JOE_SUB_SHEDS -  Service Type: FeatureServer'"
            ]
          },
          "metadata": {
            "tags": []
          }
        },
        {
          "output_type": "display_data",
          "data": {
            "application/vnd.google.colaboratory.intrinsic+json": {
              "type": "string"
            },
            "text/plain": [
              "'63 - Service Name: STATION_CONDITIONS -  Service Type: FeatureServer'"
            ]
          },
          "metadata": {
            "tags": []
          }
        },
        {
          "output_type": "display_data",
          "data": {
            "application/vnd.google.colaboratory.intrinsic+json": {
              "type": "string"
            },
            "text/plain": [
              "'64 - Service Name: STORM_SEWER_AGOL -  Service Type: FeatureServer'"
            ]
          },
          "metadata": {
            "tags": []
          }
        },
        {
          "output_type": "display_data",
          "data": {
            "application/vnd.google.colaboratory.intrinsic+json": {
              "type": "string"
            },
            "text/plain": [
              "'65 - Service Name: STREAM_SURVEY -  Service Type: FeatureServer'"
            ]
          },
          "metadata": {
            "tags": []
          }
        },
        {
          "output_type": "display_data",
          "data": {
            "application/vnd.google.colaboratory.intrinsic+json": {
              "type": "string"
            },
            "text/plain": [
              "'66 - Service Name: SURVEY_FEATURES -  Service Type: FeatureServer'"
            ]
          },
          "metadata": {
            "tags": []
          }
        },
        {
          "output_type": "display_data",
          "data": {
            "application/vnd.google.colaboratory.intrinsic+json": {
              "type": "string"
            },
            "text/plain": [
              "'67 - Service Name: survey123_9b4b04d466684189b9395e52ba323b68 -  Service Type: FeatureServer'"
            ]
          },
          "metadata": {
            "tags": []
          }
        },
        {
          "output_type": "display_data",
          "data": {
            "application/vnd.google.colaboratory.intrinsic+json": {
              "type": "string"
            },
            "text/plain": [
              "'68 - Service Name: survey123_9b4b04d466684189b9395e52ba323b68_fieldworker -  Service Type: FeatureServer'"
            ]
          },
          "metadata": {
            "tags": []
          }
        },
        {
          "output_type": "display_data",
          "data": {
            "application/vnd.google.colaboratory.intrinsic+json": {
              "type": "string"
            },
            "text/plain": [
              "'69 - Service Name: survey123_9b4b04d466684189b9395e52ba323b68_stakeholder -  Service Type: FeatureServer'"
            ]
          },
          "metadata": {
            "tags": []
          }
        },
        {
          "output_type": "display_data",
          "data": {
            "application/vnd.google.colaboratory.intrinsic+json": {
              "type": "string"
            },
            "text/plain": [
              "'70 - Service Name: TAX_MAP_2019 -  Service Type: FeatureServer'"
            ]
          },
          "metadata": {
            "tags": []
          }
        },
        {
          "output_type": "display_data",
          "data": {
            "application/vnd.google.colaboratory.intrinsic+json": {
              "type": "string"
            },
            "text/plain": [
              "'71 - Service Name: Travel_from_311_(Points)_(3_Minutes) -  Service Type: FeatureServer'"
            ]
          },
          "metadata": {
            "tags": []
          }
        },
        {
          "output_type": "display_data",
          "data": {
            "application/vnd.google.colaboratory.intrinsic+json": {
              "type": "string"
            },
            "text/plain": [
              "'72 - Service Name: Travel_from_311_(Points)_(4_Minutes) -  Service Type: FeatureServer'"
            ]
          },
          "metadata": {
            "tags": []
          }
        },
        {
          "output_type": "display_data",
          "data": {
            "application/vnd.google.colaboratory.intrinsic+json": {
              "type": "string"
            },
            "text/plain": [
              "'73 - Service Name: Travel_from_311_(Points)_(5_Minutes) -  Service Type: FeatureServer'"
            ]
          },
          "metadata": {
            "tags": []
          }
        },
        {
          "output_type": "display_data",
          "data": {
            "application/vnd.google.colaboratory.intrinsic+json": {
              "type": "string"
            },
            "text/plain": [
              "'74 - Service Name: Travel_from_Grand_Haven_(20_Minutes) -  Service Type: FeatureServer'"
            ]
          },
          "metadata": {
            "tags": []
          }
        },
        {
          "output_type": "display_data",
          "data": {
            "application/vnd.google.colaboratory.intrinsic+json": {
              "type": "string"
            },
            "text/plain": [
              "'75 - Service Name: Travel_from_Grand_Haven_(20_Minutes_peak_driving_time) -  Service Type: FeatureServer'"
            ]
          },
          "metadata": {
            "tags": []
          }
        },
        {
          "output_type": "display_data",
          "data": {
            "application/vnd.google.colaboratory.intrinsic+json": {
              "type": "string"
            },
            "text/plain": [
              "'76 - Service Name: Travel_from_Grand_Rapids_(30_Minutes) -  Service Type: FeatureServer'"
            ]
          },
          "metadata": {
            "tags": []
          }
        },
        {
          "output_type": "display_data",
          "data": {
            "application/vnd.google.colaboratory.intrinsic+json": {
              "type": "string"
            },
            "text/plain": [
              "'77 - Service Name: Travel_from_Grand_Rapids_(30_Minutes_peak_driving_time) -  Service Type: FeatureServer'"
            ]
          },
          "metadata": {
            "tags": []
          }
        },
        {
          "output_type": "display_data",
          "data": {
            "application/vnd.google.colaboratory.intrinsic+json": {
              "type": "string"
            },
            "text/plain": [
              "'78 - Service Name: Travel_from_Grand_Rapids_(40_Minutes) -  Service Type: FeatureServer'"
            ]
          },
          "metadata": {
            "tags": []
          }
        },
        {
          "output_type": "display_data",
          "data": {
            "application/vnd.google.colaboratory.intrinsic+json": {
              "type": "string"
            },
            "text/plain": [
              "'79 - Service Name: Travel_from_Map_Notes_(Points)_(30_Minutes) -  Service Type: FeatureServer'"
            ]
          },
          "metadata": {
            "tags": []
          }
        },
        {
          "output_type": "display_data",
          "data": {
            "application/vnd.google.colaboratory.intrinsic+json": {
              "type": "string"
            },
            "text/plain": [
              "'80 - Service Name: Travel_from_Pine_Creek_(Points)_(30_Minutes) -  Service Type: FeatureServer'"
            ]
          },
          "metadata": {
            "tags": []
          }
        },
        {
          "output_type": "display_data",
          "data": {
            "application/vnd.google.colaboratory.intrinsic+json": {
              "type": "string"
            },
            "text/plain": [
              "'81 - Service Name: TWW_Field_Day -  Service Type: FeatureServer'"
            ]
          },
          "metadata": {
            "tags": []
          }
        },
        {
          "output_type": "display_data",
          "data": {
            "application/vnd.google.colaboratory.intrinsic+json": {
              "type": "string"
            },
            "text/plain": [
              "'82 - Service Name: WATER_CONDITIONS -  Service Type: FeatureServer'"
            ]
          },
          "metadata": {
            "tags": []
          }
        },
        {
          "output_type": "display_data",
          "data": {
            "application/vnd.google.colaboratory.intrinsic+json": {
              "type": "string"
            },
            "text/plain": [
              "'83 - Service Name: WATER_DATA_2019 -  Service Type: FeatureServer'"
            ]
          },
          "metadata": {
            "tags": []
          }
        },
        {
          "output_type": "display_data",
          "data": {
            "application/vnd.google.colaboratory.intrinsic+json": {
              "type": "string"
            },
            "text/plain": [
              "'84 - Service Name: WATER_DATA_2019_CLEANED -  Service Type: FeatureServer'"
            ]
          },
          "metadata": {
            "tags": []
          }
        },
        {
          "output_type": "display_data",
          "data": {
            "application/vnd.google.colaboratory.intrinsic+json": {
              "type": "string"
            },
            "text/plain": [
              "'85 - Service Name: WATER_DO_STATUS -  Service Type: FeatureServer'"
            ]
          },
          "metadata": {
            "tags": []
          }
        },
        {
          "output_type": "display_data",
          "data": {
            "application/vnd.google.colaboratory.intrinsic+json": {
              "type": "string"
            },
            "text/plain": [
              "'86 - Service Name: WATER_SAMPLING_2020 -  Service Type: FeatureServer'"
            ]
          },
          "metadata": {
            "tags": []
          }
        },
        {
          "output_type": "display_data",
          "data": {
            "application/vnd.google.colaboratory.intrinsic+json": {
              "type": "string"
            },
            "text/plain": [
              "'87 - Service Name: WATER_SAMPLING_2020_bd8d21a0e978441e8ba98aa691807adf -  Service Type: FeatureServer'"
            ]
          },
          "metadata": {
            "tags": []
          }
        },
        {
          "output_type": "display_data",
          "data": {
            "application/vnd.google.colaboratory.intrinsic+json": {
              "type": "string"
            },
            "text/plain": [
              "'88 - Service Name: WATER_SUPPLY_UTILITY -  Service Type: FeatureServer'"
            ]
          },
          "metadata": {
            "tags": []
          }
        },
        {
          "output_type": "display_data",
          "data": {
            "application/vnd.google.colaboratory.intrinsic+json": {
              "type": "string"
            },
            "text/plain": [
              "'89 - Service Name: Weather_Stations -  Service Type: FeatureServer'"
            ]
          },
          "metadata": {
            "tags": []
          }
        },
        {
          "output_type": "display_data",
          "data": {
            "application/vnd.google.colaboratory.intrinsic+json": {
              "type": "string"
            },
            "text/plain": [
              "'90 - Service Name: WQ_HYDRO_SEP2019 -  Service Type: FeatureServer'"
            ]
          },
          "metadata": {
            "tags": []
          }
        },
        {
          "output_type": "display_data",
          "data": {
            "application/vnd.google.colaboratory.intrinsic+json": {
              "type": "string"
            },
            "text/plain": [
              "'91 - Service Name: WQAR_UP_2018 -  Service Type: FeatureServer'"
            ]
          },
          "metadata": {
            "tags": []
          }
        },
        {
          "output_type": "display_data",
          "data": {
            "application/vnd.google.colaboratory.intrinsic+json": {
              "type": "string"
            },
            "text/plain": [
              "'92 - Service Name: WQFieldMap2017 -  Service Type: FeatureServer'"
            ]
          },
          "metadata": {
            "tags": []
          }
        },
        {
          "output_type": "display_data",
          "data": {
            "application/vnd.google.colaboratory.intrinsic+json": {
              "type": "string"
            },
            "text/plain": [
              "'93 - Service Name: ZOOM_EXTENTS -  Service Type: FeatureServer'"
            ]
          },
          "metadata": {
            "tags": []
          }
        },
        {
          "output_type": "display_data",
          "data": {
            "application/vnd.google.colaboratory.intrinsic+json": {
              "type": "string"
            },
            "text/plain": [
              "'94 - Service Name: ZOOM_EXTENTS_b4bf24c677cf4f358a2b44591be3ff61 -  Service Type: FeatureServer'"
            ]
          },
          "metadata": {
            "tags": []
          }
        },
        {
          "output_type": "display_data",
          "data": {
            "application/vnd.google.colaboratory.intrinsic+json": {
              "type": "string"
            },
            "text/plain": [
              "'https://services5.arcgis.com/RsKCQCx9eUKixVOM/arcgis/rest/services -  '"
            ]
          },
          "metadata": {
            "tags": []
          }
        },
        {
          "output_type": "stream",
          "text": [
            "Select index of subservice: 86\n"
          ],
          "name": "stdout"
        },
        {
          "output_type": "display_data",
          "data": {
            "application/vnd.google.colaboratory.intrinsic+json": {
              "type": "string"
            },
            "text/plain": [
              "'ARCSERVICE OBJECT CREATED - https://services5.arcgis.com/RsKCQCx9eUKixVOM/arcgis/rest/services/WATER_SAMPLING_2020/FeatureServer'"
            ]
          },
          "metadata": {
            "tags": []
          }
        }
      ]
    },
    {
      "cell_type": "code",
      "metadata": {
        "colab": {
          "base_uri": "https://localhost:8080/",
          "height": 71
        },
        "id": "jLEawJX08nq8",
        "outputId": "4cc2f7a1-e958-4e31-c55f-ab327b758e4d"
      },
      "source": [
        "# 3 - Generate layer from specific specified arcService Endpoint\n",
        "gisLayer = gisService.getLayer()\n",
        "#gisLayer.getInfo()"
      ],
      "execution_count": 37,
      "outputs": [
        {
          "output_type": "display_data",
          "data": {
            "application/vnd.google.colaboratory.intrinsic+json": {
              "type": "string"
            },
            "text/plain": [
              "'0 - WATER_STATIONS_2020'"
            ]
          },
          "metadata": {
            "tags": []
          }
        },
        {
          "output_type": "stream",
          "text": [
            "Select index of Layer: 0\n"
          ],
          "name": "stdout"
        },
        {
          "output_type": "display_data",
          "data": {
            "application/vnd.google.colaboratory.intrinsic+json": {
              "type": "string"
            },
            "text/plain": [
              "'LAYER CREATED - WATER_STATIONS_2020 - id: 0 - url: https://services5.arcgis.com/RsKCQCx9eUKixVOM/arcgis/rest/services/WATER_SAMPLING_2020/FeatureServer/0'"
            ]
          },
          "metadata": {
            "tags": []
          }
        }
      ]
    },
    {
      "cell_type": "code",
      "metadata": {
        "id": "bxodky_lmqcI",
        "colab": {
          "base_uri": "https://localhost:8080/",
          "height": 515
        },
        "outputId": "6ee018cf-ad4f-416a-dcd1-3b39904ea452"
      },
      "source": [
        "# 4 - Return geoDataframe from layer query\r\n",
        "gdf = gisLayer.layerQuery()\r\n",
        "gdf.head()"
      ],
      "execution_count": 57,
      "outputs": [
        {
          "output_type": "stream",
          "text": [
            "SQL query(ENTER for ALL): \n",
            "Fields(ENTER for ALL)? \n"
          ],
          "name": "stdout"
        },
        {
          "output_type": "execute_result",
          "data": {
            "text/html": [
              "<div>\n",
              "<style scoped>\n",
              "    .dataframe tbody tr th:only-of-type {\n",
              "        vertical-align: middle;\n",
              "    }\n",
              "\n",
              "    .dataframe tbody tr th {\n",
              "        vertical-align: top;\n",
              "    }\n",
              "\n",
              "    .dataframe thead th {\n",
              "        text-align: right;\n",
              "    }\n",
              "</style>\n",
              "<table border=\"1\" class=\"dataframe\">\n",
              "  <thead>\n",
              "    <tr style=\"text-align: right;\">\n",
              "      <th></th>\n",
              "      <th>OBJECTID</th>\n",
              "      <th>DATE_TIME</th>\n",
              "      <th>SITE_ID</th>\n",
              "      <th>STAFF</th>\n",
              "      <th>SAMP_EQUIP</th>\n",
              "      <th>AIR_TEMP</th>\n",
              "      <th>CUR_PRECIP</th>\n",
              "      <th>PREV_48_PRECIP</th>\n",
              "      <th>WIND_SPEED</th>\n",
              "      <th>WEATHER_NOTES</th>\n",
              "      <th>WATER_TEMP</th>\n",
              "      <th>DO_mgl</th>\n",
              "      <th>SPEC_COND_uS_cm</th>\n",
              "      <th>TURB_NTU</th>\n",
              "      <th>pH</th>\n",
              "      <th>QC</th>\n",
              "      <th>DEPTH_FT</th>\n",
              "      <th>NOTES</th>\n",
              "      <th>LOCATION</th>\n",
              "      <th>LAB_SAMP_QUES</th>\n",
              "      <th>Ecoli_100ml_</th>\n",
              "      <th>TOT_PHOS_</th>\n",
              "      <th>TOT_NITRO_</th>\n",
              "      <th>LAKE_SAMP_QUES_</th>\n",
              "      <th>SECCH_DEP_FT_</th>\n",
              "      <th>CHLOROPHYLLa_ug_L_</th>\n",
              "      <th>STAT_SAMP_QUES_</th>\n",
              "      <th>ECOLI_STATUS_</th>\n",
              "      <th>DO_STATUS_</th>\n",
              "      <th>TEMP_STATUS_</th>\n",
              "      <th>TURB_STATUS_</th>\n",
              "      <th>GlobalID</th>\n",
              "      <th>geometry</th>\n",
              "    </tr>\n",
              "  </thead>\n",
              "  <tbody>\n",
              "    <tr>\n",
              "      <th>0</th>\n",
              "      <td>58</td>\n",
              "      <td>None</td>\n",
              "      <td>PNC-ST-40</td>\n",
              "      <td>None</td>\n",
              "      <td>None</td>\n",
              "      <td>None</td>\n",
              "      <td>None</td>\n",
              "      <td>None</td>\n",
              "      <td>None</td>\n",
              "      <td>None</td>\n",
              "      <td>None</td>\n",
              "      <td>None</td>\n",
              "      <td>None</td>\n",
              "      <td>None</td>\n",
              "      <td>None</td>\n",
              "      <td>None</td>\n",
              "      <td>None</td>\n",
              "      <td>None</td>\n",
              "      <td>None</td>\n",
              "      <td>None</td>\n",
              "      <td>None</td>\n",
              "      <td>None</td>\n",
              "      <td>None</td>\n",
              "      <td>None</td>\n",
              "      <td>None</td>\n",
              "      <td>None</td>\n",
              "      <td>None</td>\n",
              "      <td>None</td>\n",
              "      <td>1</td>\n",
              "      <td>None</td>\n",
              "      <td>None</td>\n",
              "      <td>4ec6fc50-c66d-4729-81b9-7363b81336c0</td>\n",
              "      <td>POINT (-85.25263 42.11062)</td>\n",
              "    </tr>\n",
              "    <tr>\n",
              "      <th>1</th>\n",
              "      <td>59</td>\n",
              "      <td>None</td>\n",
              "      <td>PNC-ST-60</td>\n",
              "      <td>None</td>\n",
              "      <td>None</td>\n",
              "      <td>None</td>\n",
              "      <td>None</td>\n",
              "      <td>None</td>\n",
              "      <td>None</td>\n",
              "      <td>None</td>\n",
              "      <td>None</td>\n",
              "      <td>None</td>\n",
              "      <td>None</td>\n",
              "      <td>None</td>\n",
              "      <td>None</td>\n",
              "      <td>None</td>\n",
              "      <td>None</td>\n",
              "      <td>None</td>\n",
              "      <td>None</td>\n",
              "      <td>None</td>\n",
              "      <td>None</td>\n",
              "      <td>None</td>\n",
              "      <td>None</td>\n",
              "      <td>None</td>\n",
              "      <td>None</td>\n",
              "      <td>None</td>\n",
              "      <td>None</td>\n",
              "      <td>None</td>\n",
              "      <td>1</td>\n",
              "      <td>None</td>\n",
              "      <td>1</td>\n",
              "      <td>79e37551-6262-4866-a788-3b6214f5c7bd</td>\n",
              "      <td>POINT (-85.26109 42.10155)</td>\n",
              "    </tr>\n",
              "    <tr>\n",
              "      <th>2</th>\n",
              "      <td>60</td>\n",
              "      <td>None</td>\n",
              "      <td>SCD-ST-40</td>\n",
              "      <td>None</td>\n",
              "      <td>None</td>\n",
              "      <td>None</td>\n",
              "      <td>None</td>\n",
              "      <td>None</td>\n",
              "      <td>None</td>\n",
              "      <td>None</td>\n",
              "      <td>None</td>\n",
              "      <td>None</td>\n",
              "      <td>None</td>\n",
              "      <td>None</td>\n",
              "      <td>None</td>\n",
              "      <td>None</td>\n",
              "      <td>None</td>\n",
              "      <td>None</td>\n",
              "      <td>None</td>\n",
              "      <td>None</td>\n",
              "      <td>None</td>\n",
              "      <td>None</td>\n",
              "      <td>None</td>\n",
              "      <td>None</td>\n",
              "      <td>None</td>\n",
              "      <td>None</td>\n",
              "      <td>None</td>\n",
              "      <td>None</td>\n",
              "      <td>4</td>\n",
              "      <td>None</td>\n",
              "      <td>2</td>\n",
              "      <td>57d928f1-49a6-4bb7-88e2-3938afd7db4a</td>\n",
              "      <td>POINT (-85.26709 42.09875)</td>\n",
              "    </tr>\n",
              "    <tr>\n",
              "      <th>3</th>\n",
              "      <td>61</td>\n",
              "      <td>None</td>\n",
              "      <td>NOT-ST-70</td>\n",
              "      <td>None</td>\n",
              "      <td>None</td>\n",
              "      <td>None</td>\n",
              "      <td>None</td>\n",
              "      <td>None</td>\n",
              "      <td>None</td>\n",
              "      <td>None</td>\n",
              "      <td>None</td>\n",
              "      <td>None</td>\n",
              "      <td>None</td>\n",
              "      <td>None</td>\n",
              "      <td>None</td>\n",
              "      <td>None</td>\n",
              "      <td>None</td>\n",
              "      <td>None</td>\n",
              "      <td>None</td>\n",
              "      <td>None</td>\n",
              "      <td>None</td>\n",
              "      <td>None</td>\n",
              "      <td>None</td>\n",
              "      <td>None</td>\n",
              "      <td>None</td>\n",
              "      <td>None</td>\n",
              "      <td>None</td>\n",
              "      <td>None</td>\n",
              "      <td>2</td>\n",
              "      <td>None</td>\n",
              "      <td>2</td>\n",
              "      <td>7c6e1a13-cd7a-47f3-bea7-51040091eb6d</td>\n",
              "      <td>POINT (-85.26928 42.08627)</td>\n",
              "    </tr>\n",
              "    <tr>\n",
              "      <th>4</th>\n",
              "      <td>62</td>\n",
              "      <td>None</td>\n",
              "      <td>NOT-ST-110</td>\n",
              "      <td>None</td>\n",
              "      <td>None</td>\n",
              "      <td>None</td>\n",
              "      <td>None</td>\n",
              "      <td>None</td>\n",
              "      <td>None</td>\n",
              "      <td>None</td>\n",
              "      <td>None</td>\n",
              "      <td>None</td>\n",
              "      <td>None</td>\n",
              "      <td>None</td>\n",
              "      <td>None</td>\n",
              "      <td>None</td>\n",
              "      <td>None</td>\n",
              "      <td>None</td>\n",
              "      <td>None</td>\n",
              "      <td>None</td>\n",
              "      <td>None</td>\n",
              "      <td>None</td>\n",
              "      <td>None</td>\n",
              "      <td>None</td>\n",
              "      <td>None</td>\n",
              "      <td>None</td>\n",
              "      <td>None</td>\n",
              "      <td>None</td>\n",
              "      <td>1</td>\n",
              "      <td>None</td>\n",
              "      <td>1</td>\n",
              "      <td>89ccb81c-1c80-4d02-ace0-f92c3bea7b7d</td>\n",
              "      <td>POINT (-85.28732 42.07179)</td>\n",
              "    </tr>\n",
              "  </tbody>\n",
              "</table>\n",
              "</div>"
            ],
            "text/plain": [
              "   OBJECTID  ...                    geometry\n",
              "0        58  ...  POINT (-85.25263 42.11062)\n",
              "1        59  ...  POINT (-85.26109 42.10155)\n",
              "2        60  ...  POINT (-85.26709 42.09875)\n",
              "3        61  ...  POINT (-85.26928 42.08627)\n",
              "4        62  ...  POINT (-85.28732 42.07179)\n",
              "\n",
              "[5 rows x 33 columns]"
            ]
          },
          "metadata": {
            "tags": []
          },
          "execution_count": 57
        }
      ]
    },
    {
      "cell_type": "code",
      "metadata": {
        "colab": {
          "base_uri": "https://localhost:8080/"
        },
        "id": "CFPNYizZD5do",
        "outputId": "832f3134-aade-4d60-f089-b96e35501232"
      },
      "source": [
        "gdf.info()"
      ],
      "execution_count": 58,
      "outputs": [
        {
          "output_type": "stream",
          "text": [
            "<class 'geopandas.geodataframe.GeoDataFrame'>\n",
            "RangeIndex: 63 entries, 0 to 62\n",
            "Data columns (total 33 columns):\n",
            " #   Column              Non-Null Count  Dtype   \n",
            "---  ------              --------------  -----   \n",
            " 0   OBJECTID            63 non-null     int64   \n",
            " 1   DATE_TIME           0 non-null      object  \n",
            " 2   SITE_ID             63 non-null     object  \n",
            " 3   STAFF               0 non-null      object  \n",
            " 4   SAMP_EQUIP          0 non-null      object  \n",
            " 5   AIR_TEMP            0 non-null      object  \n",
            " 6   CUR_PRECIP          0 non-null      object  \n",
            " 7   PREV_48_PRECIP      0 non-null      object  \n",
            " 8   WIND_SPEED          0 non-null      object  \n",
            " 9   WEATHER_NOTES       0 non-null      object  \n",
            " 10  WATER_TEMP          0 non-null      object  \n",
            " 11  DO_mgl              0 non-null      object  \n",
            " 12  SPEC_COND_uS_cm     0 non-null      object  \n",
            " 13  TURB_NTU            0 non-null      object  \n",
            " 14  pH                  0 non-null      object  \n",
            " 15  QC                  0 non-null      object  \n",
            " 16  DEPTH_FT            0 non-null      object  \n",
            " 17  NOTES               0 non-null      object  \n",
            " 18  LOCATION            0 non-null      object  \n",
            " 19  LAB_SAMP_QUES       0 non-null      object  \n",
            " 20  Ecoli_100ml_        0 non-null      object  \n",
            " 21  TOT_PHOS_           0 non-null      object  \n",
            " 22  TOT_NITRO_          0 non-null      object  \n",
            " 23  LAKE_SAMP_QUES_     0 non-null      object  \n",
            " 24  SECCH_DEP_FT_       0 non-null      object  \n",
            " 25  CHLOROPHYLLa_ug_L_  0 non-null      object  \n",
            " 26  STAT_SAMP_QUES_     0 non-null      object  \n",
            " 27  ECOLI_STATUS_       0 non-null      object  \n",
            " 28  DO_STATUS_          63 non-null     object  \n",
            " 29  TEMP_STATUS_        0 non-null      object  \n",
            " 30  TURB_STATUS_        8 non-null      object  \n",
            " 31  GlobalID            63 non-null     object  \n",
            " 32  geometry            63 non-null     geometry\n",
            "dtypes: geometry(1), int64(1), object(31)\n",
            "memory usage: 16.4+ KB\n"
          ],
          "name": "stdout"
        }
      ]
    },
    {
      "cell_type": "code",
      "metadata": {
        "id": "Z3AC0oLoNo05"
      },
      "source": [
        "columns = gdf.columns\r\n",
        "colName = columns[28]"
      ],
      "execution_count": 72,
      "outputs": []
    },
    {
      "cell_type": "code",
      "metadata": {
        "colab": {
          "base_uri": "https://localhost:8080/",
          "height": 53
        },
        "id": "VTYWN9Epiy7Y",
        "outputId": "27f5e285-6d60-4286-9e85-b7b207edabcb"
      },
      "source": [
        "# List of unique organization IDs\r\n",
        "uniqueVal = gdf[colName].unique()\r\n",
        "display(f'Number of {colName}(s): {len(uniqueVal)}')\r\n",
        "display(uniqueVal)"
      ],
      "execution_count": 60,
      "outputs": [
        {
          "output_type": "display_data",
          "data": {
            "application/vnd.google.colaboratory.intrinsic+json": {
              "type": "string"
            },
            "text/plain": [
              "'Number of DO_STATUS_(s): 4'"
            ]
          },
          "metadata": {
            "tags": []
          }
        },
        {
          "output_type": "display_data",
          "data": {
            "text/plain": [
              "array(['1', '4', '2', '0'], dtype=object)"
            ]
          },
          "metadata": {
            "tags": []
          }
        }
      ]
    },
    {
      "cell_type": "code",
      "metadata": {
        "colab": {
          "base_uri": "https://localhost:8080/"
        },
        "id": "tPh07xFtjV7s",
        "outputId": "501a20f8-a71f-405e-dee3-89a9ba959cff"
      },
      "source": [
        "valColumn = columns[2]\r\n",
        "gdf[valColumn].value_counts()"
      ],
      "execution_count": 67,
      "outputs": [
        {
          "output_type": "execute_result",
          "data": {
            "text/plain": [
              "NOT-ST-140    1\n",
              "OLV-LA-40     1\n",
              "PNC-ST-30     1\n",
              "LKC-ST-10     1\n",
              "SJR-ST-300    1\n",
              "             ..\n",
              "NOT-ST-90     1\n",
              "LHR-LA-20     1\n",
              "UNT-ST-10     1\n",
              "SCD-ST-50     1\n",
              "KYN-LA-10     1\n",
              "Name: SITE_ID, Length: 63, dtype: int64"
            ]
          },
          "metadata": {
            "tags": []
          },
          "execution_count": 67
        }
      ]
    },
    {
      "cell_type": "code",
      "metadata": {
        "colab": {
          "base_uri": "https://localhost:8080/"
        },
        "id": "r3phzETTPfKy",
        "outputId": "4d9ec20d-563c-4cb1-cd18-2b596266ea62"
      },
      "source": [
        "gdf.columns"
      ],
      "execution_count": 70,
      "outputs": [
        {
          "output_type": "execute_result",
          "data": {
            "text/plain": [
              "Index(['OBJECTID', 'DATE_TIME', 'SITE_ID', 'STAFF', 'SAMP_EQUIP', 'AIR_TEMP',\n",
              "       'CUR_PRECIP', 'PREV_48_PRECIP', 'WIND_SPEED', 'WEATHER_NOTES',\n",
              "       'WATER_TEMP', 'DO_mgl', 'SPEC_COND_uS_cm', 'TURB_NTU', 'pH', 'QC',\n",
              "       'DEPTH_FT', 'NOTES', 'LOCATION', 'LAB_SAMP_QUES', 'Ecoli_100ml_',\n",
              "       'TOT_PHOS_', 'TOT_NITRO_', 'LAKE_SAMP_QUES_', 'SECCH_DEP_FT_',\n",
              "       'CHLOROPHYLLa_ug_L_', 'STAT_SAMP_QUES_', 'ECOLI_STATUS_', 'DO_STATUS_',\n",
              "       'TEMP_STATUS_', 'TURB_STATUS_', 'GlobalID', 'geometry'],\n",
              "      dtype='object')"
            ]
          },
          "metadata": {
            "tags": []
          },
          "execution_count": 70
        }
      ]
    },
    {
      "cell_type": "code",
      "metadata": {
        "colab": {
          "base_uri": "https://localhost:8080/",
          "height": 162
        },
        "id": "NoYPndmNm-Sr",
        "outputId": "44f59ba5-cd91-49f0-8b9a-34a2e64afdff"
      },
      "source": [
        "gdf.groupby(columns[30]).count()"
      ],
      "execution_count": 73,
      "outputs": [
        {
          "output_type": "execute_result",
          "data": {
            "text/html": [
              "<div>\n",
              "<style scoped>\n",
              "    .dataframe tbody tr th:only-of-type {\n",
              "        vertical-align: middle;\n",
              "    }\n",
              "\n",
              "    .dataframe tbody tr th {\n",
              "        vertical-align: top;\n",
              "    }\n",
              "\n",
              "    .dataframe thead th {\n",
              "        text-align: right;\n",
              "    }\n",
              "</style>\n",
              "<table border=\"1\" class=\"dataframe\">\n",
              "  <thead>\n",
              "    <tr style=\"text-align: right;\">\n",
              "      <th></th>\n",
              "      <th>OBJECTID</th>\n",
              "      <th>DATE_TIME</th>\n",
              "      <th>SITE_ID</th>\n",
              "      <th>STAFF</th>\n",
              "      <th>SAMP_EQUIP</th>\n",
              "      <th>AIR_TEMP</th>\n",
              "      <th>CUR_PRECIP</th>\n",
              "      <th>PREV_48_PRECIP</th>\n",
              "      <th>WIND_SPEED</th>\n",
              "      <th>WEATHER_NOTES</th>\n",
              "      <th>WATER_TEMP</th>\n",
              "      <th>DO_mgl</th>\n",
              "      <th>SPEC_COND_uS_cm</th>\n",
              "      <th>TURB_NTU</th>\n",
              "      <th>pH</th>\n",
              "      <th>QC</th>\n",
              "      <th>DEPTH_FT</th>\n",
              "      <th>NOTES</th>\n",
              "      <th>LOCATION</th>\n",
              "      <th>LAB_SAMP_QUES</th>\n",
              "      <th>Ecoli_100ml_</th>\n",
              "      <th>TOT_PHOS_</th>\n",
              "      <th>TOT_NITRO_</th>\n",
              "      <th>LAKE_SAMP_QUES_</th>\n",
              "      <th>SECCH_DEP_FT_</th>\n",
              "      <th>CHLOROPHYLLa_ug_L_</th>\n",
              "      <th>STAT_SAMP_QUES_</th>\n",
              "      <th>ECOLI_STATUS_</th>\n",
              "      <th>DO_STATUS_</th>\n",
              "      <th>TEMP_STATUS_</th>\n",
              "      <th>GlobalID</th>\n",
              "      <th>geometry</th>\n",
              "    </tr>\n",
              "    <tr>\n",
              "      <th>TURB_STATUS_</th>\n",
              "      <th></th>\n",
              "      <th></th>\n",
              "      <th></th>\n",
              "      <th></th>\n",
              "      <th></th>\n",
              "      <th></th>\n",
              "      <th></th>\n",
              "      <th></th>\n",
              "      <th></th>\n",
              "      <th></th>\n",
              "      <th></th>\n",
              "      <th></th>\n",
              "      <th></th>\n",
              "      <th></th>\n",
              "      <th></th>\n",
              "      <th></th>\n",
              "      <th></th>\n",
              "      <th></th>\n",
              "      <th></th>\n",
              "      <th></th>\n",
              "      <th></th>\n",
              "      <th></th>\n",
              "      <th></th>\n",
              "      <th></th>\n",
              "      <th></th>\n",
              "      <th></th>\n",
              "      <th></th>\n",
              "      <th></th>\n",
              "      <th></th>\n",
              "      <th></th>\n",
              "      <th></th>\n",
              "      <th></th>\n",
              "    </tr>\n",
              "  </thead>\n",
              "  <tbody>\n",
              "    <tr>\n",
              "      <th>1</th>\n",
              "      <td>5</td>\n",
              "      <td>0</td>\n",
              "      <td>5</td>\n",
              "      <td>0</td>\n",
              "      <td>0</td>\n",
              "      <td>0</td>\n",
              "      <td>0</td>\n",
              "      <td>0</td>\n",
              "      <td>0</td>\n",
              "      <td>0</td>\n",
              "      <td>0</td>\n",
              "      <td>0</td>\n",
              "      <td>0</td>\n",
              "      <td>0</td>\n",
              "      <td>0</td>\n",
              "      <td>0</td>\n",
              "      <td>0</td>\n",
              "      <td>0</td>\n",
              "      <td>0</td>\n",
              "      <td>0</td>\n",
              "      <td>0</td>\n",
              "      <td>0</td>\n",
              "      <td>0</td>\n",
              "      <td>0</td>\n",
              "      <td>0</td>\n",
              "      <td>0</td>\n",
              "      <td>0</td>\n",
              "      <td>0</td>\n",
              "      <td>5</td>\n",
              "      <td>0</td>\n",
              "      <td>5</td>\n",
              "      <td>5</td>\n",
              "    </tr>\n",
              "    <tr>\n",
              "      <th>2</th>\n",
              "      <td>3</td>\n",
              "      <td>0</td>\n",
              "      <td>3</td>\n",
              "      <td>0</td>\n",
              "      <td>0</td>\n",
              "      <td>0</td>\n",
              "      <td>0</td>\n",
              "      <td>0</td>\n",
              "      <td>0</td>\n",
              "      <td>0</td>\n",
              "      <td>0</td>\n",
              "      <td>0</td>\n",
              "      <td>0</td>\n",
              "      <td>0</td>\n",
              "      <td>0</td>\n",
              "      <td>0</td>\n",
              "      <td>0</td>\n",
              "      <td>0</td>\n",
              "      <td>0</td>\n",
              "      <td>0</td>\n",
              "      <td>0</td>\n",
              "      <td>0</td>\n",
              "      <td>0</td>\n",
              "      <td>0</td>\n",
              "      <td>0</td>\n",
              "      <td>0</td>\n",
              "      <td>0</td>\n",
              "      <td>0</td>\n",
              "      <td>3</td>\n",
              "      <td>0</td>\n",
              "      <td>3</td>\n",
              "      <td>3</td>\n",
              "    </tr>\n",
              "  </tbody>\n",
              "</table>\n",
              "</div>"
            ],
            "text/plain": [
              "              OBJECTID  DATE_TIME  SITE_ID  ...  TEMP_STATUS_  GlobalID  geometry\n",
              "TURB_STATUS_                                ...                                  \n",
              "1                    5          0        5  ...             0         5         5\n",
              "2                    3          0        3  ...             0         3         3\n",
              "\n",
              "[2 rows x 32 columns]"
            ]
          },
          "metadata": {
            "tags": []
          },
          "execution_count": 73
        }
      ]
    },
    {
      "cell_type": "code",
      "metadata": {
        "colab": {
          "base_uri": "https://localhost:8080/",
          "height": 392
        },
        "id": "nXlJqExlRW_Z",
        "outputId": "b3977fd4-4d5b-47de-98d2-be8b3893825a"
      },
      "source": [
        "gdf[colName].hist(alpha=0.8, figsize=(8,6))"
      ],
      "execution_count": 76,
      "outputs": [
        {
          "output_type": "execute_result",
          "data": {
            "text/plain": [
              "<matplotlib.axes._subplots.AxesSubplot at 0x7fb92f329a90>"
            ]
          },
          "metadata": {
            "tags": []
          },
          "execution_count": 76
        },
        {
          "output_type": "display_data",
          "data": {
            "image/png": "[encoded data removed]",
            "text/plain": [
              "<Figure size 576x432 with 1 Axes>"
            ]
          },
          "metadata": {
            "tags": [],
            "needs_background": "light"
          }
        }
      ]
    },
    {
      "cell_type": "code",
      "metadata": {
        "colab": {
          "base_uri": "https://localhost:8080/",
          "height": 487
        },
        "id": "o-5u7JXMQhxx",
        "outputId": "24138d3f-ff2d-4bc2-c44b-f4dbb88d08b1"
      },
      "source": [
        "fig, ax = plt.subplots(figsize=(12,8), facecolor='#383838')\r\n",
        "ax.set_xticklabels([])\r\n",
        "ax.set_yticklabels([])\r\n",
        "gdf.plot(ax=ax, alpha=.5, markersize=40, column = columnName, legend='true', cmap='rainbow')"
      ],
      "execution_count": 77,
      "outputs": [
        {
          "output_type": "execute_result",
          "data": {
            "text/plain": [
              "<matplotlib.axes._subplots.AxesSubplot at 0x7fb92f2d14e0>"
            ]
          },
          "metadata": {
            "tags": []
          },
          "execution_count": 77
        },
        {
          "output_type": "display_data",
          "data": {
            "image/png": "[encoded data removed]",
            "text/plain": [
              "<Figure size 864x576 with 1 Axes>"
            ]
          },
          "metadata": {
            "tags": []
          }
        }
      ]
    },
    {
      "cell_type": "code",
      "metadata": {
        "colab": {
          "base_uri": "https://localhost:8080/",
          "height": 492
        },
        "id": "1jx91-R4RALS",
        "outputId": "86c95616-e5ae-45a2-e834-c0bc555e390b"
      },
      "source": [
        "fig, ax = plt.subplots(figsize=(12,8),facecolor='#383838')\r\n",
        "ax.set_aspect('equal')\r\n",
        "ax.set_xticklabels([])\r\n",
        "ax.set_yticklabels([])\r\n",
        "#gdf2.plot(ax=ax, alpha=.3, color='none', linewidth=1, zorder=1, edgecolor='darkturquoise')\r\n",
        "gdf.plot(ax=ax, alpha=.8, markersize=50, column = columnName, legend='true', cmap='rainbow')\r\n",
        "plt.title(gisLayer.lyr.name, fontsize=26, color='white')\r\n",
        "ax.set_axis_off()\r\n",
        "plt.show()"
      ],
      "execution_count": 78,
      "outputs": [
        {
          "output_type": "display_data",
          "data": {
            "image/png": "[encoded data removed]",
            "text/plain": [
              "<Figure size 864x576 with 1 Axes>"
            ]
          },
          "metadata": {
            "tags": []
          }
        }
      ]
    },
    {
      "cell_type": "code",
      "metadata": {
        "colab": {
          "base_uri": "https://localhost:8080/",
          "height": 492
        },
        "id": "_V9_NMyAs4i2",
        "outputId": "c58978e1-5884-4bba-efc9-45c85da055e0"
      },
      "source": [
        "gdf = gdf.to_crs('EPSG:3857')\r\n",
        "fig, ax = plt.subplots(figsize=(12,8),facecolor='#383838')\r\n",
        "ax.set_aspect('equal')\r\n",
        "ax.set_xticklabels([])\r\n",
        "ax.set_yticklabels([])\r\n",
        "gdf.plot(ax=ax, alpha=.8, markersize=50, column = columnName, legend='true', cmap='rainbow')\r\n",
        "plt.title(gisLayer.lyr.name, fontsize=26, color='white')\r\n",
        "ax.set_axis_off()\r\n",
        "ctx.add_basemap(ax, source=ctx.providers.OpenStreetMap.Mapnik)\r\n"
      ],
      "execution_count": 80,
      "outputs": [
        {
          "output_type": "display_data",
          "data": {
            "image/png": "[encoded data removed]",
            "text/plain": [
              "<Figure size 864x576 with 1 Axes>"
            ]
          },
          "metadata": {
            "tags": []
          }
        }
      ]
    },
    {
      "cell_type": "code",
      "metadata": {
        "id": "tmZqkRlAlEfS"
      },
      "source": [
        " m = folium.Map(location= [44.5, -85], zoom_start = 7, tiles = 'Stamen Toner', prefer_canvas=True)\r\n",
        " folium.GeoJson(gdf).add_to(m)\r\n",
        " m"
      ],
      "execution_count": null,
      "outputs": []
    },
    {
      "cell_type": "markdown",
      "metadata": {
        "id": "t3sj5aVGHCs3"
      },
      "source": [
        "### mapTable Workflow - Data Processing"
      ]
    },
    {
      "cell_type": "code",
      "metadata": {
        "colab": {
          "base_uri": "https://localhost:8080/",
          "height": 71
        },
        "id": "3nI_BIFJvBff",
        "outputId": "dc92e300-4f3b-4714-f72d-5143ea16bea5"
      },
      "source": [
        "# 3(t) - new function to get table from Service\r\n",
        "gisTable = gisService.getTable()"
      ],
      "execution_count": 82,
      "outputs": [
        {
          "output_type": "display_data",
          "data": {
            "application/vnd.google.colaboratory.intrinsic+json": {
              "type": "string"
            },
            "text/plain": [
              "'0 - WATER_DATA_2020'"
            ]
          },
          "metadata": {
            "tags": []
          }
        },
        {
          "output_type": "stream",
          "text": [
            "Select index of Table: 0\n"
          ],
          "name": "stdout"
        },
        {
          "output_type": "display_data",
          "data": {
            "application/vnd.google.colaboratory.intrinsic+json": {
              "type": "string"
            },
            "text/plain": [
              "'TABLE CREATED - WATER_DATA_2020 - id: 1 - url: https://services5.arcgis.com/RsKCQCx9eUKixVOM/arcgis/rest/services/WATER_SAMPLING_2020/FeatureServer/1'"
            ]
          },
          "metadata": {
            "tags": []
          }
        }
      ]
    },
    {
      "cell_type": "code",
      "metadata": {
        "id": "mn2AMciNPxf8",
        "colab": {
          "base_uri": "https://localhost:8080/",
          "height": 532
        },
        "outputId": "1cfcd9f1-2d8a-4b9e-e524-c9bd0ae7842b"
      },
      "source": [
        "# 4(t) - returns ArcGIS Online Table as geoDataframe!\r\n",
        "tbl = gisTable.layerQuery()\r\n",
        "tbl.head()"
      ],
      "execution_count": 83,
      "outputs": [
        {
          "output_type": "stream",
          "text": [
            "SQL query(ENTER for ALL): \n",
            "Fields(ENTER for ALL)? \n"
          ],
          "name": "stdout"
        },
        {
          "output_type": "execute_result",
          "data": {
            "text/html": [
              "<div>\n",
              "<style scoped>\n",
              "    .dataframe tbody tr th:only-of-type {\n",
              "        vertical-align: middle;\n",
              "    }\n",
              "\n",
              "    .dataframe tbody tr th {\n",
              "        vertical-align: top;\n",
              "    }\n",
              "\n",
              "    .dataframe thead th {\n",
              "        text-align: right;\n",
              "    }\n",
              "</style>\n",
              "<table border=\"1\" class=\"dataframe\">\n",
              "  <thead>\n",
              "    <tr style=\"text-align: right;\">\n",
              "      <th></th>\n",
              "      <th>OBJECTID</th>\n",
              "      <th>SITE_ID</th>\n",
              "      <th>DATE_TIME</th>\n",
              "      <th>STAFF</th>\n",
              "      <th>SAMP_EQUIP</th>\n",
              "      <th>AIR_TEMP</th>\n",
              "      <th>CUR_PRECIP</th>\n",
              "      <th>PREV_48_PRECIP</th>\n",
              "      <th>WIND_SPEED</th>\n",
              "      <th>WEATHER_NOTES</th>\n",
              "      <th>WATER_TEMP</th>\n",
              "      <th>DO_mgl</th>\n",
              "      <th>SPEC_COND_uS_cm</th>\n",
              "      <th>TURB_NTU</th>\n",
              "      <th>pH</th>\n",
              "      <th>QC</th>\n",
              "      <th>DEPTH_FT</th>\n",
              "      <th>NOTES</th>\n",
              "      <th>SITE_IMAGE</th>\n",
              "      <th>LAB_SAMP_QUES</th>\n",
              "      <th>Ecoli_100ml_</th>\n",
              "      <th>TOT_PHOS_</th>\n",
              "      <th>TOT_NITRO_</th>\n",
              "      <th>LAKE_SAMP_QUES_</th>\n",
              "      <th>SECCH_DEP_FT_</th>\n",
              "      <th>CHLOROPHYLLa_ug_L_</th>\n",
              "      <th>STAT_SAMP_QUES_</th>\n",
              "      <th>ECOLI_STATUS_</th>\n",
              "      <th>DO_STATUS_</th>\n",
              "      <th>TEMP_STATUS_</th>\n",
              "      <th>TURB_STATUS_</th>\n",
              "      <th>GlobalID</th>\n",
              "      <th>NEW_SITE_ID</th>\n",
              "      <th>NEW_SITE_DESC</th>\n",
              "      <th>SITE_NUM</th>\n",
              "      <th>geometry</th>\n",
              "    </tr>\n",
              "  </thead>\n",
              "  <tbody>\n",
              "    <tr>\n",
              "      <th>0</th>\n",
              "      <td>4</td>\n",
              "      <td>ICD-ST-40</td>\n",
              "      <td>1594149480000</td>\n",
              "      <td>ERIC KERNEY</td>\n",
              "      <td>YSI ProDSS</td>\n",
              "      <td>91</td>\n",
              "      <td>None</td>\n",
              "      <td>0.0</td>\n",
              "      <td>None</td>\n",
              "      <td>Hot humid weather for last week</td>\n",
              "      <td>76.0</td>\n",
              "      <td>6.57</td>\n",
              "      <td>569.0</td>\n",
              "      <td>6.24</td>\n",
              "      <td>7.55</td>\n",
              "      <td>Field Measurement</td>\n",
              "      <td>None</td>\n",
              "      <td>None</td>\n",
              "      <td>None</td>\n",
              "      <td>None</td>\n",
              "      <td>None</td>\n",
              "      <td>None</td>\n",
              "      <td>None</td>\n",
              "      <td>NO</td>\n",
              "      <td>None</td>\n",
              "      <td>None</td>\n",
              "      <td>YES</td>\n",
              "      <td>None</td>\n",
              "      <td>2</td>\n",
              "      <td>2</td>\n",
              "      <td>2</td>\n",
              "      <td>a57851bc-5581-4cc0-8a1c-4fbfad04a06f</td>\n",
              "      <td>None</td>\n",
              "      <td>None</td>\n",
              "      <td>None</td>\n",
              "      <td>None</td>\n",
              "    </tr>\n",
              "    <tr>\n",
              "      <th>1</th>\n",
              "      <td>5</td>\n",
              "      <td>PNC-ST-45</td>\n",
              "      <td>1594150371022</td>\n",
              "      <td>ERIC KERNEY</td>\n",
              "      <td>YSI ProDSS</td>\n",
              "      <td>91</td>\n",
              "      <td>None</td>\n",
              "      <td>0.0</td>\n",
              "      <td>None</td>\n",
              "      <td>Hot and humid</td>\n",
              "      <td>80.0</td>\n",
              "      <td>0.99</td>\n",
              "      <td>488.4</td>\n",
              "      <td>2.00</td>\n",
              "      <td>7.38</td>\n",
              "      <td>Field Measurement</td>\n",
              "      <td>None</td>\n",
              "      <td>None</td>\n",
              "      <td>None</td>\n",
              "      <td>None</td>\n",
              "      <td>None</td>\n",
              "      <td>None</td>\n",
              "      <td>None</td>\n",
              "      <td>None</td>\n",
              "      <td>None</td>\n",
              "      <td>None</td>\n",
              "      <td>None</td>\n",
              "      <td>None</td>\n",
              "      <td>None</td>\n",
              "      <td>None</td>\n",
              "      <td>None</td>\n",
              "      <td>70ec514e-e2bc-4457-acb4-0d316140d3d2</td>\n",
              "      <td>None</td>\n",
              "      <td>None</td>\n",
              "      <td>None</td>\n",
              "      <td>None</td>\n",
              "    </tr>\n",
              "    <tr>\n",
              "      <th>2</th>\n",
              "      <td>6</td>\n",
              "      <td>PNC-ST-45</td>\n",
              "      <td>1594150920000</td>\n",
              "      <td>ERIC KERNEY</td>\n",
              "      <td>YSI ProDSS</td>\n",
              "      <td>91</td>\n",
              "      <td>None</td>\n",
              "      <td>0.0</td>\n",
              "      <td>None</td>\n",
              "      <td>Hot and humid</td>\n",
              "      <td>80.0</td>\n",
              "      <td>0.96</td>\n",
              "      <td>488.4</td>\n",
              "      <td>2.05</td>\n",
              "      <td>7.32</td>\n",
              "      <td>Quality Control Sample Field Replicate</td>\n",
              "      <td>None</td>\n",
              "      <td>QC field replicate, very low DO</td>\n",
              "      <td>None</td>\n",
              "      <td>None</td>\n",
              "      <td>None</td>\n",
              "      <td>None</td>\n",
              "      <td>None</td>\n",
              "      <td>None</td>\n",
              "      <td>None</td>\n",
              "      <td>None</td>\n",
              "      <td>None</td>\n",
              "      <td>None</td>\n",
              "      <td>None</td>\n",
              "      <td>None</td>\n",
              "      <td>None</td>\n",
              "      <td>1502a6b9-d29a-4e74-8fa2-2c8ba4ba2405</td>\n",
              "      <td>None</td>\n",
              "      <td>None</td>\n",
              "      <td>None</td>\n",
              "      <td>None</td>\n",
              "    </tr>\n",
              "    <tr>\n",
              "      <th>3</th>\n",
              "      <td>7</td>\n",
              "      <td>PNC-ST-50</td>\n",
              "      <td>1594151365045</td>\n",
              "      <td>ERIC KERNEY</td>\n",
              "      <td>YSI ProDSS</td>\n",
              "      <td>92</td>\n",
              "      <td>None</td>\n",
              "      <td>NaN</td>\n",
              "      <td>None</td>\n",
              "      <td>Hot and humid</td>\n",
              "      <td>80.3</td>\n",
              "      <td>1.04</td>\n",
              "      <td>489.2</td>\n",
              "      <td>2.04</td>\n",
              "      <td>7.37</td>\n",
              "      <td>Field Measurement</td>\n",
              "      <td>None</td>\n",
              "      <td>Heavy vegetation and duck weed, very low DO</td>\n",
              "      <td>None</td>\n",
              "      <td>None</td>\n",
              "      <td>None</td>\n",
              "      <td>None</td>\n",
              "      <td>None</td>\n",
              "      <td>None</td>\n",
              "      <td>None</td>\n",
              "      <td>None</td>\n",
              "      <td>None</td>\n",
              "      <td>None</td>\n",
              "      <td>None</td>\n",
              "      <td>None</td>\n",
              "      <td>None</td>\n",
              "      <td>542f3a37-8e8a-434b-97be-e5771b387479</td>\n",
              "      <td>None</td>\n",
              "      <td>None</td>\n",
              "      <td>None</td>\n",
              "      <td>None</td>\n",
              "    </tr>\n",
              "    <tr>\n",
              "      <th>4</th>\n",
              "      <td>8</td>\n",
              "      <td>PNC-ST-60</td>\n",
              "      <td>1594151831961</td>\n",
              "      <td>ERIC KERNEY</td>\n",
              "      <td>YSI ProDSS</td>\n",
              "      <td>92</td>\n",
              "      <td>None</td>\n",
              "      <td>NaN</td>\n",
              "      <td>None</td>\n",
              "      <td>Hot and humid</td>\n",
              "      <td>81.2</td>\n",
              "      <td>2.14</td>\n",
              "      <td>486.9</td>\n",
              "      <td>2.49</td>\n",
              "      <td>7.55</td>\n",
              "      <td>Field Measurement</td>\n",
              "      <td>None</td>\n",
              "      <td>Some rice, new dock, warm water</td>\n",
              "      <td>None</td>\n",
              "      <td>None</td>\n",
              "      <td>None</td>\n",
              "      <td>None</td>\n",
              "      <td>None</td>\n",
              "      <td>None</td>\n",
              "      <td>None</td>\n",
              "      <td>None</td>\n",
              "      <td>NO</td>\n",
              "      <td>None</td>\n",
              "      <td>None</td>\n",
              "      <td>None</td>\n",
              "      <td>None</td>\n",
              "      <td>54623cb5-7774-4ad0-91ec-826c5fc01d27</td>\n",
              "      <td>None</td>\n",
              "      <td>None</td>\n",
              "      <td>None</td>\n",
              "      <td>None</td>\n",
              "    </tr>\n",
              "  </tbody>\n",
              "</table>\n",
              "</div>"
            ],
            "text/plain": [
              "   OBJECTID    SITE_ID      DATE_TIME  ... NEW_SITE_DESC SITE_NUM  geometry\n",
              "0         4  ICD-ST-40  1594149480000  ...          None     None      None\n",
              "1         5  PNC-ST-45  1594150371022  ...          None     None      None\n",
              "2         6  PNC-ST-45  1594150920000  ...          None     None      None\n",
              "3         7  PNC-ST-50  1594151365045  ...          None     None      None\n",
              "4         8  PNC-ST-60  1594151831961  ...          None     None      None\n",
              "\n",
              "[5 rows x 36 columns]"
            ]
          },
          "metadata": {
            "tags": []
          },
          "execution_count": 83
        }
      ]
    },
    {
      "cell_type": "code",
      "metadata": {
        "colab": {
          "base_uri": "https://localhost:8080/"
        },
        "id": "fGsqBMvXHBIL",
        "outputId": "c061094c-70c1-4c12-f64e-e7a85b7f5b62"
      },
      "source": [
        "tbl.info()"
      ],
      "execution_count": 84,
      "outputs": [
        {
          "output_type": "stream",
          "text": [
            "<class 'geopandas.geodataframe.GeoDataFrame'>\n",
            "RangeIndex: 40 entries, 0 to 39\n",
            "Data columns (total 36 columns):\n",
            " #   Column              Non-Null Count  Dtype   \n",
            "---  ------              --------------  -----   \n",
            " 0   OBJECTID            40 non-null     int64   \n",
            " 1   SITE_ID             40 non-null     object  \n",
            " 2   DATE_TIME           40 non-null     int64   \n",
            " 3   STAFF               40 non-null     object  \n",
            " 4   SAMP_EQUIP          40 non-null     object  \n",
            " 5   AIR_TEMP            40 non-null     int64   \n",
            " 6   CUR_PRECIP          5 non-null      object  \n",
            " 7   PREV_48_PRECIP      19 non-null     float64 \n",
            " 8   WIND_SPEED          0 non-null      object  \n",
            " 9   WEATHER_NOTES       40 non-null     object  \n",
            " 10  WATER_TEMP          40 non-null     float64 \n",
            " 11  DO_mgl              40 non-null     float64 \n",
            " 12  SPEC_COND_uS_cm     40 non-null     float64 \n",
            " 13  TURB_NTU            40 non-null     float64 \n",
            " 14  pH                  40 non-null     float64 \n",
            " 15  QC                  40 non-null     object  \n",
            " 16  DEPTH_FT            0 non-null      object  \n",
            " 17  NOTES               20 non-null     object  \n",
            " 18  SITE_IMAGE          0 non-null      object  \n",
            " 19  LAB_SAMP_QUES       10 non-null     object  \n",
            " 20  Ecoli_100ml_        0 non-null      object  \n",
            " 21  TOT_PHOS_           0 non-null      object  \n",
            " 22  TOT_NITRO_          0 non-null      object  \n",
            " 23  LAKE_SAMP_QUES_     11 non-null     object  \n",
            " 24  SECCH_DEP_FT_       0 non-null      object  \n",
            " 25  CHLOROPHYLLa_ug_L_  0 non-null      object  \n",
            " 26  STAT_SAMP_QUES_     12 non-null     object  \n",
            " 27  ECOLI_STATUS_       0 non-null      object  \n",
            " 28  DO_STATUS_          1 non-null      object  \n",
            " 29  TEMP_STATUS_        1 non-null      object  \n",
            " 30  TURB_STATUS_        1 non-null      object  \n",
            " 31  GlobalID            40 non-null     object  \n",
            " 32  NEW_SITE_ID         0 non-null      object  \n",
            " 33  NEW_SITE_DESC       0 non-null      object  \n",
            " 34  SITE_NUM            0 non-null      object  \n",
            " 35  geometry            0 non-null      geometry\n",
            "dtypes: float64(6), geometry(1), int64(3), object(26)\n",
            "memory usage: 11.4+ KB\n"
          ],
          "name": "stdout"
        }
      ]
    },
    {
      "cell_type": "code",
      "metadata": {
        "id": "PiePxVYuHBIR"
      },
      "source": [
        "col = tbl.columns\r\n",
        "colName = col[11]"
      ],
      "execution_count": 88,
      "outputs": []
    },
    {
      "cell_type": "code",
      "metadata": {
        "colab": {
          "base_uri": "https://localhost:8080/",
          "height": 107
        },
        "id": "dJbalrXvHBIR",
        "outputId": "c3868d43-2d4b-40d2-c32c-7ba0daf1aff2"
      },
      "source": [
        "# List of unique organization IDs\r\n",
        "uniVal = tbl[col[11]].unique()\r\n",
        "display(f'Number of {col[11]}(s): {len(uniVal)}')\r\n",
        "display(uniVal)"
      ],
      "execution_count": 90,
      "outputs": [
        {
          "output_type": "display_data",
          "data": {
            "application/vnd.google.colaboratory.intrinsic+json": {
              "type": "string"
            },
            "text/plain": [
              "'Number of DO_mgl(s): 39'"
            ]
          },
          "metadata": {
            "tags": []
          }
        },
        {
          "output_type": "display_data",
          "data": {
            "text/plain": [
              "array([6.57, 0.99, 0.96, 1.04, 2.14, 7.67, 4.04, 4.26, 4.34, 4.83, 5.49,\n",
              "       1.54, 1.05, 0.62, 1.02, 8.7 , 8.67, 8.69, 8.36, 1.3 , 2.67, 5.76,\n",
              "       4.39, 4.36, 7.48, 7.43, 5.22, 4.42, 4.73, 9.38, 3.59, 3.4 , 3.21,\n",
              "       4.33, 4.02, 9.01, 8.91, 8.  , 7.5 ])"
            ]
          },
          "metadata": {
            "tags": []
          }
        }
      ]
    },
    {
      "cell_type": "code",
      "metadata": {
        "colab": {
          "base_uri": "https://localhost:8080/"
        },
        "id": "qkQCyyn4HBIR",
        "outputId": "dbc8aefd-0f61-4ac2-d836-61c7a6e20573"
      },
      "source": [
        "valCol = col[1]\r\n",
        "tbl[valCol].value_counts()"
      ],
      "execution_count": 93,
      "outputs": [
        {
          "output_type": "execute_result",
          "data": {
            "text/plain": [
              "NOT-ST-110    5\n",
              "NOT-ST-120    5\n",
              "SCD-ST-40     4\n",
              "NOT-ST-70     4\n",
              "PNC-ST-40     4\n",
              "PNC-ST-50     4\n",
              "ICD-ST-40     3\n",
              "PNC-ST-60     3\n",
              "UNT-ST-10     2\n",
              "PNC-ST-45     2\n",
              "SPC-ST-90     2\n",
              "SJR-ST-300    1\n",
              "ICD-ST-60     1\n",
              "Name: SITE_ID, dtype: int64"
            ]
          },
          "metadata": {
            "tags": []
          },
          "execution_count": 93
        }
      ]
    },
    {
      "cell_type": "code",
      "metadata": {
        "colab": {
          "base_uri": "https://localhost:8080/"
        },
        "id": "LorJ5zbeHBIR",
        "outputId": "30782ff8-549c-4806-d2a3-bae294693665"
      },
      "source": [
        "tbl.columns"
      ],
      "execution_count": 94,
      "outputs": [
        {
          "output_type": "execute_result",
          "data": {
            "text/plain": [
              "Index(['OBJECTID', 'SITE_ID', 'DATE_TIME', 'STAFF', 'SAMP_EQUIP', 'AIR_TEMP',\n",
              "       'CUR_PRECIP', 'PREV_48_PRECIP', 'WIND_SPEED', 'WEATHER_NOTES',\n",
              "       'WATER_TEMP', 'DO_mgl', 'SPEC_COND_uS_cm', 'TURB_NTU', 'pH', 'QC',\n",
              "       'DEPTH_FT', 'NOTES', 'SITE_IMAGE', 'LAB_SAMP_QUES', 'Ecoli_100ml_',\n",
              "       'TOT_PHOS_', 'TOT_NITRO_', 'LAKE_SAMP_QUES_', 'SECCH_DEP_FT_',\n",
              "       'CHLOROPHYLLa_ug_L_', 'STAT_SAMP_QUES_', 'ECOLI_STATUS_', 'DO_STATUS_',\n",
              "       'TEMP_STATUS_', 'TURB_STATUS_', 'GlobalID', 'NEW_SITE_ID',\n",
              "       'NEW_SITE_DESC', 'SITE_NUM', 'geometry'],\n",
              "      dtype='object')"
            ]
          },
          "metadata": {
            "tags": []
          },
          "execution_count": 94
        }
      ]
    },
    {
      "cell_type": "code",
      "metadata": {
        "colab": {
          "base_uri": "https://localhost:8080/",
          "height": 131
        },
        "id": "wVtWtRU2HBIS",
        "outputId": "d71efdda-a221-4aa8-85f3-47b14f69569a"
      },
      "source": [
        "tbl.groupby(col[4]).count()"
      ],
      "execution_count": 103,
      "outputs": [
        {
          "output_type": "execute_result",
          "data": {
            "text/html": [
              "<div>\n",
              "<style scoped>\n",
              "    .dataframe tbody tr th:only-of-type {\n",
              "        vertical-align: middle;\n",
              "    }\n",
              "\n",
              "    .dataframe tbody tr th {\n",
              "        vertical-align: top;\n",
              "    }\n",
              "\n",
              "    .dataframe thead th {\n",
              "        text-align: right;\n",
              "    }\n",
              "</style>\n",
              "<table border=\"1\" class=\"dataframe\">\n",
              "  <thead>\n",
              "    <tr style=\"text-align: right;\">\n",
              "      <th></th>\n",
              "      <th>OBJECTID</th>\n",
              "      <th>SITE_ID</th>\n",
              "      <th>DATE_TIME</th>\n",
              "      <th>STAFF</th>\n",
              "      <th>AIR_TEMP</th>\n",
              "      <th>CUR_PRECIP</th>\n",
              "      <th>PREV_48_PRECIP</th>\n",
              "      <th>WIND_SPEED</th>\n",
              "      <th>WEATHER_NOTES</th>\n",
              "      <th>WATER_TEMP</th>\n",
              "      <th>DO_mgl</th>\n",
              "      <th>SPEC_COND_uS_cm</th>\n",
              "      <th>TURB_NTU</th>\n",
              "      <th>pH</th>\n",
              "      <th>QC</th>\n",
              "      <th>DEPTH_FT</th>\n",
              "      <th>NOTES</th>\n",
              "      <th>SITE_IMAGE</th>\n",
              "      <th>LAB_SAMP_QUES</th>\n",
              "      <th>Ecoli_100ml_</th>\n",
              "      <th>TOT_PHOS_</th>\n",
              "      <th>TOT_NITRO_</th>\n",
              "      <th>LAKE_SAMP_QUES_</th>\n",
              "      <th>SECCH_DEP_FT_</th>\n",
              "      <th>CHLOROPHYLLa_ug_L_</th>\n",
              "      <th>STAT_SAMP_QUES_</th>\n",
              "      <th>ECOLI_STATUS_</th>\n",
              "      <th>DO_STATUS_</th>\n",
              "      <th>TEMP_STATUS_</th>\n",
              "      <th>TURB_STATUS_</th>\n",
              "      <th>GlobalID</th>\n",
              "      <th>NEW_SITE_ID</th>\n",
              "      <th>NEW_SITE_DESC</th>\n",
              "      <th>SITE_NUM</th>\n",
              "      <th>geometry</th>\n",
              "    </tr>\n",
              "    <tr>\n",
              "      <th>SAMP_EQUIP</th>\n",
              "      <th></th>\n",
              "      <th></th>\n",
              "      <th></th>\n",
              "      <th></th>\n",
              "      <th></th>\n",
              "      <th></th>\n",
              "      <th></th>\n",
              "      <th></th>\n",
              "      <th></th>\n",
              "      <th></th>\n",
              "      <th></th>\n",
              "      <th></th>\n",
              "      <th></th>\n",
              "      <th></th>\n",
              "      <th></th>\n",
              "      <th></th>\n",
              "      <th></th>\n",
              "      <th></th>\n",
              "      <th></th>\n",
              "      <th></th>\n",
              "      <th></th>\n",
              "      <th></th>\n",
              "      <th></th>\n",
              "      <th></th>\n",
              "      <th></th>\n",
              "      <th></th>\n",
              "      <th></th>\n",
              "      <th></th>\n",
              "      <th></th>\n",
              "      <th></th>\n",
              "      <th></th>\n",
              "      <th></th>\n",
              "      <th></th>\n",
              "      <th></th>\n",
              "      <th></th>\n",
              "    </tr>\n",
              "  </thead>\n",
              "  <tbody>\n",
              "    <tr>\n",
              "      <th>YSI ProDSS</th>\n",
              "      <td>40</td>\n",
              "      <td>40</td>\n",
              "      <td>40</td>\n",
              "      <td>40</td>\n",
              "      <td>40</td>\n",
              "      <td>5</td>\n",
              "      <td>19</td>\n",
              "      <td>0</td>\n",
              "      <td>40</td>\n",
              "      <td>40</td>\n",
              "      <td>40</td>\n",
              "      <td>40</td>\n",
              "      <td>40</td>\n",
              "      <td>40</td>\n",
              "      <td>40</td>\n",
              "      <td>0</td>\n",
              "      <td>20</td>\n",
              "      <td>0</td>\n",
              "      <td>10</td>\n",
              "      <td>0</td>\n",
              "      <td>0</td>\n",
              "      <td>0</td>\n",
              "      <td>11</td>\n",
              "      <td>0</td>\n",
              "      <td>0</td>\n",
              "      <td>12</td>\n",
              "      <td>0</td>\n",
              "      <td>1</td>\n",
              "      <td>1</td>\n",
              "      <td>1</td>\n",
              "      <td>40</td>\n",
              "      <td>0</td>\n",
              "      <td>0</td>\n",
              "      <td>0</td>\n",
              "      <td>0</td>\n",
              "    </tr>\n",
              "  </tbody>\n",
              "</table>\n",
              "</div>"
            ],
            "text/plain": [
              "            OBJECTID  SITE_ID  DATE_TIME  ...  NEW_SITE_DESC  SITE_NUM  geometry\n",
              "SAMP_EQUIP                                ...                                   \n",
              "YSI ProDSS        40       40         40  ...              0         0         0\n",
              "\n",
              "[1 rows x 35 columns]"
            ]
          },
          "metadata": {
            "tags": []
          },
          "execution_count": 103
        }
      ]
    },
    {
      "cell_type": "code",
      "metadata": {
        "colab": {
          "base_uri": "https://localhost:8080/",
          "height": 392
        },
        "id": "ExB6Z4NRHBIS",
        "outputId": "590e889f-c25f-4e6c-a385-4cdb0264c0d9"
      },
      "source": [
        "tbl[col[11]].hist(alpha=0.8, figsize=(8,6))"
      ],
      "execution_count": 110,
      "outputs": [
        {
          "output_type": "execute_result",
          "data": {
            "text/plain": [
              "<matplotlib.axes._subplots.AxesSubplot at 0x7fb92ed53128>"
            ]
          },
          "metadata": {
            "tags": []
          },
          "execution_count": 110
        },
        {
          "output_type": "display_data",
          "data": {
            "image/png": "[encoded data removed]",
            "text/plain": [
              "<Figure size 576x432 with 1 Axes>"
            ]
          },
          "metadata": {
            "tags": [],
            "needs_background": "light"
          }
        }
      ]
    },
    {
      "cell_type": "markdown",
      "metadata": {
        "id": "guWDp-IACXPr"
      },
      "source": [
        "### Sample EPA ArcGIS Server Workflow"
      ]
    },
    {
      "cell_type": "code",
      "metadata": {
        "id": "su_W3nVE4xzI"
      },
      "source": [
        "# 1 - Create MapServer with Server root url\r\n",
        "rest_url = 'https://gispub.epa.gov/arcgis/rest/services'\r\n",
        "gisServer = mapServer(rest_url)"
      ],
      "execution_count": null,
      "outputs": []
    },
    {
      "cell_type": "code",
      "metadata": {
        "id": "bOQidO4DStQk"
      },
      "source": [
        "# 2 - Derive specified arcService from root MapServer Object\r\n",
        "gisService = gisServer.getSubService()"
      ],
      "execution_count": null,
      "outputs": []
    },
    {
      "cell_type": "code",
      "metadata": {
        "id": "ezg1XCjp9vQx"
      },
      "source": [
        "# 3 - Generate layer from specific specified arcService Endpoint\r\n",
        "gisLayer = gisService.getLayer()\r\n",
        "gisLayer.getInfo()"
      ],
      "execution_count": null,
      "outputs": []
    },
    {
      "cell_type": "code",
      "metadata": {
        "id": "UnVIXMsZCVkV"
      },
      "source": [
        "# 4 - Return geoDataframe from layer query\r\n",
        "gdf = gisLayer.layerQuery()\r\n",
        "gdf.head()"
      ],
      "execution_count": null,
      "outputs": []
    },
    {
      "cell_type": "markdown",
      "metadata": {
        "id": "pb4o8LYeTr71"
      },
      "source": [
        "## APPENDICIES"
      ]
    },
    {
      "cell_type": "code",
      "metadata": {
        "id": "Cvi7-BY4mkiL"
      },
      "source": [
        "import os\r\n",
        "os.environ['RESTAPI_USE_ARCPY'] = 'FALSE'\r\n",
        "os.environ['RESTAPI_VERIFY_CERT'] = 'FALSE'\r\n",
        "\r\n",
        "!pip install bmi-arcgis-restapi\r\n",
        "import restapi"
      ],
      "execution_count": null,
      "outputs": []
    },
    {
      "cell_type": "code",
      "metadata": {
        "id": "7j1lMBOl2ZEW"
      },
      "source": [
        "%%time \r\n",
        "#!apt update\r\n",
        "#!apt upgrade\r\n",
        "#!apt-get install -qq libgdal-dev libproj-dev\r\n",
        "!apt install gdal-bin python-gdal python3-gdal\r\n",
        "!apt install python3-rtree \r\n",
        "!pip install git+git://github.com/geopandas/geopandas.git\r\n",
        "!pip install descartes\r\n",
        "import geopandas as gpd\r\n",
        "!pip install contextily\r\n",
        "import contextily as ctx\r\n",
        "!pip install pygeos\r\n",
        "!pip install folium\r\n",
        "\r\n",
        "import time\r\n",
        "import getpass\r\n",
        "from pathlib import Path\r\n",
        "from shapely.geometry import Point\r\n",
        "from IPython.display import display\r\n",
        "from IPython.display import Markdown as md\r\n",
        "import plotly.express as px\r\n",
        "import pandas as pd\r\n",
        "import numpy as np\r\n",
        "import matplotlib\r\n",
        "import matplotlib.pyplot as plt \r\n",
        "import folium"
      ],
      "execution_count": null,
      "outputs": []
    },
    {
      "cell_type": "code",
      "metadata": {
        "id": "BCkxIekH1cPk"
      },
      "source": [
        "# view all installed packages on Colab\r\n",
        "!pip list -v"
      ],
      "execution_count": null,
      "outputs": []
    }
  ]
}